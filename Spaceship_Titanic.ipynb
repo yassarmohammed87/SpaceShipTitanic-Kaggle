{
  "cells": [
    {
      "cell_type": "markdown",
      "metadata": {
        "id": "view-in-github",
        "colab_type": "text"
      },
      "source": [
        "<a href=\"https://colab.research.google.com/github/yassarmohammed87/SpaceShipTitanic-Kaggle/blob/main/Spaceship_Titanic.ipynb\" target=\"_parent\"><img src=\"https://colab.research.google.com/assets/colab-badge.svg\" alt=\"Open In Colab\"/></a>"
      ]
    },
    {
      "cell_type": "code",
      "execution_count": null,
      "metadata": {
        "id": "z9l6943kzi8R"
      },
      "outputs": [],
      "source": [
        "!pip install -q kaggle\n",
        "!mkdir ~/.kaggle\n",
        "!cp kaggle.json ~/.kaggle\n",
        "!chmod 600 ~/.kaggle/kaggle.json\n"
      ]
    },
    {
      "cell_type": "code",
      "execution_count": null,
      "metadata": {
        "colab": {
          "base_uri": "https://localhost:8080/"
        },
        "id": "xrztIkc019-N",
        "outputId": "147ef4f6-7022-460e-bde1-2295b29a29af"
      },
      "outputs": [
        {
          "name": "stdout",
          "output_type": "stream",
          "text": [
            "Downloading spaceship-titanic.zip to /content\n",
            "\r  0% 0.00/299k [00:00<?, ?B/s]\n",
            "\r100% 299k/299k [00:00<00:00, 74.5MB/s]\n"
          ]
        }
      ],
      "source": [
        "!kaggle competitions download -c spaceship-titanic\n"
      ]
    },
    {
      "cell_type": "code",
      "execution_count": null,
      "metadata": {
        "id": "baZ6fk8GATJx"
      },
      "outputs": [],
      "source": [
        "!mkdir spaceTitanic \n",
        "!cp train.csv ./spaceTitanic/\n",
        "!cp test.csv ./spaceTitanic/\n",
        "!rm -rf test.csv\n",
        "!rm -rf train.csv"
      ]
    },
    {
      "cell_type": "code",
      "source": [
        "!pip install mlxtend"
      ],
      "metadata": {
        "colab": {
          "base_uri": "https://localhost:8080/"
        },
        "id": "h2NygmYM6LWB",
        "outputId": "c56f5233-bd41-4bb1-fc0b-40b82f391897"
      },
      "execution_count": null,
      "outputs": [
        {
          "output_type": "stream",
          "name": "stdout",
          "text": [
            "Looking in indexes: https://pypi.org/simple, https://us-python.pkg.dev/colab-wheels/public/simple/\n",
            "Requirement already satisfied: mlxtend in /usr/local/lib/python3.7/dist-packages (0.14.0)\n",
            "Requirement already satisfied: numpy>=1.10.4 in /usr/local/lib/python3.7/dist-packages (from mlxtend) (1.21.6)\n",
            "Requirement already satisfied: scipy>=0.17 in /usr/local/lib/python3.7/dist-packages (from mlxtend) (1.7.3)\n",
            "Requirement already satisfied: scikit-learn>=0.18 in /usr/local/lib/python3.7/dist-packages (from mlxtend) (1.0.2)\n",
            "Requirement already satisfied: setuptools in /usr/local/lib/python3.7/dist-packages (from mlxtend) (57.4.0)\n",
            "Requirement already satisfied: matplotlib>=1.5.1 in /usr/local/lib/python3.7/dist-packages (from mlxtend) (3.2.2)\n",
            "Requirement already satisfied: pandas>=0.17.1 in /usr/local/lib/python3.7/dist-packages (from mlxtend) (1.3.5)\n",
            "Requirement already satisfied: pyparsing!=2.0.4,!=2.1.2,!=2.1.6,>=2.0.1 in /usr/local/lib/python3.7/dist-packages (from matplotlib>=1.5.1->mlxtend) (3.0.9)\n",
            "Requirement already satisfied: python-dateutil>=2.1 in /usr/local/lib/python3.7/dist-packages (from matplotlib>=1.5.1->mlxtend) (2.8.2)\n",
            "Requirement already satisfied: kiwisolver>=1.0.1 in /usr/local/lib/python3.7/dist-packages (from matplotlib>=1.5.1->mlxtend) (1.4.4)\n",
            "Requirement already satisfied: cycler>=0.10 in /usr/local/lib/python3.7/dist-packages (from matplotlib>=1.5.1->mlxtend) (0.11.0)\n",
            "Requirement already satisfied: typing-extensions in /usr/local/lib/python3.7/dist-packages (from kiwisolver>=1.0.1->matplotlib>=1.5.1->mlxtend) (4.1.1)\n",
            "Requirement already satisfied: pytz>=2017.3 in /usr/local/lib/python3.7/dist-packages (from pandas>=0.17.1->mlxtend) (2022.2.1)\n",
            "Requirement already satisfied: six>=1.5 in /usr/local/lib/python3.7/dist-packages (from python-dateutil>=2.1->matplotlib>=1.5.1->mlxtend) (1.15.0)\n",
            "Requirement already satisfied: threadpoolctl>=2.0.0 in /usr/local/lib/python3.7/dist-packages (from scikit-learn>=0.18->mlxtend) (3.1.0)\n",
            "Requirement already satisfied: joblib>=0.11 in /usr/local/lib/python3.7/dist-packages (from scikit-learn>=0.18->mlxtend) (1.1.0)\n"
          ]
        }
      ]
    },
    {
      "cell_type": "code",
      "execution_count": 1,
      "metadata": {
        "colab": {
          "base_uri": "https://localhost:8080/"
        },
        "id": "hvpLnUgKVhQ7",
        "outputId": "aa6228fc-7ccd-4641-c35c-7c13b29b3679"
      },
      "outputs": [
        {
          "output_type": "stream",
          "name": "stdout",
          "text": [
            "Looking in indexes: https://pypi.org/simple, https://us-python.pkg.dev/colab-wheels/public/simple/\n",
            "Collecting catboost\n",
            "  Downloading catboost-1.1-cp37-none-manylinux1_x86_64.whl (76.8 MB)\n",
            "\u001b[K     |████████████████████████████████| 76.8 MB 1.2 MB/s \n",
            "\u001b[?25hRequirement already satisfied: six in /usr/local/lib/python3.7/dist-packages (from catboost) (1.15.0)\n",
            "Requirement already satisfied: numpy>=1.16.0 in /usr/local/lib/python3.7/dist-packages (from catboost) (1.21.6)\n",
            "Requirement already satisfied: graphviz in /usr/local/lib/python3.7/dist-packages (from catboost) (0.10.1)\n",
            "Requirement already satisfied: pandas>=0.24.0 in /usr/local/lib/python3.7/dist-packages (from catboost) (1.3.5)\n",
            "Requirement already satisfied: scipy in /usr/local/lib/python3.7/dist-packages (from catboost) (1.7.3)\n",
            "Requirement already satisfied: matplotlib in /usr/local/lib/python3.7/dist-packages (from catboost) (3.2.2)\n",
            "Requirement already satisfied: plotly in /usr/local/lib/python3.7/dist-packages (from catboost) (5.5.0)\n",
            "Requirement already satisfied: pytz>=2017.3 in /usr/local/lib/python3.7/dist-packages (from pandas>=0.24.0->catboost) (2022.4)\n",
            "Requirement already satisfied: python-dateutil>=2.7.3 in /usr/local/lib/python3.7/dist-packages (from pandas>=0.24.0->catboost) (2.8.2)\n",
            "Requirement already satisfied: cycler>=0.10 in /usr/local/lib/python3.7/dist-packages (from matplotlib->catboost) (0.11.0)\n",
            "Requirement already satisfied: kiwisolver>=1.0.1 in /usr/local/lib/python3.7/dist-packages (from matplotlib->catboost) (1.4.4)\n",
            "Requirement already satisfied: pyparsing!=2.0.4,!=2.1.2,!=2.1.6,>=2.0.1 in /usr/local/lib/python3.7/dist-packages (from matplotlib->catboost) (3.0.9)\n",
            "Requirement already satisfied: typing-extensions in /usr/local/lib/python3.7/dist-packages (from kiwisolver>=1.0.1->matplotlib->catboost) (4.1.1)\n",
            "Requirement already satisfied: tenacity>=6.2.0 in /usr/local/lib/python3.7/dist-packages (from plotly->catboost) (8.1.0)\n",
            "Installing collected packages: catboost\n",
            "Successfully installed catboost-1.1\n"
          ]
        }
      ],
      "source": [
        "!pip install catboost"
      ]
    },
    {
      "cell_type": "code",
      "execution_count": 2,
      "metadata": {
        "id": "bIzM8tGq980_"
      },
      "outputs": [],
      "source": [
        "from google.colab import files\n",
        "import pandas as pd\n",
        "import matplotlib.pyplot as plt\n",
        "import numpy as np\n",
        "import sklearn\n",
        "import seaborn as sns\n",
        "from sklearn.preprocessing import OrdinalEncoder,OneHotEncoder\n",
        "from sklearn.base import BaseEstimator,TransformerMixin\n",
        "from sklearn.pipeline import Pipeline\n",
        "from sklearn.impute import SimpleImputer\n",
        "from sklearn.model_selection import train_test_split\n",
        "from sklearn.ensemble import RandomForestClassifier\n",
        "from sklearn.preprocessing import StandardScaler\n",
        "from sklearn.metrics import accuracy_score\n",
        "from sklearn.svm import SVC\n",
        "from sklearn.ensemble import AdaBoostClassifier\n",
        "from sklearn_pandas import CategoricalImputer\n",
        "import xgboost as xgb\n",
        "from catboost import CatBoostClassifier, Pool\n",
        "\n"
      ]
    },
    {
      "cell_type": "code",
      "execution_count": 69,
      "metadata": {
        "id": "bOdsPejULtGo"
      },
      "outputs": [],
      "source": [
        "df=pd.read_csv('./drive/MyDrive/spaceTitanic/train.csv')\n",
        "# df['Transported']=df['Transported'].astype(np.int64)"
      ]
    },
    {
      "cell_type": "code",
      "source": [],
      "metadata": {
        "colab": {
          "base_uri": "https://localhost:8080/",
          "height": 424
        },
        "id": "h0dPaiJLohZr",
        "outputId": "c4d9a71b-3b2c-4f3a-e397-1d4f9e84bac8"
      },
      "execution_count": 81,
      "outputs": [
        {
          "output_type": "execute_result",
          "data": {
            "text/plain": [
              "     PassengerId HomePlanet CryoSleep     Cabin    Destination    VIP  \\\n",
              "0        0001_01     Europa     False     B/0/P    TRAPPIST-1e  False   \n",
              "1        0002_01      Earth     False     F/0/S    TRAPPIST-1e  False   \n",
              "2        0003_01     Europa     False     A/0/S    TRAPPIST-1e   True   \n",
              "3        0003_02     Europa     False     A/0/S    TRAPPIST-1e  False   \n",
              "4        0004_01      Earth     False     F/1/S    TRAPPIST-1e  False   \n",
              "...          ...        ...       ...       ...            ...    ...   \n",
              "8688     9276_01     Europa     False    A/98/P    55 Cancri e   True   \n",
              "8689     9278_01      Earth      True  G/1499/S  PSO J318.5-22  False   \n",
              "8690     9279_01      Earth     False  G/1500/S    TRAPPIST-1e  False   \n",
              "8691     9280_01     Europa     False   E/608/S    55 Cancri e  False   \n",
              "8692     9280_02     Europa     False   E/608/S    TRAPPIST-1e  False   \n",
              "\n",
              "                   Name  \n",
              "0       Maham Ofracculy  \n",
              "1          Juanna Vines  \n",
              "2         Altark Susent  \n",
              "3          Solam Susent  \n",
              "4     Willy Santantines  \n",
              "...                 ...  \n",
              "8688  Gravior Noxnuther  \n",
              "8689    Kurta Mondalley  \n",
              "8690       Fayey Connon  \n",
              "8691   Celeon Hontichre  \n",
              "8692   Propsh Hontichre  \n",
              "\n",
              "[8693 rows x 7 columns]"
            ],
            "text/html": [
              "\n",
              "  <div id=\"df-4221774b-47b5-4ecb-bb3b-c5d4f61c697b\">\n",
              "    <div class=\"colab-df-container\">\n",
              "      <div>\n",
              "<style scoped>\n",
              "    .dataframe tbody tr th:only-of-type {\n",
              "        vertical-align: middle;\n",
              "    }\n",
              "\n",
              "    .dataframe tbody tr th {\n",
              "        vertical-align: top;\n",
              "    }\n",
              "\n",
              "    .dataframe thead th {\n",
              "        text-align: right;\n",
              "    }\n",
              "</style>\n",
              "<table border=\"1\" class=\"dataframe\">\n",
              "  <thead>\n",
              "    <tr style=\"text-align: right;\">\n",
              "      <th></th>\n",
              "      <th>PassengerId</th>\n",
              "      <th>HomePlanet</th>\n",
              "      <th>CryoSleep</th>\n",
              "      <th>Cabin</th>\n",
              "      <th>Destination</th>\n",
              "      <th>VIP</th>\n",
              "      <th>Name</th>\n",
              "    </tr>\n",
              "  </thead>\n",
              "  <tbody>\n",
              "    <tr>\n",
              "      <th>0</th>\n",
              "      <td>0001_01</td>\n",
              "      <td>Europa</td>\n",
              "      <td>False</td>\n",
              "      <td>B/0/P</td>\n",
              "      <td>TRAPPIST-1e</td>\n",
              "      <td>False</td>\n",
              "      <td>Maham Ofracculy</td>\n",
              "    </tr>\n",
              "    <tr>\n",
              "      <th>1</th>\n",
              "      <td>0002_01</td>\n",
              "      <td>Earth</td>\n",
              "      <td>False</td>\n",
              "      <td>F/0/S</td>\n",
              "      <td>TRAPPIST-1e</td>\n",
              "      <td>False</td>\n",
              "      <td>Juanna Vines</td>\n",
              "    </tr>\n",
              "    <tr>\n",
              "      <th>2</th>\n",
              "      <td>0003_01</td>\n",
              "      <td>Europa</td>\n",
              "      <td>False</td>\n",
              "      <td>A/0/S</td>\n",
              "      <td>TRAPPIST-1e</td>\n",
              "      <td>True</td>\n",
              "      <td>Altark Susent</td>\n",
              "    </tr>\n",
              "    <tr>\n",
              "      <th>3</th>\n",
              "      <td>0003_02</td>\n",
              "      <td>Europa</td>\n",
              "      <td>False</td>\n",
              "      <td>A/0/S</td>\n",
              "      <td>TRAPPIST-1e</td>\n",
              "      <td>False</td>\n",
              "      <td>Solam Susent</td>\n",
              "    </tr>\n",
              "    <tr>\n",
              "      <th>4</th>\n",
              "      <td>0004_01</td>\n",
              "      <td>Earth</td>\n",
              "      <td>False</td>\n",
              "      <td>F/1/S</td>\n",
              "      <td>TRAPPIST-1e</td>\n",
              "      <td>False</td>\n",
              "      <td>Willy Santantines</td>\n",
              "    </tr>\n",
              "    <tr>\n",
              "      <th>...</th>\n",
              "      <td>...</td>\n",
              "      <td>...</td>\n",
              "      <td>...</td>\n",
              "      <td>...</td>\n",
              "      <td>...</td>\n",
              "      <td>...</td>\n",
              "      <td>...</td>\n",
              "    </tr>\n",
              "    <tr>\n",
              "      <th>8688</th>\n",
              "      <td>9276_01</td>\n",
              "      <td>Europa</td>\n",
              "      <td>False</td>\n",
              "      <td>A/98/P</td>\n",
              "      <td>55 Cancri e</td>\n",
              "      <td>True</td>\n",
              "      <td>Gravior Noxnuther</td>\n",
              "    </tr>\n",
              "    <tr>\n",
              "      <th>8689</th>\n",
              "      <td>9278_01</td>\n",
              "      <td>Earth</td>\n",
              "      <td>True</td>\n",
              "      <td>G/1499/S</td>\n",
              "      <td>PSO J318.5-22</td>\n",
              "      <td>False</td>\n",
              "      <td>Kurta Mondalley</td>\n",
              "    </tr>\n",
              "    <tr>\n",
              "      <th>8690</th>\n",
              "      <td>9279_01</td>\n",
              "      <td>Earth</td>\n",
              "      <td>False</td>\n",
              "      <td>G/1500/S</td>\n",
              "      <td>TRAPPIST-1e</td>\n",
              "      <td>False</td>\n",
              "      <td>Fayey Connon</td>\n",
              "    </tr>\n",
              "    <tr>\n",
              "      <th>8691</th>\n",
              "      <td>9280_01</td>\n",
              "      <td>Europa</td>\n",
              "      <td>False</td>\n",
              "      <td>E/608/S</td>\n",
              "      <td>55 Cancri e</td>\n",
              "      <td>False</td>\n",
              "      <td>Celeon Hontichre</td>\n",
              "    </tr>\n",
              "    <tr>\n",
              "      <th>8692</th>\n",
              "      <td>9280_02</td>\n",
              "      <td>Europa</td>\n",
              "      <td>False</td>\n",
              "      <td>E/608/S</td>\n",
              "      <td>TRAPPIST-1e</td>\n",
              "      <td>False</td>\n",
              "      <td>Propsh Hontichre</td>\n",
              "    </tr>\n",
              "  </tbody>\n",
              "</table>\n",
              "<p>8693 rows × 7 columns</p>\n",
              "</div>\n",
              "      <button class=\"colab-df-convert\" onclick=\"convertToInteractive('df-4221774b-47b5-4ecb-bb3b-c5d4f61c697b')\"\n",
              "              title=\"Convert this dataframe to an interactive table.\"\n",
              "              style=\"display:none;\">\n",
              "        \n",
              "  <svg xmlns=\"http://www.w3.org/2000/svg\" height=\"24px\"viewBox=\"0 0 24 24\"\n",
              "       width=\"24px\">\n",
              "    <path d=\"M0 0h24v24H0V0z\" fill=\"none\"/>\n",
              "    <path d=\"M18.56 5.44l.94 2.06.94-2.06 2.06-.94-2.06-.94-.94-2.06-.94 2.06-2.06.94zm-11 1L8.5 8.5l.94-2.06 2.06-.94-2.06-.94L8.5 2.5l-.94 2.06-2.06.94zm10 10l.94 2.06.94-2.06 2.06-.94-2.06-.94-.94-2.06-.94 2.06-2.06.94z\"/><path d=\"M17.41 7.96l-1.37-1.37c-.4-.4-.92-.59-1.43-.59-.52 0-1.04.2-1.43.59L10.3 9.45l-7.72 7.72c-.78.78-.78 2.05 0 2.83L4 21.41c.39.39.9.59 1.41.59.51 0 1.02-.2 1.41-.59l7.78-7.78 2.81-2.81c.8-.78.8-2.07 0-2.86zM5.41 20L4 18.59l7.72-7.72 1.47 1.35L5.41 20z\"/>\n",
              "  </svg>\n",
              "      </button>\n",
              "      \n",
              "  <style>\n",
              "    .colab-df-container {\n",
              "      display:flex;\n",
              "      flex-wrap:wrap;\n",
              "      gap: 12px;\n",
              "    }\n",
              "\n",
              "    .colab-df-convert {\n",
              "      background-color: #E8F0FE;\n",
              "      border: none;\n",
              "      border-radius: 50%;\n",
              "      cursor: pointer;\n",
              "      display: none;\n",
              "      fill: #1967D2;\n",
              "      height: 32px;\n",
              "      padding: 0 0 0 0;\n",
              "      width: 32px;\n",
              "    }\n",
              "\n",
              "    .colab-df-convert:hover {\n",
              "      background-color: #E2EBFA;\n",
              "      box-shadow: 0px 1px 2px rgba(60, 64, 67, 0.3), 0px 1px 3px 1px rgba(60, 64, 67, 0.15);\n",
              "      fill: #174EA6;\n",
              "    }\n",
              "\n",
              "    [theme=dark] .colab-df-convert {\n",
              "      background-color: #3B4455;\n",
              "      fill: #D2E3FC;\n",
              "    }\n",
              "\n",
              "    [theme=dark] .colab-df-convert:hover {\n",
              "      background-color: #434B5C;\n",
              "      box-shadow: 0px 1px 3px 1px rgba(0, 0, 0, 0.15);\n",
              "      filter: drop-shadow(0px 1px 2px rgba(0, 0, 0, 0.3));\n",
              "      fill: #FFFFFF;\n",
              "    }\n",
              "  </style>\n",
              "\n",
              "      <script>\n",
              "        const buttonEl =\n",
              "          document.querySelector('#df-4221774b-47b5-4ecb-bb3b-c5d4f61c697b button.colab-df-convert');\n",
              "        buttonEl.style.display =\n",
              "          google.colab.kernel.accessAllowed ? 'block' : 'none';\n",
              "\n",
              "        async function convertToInteractive(key) {\n",
              "          const element = document.querySelector('#df-4221774b-47b5-4ecb-bb3b-c5d4f61c697b');\n",
              "          const dataTable =\n",
              "            await google.colab.kernel.invokeFunction('convertToInteractive',\n",
              "                                                     [key], {});\n",
              "          if (!dataTable) return;\n",
              "\n",
              "          const docLinkHtml = 'Like what you see? Visit the ' +\n",
              "            '<a target=\"_blank\" href=https://colab.research.google.com/notebooks/data_table.ipynb>data table notebook</a>'\n",
              "            + ' to learn more about interactive tables.';\n",
              "          element.innerHTML = '';\n",
              "          dataTable['output_type'] = 'display_data';\n",
              "          await google.colab.output.renderOutput(dataTable, element);\n",
              "          const docLink = document.createElement('div');\n",
              "          docLink.innerHTML = docLinkHtml;\n",
              "          element.appendChild(docLink);\n",
              "        }\n",
              "      </script>\n",
              "    </div>\n",
              "  </div>\n",
              "  "
            ]
          },
          "metadata": {},
          "execution_count": 81
        }
      ]
    },
    {
      "cell_type": "code",
      "source": [
        "cabin_df=df['Cabin'].str.split('/',expand=True)\n",
        "df['Cabin_Num']=cabin_df[1].fillna(0).astype('int')"
      ],
      "metadata": {
        "id": "Dtj9DmsniWHF"
      },
      "execution_count": 74,
      "outputs": []
    },
    {
      "cell_type": "code",
      "source": [
        "df"
      ],
      "metadata": {
        "colab": {
          "base_uri": "https://localhost:8080/",
          "height": 661
        },
        "id": "Vrac1IC8jt1d",
        "outputId": "d84db40d-f44c-4592-f9ac-4e6ff8959148"
      },
      "execution_count": 75,
      "outputs": [
        {
          "output_type": "execute_result",
          "data": {
            "text/plain": [
              "     PassengerId HomePlanet CryoSleep     Cabin    Destination   Age    VIP  \\\n",
              "0        0001_01     Europa     False     B/0/P    TRAPPIST-1e  39.0  False   \n",
              "1        0002_01      Earth     False     F/0/S    TRAPPIST-1e  24.0  False   \n",
              "2        0003_01     Europa     False     A/0/S    TRAPPIST-1e  58.0   True   \n",
              "3        0003_02     Europa     False     A/0/S    TRAPPIST-1e  33.0  False   \n",
              "4        0004_01      Earth     False     F/1/S    TRAPPIST-1e  16.0  False   \n",
              "...          ...        ...       ...       ...            ...   ...    ...   \n",
              "8688     9276_01     Europa     False    A/98/P    55 Cancri e  41.0   True   \n",
              "8689     9278_01      Earth      True  G/1499/S  PSO J318.5-22  18.0  False   \n",
              "8690     9279_01      Earth     False  G/1500/S    TRAPPIST-1e  26.0  False   \n",
              "8691     9280_01     Europa     False   E/608/S    55 Cancri e  32.0  False   \n",
              "8692     9280_02     Europa     False   E/608/S    TRAPPIST-1e  44.0  False   \n",
              "\n",
              "      RoomService  FoodCourt  ShoppingMall     Spa  VRDeck               Name  \\\n",
              "0             0.0        0.0           0.0     0.0     0.0    Maham Ofracculy   \n",
              "1           109.0        9.0          25.0   549.0    44.0       Juanna Vines   \n",
              "2            43.0     3576.0           0.0  6715.0    49.0      Altark Susent   \n",
              "3             0.0     1283.0         371.0  3329.0   193.0       Solam Susent   \n",
              "4           303.0       70.0         151.0   565.0     2.0  Willy Santantines   \n",
              "...           ...        ...           ...     ...     ...                ...   \n",
              "8688          0.0     6819.0           0.0  1643.0    74.0  Gravior Noxnuther   \n",
              "8689          0.0        0.0           0.0     0.0     0.0    Kurta Mondalley   \n",
              "8690          0.0        0.0        1872.0     1.0     0.0       Fayey Connon   \n",
              "8691          0.0     1049.0           0.0   353.0  3235.0   Celeon Hontichre   \n",
              "8692        126.0     4688.0           0.0     0.0    12.0   Propsh Hontichre   \n",
              "\n",
              "      Transported  Cabin_Num  \n",
              "0           False          0  \n",
              "1            True          0  \n",
              "2           False          0  \n",
              "3           False          0  \n",
              "4            True          1  \n",
              "...           ...        ...  \n",
              "8688        False         98  \n",
              "8689        False       1499  \n",
              "8690         True       1500  \n",
              "8691        False        608  \n",
              "8692         True        608  \n",
              "\n",
              "[8693 rows x 15 columns]"
            ],
            "text/html": [
              "\n",
              "  <div id=\"df-5100debc-6a89-4dab-9449-9b5c313d3821\">\n",
              "    <div class=\"colab-df-container\">\n",
              "      <div>\n",
              "<style scoped>\n",
              "    .dataframe tbody tr th:only-of-type {\n",
              "        vertical-align: middle;\n",
              "    }\n",
              "\n",
              "    .dataframe tbody tr th {\n",
              "        vertical-align: top;\n",
              "    }\n",
              "\n",
              "    .dataframe thead th {\n",
              "        text-align: right;\n",
              "    }\n",
              "</style>\n",
              "<table border=\"1\" class=\"dataframe\">\n",
              "  <thead>\n",
              "    <tr style=\"text-align: right;\">\n",
              "      <th></th>\n",
              "      <th>PassengerId</th>\n",
              "      <th>HomePlanet</th>\n",
              "      <th>CryoSleep</th>\n",
              "      <th>Cabin</th>\n",
              "      <th>Destination</th>\n",
              "      <th>Age</th>\n",
              "      <th>VIP</th>\n",
              "      <th>RoomService</th>\n",
              "      <th>FoodCourt</th>\n",
              "      <th>ShoppingMall</th>\n",
              "      <th>Spa</th>\n",
              "      <th>VRDeck</th>\n",
              "      <th>Name</th>\n",
              "      <th>Transported</th>\n",
              "      <th>Cabin_Num</th>\n",
              "    </tr>\n",
              "  </thead>\n",
              "  <tbody>\n",
              "    <tr>\n",
              "      <th>0</th>\n",
              "      <td>0001_01</td>\n",
              "      <td>Europa</td>\n",
              "      <td>False</td>\n",
              "      <td>B/0/P</td>\n",
              "      <td>TRAPPIST-1e</td>\n",
              "      <td>39.0</td>\n",
              "      <td>False</td>\n",
              "      <td>0.0</td>\n",
              "      <td>0.0</td>\n",
              "      <td>0.0</td>\n",
              "      <td>0.0</td>\n",
              "      <td>0.0</td>\n",
              "      <td>Maham Ofracculy</td>\n",
              "      <td>False</td>\n",
              "      <td>0</td>\n",
              "    </tr>\n",
              "    <tr>\n",
              "      <th>1</th>\n",
              "      <td>0002_01</td>\n",
              "      <td>Earth</td>\n",
              "      <td>False</td>\n",
              "      <td>F/0/S</td>\n",
              "      <td>TRAPPIST-1e</td>\n",
              "      <td>24.0</td>\n",
              "      <td>False</td>\n",
              "      <td>109.0</td>\n",
              "      <td>9.0</td>\n",
              "      <td>25.0</td>\n",
              "      <td>549.0</td>\n",
              "      <td>44.0</td>\n",
              "      <td>Juanna Vines</td>\n",
              "      <td>True</td>\n",
              "      <td>0</td>\n",
              "    </tr>\n",
              "    <tr>\n",
              "      <th>2</th>\n",
              "      <td>0003_01</td>\n",
              "      <td>Europa</td>\n",
              "      <td>False</td>\n",
              "      <td>A/0/S</td>\n",
              "      <td>TRAPPIST-1e</td>\n",
              "      <td>58.0</td>\n",
              "      <td>True</td>\n",
              "      <td>43.0</td>\n",
              "      <td>3576.0</td>\n",
              "      <td>0.0</td>\n",
              "      <td>6715.0</td>\n",
              "      <td>49.0</td>\n",
              "      <td>Altark Susent</td>\n",
              "      <td>False</td>\n",
              "      <td>0</td>\n",
              "    </tr>\n",
              "    <tr>\n",
              "      <th>3</th>\n",
              "      <td>0003_02</td>\n",
              "      <td>Europa</td>\n",
              "      <td>False</td>\n",
              "      <td>A/0/S</td>\n",
              "      <td>TRAPPIST-1e</td>\n",
              "      <td>33.0</td>\n",
              "      <td>False</td>\n",
              "      <td>0.0</td>\n",
              "      <td>1283.0</td>\n",
              "      <td>371.0</td>\n",
              "      <td>3329.0</td>\n",
              "      <td>193.0</td>\n",
              "      <td>Solam Susent</td>\n",
              "      <td>False</td>\n",
              "      <td>0</td>\n",
              "    </tr>\n",
              "    <tr>\n",
              "      <th>4</th>\n",
              "      <td>0004_01</td>\n",
              "      <td>Earth</td>\n",
              "      <td>False</td>\n",
              "      <td>F/1/S</td>\n",
              "      <td>TRAPPIST-1e</td>\n",
              "      <td>16.0</td>\n",
              "      <td>False</td>\n",
              "      <td>303.0</td>\n",
              "      <td>70.0</td>\n",
              "      <td>151.0</td>\n",
              "      <td>565.0</td>\n",
              "      <td>2.0</td>\n",
              "      <td>Willy Santantines</td>\n",
              "      <td>True</td>\n",
              "      <td>1</td>\n",
              "    </tr>\n",
              "    <tr>\n",
              "      <th>...</th>\n",
              "      <td>...</td>\n",
              "      <td>...</td>\n",
              "      <td>...</td>\n",
              "      <td>...</td>\n",
              "      <td>...</td>\n",
              "      <td>...</td>\n",
              "      <td>...</td>\n",
              "      <td>...</td>\n",
              "      <td>...</td>\n",
              "      <td>...</td>\n",
              "      <td>...</td>\n",
              "      <td>...</td>\n",
              "      <td>...</td>\n",
              "      <td>...</td>\n",
              "      <td>...</td>\n",
              "    </tr>\n",
              "    <tr>\n",
              "      <th>8688</th>\n",
              "      <td>9276_01</td>\n",
              "      <td>Europa</td>\n",
              "      <td>False</td>\n",
              "      <td>A/98/P</td>\n",
              "      <td>55 Cancri e</td>\n",
              "      <td>41.0</td>\n",
              "      <td>True</td>\n",
              "      <td>0.0</td>\n",
              "      <td>6819.0</td>\n",
              "      <td>0.0</td>\n",
              "      <td>1643.0</td>\n",
              "      <td>74.0</td>\n",
              "      <td>Gravior Noxnuther</td>\n",
              "      <td>False</td>\n",
              "      <td>98</td>\n",
              "    </tr>\n",
              "    <tr>\n",
              "      <th>8689</th>\n",
              "      <td>9278_01</td>\n",
              "      <td>Earth</td>\n",
              "      <td>True</td>\n",
              "      <td>G/1499/S</td>\n",
              "      <td>PSO J318.5-22</td>\n",
              "      <td>18.0</td>\n",
              "      <td>False</td>\n",
              "      <td>0.0</td>\n",
              "      <td>0.0</td>\n",
              "      <td>0.0</td>\n",
              "      <td>0.0</td>\n",
              "      <td>0.0</td>\n",
              "      <td>Kurta Mondalley</td>\n",
              "      <td>False</td>\n",
              "      <td>1499</td>\n",
              "    </tr>\n",
              "    <tr>\n",
              "      <th>8690</th>\n",
              "      <td>9279_01</td>\n",
              "      <td>Earth</td>\n",
              "      <td>False</td>\n",
              "      <td>G/1500/S</td>\n",
              "      <td>TRAPPIST-1e</td>\n",
              "      <td>26.0</td>\n",
              "      <td>False</td>\n",
              "      <td>0.0</td>\n",
              "      <td>0.0</td>\n",
              "      <td>1872.0</td>\n",
              "      <td>1.0</td>\n",
              "      <td>0.0</td>\n",
              "      <td>Fayey Connon</td>\n",
              "      <td>True</td>\n",
              "      <td>1500</td>\n",
              "    </tr>\n",
              "    <tr>\n",
              "      <th>8691</th>\n",
              "      <td>9280_01</td>\n",
              "      <td>Europa</td>\n",
              "      <td>False</td>\n",
              "      <td>E/608/S</td>\n",
              "      <td>55 Cancri e</td>\n",
              "      <td>32.0</td>\n",
              "      <td>False</td>\n",
              "      <td>0.0</td>\n",
              "      <td>1049.0</td>\n",
              "      <td>0.0</td>\n",
              "      <td>353.0</td>\n",
              "      <td>3235.0</td>\n",
              "      <td>Celeon Hontichre</td>\n",
              "      <td>False</td>\n",
              "      <td>608</td>\n",
              "    </tr>\n",
              "    <tr>\n",
              "      <th>8692</th>\n",
              "      <td>9280_02</td>\n",
              "      <td>Europa</td>\n",
              "      <td>False</td>\n",
              "      <td>E/608/S</td>\n",
              "      <td>TRAPPIST-1e</td>\n",
              "      <td>44.0</td>\n",
              "      <td>False</td>\n",
              "      <td>126.0</td>\n",
              "      <td>4688.0</td>\n",
              "      <td>0.0</td>\n",
              "      <td>0.0</td>\n",
              "      <td>12.0</td>\n",
              "      <td>Propsh Hontichre</td>\n",
              "      <td>True</td>\n",
              "      <td>608</td>\n",
              "    </tr>\n",
              "  </tbody>\n",
              "</table>\n",
              "<p>8693 rows × 15 columns</p>\n",
              "</div>\n",
              "      <button class=\"colab-df-convert\" onclick=\"convertToInteractive('df-5100debc-6a89-4dab-9449-9b5c313d3821')\"\n",
              "              title=\"Convert this dataframe to an interactive table.\"\n",
              "              style=\"display:none;\">\n",
              "        \n",
              "  <svg xmlns=\"http://www.w3.org/2000/svg\" height=\"24px\"viewBox=\"0 0 24 24\"\n",
              "       width=\"24px\">\n",
              "    <path d=\"M0 0h24v24H0V0z\" fill=\"none\"/>\n",
              "    <path d=\"M18.56 5.44l.94 2.06.94-2.06 2.06-.94-2.06-.94-.94-2.06-.94 2.06-2.06.94zm-11 1L8.5 8.5l.94-2.06 2.06-.94-2.06-.94L8.5 2.5l-.94 2.06-2.06.94zm10 10l.94 2.06.94-2.06 2.06-.94-2.06-.94-.94-2.06-.94 2.06-2.06.94z\"/><path d=\"M17.41 7.96l-1.37-1.37c-.4-.4-.92-.59-1.43-.59-.52 0-1.04.2-1.43.59L10.3 9.45l-7.72 7.72c-.78.78-.78 2.05 0 2.83L4 21.41c.39.39.9.59 1.41.59.51 0 1.02-.2 1.41-.59l7.78-7.78 2.81-2.81c.8-.78.8-2.07 0-2.86zM5.41 20L4 18.59l7.72-7.72 1.47 1.35L5.41 20z\"/>\n",
              "  </svg>\n",
              "      </button>\n",
              "      \n",
              "  <style>\n",
              "    .colab-df-container {\n",
              "      display:flex;\n",
              "      flex-wrap:wrap;\n",
              "      gap: 12px;\n",
              "    }\n",
              "\n",
              "    .colab-df-convert {\n",
              "      background-color: #E8F0FE;\n",
              "      border: none;\n",
              "      border-radius: 50%;\n",
              "      cursor: pointer;\n",
              "      display: none;\n",
              "      fill: #1967D2;\n",
              "      height: 32px;\n",
              "      padding: 0 0 0 0;\n",
              "      width: 32px;\n",
              "    }\n",
              "\n",
              "    .colab-df-convert:hover {\n",
              "      background-color: #E2EBFA;\n",
              "      box-shadow: 0px 1px 2px rgba(60, 64, 67, 0.3), 0px 1px 3px 1px rgba(60, 64, 67, 0.15);\n",
              "      fill: #174EA6;\n",
              "    }\n",
              "\n",
              "    [theme=dark] .colab-df-convert {\n",
              "      background-color: #3B4455;\n",
              "      fill: #D2E3FC;\n",
              "    }\n",
              "\n",
              "    [theme=dark] .colab-df-convert:hover {\n",
              "      background-color: #434B5C;\n",
              "      box-shadow: 0px 1px 3px 1px rgba(0, 0, 0, 0.15);\n",
              "      filter: drop-shadow(0px 1px 2px rgba(0, 0, 0, 0.3));\n",
              "      fill: #FFFFFF;\n",
              "    }\n",
              "  </style>\n",
              "\n",
              "      <script>\n",
              "        const buttonEl =\n",
              "          document.querySelector('#df-5100debc-6a89-4dab-9449-9b5c313d3821 button.colab-df-convert');\n",
              "        buttonEl.style.display =\n",
              "          google.colab.kernel.accessAllowed ? 'block' : 'none';\n",
              "\n",
              "        async function convertToInteractive(key) {\n",
              "          const element = document.querySelector('#df-5100debc-6a89-4dab-9449-9b5c313d3821');\n",
              "          const dataTable =\n",
              "            await google.colab.kernel.invokeFunction('convertToInteractive',\n",
              "                                                     [key], {});\n",
              "          if (!dataTable) return;\n",
              "\n",
              "          const docLinkHtml = 'Like what you see? Visit the ' +\n",
              "            '<a target=\"_blank\" href=https://colab.research.google.com/notebooks/data_table.ipynb>data table notebook</a>'\n",
              "            + ' to learn more about interactive tables.';\n",
              "          element.innerHTML = '';\n",
              "          dataTable['output_type'] = 'display_data';\n",
              "          await google.colab.output.renderOutput(dataTable, element);\n",
              "          const docLink = document.createElement('div');\n",
              "          docLink.innerHTML = docLinkHtml;\n",
              "          element.appendChild(docLink);\n",
              "        }\n",
              "      </script>\n",
              "    </div>\n",
              "  </div>\n",
              "  "
            ]
          },
          "metadata": {},
          "execution_count": 75
        }
      ]
    },
    {
      "cell_type": "code",
      "source": [],
      "metadata": {
        "colab": {
          "base_uri": "https://localhost:8080/",
          "height": 297
        },
        "id": "HFVON2EwiT3P",
        "outputId": "8162f7c0-0808-4ab8-b0bb-0cdcde7f27fb"
      },
      "execution_count": 80,
      "outputs": [
        {
          "output_type": "execute_result",
          "data": {
            "text/plain": [
              "(0.0, 2000.0)"
            ]
          },
          "metadata": {},
          "execution_count": 80
        },
        {
          "output_type": "display_data",
          "data": {
            "text/plain": [
              "<Figure size 432x288 with 1 Axes>"
            ],
            "image/png": "[encoded data removed]"
          },
          "metadata": {
            "needs_background": "light"
          }
        }
      ]
    },
    {
      "cell_type": "code",
      "execution_count": null,
      "metadata": {
        "colab": {
          "base_uri": "https://localhost:8080/",
          "height": 644
        },
        "id": "fnpSdQRwAc4v",
        "outputId": "106e8a56-3424-4532-a1db-7f2ff87449bd"
      },
      "outputs": [
        {
          "output_type": "execute_result",
          "data": {
            "text/plain": [
              "   PassengerId HomePlanet CryoSleep   Cabin  Destination   Age    VIP  \\\n",
              "0      0001_01     Europa     False   B/0/P  TRAPPIST-1e  39.0  False   \n",
              "1      0002_01      Earth     False   F/0/S  TRAPPIST-1e  24.0  False   \n",
              "2      0003_01     Europa     False   A/0/S  TRAPPIST-1e  58.0   True   \n",
              "3      0003_02     Europa     False   A/0/S  TRAPPIST-1e  33.0  False   \n",
              "4      0004_01      Earth     False   F/1/S  TRAPPIST-1e  16.0  False   \n",
              "..         ...        ...       ...     ...          ...   ...    ...   \n",
              "95     0103_01      Earth     False  F/24/S  TRAPPIST-1e  24.0  False   \n",
              "96     0103_02      Earth      True  G/18/S  55 Cancri e   9.0  False   \n",
              "97     0103_03      Earth      True  G/18/S  TRAPPIST-1e   6.0  False   \n",
              "98     0105_01      Earth       NaN  F/21/P  TRAPPIST-1e  27.0  False   \n",
              "99     0107_01       Mars     False   D/2/S  TRAPPIST-1e  21.0  False   \n",
              "\n",
              "    RoomService  FoodCourt  ShoppingMall     Spa  VRDeck               Name  \\\n",
              "0           0.0        0.0           0.0     0.0     0.0    Maham Ofracculy   \n",
              "1         109.0        9.0          25.0   549.0    44.0       Juanna Vines   \n",
              "2          43.0     3576.0           0.0  6715.0    49.0      Altark Susent   \n",
              "3           0.0     1283.0         371.0  3329.0   193.0       Solam Susent   \n",
              "4         303.0       70.0         151.0   565.0     2.0  Willy Santantines   \n",
              "..          ...        ...           ...     ...     ...                ...   \n",
              "95          0.0        NaN           0.0     0.0    17.0     Arlen Mclainez   \n",
              "96          0.0        0.0           0.0     0.0     0.0    Shaele Mclainez   \n",
              "97          0.0        0.0           0.0     0.0     0.0     Fanne Mclainez   \n",
              "98          0.0        0.0         570.0     2.0   131.0   Carry Cleachrand   \n",
              "99       1743.0        5.0          17.0     0.0     0.0        Coobix Hart   \n",
              "\n",
              "    Transported  \n",
              "0         False  \n",
              "1          True  \n",
              "2         False  \n",
              "3         False  \n",
              "4          True  \n",
              "..          ...  \n",
              "95         True  \n",
              "96         True  \n",
              "97        False  \n",
              "98        False  \n",
              "99        False  \n",
              "\n",
              "[100 rows x 14 columns]"
            ],
            "text/html": [
              "\n",
              "  <div id=\"df-96f08f40-89ba-42e7-9d8a-173285479786\">\n",
              "    <div class=\"colab-df-container\">\n",
              "      <div>\n",
              "<style scoped>\n",
              "    .dataframe tbody tr th:only-of-type {\n",
              "        vertical-align: middle;\n",
              "    }\n",
              "\n",
              "    .dataframe tbody tr th {\n",
              "        vertical-align: top;\n",
              "    }\n",
              "\n",
              "    .dataframe thead th {\n",
              "        text-align: right;\n",
              "    }\n",
              "</style>\n",
              "<table border=\"1\" class=\"dataframe\">\n",
              "  <thead>\n",
              "    <tr style=\"text-align: right;\">\n",
              "      <th></th>\n",
              "      <th>PassengerId</th>\n",
              "      <th>HomePlanet</th>\n",
              "      <th>CryoSleep</th>\n",
              "      <th>Cabin</th>\n",
              "      <th>Destination</th>\n",
              "      <th>Age</th>\n",
              "      <th>VIP</th>\n",
              "      <th>RoomService</th>\n",
              "      <th>FoodCourt</th>\n",
              "      <th>ShoppingMall</th>\n",
              "      <th>Spa</th>\n",
              "      <th>VRDeck</th>\n",
              "      <th>Name</th>\n",
              "      <th>Transported</th>\n",
              "    </tr>\n",
              "  </thead>\n",
              "  <tbody>\n",
              "    <tr>\n",
              "      <th>0</th>\n",
              "      <td>0001_01</td>\n",
              "      <td>Europa</td>\n",
              "      <td>False</td>\n",
              "      <td>B/0/P</td>\n",
              "      <td>TRAPPIST-1e</td>\n",
              "      <td>39.0</td>\n",
              "      <td>False</td>\n",
              "      <td>0.0</td>\n",
              "      <td>0.0</td>\n",
              "      <td>0.0</td>\n",
              "      <td>0.0</td>\n",
              "      <td>0.0</td>\n",
              "      <td>Maham Ofracculy</td>\n",
              "      <td>False</td>\n",
              "    </tr>\n",
              "    <tr>\n",
              "      <th>1</th>\n",
              "      <td>0002_01</td>\n",
              "      <td>Earth</td>\n",
              "      <td>False</td>\n",
              "      <td>F/0/S</td>\n",
              "      <td>TRAPPIST-1e</td>\n",
              "      <td>24.0</td>\n",
              "      <td>False</td>\n",
              "      <td>109.0</td>\n",
              "      <td>9.0</td>\n",
              "      <td>25.0</td>\n",
              "      <td>549.0</td>\n",
              "      <td>44.0</td>\n",
              "      <td>Juanna Vines</td>\n",
              "      <td>True</td>\n",
              "    </tr>\n",
              "    <tr>\n",
              "      <th>2</th>\n",
              "      <td>0003_01</td>\n",
              "      <td>Europa</td>\n",
              "      <td>False</td>\n",
              "      <td>A/0/S</td>\n",
              "      <td>TRAPPIST-1e</td>\n",
              "      <td>58.0</td>\n",
              "      <td>True</td>\n",
              "      <td>43.0</td>\n",
              "      <td>3576.0</td>\n",
              "      <td>0.0</td>\n",
              "      <td>6715.0</td>\n",
              "      <td>49.0</td>\n",
              "      <td>Altark Susent</td>\n",
              "      <td>False</td>\n",
              "    </tr>\n",
              "    <tr>\n",
              "      <th>3</th>\n",
              "      <td>0003_02</td>\n",
              "      <td>Europa</td>\n",
              "      <td>False</td>\n",
              "      <td>A/0/S</td>\n",
              "      <td>TRAPPIST-1e</td>\n",
              "      <td>33.0</td>\n",
              "      <td>False</td>\n",
              "      <td>0.0</td>\n",
              "      <td>1283.0</td>\n",
              "      <td>371.0</td>\n",
              "      <td>3329.0</td>\n",
              "      <td>193.0</td>\n",
              "      <td>Solam Susent</td>\n",
              "      <td>False</td>\n",
              "    </tr>\n",
              "    <tr>\n",
              "      <th>4</th>\n",
              "      <td>0004_01</td>\n",
              "      <td>Earth</td>\n",
              "      <td>False</td>\n",
              "      <td>F/1/S</td>\n",
              "      <td>TRAPPIST-1e</td>\n",
              "      <td>16.0</td>\n",
              "      <td>False</td>\n",
              "      <td>303.0</td>\n",
              "      <td>70.0</td>\n",
              "      <td>151.0</td>\n",
              "      <td>565.0</td>\n",
              "      <td>2.0</td>\n",
              "      <td>Willy Santantines</td>\n",
              "      <td>True</td>\n",
              "    </tr>\n",
              "    <tr>\n",
              "      <th>...</th>\n",
              "      <td>...</td>\n",
              "      <td>...</td>\n",
              "      <td>...</td>\n",
              "      <td>...</td>\n",
              "      <td>...</td>\n",
              "      <td>...</td>\n",
              "      <td>...</td>\n",
              "      <td>...</td>\n",
              "      <td>...</td>\n",
              "      <td>...</td>\n",
              "      <td>...</td>\n",
              "      <td>...</td>\n",
              "      <td>...</td>\n",
              "      <td>...</td>\n",
              "    </tr>\n",
              "    <tr>\n",
              "      <th>95</th>\n",
              "      <td>0103_01</td>\n",
              "      <td>Earth</td>\n",
              "      <td>False</td>\n",
              "      <td>F/24/S</td>\n",
              "      <td>TRAPPIST-1e</td>\n",
              "      <td>24.0</td>\n",
              "      <td>False</td>\n",
              "      <td>0.0</td>\n",
              "      <td>NaN</td>\n",
              "      <td>0.0</td>\n",
              "      <td>0.0</td>\n",
              "      <td>17.0</td>\n",
              "      <td>Arlen Mclainez</td>\n",
              "      <td>True</td>\n",
              "    </tr>\n",
              "    <tr>\n",
              "      <th>96</th>\n",
              "      <td>0103_02</td>\n",
              "      <td>Earth</td>\n",
              "      <td>True</td>\n",
              "      <td>G/18/S</td>\n",
              "      <td>55 Cancri e</td>\n",
              "      <td>9.0</td>\n",
              "      <td>False</td>\n",
              "      <td>0.0</td>\n",
              "      <td>0.0</td>\n",
              "      <td>0.0</td>\n",
              "      <td>0.0</td>\n",
              "      <td>0.0</td>\n",
              "      <td>Shaele Mclainez</td>\n",
              "      <td>True</td>\n",
              "    </tr>\n",
              "    <tr>\n",
              "      <th>97</th>\n",
              "      <td>0103_03</td>\n",
              "      <td>Earth</td>\n",
              "      <td>True</td>\n",
              "      <td>G/18/S</td>\n",
              "      <td>TRAPPIST-1e</td>\n",
              "      <td>6.0</td>\n",
              "      <td>False</td>\n",
              "      <td>0.0</td>\n",
              "      <td>0.0</td>\n",
              "      <td>0.0</td>\n",
              "      <td>0.0</td>\n",
              "      <td>0.0</td>\n",
              "      <td>Fanne Mclainez</td>\n",
              "      <td>False</td>\n",
              "    </tr>\n",
              "    <tr>\n",
              "      <th>98</th>\n",
              "      <td>0105_01</td>\n",
              "      <td>Earth</td>\n",
              "      <td>NaN</td>\n",
              "      <td>F/21/P</td>\n",
              "      <td>TRAPPIST-1e</td>\n",
              "      <td>27.0</td>\n",
              "      <td>False</td>\n",
              "      <td>0.0</td>\n",
              "      <td>0.0</td>\n",
              "      <td>570.0</td>\n",
              "      <td>2.0</td>\n",
              "      <td>131.0</td>\n",
              "      <td>Carry Cleachrand</td>\n",
              "      <td>False</td>\n",
              "    </tr>\n",
              "    <tr>\n",
              "      <th>99</th>\n",
              "      <td>0107_01</td>\n",
              "      <td>Mars</td>\n",
              "      <td>False</td>\n",
              "      <td>D/2/S</td>\n",
              "      <td>TRAPPIST-1e</td>\n",
              "      <td>21.0</td>\n",
              "      <td>False</td>\n",
              "      <td>1743.0</td>\n",
              "      <td>5.0</td>\n",
              "      <td>17.0</td>\n",
              "      <td>0.0</td>\n",
              "      <td>0.0</td>\n",
              "      <td>Coobix Hart</td>\n",
              "      <td>False</td>\n",
              "    </tr>\n",
              "  </tbody>\n",
              "</table>\n",
              "<p>100 rows × 14 columns</p>\n",
              "</div>\n",
              "      <button class=\"colab-df-convert\" onclick=\"convertToInteractive('df-96f08f40-89ba-42e7-9d8a-173285479786')\"\n",
              "              title=\"Convert this dataframe to an interactive table.\"\n",
              "              style=\"display:none;\">\n",
              "        \n",
              "  <svg xmlns=\"http://www.w3.org/2000/svg\" height=\"24px\"viewBox=\"0 0 24 24\"\n",
              "       width=\"24px\">\n",
              "    <path d=\"M0 0h24v24H0V0z\" fill=\"none\"/>\n",
              "    <path d=\"M18.56 5.44l.94 2.06.94-2.06 2.06-.94-2.06-.94-.94-2.06-.94 2.06-2.06.94zm-11 1L8.5 8.5l.94-2.06 2.06-.94-2.06-.94L8.5 2.5l-.94 2.06-2.06.94zm10 10l.94 2.06.94-2.06 2.06-.94-2.06-.94-.94-2.06-.94 2.06-2.06.94z\"/><path d=\"M17.41 7.96l-1.37-1.37c-.4-.4-.92-.59-1.43-.59-.52 0-1.04.2-1.43.59L10.3 9.45l-7.72 7.72c-.78.78-.78 2.05 0 2.83L4 21.41c.39.39.9.59 1.41.59.51 0 1.02-.2 1.41-.59l7.78-7.78 2.81-2.81c.8-.78.8-2.07 0-2.86zM5.41 20L4 18.59l7.72-7.72 1.47 1.35L5.41 20z\"/>\n",
              "  </svg>\n",
              "      </button>\n",
              "      \n",
              "  <style>\n",
              "    .colab-df-container {\n",
              "      display:flex;\n",
              "      flex-wrap:wrap;\n",
              "      gap: 12px;\n",
              "    }\n",
              "\n",
              "    .colab-df-convert {\n",
              "      background-color: #E8F0FE;\n",
              "      border: none;\n",
              "      border-radius: 50%;\n",
              "      cursor: pointer;\n",
              "      display: none;\n",
              "      fill: #1967D2;\n",
              "      height: 32px;\n",
              "      padding: 0 0 0 0;\n",
              "      width: 32px;\n",
              "    }\n",
              "\n",
              "    .colab-df-convert:hover {\n",
              "      background-color: #E2EBFA;\n",
              "      box-shadow: 0px 1px 2px rgba(60, 64, 67, 0.3), 0px 1px 3px 1px rgba(60, 64, 67, 0.15);\n",
              "      fill: #174EA6;\n",
              "    }\n",
              "\n",
              "    [theme=dark] .colab-df-convert {\n",
              "      background-color: #3B4455;\n",
              "      fill: #D2E3FC;\n",
              "    }\n",
              "\n",
              "    [theme=dark] .colab-df-convert:hover {\n",
              "      background-color: #434B5C;\n",
              "      box-shadow: 0px 1px 3px 1px rgba(0, 0, 0, 0.15);\n",
              "      filter: drop-shadow(0px 1px 2px rgba(0, 0, 0, 0.3));\n",
              "      fill: #FFFFFF;\n",
              "    }\n",
              "  </style>\n",
              "\n",
              "      <script>\n",
              "        const buttonEl =\n",
              "          document.querySelector('#df-96f08f40-89ba-42e7-9d8a-173285479786 button.colab-df-convert');\n",
              "        buttonEl.style.display =\n",
              "          google.colab.kernel.accessAllowed ? 'block' : 'none';\n",
              "\n",
              "        async function convertToInteractive(key) {\n",
              "          const element = document.querySelector('#df-96f08f40-89ba-42e7-9d8a-173285479786');\n",
              "          const dataTable =\n",
              "            await google.colab.kernel.invokeFunction('convertToInteractive',\n",
              "                                                     [key], {});\n",
              "          if (!dataTable) return;\n",
              "\n",
              "          const docLinkHtml = 'Like what you see? Visit the ' +\n",
              "            '<a target=\"_blank\" href=https://colab.research.google.com/notebooks/data_table.ipynb>data table notebook</a>'\n",
              "            + ' to learn more about interactive tables.';\n",
              "          element.innerHTML = '';\n",
              "          dataTable['output_type'] = 'display_data';\n",
              "          await google.colab.output.renderOutput(dataTable, element);\n",
              "          const docLink = document.createElement('div');\n",
              "          docLink.innerHTML = docLinkHtml;\n",
              "          element.appendChild(docLink);\n",
              "        }\n",
              "      </script>\n",
              "    </div>\n",
              "  </div>\n",
              "  "
            ]
          },
          "metadata": {},
          "execution_count": 4
        }
      ],
      "source": [
        "df.head(100)"
      ]
    },
    {
      "cell_type": "markdown",
      "metadata": {
        "id": "rG7EiezNf_ni"
      },
      "source": [
        "# Checking Null values"
      ]
    },
    {
      "cell_type": "code",
      "execution_count": null,
      "metadata": {
        "colab": {
          "base_uri": "https://localhost:8080/"
        },
        "id": "m13p53ptroUI",
        "outputId": "90fa775e-3ad8-497d-8c22-11c5977c57ff"
      },
      "outputs": [
        {
          "output_type": "execute_result",
          "data": {
            "text/plain": [
              "PassengerId       0\n",
              "HomePlanet      201\n",
              "CryoSleep       217\n",
              "Cabin           199\n",
              "Destination     182\n",
              "Age             179\n",
              "VIP             203\n",
              "RoomService     181\n",
              "FoodCourt       183\n",
              "ShoppingMall    208\n",
              "Spa             183\n",
              "VRDeck          188\n",
              "Name            200\n",
              "Transported       0\n",
              "dtype: int64"
            ]
          },
          "metadata": {},
          "execution_count": 5
        }
      ],
      "source": [
        "df.isna().sum()"
      ]
    },
    {
      "cell_type": "code",
      "execution_count": 22,
      "metadata": {
        "colab": {
          "base_uri": "https://localhost:8080/",
          "height": 34
        },
        "id": "vEhNKWyPOHZO",
        "outputId": "dfeb9955-0177-4fc7-eef5-07d586fd85b0"
      },
      "outputs": [
        {
          "output_type": "display_data",
          "data": {
            "text/plain": [
              "<Figure size 432x288 with 0 Axes>"
            ]
          },
          "metadata": {}
        }
      ],
      "source": [
        "def category_comp_plot(field):\n",
        "  col_series=df[field].value_counts().index\n",
        "  \n",
        "  fig, axs = plt.subplots(1, len(col_series), figsize=(12, 5))\n",
        "  for i,category in enumerate(col_series):\n",
        "    plt.subplot(1,len(col_series),i+1)\n",
        "    sns.countplot(data=df.loc[df[field]==category],x='Transported')\n",
        "    plt.title(category)\n",
        "\n",
        "plt.subplots_adjust(left=2,right=3)\n",
        "    \n"
      ]
    },
    {
      "cell_type": "code",
      "source": [
        "def numeric_comp_plot(field,binwidth,xlim=None,ylim=None):\n",
        "  my_df=df.copy()\n",
        "  my_df[field].fillna(my_df[field].median(),inplace=True)\n",
        "  my_df[field]=my_df[field].astype('int')\n",
        "  sns.histplot(data=my_df,x=field,hue='Transported',binwidth=binwidth)\n",
        "  plt.xlim(xlim)\n",
        "  plt.ylim(ylim)"
      ],
      "metadata": {
        "id": "k2ZZ1XS7mByM"
      },
      "execution_count": 107,
      "outputs": []
    },
    {
      "cell_type": "code",
      "execution_count": null,
      "metadata": {
        "colab": {
          "base_uri": "https://localhost:8080/",
          "height": 373
        },
        "id": "FrllzLaJ9UDm",
        "outputId": "1654cf44-355f-4586-f047-7bb72dde14e0"
      },
      "outputs": [
        {
          "name": "stderr",
          "output_type": "stream",
          "text": [
            "/usr/local/lib/python3.7/dist-packages/matplotlib/cbook/__init__.py:1376: VisibleDeprecationWarning: Creating an ndarray from ragged nested sequences (which is a list-or-tuple of lists-or-tuples-or ndarrays with different lengths or shapes) is deprecated. If you meant to do this, you must specify 'dtype=object' when creating the ndarray.\n",
            "  X = np.atleast_1d(X.T if isinstance(X, np.ndarray) else np.asarray(X))\n"
          ]
        },
        {
          "data": {
            "text/plain": [
              "<matplotlib.axes._subplots.AxesSubplot at 0x7fac550100d0>"
            ]
          },
          "execution_count": 7,
          "metadata": {},
          "output_type": "execute_result"
        },
        {
          "data": {
            "image/png": "[encoded data removed]",
            "text/plain": [
              "<Figure size 432x288 with 1 Axes>"
            ]
          },
          "metadata": {},
          "output_type": "display_data"
        }
      ],
      "source": [
        "df.boxplot(column='Age',by='Transported')"
      ]
    },
    {
      "cell_type": "code",
      "source": [
        "df.boxplot(column='VRDeck',by='Transported')"
      ],
      "metadata": {
        "colab": {
          "base_uri": "https://localhost:8080/",
          "height": 373
        },
        "id": "tZxmpfRosUzq",
        "outputId": "d91a3daa-c11c-457d-c043-d8a50c5111bf"
      },
      "execution_count": 97,
      "outputs": [
        {
          "output_type": "stream",
          "name": "stderr",
          "text": [
            "/usr/local/lib/python3.7/dist-packages/matplotlib/cbook/__init__.py:1376: VisibleDeprecationWarning: Creating an ndarray from ragged nested sequences (which is a list-or-tuple of lists-or-tuples-or ndarrays with different lengths or shapes) is deprecated. If you meant to do this, you must specify 'dtype=object' when creating the ndarray.\n",
            "  X = np.atleast_1d(X.T if isinstance(X, np.ndarray) else np.asarray(X))\n"
          ]
        },
        {
          "output_type": "execute_result",
          "data": {
            "text/plain": [
              "<matplotlib.axes._subplots.AxesSubplot at 0x7f62e9319410>"
            ]
          },
          "metadata": {},
          "execution_count": 97
        },
        {
          "output_type": "display_data",
          "data": {
            "text/plain": [
              "<Figure size 432x288 with 1 Axes>"
            ],
            "image/png": "[encoded data removed]"
          },
          "metadata": {
            "needs_background": "light"
          }
        }
      ]
    },
    {
      "cell_type": "markdown",
      "metadata": {
        "id": "ygPQfKKGvgE_"
      },
      "source": [
        "###**Checking significance of VIP column**"
      ]
    },
    {
      "cell_type": "code",
      "execution_count": null,
      "metadata": {
        "colab": {
          "base_uri": "https://localhost:8080/",
          "height": 350
        },
        "id": "7gxQSF7BIwwP",
        "outputId": "039f8b6b-366a-408d-b3ed-6cd8f450bdde"
      },
      "outputs": [
        {
          "data": {
            "image/png": "[encoded data removed]",
            "text/plain": [
              "<Figure size 864x360 with 2 Axes>"
            ]
          },
          "metadata": {},
          "output_type": "display_data"
        }
      ],
      "source": [
        "category_comp_plot('VIP')\n"
      ]
    },
    {
      "cell_type": "markdown",
      "metadata": {
        "id": "e58RXVGTv1d-"
      },
      "source": [
        "Can conclude that being a vip isnt contributing heavily to the target variable"
      ]
    },
    {
      "cell_type": "code",
      "execution_count": null,
      "metadata": {
        "colab": {
          "base_uri": "https://localhost:8080/",
          "height": 350
        },
        "id": "kbPuRfwDJT1i",
        "outputId": "7e7705bd-a739-43a0-85d6-7ef52cd6bbe7"
      },
      "outputs": [
        {
          "data": {
            "image/png": "[encoded data removed]",
            "text/plain": [
              "<Figure size 864x360 with 3 Axes>"
            ]
          },
          "metadata": {},
          "output_type": "display_data"
        }
      ],
      "source": [
        "category_comp_plot('HomePlanet')"
      ]
    },
    {
      "cell_type": "code",
      "execution_count": null,
      "metadata": {
        "colab": {
          "base_uri": "https://localhost:8080/",
          "height": 350
        },
        "id": "9xA2WvR8Lo0M",
        "outputId": "003ffb58-eea7-4a5d-ee25-593ce3e91e1a"
      },
      "outputs": [
        {
          "data": {
            "image/png": "[encoded data removed]",
            "text/plain": [
              "<Figure size 864x360 with 2 Axes>"
            ]
          },
          "metadata": {},
          "output_type": "display_data"
        }
      ],
      "source": [
        "category_comp_plot('CryoSleep')"
      ]
    },
    {
      "cell_type": "code",
      "execution_count": null,
      "metadata": {
        "colab": {
          "base_uri": "https://localhost:8080/",
          "height": 350
        },
        "id": "Y3aWjySEh_n9",
        "outputId": "5511bc08-6c41-4d5e-abda-709678f44087"
      },
      "outputs": [
        {
          "data": {
            "image/png": "[encoded data removed]",
            "text/plain": [
              "<Figure size 864x360 with 2 Axes>"
            ]
          },
          "metadata": {},
          "output_type": "display_data"
        }
      ],
      "source": [
        "df['Port']=df['Cabin'].str[-1]\n",
        "category_comp_plot('Port')"
      ]
    },
    {
      "cell_type": "code",
      "execution_count": null,
      "metadata": {
        "colab": {
          "base_uri": "https://localhost:8080/",
          "height": 350
        },
        "id": "rfO1gTlPjXZL",
        "outputId": "0efbc1ce-1452-497f-f2be-641ddbb37c2d"
      },
      "outputs": [
        {
          "data": {
            "image/png": "[encoded data removed]",
            "text/plain": [
              "<Figure size 864x360 with 3 Axes>"
            ]
          },
          "metadata": {},
          "output_type": "display_data"
        }
      ],
      "source": [
        "category_comp_plot('Destination')"
      ]
    },
    {
      "cell_type": "code",
      "source": [
        "df['Cabin_Num']=df['Cabin'].str.split('/',expand=True)[1]\n",
        "numeric_comp_plot('Cabin_Num',binwidth=100,xlim=[0,2000])"
      ],
      "metadata": {
        "colab": {
          "base_uri": "https://localhost:8080/",
          "height": 280
        },
        "id": "84ZzIiI0p5ui",
        "outputId": "6a23cc00-59a1-48ac-ae2c-4c2147279990"
      },
      "execution_count": 108,
      "outputs": [
        {
          "output_type": "display_data",
          "data": {
            "text/plain": [
              "<Figure size 432x288 with 1 Axes>"
            ],
            "image/png": "[encoded data removed]"
          },
          "metadata": {
            "needs_background": "light"
          }
        }
      ]
    },
    {
      "cell_type": "code",
      "source": [
        "\n",
        "numeric_comp_plot('RoomService',binwidth=1000,xlim=[0,25000],ylim=[0,25])"
      ],
      "metadata": {
        "colab": {
          "base_uri": "https://localhost:8080/",
          "height": 283
        },
        "id": "mu3tqZ6JrEgp",
        "outputId": "00ab0e3b-ea24-40cf-fc3c-29dc742e44ae"
      },
      "execution_count": 109,
      "outputs": [
        {
          "output_type": "display_data",
          "data": {
            "text/plain": [
              "<Figure size 432x288 with 1 Axes>"
            ],
            "image/png": "[encoded data removed]"
          },
          "metadata": {
            "needs_background": "light"
          }
        }
      ]
    },
    {
      "cell_type": "code",
      "source": [
        "numeric_comp_plot('ShoppingMall',binwidth=2000,xlim=[0,25000],ylim=[0,25])"
      ],
      "metadata": {
        "colab": {
          "base_uri": "https://localhost:8080/",
          "height": 283
        },
        "id": "lrM4y08grg7R",
        "outputId": "aa58344d-4667-4276-e250-504ddf7a0d31"
      },
      "execution_count": 111,
      "outputs": [
        {
          "output_type": "display_data",
          "data": {
            "text/plain": [
              "<Figure size 432x288 with 1 Axes>"
            ],
            "image/png": "[encoded data removed]"
          },
          "metadata": {
            "needs_background": "light"
          }
        }
      ]
    },
    {
      "cell_type": "code",
      "source": [
        "numeric_comp_plot('Spa',binwidth=2000,xlim=[0,25000],ylim=[0,25])"
      ],
      "metadata": {
        "colab": {
          "base_uri": "https://localhost:8080/",
          "height": 283
        },
        "id": "9B98DvaYrpZB",
        "outputId": "40843893-8dfb-49a2-d7a5-5b76b832f324"
      },
      "execution_count": 112,
      "outputs": [
        {
          "output_type": "display_data",
          "data": {
            "text/plain": [
              "<Figure size 432x288 with 1 Axes>"
            ],
            "image/png": "[encoded data removed]"
          },
          "metadata": {
            "needs_background": "light"
          }
        }
      ]
    },
    {
      "cell_type": "code",
      "source": [
        "numeric_comp_plot('VRDeck',binwidth=2000,xlim=[0,25000],ylim=[0,25])"
      ],
      "metadata": {
        "colab": {
          "base_uri": "https://localhost:8080/",
          "height": 283
        },
        "id": "7EsawAtyrxKp",
        "outputId": "9b7c0050-b917-4f7a-8a00-a97860e16ef7"
      },
      "execution_count": 113,
      "outputs": [
        {
          "output_type": "display_data",
          "data": {
            "text/plain": [
              "<Figure size 432x288 with 1 Axes>"
            ],
            "image/png": "[encoded data removed]"
          },
          "metadata": {
            "needs_background": "light"
          }
        }
      ]
    },
    {
      "cell_type": "code",
      "source": [
        "numeric_comp_plot('FoodCourt',binwidth=2000,ylim=[0,25])"
      ],
      "metadata": {
        "colab": {
          "base_uri": "https://localhost:8080/",
          "height": 283
        },
        "id": "brqYqkitsBRZ",
        "outputId": "69307564-2dc2-42b3-9566-77858acf744b"
      },
      "execution_count": 114,
      "outputs": [
        {
          "output_type": "display_data",
          "data": {
            "text/plain": [
              "<Figure size 432x288 with 1 Axes>"
            ],
            "image/png": "[encoded data removed]"
          },
          "metadata": {
            "needs_background": "light"
          }
        }
      ]
    },
    {
      "cell_type": "code",
      "source": [
        "df['ShoppingMall'].describe()"
      ],
      "metadata": {
        "colab": {
          "base_uri": "https://localhost:8080/"
        },
        "id": "eFkDYkFuq605",
        "outputId": "42fe1c11-19f3-4303-b71f-f2b962a87161"
      },
      "execution_count": 92,
      "outputs": [
        {
          "output_type": "execute_result",
          "data": {
            "text/plain": [
              "count     8485.000000\n",
              "mean       173.729169\n",
              "std        604.696458\n",
              "min          0.000000\n",
              "25%          0.000000\n",
              "50%          0.000000\n",
              "75%         27.000000\n",
              "max      23492.000000\n",
              "Name: ShoppingMall, dtype: float64"
            ]
          },
          "metadata": {},
          "execution_count": 92
        }
      ]
    },
    {
      "cell_type": "code",
      "source": [
        "df.loc[~df['Cabin'].isna(),'Cabin'].str.split('/').apply(lambda x:x[1]).nunique()"
      ],
      "metadata": {
        "colab": {
          "base_uri": "https://localhost:8080/"
        },
        "id": "bCXKuR5LydBV",
        "outputId": "6a97e222-f262-469c-b742-cc368b5c39a5"
      },
      "execution_count": null,
      "outputs": [
        {
          "output_type": "execute_result",
          "data": {
            "text/plain": [
              "1817"
            ]
          },
          "metadata": {},
          "execution_count": 23
        }
      ]
    },
    {
      "cell_type": "code",
      "source": [
        "df['P_Id1'].value_counts()"
      ],
      "metadata": {
        "colab": {
          "base_uri": "https://localhost:8080/"
        },
        "id": "3JnyccbHyyxn",
        "outputId": "417f66d8-9f77-4161-9fa7-24b7eea0c531"
      },
      "execution_count": null,
      "outputs": [
        {
          "output_type": "execute_result",
          "data": {
            "text/plain": [
              "4498    8\n",
              "8168    8\n",
              "8728    8\n",
              "8796    8\n",
              "8956    8\n",
              "       ..\n",
              "3483    1\n",
              "3480    1\n",
              "3478    1\n",
              "3473    1\n",
              "4620    1\n",
              "Name: P_Id1, Length: 6217, dtype: int64"
            ]
          },
          "metadata": {},
          "execution_count": 11
        }
      ]
    },
    {
      "cell_type": "code",
      "source": [
        "df.loc[df['P_Id1']==10,'Transported']"
      ],
      "metadata": {
        "colab": {
          "base_uri": "https://localhost:8080/"
        },
        "id": "Z5UGc9HizFYu",
        "outputId": "afc65dca-a5b7-4a1f-f727-c26535778686"
      },
      "execution_count": null,
      "outputs": [
        {
          "output_type": "execute_result",
          "data": {
            "text/plain": [
              "13    False\n",
              "Name: Transported, dtype: bool"
            ]
          },
          "metadata": {},
          "execution_count": 19
        }
      ]
    },
    {
      "cell_type": "markdown",
      "metadata": {
        "id": "dEJ_ZEOSgQIT"
      },
      "source": [
        "# Transformers"
      ]
    },
    {
      "cell_type": "code",
      "execution_count": 171,
      "metadata": {
        "id": "Je7g5Lyxvxz9"
      },
      "outputs": [],
      "source": [
        "class cat_Imputer(BaseEstimator,TransformerMixin):\n",
        "  def __init__(self,categ_cols):\n",
        "    self.categ_cols=categ_cols\n",
        "  def fit(self,X,y=None):\n",
        "    return self\n",
        "  def transform(self,X,y=None):\n",
        "    \n",
        "    \n",
        "    true_transported=X['Transported'].value_counts().loc[True]\n",
        "    false_transported=X['Transported'].value_counts().loc[False]\n",
        "    for i in self.categ_cols:\n",
        "      true_prob=[]\n",
        "      false_prob=[]\n",
        "      tp=X.loc[~X[i].isna()].copy(deep=True)\n",
        "      \n",
        "      for j in tp[i].value_counts().index:\n",
        "        true_prob.append(tp.loc[(X[i]==j) & (tp['Transported']==True)].shape[0]/true_transported)\n",
        "        false_prob.append(tp.loc[(X[i]==j) & (tp['Transported']==False)].shape[0]/false_transported)\n",
        "\n",
        "        # try:\n",
        "        #   true_prob.append(X[~df[i].isna()].groupby('Transported').agg({i:[(j,lambda x:x.str.count().sum()/true_transported)]}).loc[True][(i,j)])\n",
        "        #   false_prob.append(X[~df[i].isna()].groupby('Transported').agg({i:[(j,lambda x:x.str.count().sum()/false_transported)]}).loc[False][(i,j)])\n",
        "        # except:\n",
        "        #   true_prob.append(X[~df[i].isna()].groupby('Transported').agg({i:[(j,lambda x:x.count().sum()/true_transported)]}).loc[True][(i,j)])\n",
        "        #   false_prob.append(X[~df[i].isna()].groupby('Transported').agg({i:[(j,lambda x:x.count().sum()/false_transported)]}).loc[False][(i,j)])\n",
        "      X.loc[(X[i].isna()) & (X['Transported']==True),i]=np.random.choice(X[i].value_counts().index,\n",
        "                                                                                X.loc[(X[i].isna()) & (X['Transported']==True),i].shape,\n",
        "                                                                                p=true_prob/sum(true_prob))\n",
        "      X.loc[(X[i].isna()) & (X['Transported']==False),i]=np.random.choice(X[i].value_counts().index,\n",
        "                                                                                X.loc[(X[i].isna()) & (X['Transported']==False),i].shape,\n",
        "                                                                                p=true_prob/sum(true_prob))\n",
        "    \n",
        "    return X\n",
        "\n",
        "class Int_Imputer(BaseEstimator,TransformerMixin):\n",
        "  def __init__(self,cols):\n",
        "    self.cols=cols\n",
        "  def fit(self,X,y=None):\n",
        "    return self\n",
        "  def transform(self,X,y=None):\n",
        "    imputer=SimpleImputer(strategy=\"median\")\n",
        "    imputer.fit(X[self.cols])\n",
        "    X[self.cols]=imputer.transform(X[self.cols])\n",
        "  \n",
        "    return X\n",
        "  \n",
        "\n",
        "\n",
        "class AttriAdder(BaseEstimator,TransformerMixin):\n",
        "\n",
        "  def __init__(self):\n",
        "    pass\n",
        "  def fit(self,X,y=None):\n",
        "    return self\n",
        "  def transform(self,X,y=None):\n",
        "    X['EscapeSpent']=X['RoomService']+X['Spa']+X['VRDeck']\n",
        "    X['DeathSpent']=X['FoodCourt']+X['ShoppingMall']\n",
        "    X['inSurvivorsGroup']=X['P_ID1'].apply(lambda x:1 if x in survivorsIds else 0)\n",
        "    return X\n",
        "\n",
        "\n",
        "class OrdEncoding(BaseEstimator,TransformerMixin):\n",
        "\n",
        "  def __init__(self,cols):\n",
        "    self.cols=cols\n",
        "  def fit(self,X,y=None):\n",
        "    return self\n",
        "  def transform(self,X,y=None):\n",
        "    ord=OrdinalEncoder()\n",
        "    for col in self.cols:\n",
        "      X[col]=ord.fit_transform(X[[col]])\n",
        "\n",
        "    return X\n",
        "\n",
        "class OneHot(BaseEstimator,TransformerMixin):\n",
        "\n",
        "  def __init__(self,cols):\n",
        "    self.cols=cols\n",
        "  def fit(self,X,y=None):\n",
        "    return self\n",
        "  def transform(self,X,y=None):\n",
        "    \n",
        "    for col in self.cols:\n",
        "      one=OneHotEncoder(sparse=False)\n",
        "      X[list(one.categories_[0])]=one.fit_transform(X[[col]])\n",
        "      print(list(one.categories_[0]))\n",
        "\n",
        "    return X\n",
        "\n",
        "class TypeChange(BaseEstimator,TransformerMixin):\n",
        "\n",
        "  def __init__(self,cols_dict):\n",
        "    self.cols_dict=cols_dict\n",
        "  def fit(self,X,y=None):\n",
        "    return self\n",
        "  def transform(self,X,y=None):\n",
        "    for col in self.cols_dict:\n",
        "      X[col]=X[col].astype(self.cols_dict[col])\n",
        "    return X\n",
        "\n",
        "class Dropcols(BaseEstimator,TransformerMixin):\n",
        "\n",
        "  def __init__(self,to_drop):\n",
        "    self.to_drop=to_drop\n",
        "  def fit(self,X,y=None):\n",
        "    return self\n",
        "  def transform(self,X,y=None):\n",
        "    X=X.drop(columns=self.to_drop,axis=1)\n",
        "    return X\n",
        "\n",
        "class Keepcols(BaseEstimator,TransformerMixin):\n",
        "\n",
        "  def __init__(self,to_keep):\n",
        "    self.to_keep=to_keep\n",
        "  def fit(self,X,y=None):\n",
        "    return self\n",
        "  def transform(self,X,y=None):\n",
        "    X=X[self.to_keep]\n",
        "    return X\n",
        "\n",
        "class Scaler(BaseEstimator,TransformerMixin):\n",
        "  def __init__(self,cols=None):\n",
        "    self.cols=cols\n",
        "    pass\n",
        "  def fit(self,X,y=None):\n",
        "    return self\n",
        "  def transform(self,X,y=None):\n",
        "    if self.cols==None:\n",
        "      self.cols=X.columns\n",
        "    scaler=StandardScaler()\n",
        "    X[self.cols]=scaler.fit_transform(X[self.cols])\n",
        "    return X\n",
        "\n",
        "class ModeImputer(BaseEstimator,TransformerMixin):\n",
        "  def __init__(self,cols):\n",
        "    self.cols=cols\n",
        "    \n",
        "  def fit(self,X,y=None):\n",
        "    return self\n",
        "  def transform(self,X,y=None):\n",
        "    for i in self.cols:\n",
        "      cat_imputer=CategoricalImputer()\n",
        "      X[i]=cat_imputer.fit_transform(X[i])\n",
        "    return X\n",
        "\n",
        "class Binner(BaseEstimator,TransformerMixin):\n",
        "  def __init__(self,cols,cats=4):\n",
        "    self.cols=cols\n",
        "    self.cats=cats\n",
        "  def fit(self,X,y=None):\n",
        "    return self\n",
        "  def transform(self,X,y=None):\n",
        "    for i in self.cols:\n",
        "      X[i]=pd.qcut(X[i],self.cats,labels=False)\n",
        "    return X\n",
        "\n",
        "class Value_Imputer(BaseEstimator,TransformerMixin):\n",
        "  def __init__(self,col_val):\n",
        "    self.col_val=col_val\n",
        "  def fit(self,X,y=None):\n",
        "    return self\n",
        "  def transform(self,X,y=None):\n",
        "    for i in self.col_val:\n",
        "      X[i]=X[i].fillna(value=self.col_val[i])\n",
        "    return X\n"
      ]
    },
    {
      "cell_type": "markdown",
      "metadata": {
        "id": "K4GoguX7phVl"
      },
      "source": [
        "# Functions for test dataset"
      ]
    },
    {
      "cell_type": "code",
      "execution_count": 188,
      "metadata": {
        "id": "okRDoFsiqLej"
      },
      "outputs": [],
      "source": [
        "def split(dataset,label_name):\n",
        "  dataset=dataset.sample(frac=1,random_state=42)\n",
        "  labels=dataset[label_name]\n",
        "  dataset=dataset.drop(columns=[label_name])\n",
        "  train,test,train_labels,test_labels=train_test_split(dataset,labels,test_size=0.1,random_state=42)\n",
        "  return {'train':train,'train_labels':train_labels,'test':test,'test_labels':test_labels}"
      ]
    },
    {
      "cell_type": "code",
      "source": [
        "df=pd.read_csv('./drive/MyDrive/spaceTitanic/train.csv')\n",
        "df[['P_ID1','P_ID2']]=df['PassengerId'].str.split('_',expand=True)[[0,1]]\n",
        "train,train_labels,test,test_labels=split(df,'Transported').values()\n",
        "survivorsIds=train.loc[df['Transported']==False,'P_ID1'].values\n",
        "train_labels=train_labels.astype(np.int64)\n",
        "test_labels=test_labels.astype(np.int64)"
      ],
      "metadata": {
        "id": "u5nlAioVFDKG"
      },
      "execution_count": 189,
      "outputs": []
    },
    {
      "cell_type": "code",
      "source": [
        "category_comp_plot('inSurvivorsGroup')"
      ],
      "metadata": {
        "colab": {
          "base_uri": "https://localhost:8080/",
          "height": 350
        },
        "id": "fMoeKvsZ8Vvh",
        "outputId": "29d73d83-eac3-45e9-d857-890c85586842"
      },
      "execution_count": 168,
      "outputs": [
        {
          "output_type": "display_data",
          "data": {
            "text/plain": [
              "<Figure size 864x360 with 2 Axes>"
            ],
            "image/png": "[encoded data removed]"
          },
          "metadata": {
            "needs_background": "light"
          }
        }
      ]
    },
    {
      "cell_type": "code",
      "source": [
        "df['inSurvivorsGroup'].value_counts()"
      ],
      "metadata": {
        "colab": {
          "base_uri": "https://localhost:8080/"
        },
        "id": "xVbUF76F9ng5",
        "outputId": "68abcf42-1657-4773-cfb2-77b3d2462a1b"
      },
      "execution_count": 167,
      "outputs": [
        {
          "output_type": "execute_result",
          "data": {
            "text/plain": [
              "1    5543\n",
              "0    3150\n",
              "Name: inSurvivorsGroup, dtype: int64"
            ]
          },
          "metadata": {},
          "execution_count": 167
        }
      ]
    },
    {
      "cell_type": "markdown",
      "source": [
        "# Adding Side from Cabin"
      ],
      "metadata": {
        "id": "phbPUdaESv5J"
      }
    },
    {
      "cell_type": "code",
      "source": [
        "train[['deck','num','side']]=train['Cabin'].str.split('/',expand=True)[[0,1,2]]\n",
        "test[['deck','num','side']]=test['Cabin'].str.split('/',expand=True)[[0,1,2]]\n",
        "train[['P_ID1','P_ID2']]=train['PassengerId'].str.split('_',expand=True)[[0,1]]\n",
        "test[['P_ID1','P_ID2']]=test['PassengerId'].str.split('_',expand=True)[[0,1]]"
      ],
      "metadata": {
        "id": "ikLEDvEHS2AA"
      },
      "execution_count": 190,
      "outputs": []
    },
    {
      "cell_type": "markdown",
      "metadata": {
        "id": "mtPn3WcjgV-h"
      },
      "source": [
        "# Imputing HomePlanet"
      ]
    },
    {
      "cell_type": "code",
      "execution_count": 191,
      "metadata": {
        "id": "aQgbUFnA1uXw"
      },
      "outputs": [],
      "source": [
        "def HomePlanetImpute(df):\n",
        "  df['deck']=df['Cabin'].str[0]\n",
        "  deck_to_cab={'A':'Europa','C':'Europa','B':'Europa','T':'Europa','D':'Mars','E':'Earth','G':'Earth','F':'Earth'}\n",
        "  for i in deck_to_cab:\n",
        "    df.loc[(df['deck']==i) & df['HomePlanet'].isna(),'HomePlanet']=df.loc[(df['deck']==i) & df['HomePlanet'].isna(),'HomePlanet'].fillna(\n",
        "        value=deck_to_cab.get(i,'F'))\n",
        "  return df"
      ]
    },
    {
      "cell_type": "code",
      "source": [
        "train=HomePlanetImpute(train)\n",
        "test=HomePlanetImpute(test)"
      ],
      "metadata": {
        "id": "T7jD_6PmKeAs"
      },
      "execution_count": 192,
      "outputs": []
    },
    {
      "cell_type": "code",
      "execution_count": null,
      "metadata": {
        "colab": {
          "base_uri": "https://localhost:8080/",
          "height": 504
        },
        "id": "c8uMee8bw6R3",
        "outputId": "c776d797-9dcd-40a8-c8be-0103a11d57c5"
      },
      "outputs": [
        {
          "output_type": "error",
          "ename": "KeyError",
          "evalue": "ignored",
          "traceback": [
            "\u001b[0;31m---------------------------------------------------------------------------\u001b[0m",
            "\u001b[0;31mKeyError\u001b[0m                                  Traceback (most recent call last)",
            "\u001b[0;32m/usr/local/lib/python3.7/dist-packages/pandas/core/indexes/base.py\u001b[0m in \u001b[0;36mget_loc\u001b[0;34m(self, key, method, tolerance)\u001b[0m\n\u001b[1;32m   3360\u001b[0m             \u001b[0;32mtry\u001b[0m\u001b[0;34m:\u001b[0m\u001b[0;34m\u001b[0m\u001b[0;34m\u001b[0m\u001b[0m\n\u001b[0;32m-> 3361\u001b[0;31m                 \u001b[0;32mreturn\u001b[0m \u001b[0mself\u001b[0m\u001b[0;34m.\u001b[0m\u001b[0m_engine\u001b[0m\u001b[0;34m.\u001b[0m\u001b[0mget_loc\u001b[0m\u001b[0;34m(\u001b[0m\u001b[0mcasted_key\u001b[0m\u001b[0;34m)\u001b[0m\u001b[0;34m\u001b[0m\u001b[0;34m\u001b[0m\u001b[0m\n\u001b[0m\u001b[1;32m   3362\u001b[0m             \u001b[0;32mexcept\u001b[0m \u001b[0mKeyError\u001b[0m \u001b[0;32mas\u001b[0m \u001b[0merr\u001b[0m\u001b[0;34m:\u001b[0m\u001b[0;34m\u001b[0m\u001b[0;34m\u001b[0m\u001b[0m\n",
            "\u001b[0;32m/usr/local/lib/python3.7/dist-packages/pandas/_libs/index.pyx\u001b[0m in \u001b[0;36mpandas._libs.index.IndexEngine.get_loc\u001b[0;34m()\u001b[0m\n",
            "\u001b[0;32m/usr/local/lib/python3.7/dist-packages/pandas/_libs/index.pyx\u001b[0m in \u001b[0;36mpandas._libs.index.IndexEngine.get_loc\u001b[0;34m()\u001b[0m\n",
            "\u001b[0;32mpandas/_libs/hashtable_class_helper.pxi\u001b[0m in \u001b[0;36mpandas._libs.hashtable.PyObjectHashTable.get_item\u001b[0;34m()\u001b[0m\n",
            "\u001b[0;32mpandas/_libs/hashtable_class_helper.pxi\u001b[0m in \u001b[0;36mpandas._libs.hashtable.PyObjectHashTable.get_item\u001b[0;34m()\u001b[0m\n",
            "\u001b[0;31mKeyError\u001b[0m: 'side'",
            "\nThe above exception was the direct cause of the following exception:\n",
            "\u001b[0;31mKeyError\u001b[0m                                  Traceback (most recent call last)",
            "\u001b[0;32m<ipython-input-163-c13cee63bb21>\u001b[0m in \u001b[0;36m<module>\u001b[0;34m\u001b[0m\n\u001b[1;32m      8\u001b[0m \u001b[0mdf\u001b[0m\u001b[0;34m=\u001b[0m\u001b[0mbinner\u001b[0m\u001b[0;34m.\u001b[0m\u001b[0mfit_transform\u001b[0m\u001b[0;34m(\u001b[0m\u001b[0mdf\u001b[0m\u001b[0;34m)\u001b[0m\u001b[0;34m\u001b[0m\u001b[0;34m\u001b[0m\u001b[0m\n\u001b[1;32m      9\u001b[0m \u001b[0mmodeImp\u001b[0m\u001b[0;34m=\u001b[0m\u001b[0mModeImputer\u001b[0m\u001b[0;34m(\u001b[0m\u001b[0;34m[\u001b[0m\u001b[0;34m'HomePlanet'\u001b[0m\u001b[0;34m,\u001b[0m\u001b[0;34m'CryoSleep'\u001b[0m\u001b[0;34m,\u001b[0m\u001b[0;34m'side'\u001b[0m\u001b[0;34m,\u001b[0m\u001b[0;34m'Destination'\u001b[0m\u001b[0;34m,\u001b[0m\u001b[0;34m'VIP'\u001b[0m\u001b[0;34m]\u001b[0m\u001b[0;34m)\u001b[0m\u001b[0;34m\u001b[0m\u001b[0;34m\u001b[0m\u001b[0m\n\u001b[0;32m---> 10\u001b[0;31m \u001b[0mdf\u001b[0m\u001b[0;34m=\u001b[0m\u001b[0mmodeImp\u001b[0m\u001b[0;34m.\u001b[0m\u001b[0mfit_transform\u001b[0m\u001b[0;34m(\u001b[0m\u001b[0mdf\u001b[0m\u001b[0;34m)\u001b[0m\u001b[0;34m\u001b[0m\u001b[0;34m\u001b[0m\u001b[0m\n\u001b[0m\u001b[1;32m     11\u001b[0m \u001b[0mtype_change\u001b[0m\u001b[0;34m=\u001b[0m\u001b[0mTypeChange\u001b[0m\u001b[0;34m(\u001b[0m\u001b[0;34m{\u001b[0m\u001b[0;34m'Transported'\u001b[0m\u001b[0;34m:\u001b[0m\u001b[0mnp\u001b[0m\u001b[0;34m.\u001b[0m\u001b[0mint64\u001b[0m\u001b[0;34m}\u001b[0m\u001b[0;34m)\u001b[0m\u001b[0;34m\u001b[0m\u001b[0;34m\u001b[0m\u001b[0m\n\u001b[1;32m     12\u001b[0m \u001b[0mdf\u001b[0m\u001b[0;34m=\u001b[0m\u001b[0mtype_change\u001b[0m\u001b[0;34m.\u001b[0m\u001b[0mfit_transform\u001b[0m\u001b[0;34m(\u001b[0m\u001b[0mdf\u001b[0m\u001b[0;34m)\u001b[0m\u001b[0;34m\u001b[0m\u001b[0;34m\u001b[0m\u001b[0m\n",
            "\u001b[0;32m/usr/local/lib/python3.7/dist-packages/sklearn/base.py\u001b[0m in \u001b[0;36mfit_transform\u001b[0;34m(self, X, y, **fit_params)\u001b[0m\n\u001b[1;32m    850\u001b[0m         \u001b[0;32mif\u001b[0m \u001b[0my\u001b[0m \u001b[0;32mis\u001b[0m \u001b[0;32mNone\u001b[0m\u001b[0;34m:\u001b[0m\u001b[0;34m\u001b[0m\u001b[0;34m\u001b[0m\u001b[0m\n\u001b[1;32m    851\u001b[0m             \u001b[0;31m# fit method of arity 1 (unsupervised transformation)\u001b[0m\u001b[0;34m\u001b[0m\u001b[0;34m\u001b[0m\u001b[0;34m\u001b[0m\u001b[0m\n\u001b[0;32m--> 852\u001b[0;31m             \u001b[0;32mreturn\u001b[0m \u001b[0mself\u001b[0m\u001b[0;34m.\u001b[0m\u001b[0mfit\u001b[0m\u001b[0;34m(\u001b[0m\u001b[0mX\u001b[0m\u001b[0;34m,\u001b[0m \u001b[0;34m**\u001b[0m\u001b[0mfit_params\u001b[0m\u001b[0;34m)\u001b[0m\u001b[0;34m.\u001b[0m\u001b[0mtransform\u001b[0m\u001b[0;34m(\u001b[0m\u001b[0mX\u001b[0m\u001b[0;34m)\u001b[0m\u001b[0;34m\u001b[0m\u001b[0;34m\u001b[0m\u001b[0m\n\u001b[0m\u001b[1;32m    853\u001b[0m         \u001b[0;32melse\u001b[0m\u001b[0;34m:\u001b[0m\u001b[0;34m\u001b[0m\u001b[0;34m\u001b[0m\u001b[0m\n\u001b[1;32m    854\u001b[0m             \u001b[0;31m# fit method of arity 2 (supervised transformation)\u001b[0m\u001b[0;34m\u001b[0m\u001b[0;34m\u001b[0m\u001b[0;34m\u001b[0m\u001b[0m\n",
            "\u001b[0;32m<ipython-input-157-621405f46619>\u001b[0m in \u001b[0;36mtransform\u001b[0;34m(self, X, y)\u001b[0m\n\u001b[1;32m    143\u001b[0m     \u001b[0;32mfor\u001b[0m \u001b[0mi\u001b[0m \u001b[0;32min\u001b[0m \u001b[0mself\u001b[0m\u001b[0;34m.\u001b[0m\u001b[0mcols\u001b[0m\u001b[0;34m:\u001b[0m\u001b[0;34m\u001b[0m\u001b[0;34m\u001b[0m\u001b[0m\n\u001b[1;32m    144\u001b[0m       \u001b[0mcat_imputer\u001b[0m\u001b[0;34m=\u001b[0m\u001b[0mCategoricalImputer\u001b[0m\u001b[0;34m(\u001b[0m\u001b[0;34m)\u001b[0m\u001b[0;34m\u001b[0m\u001b[0;34m\u001b[0m\u001b[0m\n\u001b[0;32m--> 145\u001b[0;31m       \u001b[0mX\u001b[0m\u001b[0;34m[\u001b[0m\u001b[0mi\u001b[0m\u001b[0;34m]\u001b[0m\u001b[0;34m=\u001b[0m\u001b[0mcat_imputer\u001b[0m\u001b[0;34m.\u001b[0m\u001b[0mfit_transform\u001b[0m\u001b[0;34m(\u001b[0m\u001b[0mX\u001b[0m\u001b[0;34m[\u001b[0m\u001b[0mi\u001b[0m\u001b[0;34m]\u001b[0m\u001b[0;34m)\u001b[0m\u001b[0;34m\u001b[0m\u001b[0;34m\u001b[0m\u001b[0m\n\u001b[0m\u001b[1;32m    146\u001b[0m     \u001b[0;32mreturn\u001b[0m \u001b[0mX\u001b[0m\u001b[0;34m\u001b[0m\u001b[0;34m\u001b[0m\u001b[0m\n\u001b[1;32m    147\u001b[0m \u001b[0;34m\u001b[0m\u001b[0m\n",
            "\u001b[0;32m/usr/local/lib/python3.7/dist-packages/pandas/core/frame.py\u001b[0m in \u001b[0;36m__getitem__\u001b[0;34m(self, key)\u001b[0m\n\u001b[1;32m   3456\u001b[0m             \u001b[0;32mif\u001b[0m \u001b[0mself\u001b[0m\u001b[0;34m.\u001b[0m\u001b[0mcolumns\u001b[0m\u001b[0;34m.\u001b[0m\u001b[0mnlevels\u001b[0m \u001b[0;34m>\u001b[0m \u001b[0;36m1\u001b[0m\u001b[0;34m:\u001b[0m\u001b[0;34m\u001b[0m\u001b[0;34m\u001b[0m\u001b[0m\n\u001b[1;32m   3457\u001b[0m                 \u001b[0;32mreturn\u001b[0m \u001b[0mself\u001b[0m\u001b[0;34m.\u001b[0m\u001b[0m_getitem_multilevel\u001b[0m\u001b[0;34m(\u001b[0m\u001b[0mkey\u001b[0m\u001b[0;34m)\u001b[0m\u001b[0;34m\u001b[0m\u001b[0;34m\u001b[0m\u001b[0m\n\u001b[0;32m-> 3458\u001b[0;31m             \u001b[0mindexer\u001b[0m \u001b[0;34m=\u001b[0m \u001b[0mself\u001b[0m\u001b[0;34m.\u001b[0m\u001b[0mcolumns\u001b[0m\u001b[0;34m.\u001b[0m\u001b[0mget_loc\u001b[0m\u001b[0;34m(\u001b[0m\u001b[0mkey\u001b[0m\u001b[0;34m)\u001b[0m\u001b[0;34m\u001b[0m\u001b[0;34m\u001b[0m\u001b[0m\n\u001b[0m\u001b[1;32m   3459\u001b[0m             \u001b[0;32mif\u001b[0m \u001b[0mis_integer\u001b[0m\u001b[0;34m(\u001b[0m\u001b[0mindexer\u001b[0m\u001b[0;34m)\u001b[0m\u001b[0;34m:\u001b[0m\u001b[0;34m\u001b[0m\u001b[0;34m\u001b[0m\u001b[0m\n\u001b[1;32m   3460\u001b[0m                 \u001b[0mindexer\u001b[0m \u001b[0;34m=\u001b[0m \u001b[0;34m[\u001b[0m\u001b[0mindexer\u001b[0m\u001b[0;34m]\u001b[0m\u001b[0;34m\u001b[0m\u001b[0;34m\u001b[0m\u001b[0m\n",
            "\u001b[0;32m/usr/local/lib/python3.7/dist-packages/pandas/core/indexes/base.py\u001b[0m in \u001b[0;36mget_loc\u001b[0;34m(self, key, method, tolerance)\u001b[0m\n\u001b[1;32m   3361\u001b[0m                 \u001b[0;32mreturn\u001b[0m \u001b[0mself\u001b[0m\u001b[0;34m.\u001b[0m\u001b[0m_engine\u001b[0m\u001b[0;34m.\u001b[0m\u001b[0mget_loc\u001b[0m\u001b[0;34m(\u001b[0m\u001b[0mcasted_key\u001b[0m\u001b[0;34m)\u001b[0m\u001b[0;34m\u001b[0m\u001b[0;34m\u001b[0m\u001b[0m\n\u001b[1;32m   3362\u001b[0m             \u001b[0;32mexcept\u001b[0m \u001b[0mKeyError\u001b[0m \u001b[0;32mas\u001b[0m \u001b[0merr\u001b[0m\u001b[0;34m:\u001b[0m\u001b[0;34m\u001b[0m\u001b[0;34m\u001b[0m\u001b[0m\n\u001b[0;32m-> 3363\u001b[0;31m                 \u001b[0;32mraise\u001b[0m \u001b[0mKeyError\u001b[0m\u001b[0;34m(\u001b[0m\u001b[0mkey\u001b[0m\u001b[0;34m)\u001b[0m \u001b[0;32mfrom\u001b[0m \u001b[0merr\u001b[0m\u001b[0;34m\u001b[0m\u001b[0;34m\u001b[0m\u001b[0m\n\u001b[0m\u001b[1;32m   3364\u001b[0m \u001b[0;34m\u001b[0m\u001b[0m\n\u001b[1;32m   3365\u001b[0m         \u001b[0;32mif\u001b[0m \u001b[0mis_scalar\u001b[0m\u001b[0;34m(\u001b[0m\u001b[0mkey\u001b[0m\u001b[0;34m)\u001b[0m \u001b[0;32mand\u001b[0m \u001b[0misna\u001b[0m\u001b[0;34m(\u001b[0m\u001b[0mkey\u001b[0m\u001b[0;34m)\u001b[0m \u001b[0;32mand\u001b[0m \u001b[0;32mnot\u001b[0m \u001b[0mself\u001b[0m\u001b[0;34m.\u001b[0m\u001b[0mhasnans\u001b[0m\u001b[0;34m:\u001b[0m\u001b[0;34m\u001b[0m\u001b[0;34m\u001b[0m\u001b[0m\n",
            "\u001b[0;31mKeyError\u001b[0m: 'side'"
          ]
        }
      ],
      "source": [
        "int_imp=Int_Imputer(['Age','RoomService','FoodCourt','ShoppingMall','Spa','VRDeck'])\n",
        "df=int_imp.fit_transform(df)\n",
        "# val_imp=Value_Imputer({'Name':'Random Random'})\n",
        "# df=val_imp.fit_transform(df)\n",
        "attri_adder=AttriAdder()\n",
        "df=attri_adder.fit_transform(df)\n",
        "binner=Binner(['Age'],4)\n",
        "df=binner.fit_transform(df)\n",
        "modeImp=ModeImputer(['HomePlanet','CryoSleep','side','Destination','VIP'])\n",
        "df=modeImp.fit_transform(df)\n",
        "type_change=TypeChange({'Transported':np.int64})\n",
        "df=type_change.fit_transform(df)\n",
        "one_hot=OneHot(['HomePlanet','side','Destination','P_ID2'])\n",
        "df=one_hot.fit_transform(df)\n",
        "# drp_cls=Dropcols(['Name','Cabin','Destination','HomePlanet','side','PassengerId','RoomService','VRDeck','Spa'])\n",
        "# df=drp_cls.fit_transform(df)\n",
        "# bin=Binner(['Age'],4)\n",
        "# df=bin.fit_transform(df)\n",
        "# keep_cls=Keepcols(['TotalSpent','Earth','Europa','CryoSleep','Transported'])\n",
        "# non_cat_df=keep_cls.fit_transform(df)\n",
        "keep_cls=Keepcols(['RoomService','Spa','VRDeck','HomePlanet','Transported','CryoSleep','side','Destination','P_ID2','VIP','Age'])\n",
        "cat_df=keep_cls.fit_transform(df)\n",
        "scaler=Scaler(['RoomService','Spa','VRDeck','Age'])\n",
        "cat_df=scaler.fit_transform(cat_df)\n",
        "# xg_df=scaler.fit_transform(xg_df)"
      ]
    },
    {
      "cell_type": "code",
      "source": [
        "df['Destination'].mode().values[0]"
      ],
      "metadata": {
        "colab": {
          "base_uri": "https://localhost:8080/",
          "height": 35
        },
        "id": "vKJK_js2Ec9-",
        "outputId": "cb430a5b-1175-48ed-da93-c0e09f904838"
      },
      "execution_count": null,
      "outputs": [
        {
          "output_type": "execute_result",
          "data": {
            "text/plain": [
              "'TRAPPIST-1e'"
            ],
            "application/vnd.google.colaboratory.intrinsic+json": {
              "type": "string"
            }
          },
          "metadata": {},
          "execution_count": 22
        }
      ]
    },
    {
      "cell_type": "markdown",
      "source": [
        "# Non Cat Pipeline"
      ],
      "metadata": {
        "id": "cShzt2ZS3TPT"
      }
    },
    {
      "cell_type": "code",
      "source": [
        "from sklearn.pipeline import Pipeline\n"
      ],
      "metadata": {
        "id": "iFBqe6KwtEeY"
      },
      "execution_count": 28,
      "outputs": []
    },
    {
      "cell_type": "code",
      "source": [
        "\n",
        "non_Pipe=Pipeline([('val_imp',Value_Imputer({'Age':train['Age'].mean(),'RoomService':train['RoomService'].median(),\n",
        "                                            'FoodCourt':train['FoodCourt'].mean(),'ShoppingMall':train['ShoppingMall'].mean()\n",
        "                                            ,'Spa':train['Spa'].mean(),'VRDeck':train['VRDeck'].mean(),\n",
        "                                            'HomePlanet':train['HomePlanet'].mode().values[0],\n",
        "                                            'CryoSleep':train['CryoSleep'].mode().values[0],\n",
        "                                            'Destination':train['Destination'].mode().values[0],\n",
        "                                            'VIP':train['VIP'].mode().values[0]})),\n",
        "                    ('attri_adder',AttriAdder()),\n",
        "                    ('val_imp2',Value_Imputer({'side':train['side'].mode().values[0]})),\n",
        "                    ('binner',Binner(['Age'],4)),\n",
        "                    ('typ_change',TypeChange({'CryoSleep':np.int64,'VIP':np.int64})),\n",
        "                    ('one_hot',OneHot(['HomePlanet','side','Destination','P_ID2'])),\n",
        "                    ('keep_cls',Keepcols(['TotalSpent','Earth','Europa','CryoSleep','P','VIP','Age',\n",
        "                                          'TRAPPIST-1e','55 Cancri e','PSO J318.5-22',\n",
        "                                          '01','02','03','04','05','06','07','08'])),\n",
        "                    ('scaler',Scaler(['TotalSpent','CryoSleep','VIP','Age']))\n",
        "                    ],verbose=False)\n",
        "\n"
      ],
      "metadata": {
        "id": "W3bQaseU3Xuz"
      },
      "execution_count": null,
      "outputs": []
    },
    {
      "cell_type": "code",
      "source": [
        "train=non_Pipe.fit_transform(train)\n",
        "test=non_Pipe.fit_transform(test)"
      ],
      "metadata": {
        "colab": {
          "base_uri": "https://localhost:8080/"
        },
        "id": "5WSOgYD5wcSv",
        "outputId": "30b5a2af-4912-474c-e28a-819002bb371b"
      },
      "execution_count": null,
      "outputs": [
        {
          "output_type": "stream",
          "name": "stdout",
          "text": [
            "['Earth', 'Europa', 'Mars']\n",
            "['P', 'S']\n",
            "['55 Cancri e', 'PSO J318.5-22', 'TRAPPIST-1e']\n",
            "['01', '02', '03', '04', '05', '06', '07', '08']\n",
            "['Earth', 'Europa', 'Mars']\n",
            "['P', 'S']\n",
            "['55 Cancri e', 'PSO J318.5-22', 'TRAPPIST-1e']\n",
            "['01', '02', '03', '04', '05', '06', '07', '08']\n"
          ]
        },
        {
          "output_type": "stream",
          "name": "stderr",
          "text": [
            "/usr/local/lib/python3.7/dist-packages/pandas/core/frame.py:3678: SettingWithCopyWarning: \n",
            "A value is trying to be set on a copy of a slice from a DataFrame.\n",
            "Try using .loc[row_indexer,col_indexer] = value instead\n",
            "\n",
            "See the caveats in the documentation: https://pandas.pydata.org/pandas-docs/stable/user_guide/indexing.html#returning-a-view-versus-a-copy\n",
            "  self[col] = igetitem(value, i)\n",
            "/usr/local/lib/python3.7/dist-packages/pandas/core/frame.py:3678: SettingWithCopyWarning: \n",
            "A value is trying to be set on a copy of a slice from a DataFrame.\n",
            "Try using .loc[row_indexer,col_indexer] = value instead\n",
            "\n",
            "See the caveats in the documentation: https://pandas.pydata.org/pandas-docs/stable/user_guide/indexing.html#returning-a-view-versus-a-copy\n",
            "  self[col] = igetitem(value, i)\n"
          ]
        }
      ]
    },
    {
      "cell_type": "markdown",
      "source": [
        "# Cat Pipeline"
      ],
      "metadata": {
        "id": "IM1vg5QqrngZ"
      }
    },
    {
      "cell_type": "code",
      "source": [
        "cat_Pipe=Pipeline([('val_imp',Value_Imputer({'Age':train['Age'].median(),'RoomService':train['RoomService'].median(),\n",
        "                                            'FoodCourt':train['FoodCourt'].median(),'ShoppingMall':train['ShoppingMall'].median()\n",
        "                                            ,'Spa':train['Spa'].median(),'VRDeck':train['VRDeck'].median(),\n",
        "                                            'HomePlanet':train['HomePlanet'].mode().values[0],\n",
        "                                            'CryoSleep':train['CryoSleep'].mode().values[0],\n",
        "                                            'Destination':train['Destination'].mode().values[0],\n",
        "                                            'VIP':train['VIP'].mode().values[0],'Name':'Random Random'})),\n",
        "                    ('attri_adder',AttriAdder()),\n",
        "                    ('val_imp2',Value_Imputer({'side':train['side'].mode().values[0],'deck':train['deck'].mode().values[0],\n",
        "                                               'num':train['num'].median()})),\n",
        "                    ('binner',Binner(['Age'],4)),\n",
        "                    ('keep_cls',Keepcols(['EscapeSpent','DeathSpent','HomePlanet','CryoSleep','side','VIP','Age',\n",
        "                                          'Destination',\n",
        "                                          'P_ID2','Name','P_ID1','deck','num','inSurvivorsGroup'])),\n",
        "                    ('scaler',Scaler(['EscapeSpent','Age','num','DeathSpent','inSurvivorsGroup']))\n",
        "                    ],verbose=False)\n"
      ],
      "metadata": {
        "id": "iffiov0VtAwP"
      },
      "execution_count": 193,
      "outputs": []
    },
    {
      "cell_type": "code",
      "source": [
        "cat_train=cat_Pipe.fit_transform(train)\n",
        "cat_test=cat_Pipe.fit_transform(test)\n",
        "cat_train['lastName']=cat_train['Name'].str.split(' ').apply(lambda x:x[1])\n",
        "cat_train.drop(columns=['Name'],inplace=True)\n",
        "cat_test['lastName']=cat_test['Name'].str.split(' ').apply(lambda x:x[1])\n",
        "cat_test.drop(columns=['Name'],inplace=True)\n",
        "\n"
      ],
      "metadata": {
        "colab": {
          "base_uri": "https://localhost:8080/"
        },
        "id": "RdHIGq9XEIE1",
        "outputId": "b51a209b-6845-4bac-9bac-84170dda6150"
      },
      "execution_count": 194,
      "outputs": [
        {
          "output_type": "stream",
          "name": "stderr",
          "text": [
            "/usr/local/lib/python3.7/dist-packages/pandas/core/frame.py:3678: SettingWithCopyWarning: \n",
            "A value is trying to be set on a copy of a slice from a DataFrame.\n",
            "Try using .loc[row_indexer,col_indexer] = value instead\n",
            "\n",
            "See the caveats in the documentation: https://pandas.pydata.org/pandas-docs/stable/user_guide/indexing.html#returning-a-view-versus-a-copy\n",
            "  self[col] = igetitem(value, i)\n",
            "/usr/local/lib/python3.7/dist-packages/pandas/core/frame.py:3678: SettingWithCopyWarning: \n",
            "A value is trying to be set on a copy of a slice from a DataFrame.\n",
            "Try using .loc[row_indexer,col_indexer] = value instead\n",
            "\n",
            "See the caveats in the documentation: https://pandas.pydata.org/pandas-docs/stable/user_guide/indexing.html#returning-a-view-versus-a-copy\n",
            "  self[col] = igetitem(value, i)\n",
            "/usr/local/lib/python3.7/dist-packages/ipykernel_launcher.py:3: SettingWithCopyWarning: \n",
            "A value is trying to be set on a copy of a slice from a DataFrame.\n",
            "Try using .loc[row_indexer,col_indexer] = value instead\n",
            "\n",
            "See the caveats in the documentation: https://pandas.pydata.org/pandas-docs/stable/user_guide/indexing.html#returning-a-view-versus-a-copy\n",
            "  This is separate from the ipykernel package so we can avoid doing imports until\n",
            "/usr/local/lib/python3.7/dist-packages/pandas/core/frame.py:4913: SettingWithCopyWarning: \n",
            "A value is trying to be set on a copy of a slice from a DataFrame\n",
            "\n",
            "See the caveats in the documentation: https://pandas.pydata.org/pandas-docs/stable/user_guide/indexing.html#returning-a-view-versus-a-copy\n",
            "  errors=errors,\n",
            "/usr/local/lib/python3.7/dist-packages/ipykernel_launcher.py:5: SettingWithCopyWarning: \n",
            "A value is trying to be set on a copy of a slice from a DataFrame.\n",
            "Try using .loc[row_indexer,col_indexer] = value instead\n",
            "\n",
            "See the caveats in the documentation: https://pandas.pydata.org/pandas-docs/stable/user_guide/indexing.html#returning-a-view-versus-a-copy\n",
            "  \"\"\"\n"
          ]
        }
      ]
    },
    {
      "cell_type": "code",
      "source": [],
      "metadata": {
        "id": "5fYA3HdSBufO"
      },
      "execution_count": null,
      "outputs": []
    },
    {
      "cell_type": "code",
      "source": [
        "cat_train"
      ],
      "metadata": {
        "colab": {
          "base_uri": "https://localhost:8080/",
          "height": 540
        },
        "id": "UqN0y4-0KnKK",
        "outputId": "558d6b8b-c4c2-4124-9c90-0e12c9443e2a"
      },
      "execution_count": 195,
      "outputs": [
        {
          "output_type": "execute_result",
          "data": {
            "text/plain": [
              "      EscapeSpent  DeathSpent HomePlanet  CryoSleep side    VIP       Age  \\\n",
              "118     -0.448927   -0.363509       Mars       True    S  False  1.371739   \n",
              "3902     0.284643    0.236204       Mars      False    P  False  1.371739   \n",
              "2292    -0.417294   -0.356460      Earth      False    S  False  1.371739   \n",
              "3776    -0.448927   -0.363509      Earth      False    P  False -1.259941   \n",
              "808     -0.448927   -0.363509      Earth       True    S  False  0.494512   \n",
              "...           ...         ...        ...        ...  ...    ...       ...   \n",
              "2023    -0.448927   -0.363509       Mars       True    S  False -0.382714   \n",
              "7571     0.902042    2.450030     Europa      False    S  False  0.494512   \n",
              "4628    -0.448927    1.796279     Europa      False    P  False  1.371739   \n",
              "1330    -0.225856   -0.231349      Earth      False    P  False -1.259941   \n",
              "74      -0.448927   -0.363509      Earth       True    S  False -1.259941   \n",
              "\n",
              "        Destination P_ID2 P_ID1 deck       num  inSurvivorsGroup    lastName  \n",
              "118     TRAPPIST-1e    01  0126    F -1.124563         -1.313691        Mish  \n",
              "3902    TRAPPIST-1e    04  4176    F  0.518904          0.761214         Fla  \n",
              "2292    TRAPPIST-1e    01  2463    E -0.840116          0.761214  Johnshines  \n",
              "3776  PSO J318.5-22    01  4032    G  0.127791         -1.313691  Waltonnedy  \n",
              "808     TRAPPIST-1e    01  0859    G -0.927031         -1.313691     Lambles  \n",
              "...             ...   ...   ...  ...       ...               ...         ...  \n",
              "2023  PSO J318.5-22    01  2162    F -0.338385         -1.313691       Graie  \n",
              "7571    TRAPPIST-1e    01  8092    D -0.707770          0.761214     Pulgaly  \n",
              "4628    TRAPPIST-1e    02  4930    B -0.859870         -1.313691     Alenter  \n",
              "1330  PSO J318.5-22    02  1407    F -0.628757          0.761214      Foxter  \n",
              "74      TRAPPIST-1e    01  0081    G -1.152217          0.761214   Vinozarks  \n",
              "\n",
              "[7823 rows x 14 columns]"
            ],
            "text/html": [
              "\n",
              "  <div id=\"df-c7da5790-4d24-4a53-b112-963ffc3f8a19\">\n",
              "    <div class=\"colab-df-container\">\n",
              "      <div>\n",
              "<style scoped>\n",
              "    .dataframe tbody tr th:only-of-type {\n",
              "        vertical-align: middle;\n",
              "    }\n",
              "\n",
              "    .dataframe tbody tr th {\n",
              "        vertical-align: top;\n",
              "    }\n",
              "\n",
              "    .dataframe thead th {\n",
              "        text-align: right;\n",
              "    }\n",
              "</style>\n",
              "<table border=\"1\" class=\"dataframe\">\n",
              "  <thead>\n",
              "    <tr style=\"text-align: right;\">\n",
              "      <th></th>\n",
              "      <th>EscapeSpent</th>\n",
              "      <th>DeathSpent</th>\n",
              "      <th>HomePlanet</th>\n",
              "      <th>CryoSleep</th>\n",
              "      <th>side</th>\n",
              "      <th>VIP</th>\n",
              "      <th>Age</th>\n",
              "      <th>Destination</th>\n",
              "      <th>P_ID2</th>\n",
              "      <th>P_ID1</th>\n",
              "      <th>deck</th>\n",
              "      <th>num</th>\n",
              "      <th>inSurvivorsGroup</th>\n",
              "      <th>lastName</th>\n",
              "    </tr>\n",
              "  </thead>\n",
              "  <tbody>\n",
              "    <tr>\n",
              "      <th>118</th>\n",
              "      <td>-0.448927</td>\n",
              "      <td>-0.363509</td>\n",
              "      <td>Mars</td>\n",
              "      <td>True</td>\n",
              "      <td>S</td>\n",
              "      <td>False</td>\n",
              "      <td>1.371739</td>\n",
              "      <td>TRAPPIST-1e</td>\n",
              "      <td>01</td>\n",
              "      <td>0126</td>\n",
              "      <td>F</td>\n",
              "      <td>-1.124563</td>\n",
              "      <td>-1.313691</td>\n",
              "      <td>Mish</td>\n",
              "    </tr>\n",
              "    <tr>\n",
              "      <th>3902</th>\n",
              "      <td>0.284643</td>\n",
              "      <td>0.236204</td>\n",
              "      <td>Mars</td>\n",
              "      <td>False</td>\n",
              "      <td>P</td>\n",
              "      <td>False</td>\n",
              "      <td>1.371739</td>\n",
              "      <td>TRAPPIST-1e</td>\n",
              "      <td>04</td>\n",
              "      <td>4176</td>\n",
              "      <td>F</td>\n",
              "      <td>0.518904</td>\n",
              "      <td>0.761214</td>\n",
              "      <td>Fla</td>\n",
              "    </tr>\n",
              "    <tr>\n",
              "      <th>2292</th>\n",
              "      <td>-0.417294</td>\n",
              "      <td>-0.356460</td>\n",
              "      <td>Earth</td>\n",
              "      <td>False</td>\n",
              "      <td>S</td>\n",
              "      <td>False</td>\n",
              "      <td>1.371739</td>\n",
              "      <td>TRAPPIST-1e</td>\n",
              "      <td>01</td>\n",
              "      <td>2463</td>\n",
              "      <td>E</td>\n",
              "      <td>-0.840116</td>\n",
              "      <td>0.761214</td>\n",
              "      <td>Johnshines</td>\n",
              "    </tr>\n",
              "    <tr>\n",
              "      <th>3776</th>\n",
              "      <td>-0.448927</td>\n",
              "      <td>-0.363509</td>\n",
              "      <td>Earth</td>\n",
              "      <td>False</td>\n",
              "      <td>P</td>\n",
              "      <td>False</td>\n",
              "      <td>-1.259941</td>\n",
              "      <td>PSO J318.5-22</td>\n",
              "      <td>01</td>\n",
              "      <td>4032</td>\n",
              "      <td>G</td>\n",
              "      <td>0.127791</td>\n",
              "      <td>-1.313691</td>\n",
              "      <td>Waltonnedy</td>\n",
              "    </tr>\n",
              "    <tr>\n",
              "      <th>808</th>\n",
              "      <td>-0.448927</td>\n",
              "      <td>-0.363509</td>\n",
              "      <td>Earth</td>\n",
              "      <td>True</td>\n",
              "      <td>S</td>\n",
              "      <td>False</td>\n",
              "      <td>0.494512</td>\n",
              "      <td>TRAPPIST-1e</td>\n",
              "      <td>01</td>\n",
              "      <td>0859</td>\n",
              "      <td>G</td>\n",
              "      <td>-0.927031</td>\n",
              "      <td>-1.313691</td>\n",
              "      <td>Lambles</td>\n",
              "    </tr>\n",
              "    <tr>\n",
              "      <th>...</th>\n",
              "      <td>...</td>\n",
              "      <td>...</td>\n",
              "      <td>...</td>\n",
              "      <td>...</td>\n",
              "      <td>...</td>\n",
              "      <td>...</td>\n",
              "      <td>...</td>\n",
              "      <td>...</td>\n",
              "      <td>...</td>\n",
              "      <td>...</td>\n",
              "      <td>...</td>\n",
              "      <td>...</td>\n",
              "      <td>...</td>\n",
              "      <td>...</td>\n",
              "    </tr>\n",
              "    <tr>\n",
              "      <th>2023</th>\n",
              "      <td>-0.448927</td>\n",
              "      <td>-0.363509</td>\n",
              "      <td>Mars</td>\n",
              "      <td>True</td>\n",
              "      <td>S</td>\n",
              "      <td>False</td>\n",
              "      <td>-0.382714</td>\n",
              "      <td>PSO J318.5-22</td>\n",
              "      <td>01</td>\n",
              "      <td>2162</td>\n",
              "      <td>F</td>\n",
              "      <td>-0.338385</td>\n",
              "      <td>-1.313691</td>\n",
              "      <td>Graie</td>\n",
              "    </tr>\n",
              "    <tr>\n",
              "      <th>7571</th>\n",
              "      <td>0.902042</td>\n",
              "      <td>2.450030</td>\n",
              "      <td>Europa</td>\n",
              "      <td>False</td>\n",
              "      <td>S</td>\n",
              "      <td>False</td>\n",
              "      <td>0.494512</td>\n",
              "      <td>TRAPPIST-1e</td>\n",
              "      <td>01</td>\n",
              "      <td>8092</td>\n",
              "      <td>D</td>\n",
              "      <td>-0.707770</td>\n",
              "      <td>0.761214</td>\n",
              "      <td>Pulgaly</td>\n",
              "    </tr>\n",
              "    <tr>\n",
              "      <th>4628</th>\n",
              "      <td>-0.448927</td>\n",
              "      <td>1.796279</td>\n",
              "      <td>Europa</td>\n",
              "      <td>False</td>\n",
              "      <td>P</td>\n",
              "      <td>False</td>\n",
              "      <td>1.371739</td>\n",
              "      <td>TRAPPIST-1e</td>\n",
              "      <td>02</td>\n",
              "      <td>4930</td>\n",
              "      <td>B</td>\n",
              "      <td>-0.859870</td>\n",
              "      <td>-1.313691</td>\n",
              "      <td>Alenter</td>\n",
              "    </tr>\n",
              "    <tr>\n",
              "      <th>1330</th>\n",
              "      <td>-0.225856</td>\n",
              "      <td>-0.231349</td>\n",
              "      <td>Earth</td>\n",
              "      <td>False</td>\n",
              "      <td>P</td>\n",
              "      <td>False</td>\n",
              "      <td>-1.259941</td>\n",
              "      <td>PSO J318.5-22</td>\n",
              "      <td>02</td>\n",
              "      <td>1407</td>\n",
              "      <td>F</td>\n",
              "      <td>-0.628757</td>\n",
              "      <td>0.761214</td>\n",
              "      <td>Foxter</td>\n",
              "    </tr>\n",
              "    <tr>\n",
              "      <th>74</th>\n",
              "      <td>-0.448927</td>\n",
              "      <td>-0.363509</td>\n",
              "      <td>Earth</td>\n",
              "      <td>True</td>\n",
              "      <td>S</td>\n",
              "      <td>False</td>\n",
              "      <td>-1.259941</td>\n",
              "      <td>TRAPPIST-1e</td>\n",
              "      <td>01</td>\n",
              "      <td>0081</td>\n",
              "      <td>G</td>\n",
              "      <td>-1.152217</td>\n",
              "      <td>0.761214</td>\n",
              "      <td>Vinozarks</td>\n",
              "    </tr>\n",
              "  </tbody>\n",
              "</table>\n",
              "<p>7823 rows × 14 columns</p>\n",
              "</div>\n",
              "      <button class=\"colab-df-convert\" onclick=\"convertToInteractive('df-c7da5790-4d24-4a53-b112-963ffc3f8a19')\"\n",
              "              title=\"Convert this dataframe to an interactive table.\"\n",
              "              style=\"display:none;\">\n",
              "        \n",
              "  <svg xmlns=\"http://www.w3.org/2000/svg\" height=\"24px\"viewBox=\"0 0 24 24\"\n",
              "       width=\"24px\">\n",
              "    <path d=\"M0 0h24v24H0V0z\" fill=\"none\"/>\n",
              "    <path d=\"M18.56 5.44l.94 2.06.94-2.06 2.06-.94-2.06-.94-.94-2.06-.94 2.06-2.06.94zm-11 1L8.5 8.5l.94-2.06 2.06-.94-2.06-.94L8.5 2.5l-.94 2.06-2.06.94zm10 10l.94 2.06.94-2.06 2.06-.94-2.06-.94-.94-2.06-.94 2.06-2.06.94z\"/><path d=\"M17.41 7.96l-1.37-1.37c-.4-.4-.92-.59-1.43-.59-.52 0-1.04.2-1.43.59L10.3 9.45l-7.72 7.72c-.78.78-.78 2.05 0 2.83L4 21.41c.39.39.9.59 1.41.59.51 0 1.02-.2 1.41-.59l7.78-7.78 2.81-2.81c.8-.78.8-2.07 0-2.86zM5.41 20L4 18.59l7.72-7.72 1.47 1.35L5.41 20z\"/>\n",
              "  </svg>\n",
              "      </button>\n",
              "      \n",
              "  <style>\n",
              "    .colab-df-container {\n",
              "      display:flex;\n",
              "      flex-wrap:wrap;\n",
              "      gap: 12px;\n",
              "    }\n",
              "\n",
              "    .colab-df-convert {\n",
              "      background-color: #E8F0FE;\n",
              "      border: none;\n",
              "      border-radius: 50%;\n",
              "      cursor: pointer;\n",
              "      display: none;\n",
              "      fill: #1967D2;\n",
              "      height: 32px;\n",
              "      padding: 0 0 0 0;\n",
              "      width: 32px;\n",
              "    }\n",
              "\n",
              "    .colab-df-convert:hover {\n",
              "      background-color: #E2EBFA;\n",
              "      box-shadow: 0px 1px 2px rgba(60, 64, 67, 0.3), 0px 1px 3px 1px rgba(60, 64, 67, 0.15);\n",
              "      fill: #174EA6;\n",
              "    }\n",
              "\n",
              "    [theme=dark] .colab-df-convert {\n",
              "      background-color: #3B4455;\n",
              "      fill: #D2E3FC;\n",
              "    }\n",
              "\n",
              "    [theme=dark] .colab-df-convert:hover {\n",
              "      background-color: #434B5C;\n",
              "      box-shadow: 0px 1px 3px 1px rgba(0, 0, 0, 0.15);\n",
              "      filter: drop-shadow(0px 1px 2px rgba(0, 0, 0, 0.3));\n",
              "      fill: #FFFFFF;\n",
              "    }\n",
              "  </style>\n",
              "\n",
              "      <script>\n",
              "        const buttonEl =\n",
              "          document.querySelector('#df-c7da5790-4d24-4a53-b112-963ffc3f8a19 button.colab-df-convert');\n",
              "        buttonEl.style.display =\n",
              "          google.colab.kernel.accessAllowed ? 'block' : 'none';\n",
              "\n",
              "        async function convertToInteractive(key) {\n",
              "          const element = document.querySelector('#df-c7da5790-4d24-4a53-b112-963ffc3f8a19');\n",
              "          const dataTable =\n",
              "            await google.colab.kernel.invokeFunction('convertToInteractive',\n",
              "                                                     [key], {});\n",
              "          if (!dataTable) return;\n",
              "\n",
              "          const docLinkHtml = 'Like what you see? Visit the ' +\n",
              "            '<a target=\"_blank\" href=https://colab.research.google.com/notebooks/data_table.ipynb>data table notebook</a>'\n",
              "            + ' to learn more about interactive tables.';\n",
              "          element.innerHTML = '';\n",
              "          dataTable['output_type'] = 'display_data';\n",
              "          await google.colab.output.renderOutput(dataTable, element);\n",
              "          const docLink = document.createElement('div');\n",
              "          docLink.innerHTML = docLinkHtml;\n",
              "          element.appendChild(docLink);\n",
              "        }\n",
              "      </script>\n",
              "    </div>\n",
              "  </div>\n",
              "  "
            ]
          },
          "metadata": {},
          "execution_count": 195
        }
      ]
    },
    {
      "cell_type": "code",
      "source": [
        "cat_test"
      ],
      "metadata": {
        "colab": {
          "base_uri": "https://localhost:8080/",
          "height": 488
        },
        "id": "HBAmWWzNaOFn",
        "outputId": "ffdc3d8c-86a3-44bb-c64a-5b9efb5be41e"
      },
      "execution_count": 196,
      "outputs": [
        {
          "output_type": "execute_result",
          "data": {
            "text/plain": [
              "      EscapeSpent  DeathSpent HomePlanet  CryoSleep side    VIP       Age  \\\n",
              "4640     0.093757    0.133960       Mars      False    P  False  0.468305   \n",
              "1443    -0.155908    0.424760       Mars      False    P  False -0.427135   \n",
              "606      0.068292   -0.341563      Earth      False    S  False  0.468305   \n",
              "6651    -0.454287   -0.372045      Earth       True    S  False  0.468305   \n",
              "6944     0.229937   -0.340344       Mars      False    P  False  1.363746   \n",
              "...           ...         ...        ...        ...  ...    ...       ...   \n",
              "5243    -0.338035   -0.067223      Earth      False    S  False -1.322576   \n",
              "7258    -0.016406   -0.372045      Earth      False    P  False -0.427135   \n",
              "5863    -0.454287   -0.372045       Mars      False    P  False -1.322576   \n",
              "3276    -0.454287   -0.372045      Earth       True    P  False -1.322576   \n",
              "1484    -0.090585   -0.145257       Mars      False    P  False  0.468305   \n",
              "\n",
              "      Destination P_ID2 P_ID1 deck       num  inSurvivorsGroup    lastName  \n",
              "4640  TRAPPIST-1e    01  4941    F  0.805336         -0.581774       Buche  \n",
              "1443  TRAPPIST-1e    01  1525    F -0.585477         -0.581774         Gin  \n",
              "606   TRAPPIST-1e    02  0635    E -1.087661         -0.581774      Powery  \n",
              "6651  TRAPPIST-1e    01  7013    G  1.072121         -0.581774       Lardy  \n",
              "6944  TRAPPIST-1e    02  7367    F  1.815588          1.718879       Letty  \n",
              "...           ...   ...   ...  ...       ...               ...         ...  \n",
              "5243  TRAPPIST-1e    01  5598    G  0.599362         -0.581774       Thony  \n",
              "7258  TRAPPIST-1e    01  7761    F  1.990176         -0.581774  Watsongley  \n",
              "5863  TRAPPIST-1e    03  6207    E -0.393235          1.718879       Brity  \n",
              "3276  TRAPPIST-1e    03  3519    G -0.040137         -0.581774    Swanardy  \n",
              "1484  TRAPPIST-1e    01  1576    E -0.981732         -0.581774       Hapie  \n",
              "\n",
              "[870 rows x 14 columns]"
            ],
            "text/html": [
              "\n",
              "  <div id=\"df-134532a0-a649-48c0-bcf2-db863ada7312\">\n",
              "    <div class=\"colab-df-container\">\n",
              "      <div>\n",
              "<style scoped>\n",
              "    .dataframe tbody tr th:only-of-type {\n",
              "        vertical-align: middle;\n",
              "    }\n",
              "\n",
              "    .dataframe tbody tr th {\n",
              "        vertical-align: top;\n",
              "    }\n",
              "\n",
              "    .dataframe thead th {\n",
              "        text-align: right;\n",
              "    }\n",
              "</style>\n",
              "<table border=\"1\" class=\"dataframe\">\n",
              "  <thead>\n",
              "    <tr style=\"text-align: right;\">\n",
              "      <th></th>\n",
              "      <th>EscapeSpent</th>\n",
              "      <th>DeathSpent</th>\n",
              "      <th>HomePlanet</th>\n",
              "      <th>CryoSleep</th>\n",
              "      <th>side</th>\n",
              "      <th>VIP</th>\n",
              "      <th>Age</th>\n",
              "      <th>Destination</th>\n",
              "      <th>P_ID2</th>\n",
              "      <th>P_ID1</th>\n",
              "      <th>deck</th>\n",
              "      <th>num</th>\n",
              "      <th>inSurvivorsGroup</th>\n",
              "      <th>lastName</th>\n",
              "    </tr>\n",
              "  </thead>\n",
              "  <tbody>\n",
              "    <tr>\n",
              "      <th>4640</th>\n",
              "      <td>0.093757</td>\n",
              "      <td>0.133960</td>\n",
              "      <td>Mars</td>\n",
              "      <td>False</td>\n",
              "      <td>P</td>\n",
              "      <td>False</td>\n",
              "      <td>0.468305</td>\n",
              "      <td>TRAPPIST-1e</td>\n",
              "      <td>01</td>\n",
              "      <td>4941</td>\n",
              "      <td>F</td>\n",
              "      <td>0.805336</td>\n",
              "      <td>-0.581774</td>\n",
              "      <td>Buche</td>\n",
              "    </tr>\n",
              "    <tr>\n",
              "      <th>1443</th>\n",
              "      <td>-0.155908</td>\n",
              "      <td>0.424760</td>\n",
              "      <td>Mars</td>\n",
              "      <td>False</td>\n",
              "      <td>P</td>\n",
              "      <td>False</td>\n",
              "      <td>-0.427135</td>\n",
              "      <td>TRAPPIST-1e</td>\n",
              "      <td>01</td>\n",
              "      <td>1525</td>\n",
              "      <td>F</td>\n",
              "      <td>-0.585477</td>\n",
              "      <td>-0.581774</td>\n",
              "      <td>Gin</td>\n",
              "    </tr>\n",
              "    <tr>\n",
              "      <th>606</th>\n",
              "      <td>0.068292</td>\n",
              "      <td>-0.341563</td>\n",
              "      <td>Earth</td>\n",
              "      <td>False</td>\n",
              "      <td>S</td>\n",
              "      <td>False</td>\n",
              "      <td>0.468305</td>\n",
              "      <td>TRAPPIST-1e</td>\n",
              "      <td>02</td>\n",
              "      <td>0635</td>\n",
              "      <td>E</td>\n",
              "      <td>-1.087661</td>\n",
              "      <td>-0.581774</td>\n",
              "      <td>Powery</td>\n",
              "    </tr>\n",
              "    <tr>\n",
              "      <th>6651</th>\n",
              "      <td>-0.454287</td>\n",
              "      <td>-0.372045</td>\n",
              "      <td>Earth</td>\n",
              "      <td>True</td>\n",
              "      <td>S</td>\n",
              "      <td>False</td>\n",
              "      <td>0.468305</td>\n",
              "      <td>TRAPPIST-1e</td>\n",
              "      <td>01</td>\n",
              "      <td>7013</td>\n",
              "      <td>G</td>\n",
              "      <td>1.072121</td>\n",
              "      <td>-0.581774</td>\n",
              "      <td>Lardy</td>\n",
              "    </tr>\n",
              "    <tr>\n",
              "      <th>6944</th>\n",
              "      <td>0.229937</td>\n",
              "      <td>-0.340344</td>\n",
              "      <td>Mars</td>\n",
              "      <td>False</td>\n",
              "      <td>P</td>\n",
              "      <td>False</td>\n",
              "      <td>1.363746</td>\n",
              "      <td>TRAPPIST-1e</td>\n",
              "      <td>02</td>\n",
              "      <td>7367</td>\n",
              "      <td>F</td>\n",
              "      <td>1.815588</td>\n",
              "      <td>1.718879</td>\n",
              "      <td>Letty</td>\n",
              "    </tr>\n",
              "    <tr>\n",
              "      <th>...</th>\n",
              "      <td>...</td>\n",
              "      <td>...</td>\n",
              "      <td>...</td>\n",
              "      <td>...</td>\n",
              "      <td>...</td>\n",
              "      <td>...</td>\n",
              "      <td>...</td>\n",
              "      <td>...</td>\n",
              "      <td>...</td>\n",
              "      <td>...</td>\n",
              "      <td>...</td>\n",
              "      <td>...</td>\n",
              "      <td>...</td>\n",
              "      <td>...</td>\n",
              "    </tr>\n",
              "    <tr>\n",
              "      <th>5243</th>\n",
              "      <td>-0.338035</td>\n",
              "      <td>-0.067223</td>\n",
              "      <td>Earth</td>\n",
              "      <td>False</td>\n",
              "      <td>S</td>\n",
              "      <td>False</td>\n",
              "      <td>-1.322576</td>\n",
              "      <td>TRAPPIST-1e</td>\n",
              "      <td>01</td>\n",
              "      <td>5598</td>\n",
              "      <td>G</td>\n",
              "      <td>0.599362</td>\n",
              "      <td>-0.581774</td>\n",
              "      <td>Thony</td>\n",
              "    </tr>\n",
              "    <tr>\n",
              "      <th>7258</th>\n",
              "      <td>-0.016406</td>\n",
              "      <td>-0.372045</td>\n",
              "      <td>Earth</td>\n",
              "      <td>False</td>\n",
              "      <td>P</td>\n",
              "      <td>False</td>\n",
              "      <td>-0.427135</td>\n",
              "      <td>TRAPPIST-1e</td>\n",
              "      <td>01</td>\n",
              "      <td>7761</td>\n",
              "      <td>F</td>\n",
              "      <td>1.990176</td>\n",
              "      <td>-0.581774</td>\n",
              "      <td>Watsongley</td>\n",
              "    </tr>\n",
              "    <tr>\n",
              "      <th>5863</th>\n",
              "      <td>-0.454287</td>\n",
              "      <td>-0.372045</td>\n",
              "      <td>Mars</td>\n",
              "      <td>False</td>\n",
              "      <td>P</td>\n",
              "      <td>False</td>\n",
              "      <td>-1.322576</td>\n",
              "      <td>TRAPPIST-1e</td>\n",
              "      <td>03</td>\n",
              "      <td>6207</td>\n",
              "      <td>E</td>\n",
              "      <td>-0.393235</td>\n",
              "      <td>1.718879</td>\n",
              "      <td>Brity</td>\n",
              "    </tr>\n",
              "    <tr>\n",
              "      <th>3276</th>\n",
              "      <td>-0.454287</td>\n",
              "      <td>-0.372045</td>\n",
              "      <td>Earth</td>\n",
              "      <td>True</td>\n",
              "      <td>P</td>\n",
              "      <td>False</td>\n",
              "      <td>-1.322576</td>\n",
              "      <td>TRAPPIST-1e</td>\n",
              "      <td>03</td>\n",
              "      <td>3519</td>\n",
              "      <td>G</td>\n",
              "      <td>-0.040137</td>\n",
              "      <td>-0.581774</td>\n",
              "      <td>Swanardy</td>\n",
              "    </tr>\n",
              "    <tr>\n",
              "      <th>1484</th>\n",
              "      <td>-0.090585</td>\n",
              "      <td>-0.145257</td>\n",
              "      <td>Mars</td>\n",
              "      <td>False</td>\n",
              "      <td>P</td>\n",
              "      <td>False</td>\n",
              "      <td>0.468305</td>\n",
              "      <td>TRAPPIST-1e</td>\n",
              "      <td>01</td>\n",
              "      <td>1576</td>\n",
              "      <td>E</td>\n",
              "      <td>-0.981732</td>\n",
              "      <td>-0.581774</td>\n",
              "      <td>Hapie</td>\n",
              "    </tr>\n",
              "  </tbody>\n",
              "</table>\n",
              "<p>870 rows × 14 columns</p>\n",
              "</div>\n",
              "      <button class=\"colab-df-convert\" onclick=\"convertToInteractive('df-134532a0-a649-48c0-bcf2-db863ada7312')\"\n",
              "              title=\"Convert this dataframe to an interactive table.\"\n",
              "              style=\"display:none;\">\n",
              "        \n",
              "  <svg xmlns=\"http://www.w3.org/2000/svg\" height=\"24px\"viewBox=\"0 0 24 24\"\n",
              "       width=\"24px\">\n",
              "    <path d=\"M0 0h24v24H0V0z\" fill=\"none\"/>\n",
              "    <path d=\"M18.56 5.44l.94 2.06.94-2.06 2.06-.94-2.06-.94-.94-2.06-.94 2.06-2.06.94zm-11 1L8.5 8.5l.94-2.06 2.06-.94-2.06-.94L8.5 2.5l-.94 2.06-2.06.94zm10 10l.94 2.06.94-2.06 2.06-.94-2.06-.94-.94-2.06-.94 2.06-2.06.94z\"/><path d=\"M17.41 7.96l-1.37-1.37c-.4-.4-.92-.59-1.43-.59-.52 0-1.04.2-1.43.59L10.3 9.45l-7.72 7.72c-.78.78-.78 2.05 0 2.83L4 21.41c.39.39.9.59 1.41.59.51 0 1.02-.2 1.41-.59l7.78-7.78 2.81-2.81c.8-.78.8-2.07 0-2.86zM5.41 20L4 18.59l7.72-7.72 1.47 1.35L5.41 20z\"/>\n",
              "  </svg>\n",
              "      </button>\n",
              "      \n",
              "  <style>\n",
              "    .colab-df-container {\n",
              "      display:flex;\n",
              "      flex-wrap:wrap;\n",
              "      gap: 12px;\n",
              "    }\n",
              "\n",
              "    .colab-df-convert {\n",
              "      background-color: #E8F0FE;\n",
              "      border: none;\n",
              "      border-radius: 50%;\n",
              "      cursor: pointer;\n",
              "      display: none;\n",
              "      fill: #1967D2;\n",
              "      height: 32px;\n",
              "      padding: 0 0 0 0;\n",
              "      width: 32px;\n",
              "    }\n",
              "\n",
              "    .colab-df-convert:hover {\n",
              "      background-color: #E2EBFA;\n",
              "      box-shadow: 0px 1px 2px rgba(60, 64, 67, 0.3), 0px 1px 3px 1px rgba(60, 64, 67, 0.15);\n",
              "      fill: #174EA6;\n",
              "    }\n",
              "\n",
              "    [theme=dark] .colab-df-convert {\n",
              "      background-color: #3B4455;\n",
              "      fill: #D2E3FC;\n",
              "    }\n",
              "\n",
              "    [theme=dark] .colab-df-convert:hover {\n",
              "      background-color: #434B5C;\n",
              "      box-shadow: 0px 1px 3px 1px rgba(0, 0, 0, 0.15);\n",
              "      filter: drop-shadow(0px 1px 2px rgba(0, 0, 0, 0.3));\n",
              "      fill: #FFFFFF;\n",
              "    }\n",
              "  </style>\n",
              "\n",
              "      <script>\n",
              "        const buttonEl =\n",
              "          document.querySelector('#df-134532a0-a649-48c0-bcf2-db863ada7312 button.colab-df-convert');\n",
              "        buttonEl.style.display =\n",
              "          google.colab.kernel.accessAllowed ? 'block' : 'none';\n",
              "\n",
              "        async function convertToInteractive(key) {\n",
              "          const element = document.querySelector('#df-134532a0-a649-48c0-bcf2-db863ada7312');\n",
              "          const dataTable =\n",
              "            await google.colab.kernel.invokeFunction('convertToInteractive',\n",
              "                                                     [key], {});\n",
              "          if (!dataTable) return;\n",
              "\n",
              "          const docLinkHtml = 'Like what you see? Visit the ' +\n",
              "            '<a target=\"_blank\" href=https://colab.research.google.com/notebooks/data_table.ipynb>data table notebook</a>'\n",
              "            + ' to learn more about interactive tables.';\n",
              "          element.innerHTML = '';\n",
              "          dataTable['output_type'] = 'display_data';\n",
              "          await google.colab.output.renderOutput(dataTable, element);\n",
              "          const docLink = document.createElement('div');\n",
              "          docLink.innerHTML = docLinkHtml;\n",
              "          element.appendChild(docLink);\n",
              "        }\n",
              "      </script>\n",
              "    </div>\n",
              "  </div>\n",
              "  "
            ]
          },
          "metadata": {},
          "execution_count": 196
        }
      ]
    },
    {
      "cell_type": "code",
      "execution_count": null,
      "metadata": {
        "id": "cH6GxZ-i0CmX"
      },
      "outputs": [],
      "source": [
        "from sklearn.model_selection import GridSearchCV\n",
        "from sklearn.model_selection import RandomizedSearchCV\n",
        "from sklearn.tree import DecisionTreeClassifier\n",
        "import joblib\n",
        "from sklearn.model_selection import cross_validate\n",
        "from sklearn.ensemble import VotingClassifier"
      ]
    },
    {
      "cell_type": "markdown",
      "metadata": {
        "id": "rStHyW1PSXAQ"
      },
      "source": [
        "## Function For HyperParamter Tuning"
      ]
    },
    {
      "cell_type": "code",
      "execution_count": null,
      "metadata": {
        "id": "rRIhcOFMPE55"
      },
      "outputs": [],
      "source": [
        "def randomSearcher(model,params,name,train,train_labels):\n",
        "  rs=RandomizedSearchCV(model,param_distributions=params,scoring='accuracy',n_iter=20)\n",
        "  rs.fit(train,train_labels)\n",
        "  joblib.dump(rs.best_estimator_,'./drive/MyDrive/spaceTitanic/models/'+name)\n"
      ]
    },
    {
      "cell_type": "markdown",
      "metadata": {
        "id": "HHU_zgGIRXxx"
      },
      "source": [
        "# Ada Boost HyperParameter Tuning"
      ]
    },
    {
      "cell_type": "code",
      "execution_count": null,
      "metadata": {
        "id": "kbkMd90z4SKP"
      },
      "outputs": [],
      "source": [
        "max_depth=[int(x) for x in np.linspace(10,110,num=11)]\n",
        "ada_params = {\"base_estimator__criterion\" : [\"gini\", \"entropy\"],\n",
        "              \"base_estimator__splitter\" :   [\"best\", \"random\"],\n",
        "              \"base_estimator__max_depth\":max_depth\n",
        "             }\n",
        "dtree=DecisionTreeClassifier(random_state=42)\n",
        "abc=AdaBoostClassifier(dtree)\n",
        "randomSearcher(abc,ada_params,'abc_h_noTotalSpent')\n",
        "abc=joblib.load('./drive/MyDrive/spaceTitanic/models/abc_h_noTotalSpent')\n",
        "\n"
      ]
    },
    {
      "cell_type": "code",
      "execution_count": null,
      "metadata": {
        "id": "p1I8fngD7LMn"
      },
      "outputs": [],
      "source": [
        "abc=joblib.load('./drive/MyDrive/spaceTitanic/models/abcBestMode')"
      ]
    },
    {
      "cell_type": "markdown",
      "metadata": {
        "id": "aEykT2M7VmlB"
      },
      "source": [
        "# SVC HyperParameter Tuning"
      ]
    },
    {
      "cell_type": "code",
      "execution_count": null,
      "metadata": {
        "colab": {
          "base_uri": "https://localhost:8080/"
        },
        "id": "j6b9UnTcVsow",
        "outputId": "5de9c4b3-db3a-4843-db46-dcfb5a40b7dc"
      },
      "outputs": [
        {
          "name": "stderr",
          "output_type": "stream",
          "text": [
            "/usr/local/lib/python3.7/dist-packages/sklearn/model_selection/_search.py:296: UserWarning: The total space of parameters 9 is smaller than n_iter=20. Running 9 iterations. For exhaustive searches, use GridSearchCV.\n",
            "  UserWarning,\n"
          ]
        }
      ],
      "source": [
        "svc_params = {'C': [0.1, 1, 10],'kernel':['linear','poly','rbf']}\n",
        "svc=SVC()\n",
        "randomSearcher(svc,svc_params,'svc_h_classic')\n",
        "svc=joblib.load('./drive/MyDrive/spaceTitanic/models/svc_h_classic')\n"
      ]
    },
    {
      "cell_type": "markdown",
      "metadata": {
        "id": "G0GMXS7CYcxR"
      },
      "source": [
        "# Random Forest HyperParameter Tuning"
      ]
    },
    {
      "cell_type": "code",
      "execution_count": null,
      "metadata": {
        "id": "XMe7448XYa1k"
      },
      "outputs": [],
      "source": [
        "n_estimators=[int(x) for x in np.linspace(start=10,stop=100,num=10)]\n",
        "max_features=['auto','sqrt']\n",
        "max_depth=[int(x) for x in np.linspace(10,110,num=11)]\n",
        "max_depth.append(None)\n",
        "min_samples_split=[2,5,10]\n",
        "min_samples_leaf=[1,2,4]\n",
        "bootstrap=[True,False]\n",
        "rdm_params={'n_estimators':n_estimators,'max_features':max_features,'max_depth':max_depth,'min_samples_split':min_samples_split\n",
        "                           ,'min_samples_leaf':min_samples_leaf,'bootstrap':bootstrap}\n",
        "rf=RandomForestClassifier()\n",
        "randomSearcher(rf,rdm_params,'rf_h_noTotalSpent')\n",
        "rf=joblib.load('./drive/MyDrive/spaceTitanic/models/rf_h_noTotalSpent')\n"
      ]
    },
    {
      "cell_type": "markdown",
      "metadata": {
        "id": "1gcjmFnmqya9"
      },
      "source": [
        "# Support Vector Machine"
      ]
    },
    {
      "cell_type": "code",
      "execution_count": null,
      "metadata": {
        "id": "AwBSkgc9q5as"
      },
      "outputs": [],
      "source": [
        "svc=SVC(probability=True)\n",
        "# svc.fit(train,train_labels)\n"
      ]
    },
    {
      "cell_type": "markdown",
      "metadata": {
        "id": "gOhaiDt0v3E1"
      },
      "source": [
        "# Voting Classifier"
      ]
    },
    {
      "cell_type": "code",
      "execution_count": null,
      "metadata": {
        "id": "LgEqoFRCv8YF",
        "colab": {
          "base_uri": "https://localhost:8080/"
        },
        "outputId": "e9dfa842-d790-4804-d45b-860d731857ce"
      },
      "outputs": [
        {
          "output_type": "execute_result",
          "data": {
            "text/plain": [
              "VotingClassifier(estimators=[('xg', XGBClassifier()),\n",
              "                             ('svc', SVC(probability=True))])"
            ]
          },
          "metadata": {},
          "execution_count": 217
        }
      ],
      "source": [
        "vC=VotingClassifier(estimators=[('xg',xg),('svc',svc)],voting='hard')\n",
        "vC.fit(train,train_labels)"
      ]
    },
    {
      "cell_type": "code",
      "source": [
        "accuracy_score(test_labels,vC.predict(test))"
      ],
      "metadata": {
        "colab": {
          "base_uri": "https://localhost:8080/"
        },
        "id": "k2siwBWGj-Mz",
        "outputId": "53f89451-8e7e-4dca-fe51-78324159a2a0"
      },
      "execution_count": null,
      "outputs": [
        {
          "output_type": "execute_result",
          "data": {
            "text/plain": [
              "0.7735632183908046"
            ]
          },
          "metadata": {},
          "execution_count": 219
        }
      ]
    },
    {
      "cell_type": "markdown",
      "metadata": {
        "id": "U5MNUvda2v2V"
      },
      "source": [
        "## XG BOOST"
      ]
    },
    {
      "cell_type": "code",
      "execution_count": null,
      "metadata": {
        "colab": {
          "base_uri": "https://localhost:8080/"
        },
        "id": "wO1T29E52vAl",
        "outputId": "7ed38d3b-aada-4de7-d22a-52ed1c7157ea"
      },
      "outputs": [
        {
          "output_type": "execute_result",
          "data": {
            "text/plain": [
              "0.8011494252873563"
            ]
          },
          "metadata": {},
          "execution_count": 247
        }
      ],
      "source": [
        "xg=xgb.XGBClassifier()\n",
        "xg.fit(train,train_labels)\n",
        "accuracy_score(test_labels,xg.predict(test))"
      ]
    },
    {
      "cell_type": "code",
      "source": [
        "accuracy_score(train_labels,xg.predict(train))"
      ],
      "metadata": {
        "colab": {
          "base_uri": "https://localhost:8080/"
        },
        "id": "G8kX8PiGxvn1",
        "outputId": "d3fe5e19-cd65-43f9-e926-eb4389a6cad8"
      },
      "execution_count": null,
      "outputs": [
        {
          "output_type": "execute_result",
          "data": {
            "text/plain": [
              "0.7948357407644127"
            ]
          },
          "metadata": {},
          "execution_count": 281
        }
      ]
    },
    {
      "cell_type": "code",
      "source": [
        "dtree=DecisionTreeClassifier(random_state=42)\n",
        "abc=AdaBoostClassifier(dtree)\n",
        "abc.fit(train,train_labels)\n",
        "accuracy_score(test_labels,abc.predict(test))"
      ],
      "metadata": {
        "colab": {
          "base_uri": "https://localhost:8080/"
        },
        "id": "rLjH6VADk-cD",
        "outputId": "3c9bb17f-81e5-4142-ed6f-1ff53ea0e5e4"
      },
      "execution_count": null,
      "outputs": [
        {
          "output_type": "execute_result",
          "data": {
            "text/plain": [
              "0.7620689655172413"
            ]
          },
          "metadata": {},
          "execution_count": 221
        }
      ]
    },
    {
      "cell_type": "markdown",
      "metadata": {
        "id": "7ocbk0cAX7sb"
      },
      "source": [
        "## CatBoost Classifier"
      ]
    },
    {
      "cell_type": "code",
      "execution_count": 197,
      "metadata": {
        "id": "StLOf_yA9YNd"
      },
      "outputs": [],
      "source": [
        "# cat_params = {'learning_rate': [0.01,0.03, 0.1],\n",
        "#         'depth': [4, 6, 10,15,20],\n",
        "#         }\n",
        "cat_model=CatBoostClassifier(cat_features=['HomePlanet','side','P_ID2','CryoSleep','VIP','Destination','lastName','P_ID1','deck'],eval_metric='Accuracy',depth=12, l2_leaf_reg=1, learning_rate=0.03)\n",
        "# randomSearcher(cat_model,cat_params,'cat_all',cat_df,labels)\n",
        "\n",
        "# model_CBC2 = CatBoostClassifier(cat_features=['HomePlanet','side','P_ID2','CryoSleep','VIP','Destination'],eval_metric='Accuracy',depth=12, l2_leaf_reg=1, learning_rate=0.03)\n",
        "# model_CBC2.fit(cat_train,cat_train_labels,eval_set=(cat_test, cat_test_labels),verbose=False,early_stopping_rounds=200,use_best_model=True)"
      ]
    },
    {
      "cell_type": "code",
      "execution_count": 198,
      "metadata": {
        "colab": {
          "base_uri": "https://localhost:8080/"
        },
        "id": "1alhlmlER4J-",
        "outputId": "11c0e476-adf8-4efa-e623-46f4a3ef93e6"
      },
      "outputs": [
        {
          "output_type": "execute_result",
          "data": {
            "text/plain": [
              "<catboost.core.CatBoostClassifier at 0x7f62e475e950>"
            ]
          },
          "metadata": {},
          "execution_count": 198
        }
      ],
      "source": [
        "cat_model.fit(cat_train,train_labels,eval_set=(cat_test,test_labels),verbose=False,early_stopping_rounds=200,use_best_model=True)"
      ]
    },
    {
      "cell_type": "code",
      "source": [
        "cat_model.best_score_"
      ],
      "metadata": {
        "colab": {
          "base_uri": "https://localhost:8080/"
        },
        "id": "U7Z3UTObxAxN",
        "outputId": "7c7a79bb-1273-4a77-c0c9-71dc5772b36e"
      },
      "execution_count": 199,
      "outputs": [
        {
          "output_type": "execute_result",
          "data": {
            "text/plain": [
              "{'learn': {'Accuracy': 0.9998721718010993, 'Logloss': 0.017972056945329797},\n",
              " 'validation': {'Accuracy': 0.5459770114942529, 'Logloss': 0.6960710492192947}}"
            ]
          },
          "metadata": {},
          "execution_count": 199
        }
      ]
    },
    {
      "cell_type": "code",
      "source": [
        "cat_model.best_score_"
      ],
      "metadata": {
        "colab": {
          "base_uri": "https://localhost:8080/"
        },
        "id": "Rfqi9TZS5WpD",
        "outputId": "77139cfa-6b08-4e3b-ecc3-b3a5f59c6f27"
      },
      "execution_count": null,
      "outputs": [
        {
          "output_type": "execute_result",
          "data": {
            "text/plain": [
              "{'learn': {'Accuracy': 0.9002940048574716, 'Logloss': 0.2738857747466765},\n",
              " 'validation': {'Accuracy': 0.8022988505747126,\n",
              "  'Logloss': 0.42646634671084555}}"
            ]
          },
          "metadata": {},
          "execution_count": 314
        }
      ]
    },
    {
      "cell_type": "code",
      "source": [
        "(cat_model.predict(cat_test)==xg.predict(test)).sum()"
      ],
      "metadata": {
        "colab": {
          "base_uri": "https://localhost:8080/"
        },
        "id": "k1IHpwMczARe",
        "outputId": "eaf4567e-1562-40a5-fb3b-81fdea64f391"
      },
      "execution_count": null,
      "outputs": [
        {
          "output_type": "execute_result",
          "data": {
            "text/plain": [
              "854"
            ]
          },
          "metadata": {},
          "execution_count": 282
        }
      ]
    },
    {
      "cell_type": "code",
      "source": [
        "for i,j in zip(cat_model.feature_names_,cat_model.feature_importances_):\n",
        "  print(f'{i}:{j}')"
      ],
      "metadata": {
        "colab": {
          "base_uri": "https://localhost:8080/"
        },
        "id": "gyptYFtnzJAd",
        "outputId": "a354d062-8cbc-450d-e56f-7362d3ada23f"
      },
      "execution_count": 187,
      "outputs": [
        {
          "output_type": "stream",
          "name": "stdout",
          "text": [
            "EscapeSpent:13.02809127862657\n",
            "DeathSpent:3.5919608048221163\n",
            "HomePlanet:5.866769264445656\n",
            "CryoSleep:0.8552620772368787\n",
            "side:3.160219073474026\n",
            "VIP:0.04254326794035017\n",
            "Age:2.24852231888446\n",
            "Destination:4.0452088476267365\n",
            "P_ID2:7.904979726508806\n",
            "P_ID1:14.39889298722523\n",
            "deck:4.7549670505454875\n",
            "num:2.190911597641306\n",
            "inSurvivorsGroup:36.55502470592781\n",
            "lastName:1.3566469990945174\n"
          ]
        }
      ]
    },
    {
      "cell_type": "markdown",
      "metadata": {
        "id": "qfK3i4PWOCik"
      },
      "source": [
        "## Logging Scores"
      ]
    },
    {
      "cell_type": "code",
      "execution_count": null,
      "metadata": {
        "id": "L0-JCME_kAOI"
      },
      "outputs": [],
      "source": [
        "def score_logger(train,test,train_labels,test_labels,model):\n",
        "  model.fit(train,train_labels)\n",
        "  training_acc=accuracy_score(train_labels,model.predict(train))\n",
        "  test_acc=accuracy_score(test_labels,model.predict(test))\n",
        "  score_log=pd.read_csv('./drive/MyDrive/spaceTitanic/score_log.csv')\n",
        "  emp=','.join(train.columns)\n",
        "  score_log=score_log.append(pd.DataFrame({'Columns':emp,'Training Accuracy':training_acc,'Test Accuracy':test_acc,'Model':model.__class__.__name__},index=range(0,1)),ignore_index=True)\n",
        "  score_log.to_csv('./drive/MyDrive/spaceTitanic/score_log.csv',index=False)\n",
        "  # files.download('./drive/MyDrive/spaceTitanic/score_log.csv')\n",
        "  print(score_log)\n",
        "\n",
        "  \n",
        "  \n"
      ]
    },
    {
      "cell_type": "code",
      "execution_count": null,
      "metadata": {
        "colab": {
          "base_uri": "https://localhost:8080/"
        },
        "id": "VpvuP1Ygrssp",
        "outputId": "36141d94-1307-49b2-b249-0a6be83dfb9e"
      },
      "outputs": [
        {
          "output_type": "stream",
          "name": "stdout",
          "text": [
            "                                              Columns  Training Accuracy  \\\n",
            "0                          TotalSpent,CryoSleep,Earth           0.800205   \n",
            "1                   TotalSpent,CryoSleep,Earth,Europa           0.809408   \n",
            "2                   TotalSpent,CryoSleep,Earth,Europa           0.809792   \n",
            "3   TotalSpent,CryoSleep,Earth,Europa,P,S,55 Cancri e           0.814266   \n",
            "4                   TotalSpent,CryoSleep,Earth,Europa           0.807619   \n",
            "5                   TotalSpent,CryoSleep,Earth,Europa           0.785504   \n",
            "6                   TotalSpent,CryoSleep,Earth,Europa           0.785249   \n",
            "7                   TotalSpent,CryoSleep,Earth,Europa           0.789978   \n",
            "8                   TotalSpent,CryoSleep,Earth,Europa           0.851719   \n",
            "9                   TotalSpent,CryoSleep,Earth,Europa           0.808386   \n",
            "10                  TotalSpent,CryoSleep,Earth,Europa           0.850697   \n",
            "11                  TotalSpent,CryoSleep,Earth,Europa           0.786655   \n",
            "12                  TotalSpent,CryoSleep,Earth,Europa           0.821041   \n",
            "13                  TotalSpent,CryoSleep,Earth,Europa           0.791896   \n",
            "14                  TotalSpent,CryoSleep,Earth,Europa           0.828966   \n",
            "15                  TotalSpent,CryoSleep,Earth,Europa           0.740509   \n",
            "16                  TotalSpent,CryoSleep,Earth,Europa           0.733990   \n",
            "17                  TotalSpent,CryoSleep,Earth,Europa           0.786655   \n",
            "18                  TotalSpent,CryoSleep,Earth,Europa           0.791896   \n",
            "19              TotalSpent,CryoSleep,Earth,Europa,Age           0.791896   \n",
            "20              TotalSpent,CryoSleep,Earth,Europa,Age           0.860412   \n",
            "21            TotalSpent,CryoSleep,Earth,Europa,Age,P           0.794708   \n",
            "22                TotalSpent,CryoSleep,Earth,Europa,P           0.795858   \n",
            "23                TotalSpent,CryoSleep,Earth,Europa,P           0.844433   \n",
            "24            TotalSpent,CryoSleep,Earth,Europa,P,VIP           0.795858   \n",
            "25            TotalSpent,CryoSleep,Earth,Europa,P,VIP           0.795986   \n",
            "26            TotalSpent,CryoSleep,Earth,Europa,P,VIP           0.795986   \n",
            "27                TotalSpent,CryoSleep,Earth,Europa,P           0.795986   \n",
            "28    TotalSpent,CryoSleep,Earth,Europa,P,55 Cancri e           0.797264   \n",
            "29    CryoSleep,Earth,Europa,P,RoomService,Spa,VRDeck           0.796114   \n",
            "30    CryoSleep,Earth,Europa,P,RoomService,Spa,VRDeck           0.898121   \n",
            "31    CryoSleep,Earth,Europa,P,RoomService,Spa,VRDeck           0.814777   \n",
            "32            TotalSpent,CryoSleep,Earth,Europa,P,Age           0.794964   \n",
            "33                TotalSpent,CryoSleep,Earth,Europa,P           0.801227   \n",
            "34         TotalSpent,Earth,Europa,CryoSleep,01,02,03           0.792790   \n",
            "35            TotalSpent,Earth,Europa,CryoSleep,01,02           0.791768   \n",
            "36                            TotalSpent,Earth,Europa           0.792279   \n",
            "37  TotalSpent,Earth,Europa,CryoSleep,P,VIP,Age,TR...           0.794836   \n",
            "\n",
            "    Test Accuracy                   Model  \n",
            "0        0.751724  RandomForestClassifier  \n",
            "1        0.756322  RandomForestClassifier  \n",
            "2        0.760920  RandomForestClassifier  \n",
            "3        0.748276  RandomForestClassifier  \n",
            "4        0.756322  RandomForestClassifier  \n",
            "5        0.772414                     SVC  \n",
            "6        0.763218                     SVC  \n",
            "7        0.770115      AdaBoostClassifier  \n",
            "8        0.740230      AdaBoostClassifier  \n",
            "9        0.759770  RandomForestClassifier  \n",
            "10       0.737931      AdaBoostClassifier  \n",
            "11       0.760920                     SVC  \n",
            "12       0.750575        VotingClassifier  \n",
            "13       0.766667           XGBClassifier  \n",
            "14       0.700000      AdaBoostClassifier  \n",
            "15       0.737931           XGBClassifier  \n",
            "16       0.727586                     SVC  \n",
            "17       0.763218                     SVC  \n",
            "18       0.766667           XGBClassifier  \n",
            "19       0.766667           XGBClassifier  \n",
            "20       0.736782      AdaBoostClassifier  \n",
            "21       0.763218           XGBClassifier  \n",
            "22       0.770115           XGBClassifier  \n",
            "23       0.729885      AdaBoostClassifier  \n",
            "24       0.770115           XGBClassifier  \n",
            "25       0.770115           XGBClassifier  \n",
            "26       0.770115           XGBClassifier  \n",
            "27       0.770115           XGBClassifier  \n",
            "28       0.766667           XGBClassifier  \n",
            "29       0.762069           XGBClassifier  \n",
            "30       0.729885      AdaBoostClassifier  \n",
            "31       0.765517  RandomForestClassifier  \n",
            "32       0.765517           XGBClassifier  \n",
            "33       0.750575      CatBoostClassifier  \n",
            "34       0.766667           XGBClassifier  \n",
            "35       0.766667           XGBClassifier  \n",
            "36       0.766667           XGBClassifier  \n",
            "37       0.798851           XGBClassifier  \n"
          ]
        }
      ],
      "source": [
        "score_logger(train,test,train_labels,test_labels,xg)"
      ]
    },
    {
      "cell_type": "code",
      "execution_count": null,
      "metadata": {
        "id": "myAddsV9PoAR"
      },
      "outputs": [],
      "source": [
        "score_log=pd.read_csv('./drive/MyDrive/spaceTitanic/score_log.csv')\n"
      ]
    },
    {
      "cell_type": "markdown",
      "metadata": {
        "id": "E4W7LGs3g0v4"
      },
      "source": [
        "#Test Data"
      ]
    },
    {
      "cell_type": "code",
      "execution_count": 151,
      "metadata": {
        "id": "1pbzF175gz9f"
      },
      "outputs": [],
      "source": [
        "testKag=pd.read_csv('./drive/MyDrive/spaceTitanic/test.csv')\n",
        "df=pd.read_csv('./drive/MyDrive/spaceTitanic/train.csv')"
      ]
    },
    {
      "cell_type": "code",
      "source": [
        "testKag['side']=testKag['Cabin'].str[-1]\n",
        "testKag['deck']=testKag['Cabin'].str[0]\n",
        "testKag[['deck','num','side']]=testKag['Cabin'].str.split('/',expand=True)[[0,1,2]]\n",
        "Passenger_ids=testKag['PassengerId']\n",
        "testKag=HomePlanetImpute(testKag)\n",
        "testKag=cat_Pipe.fit_transform(testKag)\n",
        "testKag['lastName']=testKag['Name'].str.split(' ').apply(lambda x:x[1])\n",
        "testKag.drop(columns=['Name'],inplace=True)\n"
      ],
      "metadata": {
        "colab": {
          "base_uri": "https://localhost:8080/"
        },
        "id": "6PPuLpKEnvVi",
        "outputId": "68ea7455-dc39-4adb-df8e-2cbc9a2956b0"
      },
      "execution_count": 152,
      "outputs": [
        {
          "output_type": "stream",
          "name": "stderr",
          "text": [
            "/usr/local/lib/python3.7/dist-packages/pandas/core/frame.py:3678: SettingWithCopyWarning: \n",
            "A value is trying to be set on a copy of a slice from a DataFrame.\n",
            "Try using .loc[row_indexer,col_indexer] = value instead\n",
            "\n",
            "See the caveats in the documentation: https://pandas.pydata.org/pandas-docs/stable/user_guide/indexing.html#returning-a-view-versus-a-copy\n",
            "  self[col] = igetitem(value, i)\n",
            "/usr/local/lib/python3.7/dist-packages/ipykernel_launcher.py:7: SettingWithCopyWarning: \n",
            "A value is trying to be set on a copy of a slice from a DataFrame.\n",
            "Try using .loc[row_indexer,col_indexer] = value instead\n",
            "\n",
            "See the caveats in the documentation: https://pandas.pydata.org/pandas-docs/stable/user_guide/indexing.html#returning-a-view-versus-a-copy\n",
            "  import sys\n",
            "/usr/local/lib/python3.7/dist-packages/pandas/core/frame.py:4913: SettingWithCopyWarning: \n",
            "A value is trying to be set on a copy of a slice from a DataFrame\n",
            "\n",
            "See the caveats in the documentation: https://pandas.pydata.org/pandas-docs/stable/user_guide/indexing.html#returning-a-view-versus-a-copy\n",
            "  errors=errors,\n"
          ]
        }
      ]
    },
    {
      "cell_type": "code",
      "source": [
        "testKag"
      ],
      "metadata": {
        "colab": {
          "base_uri": "https://localhost:8080/",
          "height": 424
        },
        "id": "_25fBQilR3v-",
        "outputId": "0869ab7f-5ca2-4fc9-95ed-48e3133933ca"
      },
      "execution_count": 153,
      "outputs": [
        {
          "output_type": "execute_result",
          "data": {
            "text/plain": [
              "      EscapeSpent  DeathSpent HomePlanet  CryoSleep side    VIP       Age  \\\n",
              "0       -0.438812   -0.370989      Earth       True    S  False -0.358096   \n",
              "1        1.079550   -0.365441      Earth      False    S  False -1.238818   \n",
              "2       -0.438812   -0.370989     Europa       True    S  False  0.522626   \n",
              "3       -0.026816    3.729566     Europa      False    S  False  1.403348   \n",
              "4       -0.433433    0.020450      Earth      False    S  False -1.238818   \n",
              "...           ...         ...        ...        ...  ...    ...       ...   \n",
              "4272    -0.438812   -0.370989      Earth       True    S  False  0.522626   \n",
              "4273    -0.355982    0.161615      Earth      False    S  False  1.403348   \n",
              "4274    -0.438812   -0.370989       Mars       True    P  False -0.358096   \n",
              "4275    -0.157514    1.281069     Europa      False    P  False -0.358096   \n",
              "4276    -0.438812   -0.370989      Earth       True    S  False  1.403348   \n",
              "\n",
              "        Destination P_ID2 P_ID1 deck       num   lastName  \n",
              "0       TRAPPIST-1e    01  0013    G -1.183133  Carsoning  \n",
              "1       TRAPPIST-1e    01  0018    F -1.181171    Peckers  \n",
              "2       55 Cancri e    01  0019    C -1.189020  Unhearfus  \n",
              "3       TRAPPIST-1e    01  0021    C -1.187058  Caltilter  \n",
              "4       TRAPPIST-1e    01  0023    F -1.179208   Harperez  \n",
              "...             ...   ...   ...  ...       ...        ...  \n",
              "4272    TRAPPIST-1e    02  9266    G  1.746641      Peter  \n",
              "4273    TRAPPIST-1e    01  9269    F -0.349138    Scheron  \n",
              "4274    55 Cancri e    01  9271    D -0.608167       Pore  \n",
              "4275    TRAPPIST-1e    01  9273    D -0.606205     Conale  \n",
              "4276  PSO J318.5-22    01  9277    G  1.750566  Leonzaley  \n",
              "\n",
              "[4277 rows x 13 columns]"
            ],
            "text/html": [
              "\n",
              "  <div id=\"df-3c9e3f31-d556-4b6c-8d77-8ca85fd2a536\">\n",
              "    <div class=\"colab-df-container\">\n",
              "      <div>\n",
              "<style scoped>\n",
              "    .dataframe tbody tr th:only-of-type {\n",
              "        vertical-align: middle;\n",
              "    }\n",
              "\n",
              "    .dataframe tbody tr th {\n",
              "        vertical-align: top;\n",
              "    }\n",
              "\n",
              "    .dataframe thead th {\n",
              "        text-align: right;\n",
              "    }\n",
              "</style>\n",
              "<table border=\"1\" class=\"dataframe\">\n",
              "  <thead>\n",
              "    <tr style=\"text-align: right;\">\n",
              "      <th></th>\n",
              "      <th>EscapeSpent</th>\n",
              "      <th>DeathSpent</th>\n",
              "      <th>HomePlanet</th>\n",
              "      <th>CryoSleep</th>\n",
              "      <th>side</th>\n",
              "      <th>VIP</th>\n",
              "      <th>Age</th>\n",
              "      <th>Destination</th>\n",
              "      <th>P_ID2</th>\n",
              "      <th>P_ID1</th>\n",
              "      <th>deck</th>\n",
              "      <th>num</th>\n",
              "      <th>lastName</th>\n",
              "    </tr>\n",
              "  </thead>\n",
              "  <tbody>\n",
              "    <tr>\n",
              "      <th>0</th>\n",
              "      <td>-0.438812</td>\n",
              "      <td>-0.370989</td>\n",
              "      <td>Earth</td>\n",
              "      <td>True</td>\n",
              "      <td>S</td>\n",
              "      <td>False</td>\n",
              "      <td>-0.358096</td>\n",
              "      <td>TRAPPIST-1e</td>\n",
              "      <td>01</td>\n",
              "      <td>0013</td>\n",
              "      <td>G</td>\n",
              "      <td>-1.183133</td>\n",
              "      <td>Carsoning</td>\n",
              "    </tr>\n",
              "    <tr>\n",
              "      <th>1</th>\n",
              "      <td>1.079550</td>\n",
              "      <td>-0.365441</td>\n",
              "      <td>Earth</td>\n",
              "      <td>False</td>\n",
              "      <td>S</td>\n",
              "      <td>False</td>\n",
              "      <td>-1.238818</td>\n",
              "      <td>TRAPPIST-1e</td>\n",
              "      <td>01</td>\n",
              "      <td>0018</td>\n",
              "      <td>F</td>\n",
              "      <td>-1.181171</td>\n",
              "      <td>Peckers</td>\n",
              "    </tr>\n",
              "    <tr>\n",
              "      <th>2</th>\n",
              "      <td>-0.438812</td>\n",
              "      <td>-0.370989</td>\n",
              "      <td>Europa</td>\n",
              "      <td>True</td>\n",
              "      <td>S</td>\n",
              "      <td>False</td>\n",
              "      <td>0.522626</td>\n",
              "      <td>55 Cancri e</td>\n",
              "      <td>01</td>\n",
              "      <td>0019</td>\n",
              "      <td>C</td>\n",
              "      <td>-1.189020</td>\n",
              "      <td>Unhearfus</td>\n",
              "    </tr>\n",
              "    <tr>\n",
              "      <th>3</th>\n",
              "      <td>-0.026816</td>\n",
              "      <td>3.729566</td>\n",
              "      <td>Europa</td>\n",
              "      <td>False</td>\n",
              "      <td>S</td>\n",
              "      <td>False</td>\n",
              "      <td>1.403348</td>\n",
              "      <td>TRAPPIST-1e</td>\n",
              "      <td>01</td>\n",
              "      <td>0021</td>\n",
              "      <td>C</td>\n",
              "      <td>-1.187058</td>\n",
              "      <td>Caltilter</td>\n",
              "    </tr>\n",
              "    <tr>\n",
              "      <th>4</th>\n",
              "      <td>-0.433433</td>\n",
              "      <td>0.020450</td>\n",
              "      <td>Earth</td>\n",
              "      <td>False</td>\n",
              "      <td>S</td>\n",
              "      <td>False</td>\n",
              "      <td>-1.238818</td>\n",
              "      <td>TRAPPIST-1e</td>\n",
              "      <td>01</td>\n",
              "      <td>0023</td>\n",
              "      <td>F</td>\n",
              "      <td>-1.179208</td>\n",
              "      <td>Harperez</td>\n",
              "    </tr>\n",
              "    <tr>\n",
              "      <th>...</th>\n",
              "      <td>...</td>\n",
              "      <td>...</td>\n",
              "      <td>...</td>\n",
              "      <td>...</td>\n",
              "      <td>...</td>\n",
              "      <td>...</td>\n",
              "      <td>...</td>\n",
              "      <td>...</td>\n",
              "      <td>...</td>\n",
              "      <td>...</td>\n",
              "      <td>...</td>\n",
              "      <td>...</td>\n",
              "      <td>...</td>\n",
              "    </tr>\n",
              "    <tr>\n",
              "      <th>4272</th>\n",
              "      <td>-0.438812</td>\n",
              "      <td>-0.370989</td>\n",
              "      <td>Earth</td>\n",
              "      <td>True</td>\n",
              "      <td>S</td>\n",
              "      <td>False</td>\n",
              "      <td>0.522626</td>\n",
              "      <td>TRAPPIST-1e</td>\n",
              "      <td>02</td>\n",
              "      <td>9266</td>\n",
              "      <td>G</td>\n",
              "      <td>1.746641</td>\n",
              "      <td>Peter</td>\n",
              "    </tr>\n",
              "    <tr>\n",
              "      <th>4273</th>\n",
              "      <td>-0.355982</td>\n",
              "      <td>0.161615</td>\n",
              "      <td>Earth</td>\n",
              "      <td>False</td>\n",
              "      <td>S</td>\n",
              "      <td>False</td>\n",
              "      <td>1.403348</td>\n",
              "      <td>TRAPPIST-1e</td>\n",
              "      <td>01</td>\n",
              "      <td>9269</td>\n",
              "      <td>F</td>\n",
              "      <td>-0.349138</td>\n",
              "      <td>Scheron</td>\n",
              "    </tr>\n",
              "    <tr>\n",
              "      <th>4274</th>\n",
              "      <td>-0.438812</td>\n",
              "      <td>-0.370989</td>\n",
              "      <td>Mars</td>\n",
              "      <td>True</td>\n",
              "      <td>P</td>\n",
              "      <td>False</td>\n",
              "      <td>-0.358096</td>\n",
              "      <td>55 Cancri e</td>\n",
              "      <td>01</td>\n",
              "      <td>9271</td>\n",
              "      <td>D</td>\n",
              "      <td>-0.608167</td>\n",
              "      <td>Pore</td>\n",
              "    </tr>\n",
              "    <tr>\n",
              "      <th>4275</th>\n",
              "      <td>-0.157514</td>\n",
              "      <td>1.281069</td>\n",
              "      <td>Europa</td>\n",
              "      <td>False</td>\n",
              "      <td>P</td>\n",
              "      <td>False</td>\n",
              "      <td>-0.358096</td>\n",
              "      <td>TRAPPIST-1e</td>\n",
              "      <td>01</td>\n",
              "      <td>9273</td>\n",
              "      <td>D</td>\n",
              "      <td>-0.606205</td>\n",
              "      <td>Conale</td>\n",
              "    </tr>\n",
              "    <tr>\n",
              "      <th>4276</th>\n",
              "      <td>-0.438812</td>\n",
              "      <td>-0.370989</td>\n",
              "      <td>Earth</td>\n",
              "      <td>True</td>\n",
              "      <td>S</td>\n",
              "      <td>False</td>\n",
              "      <td>1.403348</td>\n",
              "      <td>PSO J318.5-22</td>\n",
              "      <td>01</td>\n",
              "      <td>9277</td>\n",
              "      <td>G</td>\n",
              "      <td>1.750566</td>\n",
              "      <td>Leonzaley</td>\n",
              "    </tr>\n",
              "  </tbody>\n",
              "</table>\n",
              "<p>4277 rows × 13 columns</p>\n",
              "</div>\n",
              "      <button class=\"colab-df-convert\" onclick=\"convertToInteractive('df-3c9e3f31-d556-4b6c-8d77-8ca85fd2a536')\"\n",
              "              title=\"Convert this dataframe to an interactive table.\"\n",
              "              style=\"display:none;\">\n",
              "        \n",
              "  <svg xmlns=\"http://www.w3.org/2000/svg\" height=\"24px\"viewBox=\"0 0 24 24\"\n",
              "       width=\"24px\">\n",
              "    <path d=\"M0 0h24v24H0V0z\" fill=\"none\"/>\n",
              "    <path d=\"M18.56 5.44l.94 2.06.94-2.06 2.06-.94-2.06-.94-.94-2.06-.94 2.06-2.06.94zm-11 1L8.5 8.5l.94-2.06 2.06-.94-2.06-.94L8.5 2.5l-.94 2.06-2.06.94zm10 10l.94 2.06.94-2.06 2.06-.94-2.06-.94-.94-2.06-.94 2.06-2.06.94z\"/><path d=\"M17.41 7.96l-1.37-1.37c-.4-.4-.92-.59-1.43-.59-.52 0-1.04.2-1.43.59L10.3 9.45l-7.72 7.72c-.78.78-.78 2.05 0 2.83L4 21.41c.39.39.9.59 1.41.59.51 0 1.02-.2 1.41-.59l7.78-7.78 2.81-2.81c.8-.78.8-2.07 0-2.86zM5.41 20L4 18.59l7.72-7.72 1.47 1.35L5.41 20z\"/>\n",
              "  </svg>\n",
              "      </button>\n",
              "      \n",
              "  <style>\n",
              "    .colab-df-container {\n",
              "      display:flex;\n",
              "      flex-wrap:wrap;\n",
              "      gap: 12px;\n",
              "    }\n",
              "\n",
              "    .colab-df-convert {\n",
              "      background-color: #E8F0FE;\n",
              "      border: none;\n",
              "      border-radius: 50%;\n",
              "      cursor: pointer;\n",
              "      display: none;\n",
              "      fill: #1967D2;\n",
              "      height: 32px;\n",
              "      padding: 0 0 0 0;\n",
              "      width: 32px;\n",
              "    }\n",
              "\n",
              "    .colab-df-convert:hover {\n",
              "      background-color: #E2EBFA;\n",
              "      box-shadow: 0px 1px 2px rgba(60, 64, 67, 0.3), 0px 1px 3px 1px rgba(60, 64, 67, 0.15);\n",
              "      fill: #174EA6;\n",
              "    }\n",
              "\n",
              "    [theme=dark] .colab-df-convert {\n",
              "      background-color: #3B4455;\n",
              "      fill: #D2E3FC;\n",
              "    }\n",
              "\n",
              "    [theme=dark] .colab-df-convert:hover {\n",
              "      background-color: #434B5C;\n",
              "      box-shadow: 0px 1px 3px 1px rgba(0, 0, 0, 0.15);\n",
              "      filter: drop-shadow(0px 1px 2px rgba(0, 0, 0, 0.3));\n",
              "      fill: #FFFFFF;\n",
              "    }\n",
              "  </style>\n",
              "\n",
              "      <script>\n",
              "        const buttonEl =\n",
              "          document.querySelector('#df-3c9e3f31-d556-4b6c-8d77-8ca85fd2a536 button.colab-df-convert');\n",
              "        buttonEl.style.display =\n",
              "          google.colab.kernel.accessAllowed ? 'block' : 'none';\n",
              "\n",
              "        async function convertToInteractive(key) {\n",
              "          const element = document.querySelector('#df-3c9e3f31-d556-4b6c-8d77-8ca85fd2a536');\n",
              "          const dataTable =\n",
              "            await google.colab.kernel.invokeFunction('convertToInteractive',\n",
              "                                                     [key], {});\n",
              "          if (!dataTable) return;\n",
              "\n",
              "          const docLinkHtml = 'Like what you see? Visit the ' +\n",
              "            '<a target=\"_blank\" href=https://colab.research.google.com/notebooks/data_table.ipynb>data table notebook</a>'\n",
              "            + ' to learn more about interactive tables.';\n",
              "          element.innerHTML = '';\n",
              "          dataTable['output_type'] = 'display_data';\n",
              "          await google.colab.output.renderOutput(dataTable, element);\n",
              "          const docLink = document.createElement('div');\n",
              "          docLink.innerHTML = docLinkHtml;\n",
              "          element.appendChild(docLink);\n",
              "        }\n",
              "      </script>\n",
              "    </div>\n",
              "  </div>\n",
              "  "
            ]
          },
          "metadata": {},
          "execution_count": 153
        }
      ]
    },
    {
      "cell_type": "code",
      "source": [
        "testKag"
      ],
      "metadata": {
        "colab": {
          "base_uri": "https://localhost:8080/",
          "height": 424
        },
        "id": "mUsJwXlHRf94",
        "outputId": "d292d3da-610c-4a44-a9be-9bd14ead3dbf"
      },
      "execution_count": 66,
      "outputs": [
        {
          "output_type": "execute_result",
          "data": {
            "text/plain": [
              "      TotalSpent HomePlanet  CryoSleep side    VIP       Age    Destination  \\\n",
              "0      -0.448589      Earth       True    S  False -0.376321    TRAPPIST-1e   \n",
              "1       1.071294      Earth      False    S  False -1.255842    TRAPPIST-1e   \n",
              "2      -0.448589     Europa       True    S  False  0.503201    55 Cancri e   \n",
              "3      -0.036180     Europa      False    S  False  1.382722    TRAPPIST-1e   \n",
              "4      -0.443205      Earth      False    S  False -1.255842    TRAPPIST-1e   \n",
              "...          ...        ...        ...  ...    ...       ...            ...   \n",
              "4272   -0.448589      Earth       True    S  False  0.503201    TRAPPIST-1e   \n",
              "4273   -0.365677      Earth      False    S  False  1.382722    TRAPPIST-1e   \n",
              "4274   -0.448589       Mars       True    P  False  0.503201    55 Cancri e   \n",
              "4275   -0.167010     Europa      False    P  False  0.503201    TRAPPIST-1e   \n",
              "4276   -0.448589      Earth       True    S  False  1.382722  PSO J318.5-22   \n",
              "\n",
              "     P_ID2 P_ID1 deck   lastName  \n",
              "0       01  0013    G  Carsoning  \n",
              "1       01  0018    F    Peckers  \n",
              "2       01  0019    C  Unhearfus  \n",
              "3       01  0021    C  Caltilter  \n",
              "4       01  0023    F   Harperez  \n",
              "...    ...   ...  ...        ...  \n",
              "4272    02  9266    G      Peter  \n",
              "4273    01  9269    F    Scheron  \n",
              "4274    01  9271    D       Pore  \n",
              "4275    01  9273    D     Conale  \n",
              "4276    01  9277    G  Leonzaley  \n",
              "\n",
              "[4277 rows x 11 columns]"
            ],
            "text/html": [
              "\n",
              "  <div id=\"df-2a35fab5-70b4-4456-bbae-9b8fb82fac83\">\n",
              "    <div class=\"colab-df-container\">\n",
              "      <div>\n",
              "<style scoped>\n",
              "    .dataframe tbody tr th:only-of-type {\n",
              "        vertical-align: middle;\n",
              "    }\n",
              "\n",
              "    .dataframe tbody tr th {\n",
              "        vertical-align: top;\n",
              "    }\n",
              "\n",
              "    .dataframe thead th {\n",
              "        text-align: right;\n",
              "    }\n",
              "</style>\n",
              "<table border=\"1\" class=\"dataframe\">\n",
              "  <thead>\n",
              "    <tr style=\"text-align: right;\">\n",
              "      <th></th>\n",
              "      <th>TotalSpent</th>\n",
              "      <th>HomePlanet</th>\n",
              "      <th>CryoSleep</th>\n",
              "      <th>side</th>\n",
              "      <th>VIP</th>\n",
              "      <th>Age</th>\n",
              "      <th>Destination</th>\n",
              "      <th>P_ID2</th>\n",
              "      <th>P_ID1</th>\n",
              "      <th>deck</th>\n",
              "      <th>lastName</th>\n",
              "    </tr>\n",
              "  </thead>\n",
              "  <tbody>\n",
              "    <tr>\n",
              "      <th>0</th>\n",
              "      <td>-0.448589</td>\n",
              "      <td>Earth</td>\n",
              "      <td>True</td>\n",
              "      <td>S</td>\n",
              "      <td>False</td>\n",
              "      <td>-0.376321</td>\n",
              "      <td>TRAPPIST-1e</td>\n",
              "      <td>01</td>\n",
              "      <td>0013</td>\n",
              "      <td>G</td>\n",
              "      <td>Carsoning</td>\n",
              "    </tr>\n",
              "    <tr>\n",
              "      <th>1</th>\n",
              "      <td>1.071294</td>\n",
              "      <td>Earth</td>\n",
              "      <td>False</td>\n",
              "      <td>S</td>\n",
              "      <td>False</td>\n",
              "      <td>-1.255842</td>\n",
              "      <td>TRAPPIST-1e</td>\n",
              "      <td>01</td>\n",
              "      <td>0018</td>\n",
              "      <td>F</td>\n",
              "      <td>Peckers</td>\n",
              "    </tr>\n",
              "    <tr>\n",
              "      <th>2</th>\n",
              "      <td>-0.448589</td>\n",
              "      <td>Europa</td>\n",
              "      <td>True</td>\n",
              "      <td>S</td>\n",
              "      <td>False</td>\n",
              "      <td>0.503201</td>\n",
              "      <td>55 Cancri e</td>\n",
              "      <td>01</td>\n",
              "      <td>0019</td>\n",
              "      <td>C</td>\n",
              "      <td>Unhearfus</td>\n",
              "    </tr>\n",
              "    <tr>\n",
              "      <th>3</th>\n",
              "      <td>-0.036180</td>\n",
              "      <td>Europa</td>\n",
              "      <td>False</td>\n",
              "      <td>S</td>\n",
              "      <td>False</td>\n",
              "      <td>1.382722</td>\n",
              "      <td>TRAPPIST-1e</td>\n",
              "      <td>01</td>\n",
              "      <td>0021</td>\n",
              "      <td>C</td>\n",
              "      <td>Caltilter</td>\n",
              "    </tr>\n",
              "    <tr>\n",
              "      <th>4</th>\n",
              "      <td>-0.443205</td>\n",
              "      <td>Earth</td>\n",
              "      <td>False</td>\n",
              "      <td>S</td>\n",
              "      <td>False</td>\n",
              "      <td>-1.255842</td>\n",
              "      <td>TRAPPIST-1e</td>\n",
              "      <td>01</td>\n",
              "      <td>0023</td>\n",
              "      <td>F</td>\n",
              "      <td>Harperez</td>\n",
              "    </tr>\n",
              "    <tr>\n",
              "      <th>...</th>\n",
              "      <td>...</td>\n",
              "      <td>...</td>\n",
              "      <td>...</td>\n",
              "      <td>...</td>\n",
              "      <td>...</td>\n",
              "      <td>...</td>\n",
              "      <td>...</td>\n",
              "      <td>...</td>\n",
              "      <td>...</td>\n",
              "      <td>...</td>\n",
              "      <td>...</td>\n",
              "    </tr>\n",
              "    <tr>\n",
              "      <th>4272</th>\n",
              "      <td>-0.448589</td>\n",
              "      <td>Earth</td>\n",
              "      <td>True</td>\n",
              "      <td>S</td>\n",
              "      <td>False</td>\n",
              "      <td>0.503201</td>\n",
              "      <td>TRAPPIST-1e</td>\n",
              "      <td>02</td>\n",
              "      <td>9266</td>\n",
              "      <td>G</td>\n",
              "      <td>Peter</td>\n",
              "    </tr>\n",
              "    <tr>\n",
              "      <th>4273</th>\n",
              "      <td>-0.365677</td>\n",
              "      <td>Earth</td>\n",
              "      <td>False</td>\n",
              "      <td>S</td>\n",
              "      <td>False</td>\n",
              "      <td>1.382722</td>\n",
              "      <td>TRAPPIST-1e</td>\n",
              "      <td>01</td>\n",
              "      <td>9269</td>\n",
              "      <td>F</td>\n",
              "      <td>Scheron</td>\n",
              "    </tr>\n",
              "    <tr>\n",
              "      <th>4274</th>\n",
              "      <td>-0.448589</td>\n",
              "      <td>Mars</td>\n",
              "      <td>True</td>\n",
              "      <td>P</td>\n",
              "      <td>False</td>\n",
              "      <td>0.503201</td>\n",
              "      <td>55 Cancri e</td>\n",
              "      <td>01</td>\n",
              "      <td>9271</td>\n",
              "      <td>D</td>\n",
              "      <td>Pore</td>\n",
              "    </tr>\n",
              "    <tr>\n",
              "      <th>4275</th>\n",
              "      <td>-0.167010</td>\n",
              "      <td>Europa</td>\n",
              "      <td>False</td>\n",
              "      <td>P</td>\n",
              "      <td>False</td>\n",
              "      <td>0.503201</td>\n",
              "      <td>TRAPPIST-1e</td>\n",
              "      <td>01</td>\n",
              "      <td>9273</td>\n",
              "      <td>D</td>\n",
              "      <td>Conale</td>\n",
              "    </tr>\n",
              "    <tr>\n",
              "      <th>4276</th>\n",
              "      <td>-0.448589</td>\n",
              "      <td>Earth</td>\n",
              "      <td>True</td>\n",
              "      <td>S</td>\n",
              "      <td>False</td>\n",
              "      <td>1.382722</td>\n",
              "      <td>PSO J318.5-22</td>\n",
              "      <td>01</td>\n",
              "      <td>9277</td>\n",
              "      <td>G</td>\n",
              "      <td>Leonzaley</td>\n",
              "    </tr>\n",
              "  </tbody>\n",
              "</table>\n",
              "<p>4277 rows × 11 columns</p>\n",
              "</div>\n",
              "      <button class=\"colab-df-convert\" onclick=\"convertToInteractive('df-2a35fab5-70b4-4456-bbae-9b8fb82fac83')\"\n",
              "              title=\"Convert this dataframe to an interactive table.\"\n",
              "              style=\"display:none;\">\n",
              "        \n",
              "  <svg xmlns=\"http://www.w3.org/2000/svg\" height=\"24px\"viewBox=\"0 0 24 24\"\n",
              "       width=\"24px\">\n",
              "    <path d=\"M0 0h24v24H0V0z\" fill=\"none\"/>\n",
              "    <path d=\"M18.56 5.44l.94 2.06.94-2.06 2.06-.94-2.06-.94-.94-2.06-.94 2.06-2.06.94zm-11 1L8.5 8.5l.94-2.06 2.06-.94-2.06-.94L8.5 2.5l-.94 2.06-2.06.94zm10 10l.94 2.06.94-2.06 2.06-.94-2.06-.94-.94-2.06-.94 2.06-2.06.94z\"/><path d=\"M17.41 7.96l-1.37-1.37c-.4-.4-.92-.59-1.43-.59-.52 0-1.04.2-1.43.59L10.3 9.45l-7.72 7.72c-.78.78-.78 2.05 0 2.83L4 21.41c.39.39.9.59 1.41.59.51 0 1.02-.2 1.41-.59l7.78-7.78 2.81-2.81c.8-.78.8-2.07 0-2.86zM5.41 20L4 18.59l7.72-7.72 1.47 1.35L5.41 20z\"/>\n",
              "  </svg>\n",
              "      </button>\n",
              "      \n",
              "  <style>\n",
              "    .colab-df-container {\n",
              "      display:flex;\n",
              "      flex-wrap:wrap;\n",
              "      gap: 12px;\n",
              "    }\n",
              "\n",
              "    .colab-df-convert {\n",
              "      background-color: #E8F0FE;\n",
              "      border: none;\n",
              "      border-radius: 50%;\n",
              "      cursor: pointer;\n",
              "      display: none;\n",
              "      fill: #1967D2;\n",
              "      height: 32px;\n",
              "      padding: 0 0 0 0;\n",
              "      width: 32px;\n",
              "    }\n",
              "\n",
              "    .colab-df-convert:hover {\n",
              "      background-color: #E2EBFA;\n",
              "      box-shadow: 0px 1px 2px rgba(60, 64, 67, 0.3), 0px 1px 3px 1px rgba(60, 64, 67, 0.15);\n",
              "      fill: #174EA6;\n",
              "    }\n",
              "\n",
              "    [theme=dark] .colab-df-convert {\n",
              "      background-color: #3B4455;\n",
              "      fill: #D2E3FC;\n",
              "    }\n",
              "\n",
              "    [theme=dark] .colab-df-convert:hover {\n",
              "      background-color: #434B5C;\n",
              "      box-shadow: 0px 1px 3px 1px rgba(0, 0, 0, 0.15);\n",
              "      filter: drop-shadow(0px 1px 2px rgba(0, 0, 0, 0.3));\n",
              "      fill: #FFFFFF;\n",
              "    }\n",
              "  </style>\n",
              "\n",
              "      <script>\n",
              "        const buttonEl =\n",
              "          document.querySelector('#df-2a35fab5-70b4-4456-bbae-9b8fb82fac83 button.colab-df-convert');\n",
              "        buttonEl.style.display =\n",
              "          google.colab.kernel.accessAllowed ? 'block' : 'none';\n",
              "\n",
              "        async function convertToInteractive(key) {\n",
              "          const element = document.querySelector('#df-2a35fab5-70b4-4456-bbae-9b8fb82fac83');\n",
              "          const dataTable =\n",
              "            await google.colab.kernel.invokeFunction('convertToInteractive',\n",
              "                                                     [key], {});\n",
              "          if (!dataTable) return;\n",
              "\n",
              "          const docLinkHtml = 'Like what you see? Visit the ' +\n",
              "            '<a target=\"_blank\" href=https://colab.research.google.com/notebooks/data_table.ipynb>data table notebook</a>'\n",
              "            + ' to learn more about interactive tables.';\n",
              "          element.innerHTML = '';\n",
              "          dataTable['output_type'] = 'display_data';\n",
              "          await google.colab.output.renderOutput(dataTable, element);\n",
              "          const docLink = document.createElement('div');\n",
              "          docLink.innerHTML = docLinkHtml;\n",
              "          element.appendChild(docLink);\n",
              "        }\n",
              "      </script>\n",
              "    </div>\n",
              "  </div>\n",
              "  "
            ]
          },
          "metadata": {},
          "execution_count": 66
        }
      ]
    },
    {
      "cell_type": "code",
      "execution_count": null,
      "metadata": {
        "id": "MsS-cHdttgsT",
        "colab": {
          "base_uri": "https://localhost:8080/"
        },
        "outputId": "0bdba02b-58f6-475d-bffd-513e6b812d92"
      },
      "outputs": [
        {
          "output_type": "stream",
          "name": "stderr",
          "text": [
            "/usr/local/lib/python3.7/dist-packages/pandas/core/frame.py:3678: SettingWithCopyWarning: \n",
            "A value is trying to be set on a copy of a slice from a DataFrame.\n",
            "Try using .loc[row_indexer,col_indexer] = value instead\n",
            "\n",
            "See the caveats in the documentation: https://pandas.pydata.org/pandas-docs/stable/user_guide/indexing.html#returning-a-view-versus-a-copy\n",
            "  self[col] = igetitem(value, i)\n"
          ]
        }
      ],
      "source": [
        "# int_imp=Int_Imputer(['Age','RoomService','FoodCourt','ShoppingMall','Spa','VRDeck'])\n",
        "# testKag=int_imp.fit_transform(testKag)\n",
        "val_imp=Value_Imputer({'RoomService':df['RoomService'].mean(),'Spa':df['Spa'].mean(),'VRDeck':df['VRDeck'].mean(),\n",
        "                       'HomePlanet':df['HomePlanet'].mode().values[0],'Destination':df['Destination'].mode().values[0],\n",
        "                       'CryoSleep':df['CryoSleep'].mode().values[0],'VIP':df['VIP'].mode().values[0],\n",
        "                       })\n",
        "testKag=val_imp.fit_transform(testKag)\n",
        "attri_adder=AttriAdder()\n",
        "testKag=attri_adder.fit_transform(testKag)\n",
        "testKag['side']=testKag['side'].fillna(value=cat_df['side'].mode().values[0])\n",
        "# modeImp=ModeImputer(['HomePlanet','CryoSleep','side','Destination','VIP'])\n",
        "# testKag=modeImp.fit_transform(testKag)\n",
        "# type_change=TypeChange({'CryoSleep':np.int64,'VIP':np.int64})\n",
        "# testKag=type_change.fit_transform(testKag)\n",
        "# one_hot=OneHot(['HomePlanet','side','Destination','P_ID2'])\n",
        "# testKag=one_hot.fit_transform(testKag)\n",
        "# drp_cls=Dropcols(['Name','Cabin','Destination','HomePlanet','side','PassengerId','RoomService','VRDeck','Spa'])\n",
        "# df=drp_cls.fit_transform(df)\n",
        "# bin=Binner(['Age'],4)\n",
        "# testKag=bin.fit_transform(testKag)\n",
        "keep_cls=Keepcols(['TotalSpent','HomePlanet','side','P_ID2','CryoSleep','VIP','Destination'])\n",
        "cat_testKag=keep_cls.fit_transform(testKag)\n",
        "scaler=Scaler(['TotalSpent'])\n",
        "cat_testKag=scaler.fit_transform(cat_testKag)"
      ]
    },
    {
      "cell_type": "code",
      "source": [
        "fully_trained_cat=joblib.load('./drive/MyDrive/spaceTitanic/cat_all')\n",
        "predictions=pd.DataFrame({'PassengerId':testKag['PassengerId'],'Transported':fully_trained_cat.predict(cat_testKag).astype('bool')})\n",
        "predictions.to_csv('./drive/MyDrive/spaceTitanic/full_cat_preds.csv')"
      ],
      "metadata": {
        "id": "iEUk3hA8urE3"
      },
      "execution_count": null,
      "outputs": []
    },
    {
      "cell_type": "code",
      "source": [
        "def answer_dumper(model,file_name,df,ids):\n",
        "  predictions=pd.DataFrame({'PassengerId':ids,'Transported':model.predict(df).astype('bool')})\n",
        "  predictions.to_csv('./drive/MyDrive/spaceTitanic/'+file_name+'.csv')"
      ],
      "metadata": {
        "id": "MAp-th01ooja"
      },
      "execution_count": 154,
      "outputs": []
    },
    {
      "cell_type": "code",
      "source": [
        "\n",
        "answer_dumper(cat_model,'cat_with_num_deathSpent',testKag,Passenger_ids)"
      ],
      "metadata": {
        "id": "clwvuTLbpK9n"
      },
      "execution_count": 155,
      "outputs": []
    },
    {
      "cell_type": "code",
      "source": [
        "from mlxtend.feature_selection import ExhaustiveFeatureSelector as EFS\n",
        "\n",
        "cat_model=CatBoostClassifier(cat_features=['HomePlanet','side','P_ID2','CryoSleep','VIP','Destination','lastName','P_ID1'],eval_metric='Accuracy',depth=12, l2_leaf_reg=1, learning_rate=0.03)\n",
        "\n",
        "\n",
        "\n",
        "efs1 = EFS(cat_model, \n",
        "           min_features=1,\n",
        "           max_features=10,\n",
        "           scoring='accuracy',\n",
        "           print_progress=True,\n",
        "           cv=3,\n",
        "           n_jobs=-1)\n",
        "\n",
        "efs1 = efs1.fit(cat_train, train_labels)\n",
        "\n",
        "print('Best accuracy score:',efs1.best_score_)\n",
        "print('Best subset (indices):', efs1.best_idx_)\n",
        "print('Best subset (corresponding names):', efs1.best_feature_names_)"
      ],
      "metadata": {
        "id": "1X7KcIFppS7W",
        "colab": {
          "base_uri": "https://localhost:8080/",
          "height": 556
        },
        "outputId": "24a0e3ba-a327-4baf-e604-aa141df38626"
      },
      "execution_count": null,
      "outputs": [
        {
          "output_type": "error",
          "ename": "ModuleNotFoundError",
          "evalue": "ignored",
          "traceback": [
            "\u001b[0;31m---------------------------------------------------------------------------\u001b[0m",
            "\u001b[0;31mModuleNotFoundError\u001b[0m                       Traceback (most recent call last)",
            "\u001b[0;32m<ipython-input-52-00f4c3f089b9>\u001b[0m in \u001b[0;36m<module>\u001b[0;34m\u001b[0m\n\u001b[0;32m----> 1\u001b[0;31m \u001b[0;32mfrom\u001b[0m \u001b[0mmlxtend\u001b[0m\u001b[0;34m.\u001b[0m\u001b[0mfeature_selection\u001b[0m \u001b[0;32mimport\u001b[0m \u001b[0mExhaustiveFeatureSelector\u001b[0m \u001b[0;32mas\u001b[0m \u001b[0mEFS\u001b[0m\u001b[0;34m\u001b[0m\u001b[0;34m\u001b[0m\u001b[0m\n\u001b[0m\u001b[1;32m      2\u001b[0m \u001b[0;34m\u001b[0m\u001b[0m\n\u001b[1;32m      3\u001b[0m \u001b[0mcat_model\u001b[0m\u001b[0;34m=\u001b[0m\u001b[0mCatBoostClassifier\u001b[0m\u001b[0;34m(\u001b[0m\u001b[0mcat_features\u001b[0m\u001b[0;34m=\u001b[0m\u001b[0;34m[\u001b[0m\u001b[0;34m'HomePlanet'\u001b[0m\u001b[0;34m,\u001b[0m\u001b[0;34m'side'\u001b[0m\u001b[0;34m,\u001b[0m\u001b[0;34m'P_ID2'\u001b[0m\u001b[0;34m,\u001b[0m\u001b[0;34m'CryoSleep'\u001b[0m\u001b[0;34m,\u001b[0m\u001b[0;34m'VIP'\u001b[0m\u001b[0;34m,\u001b[0m\u001b[0;34m'Destination'\u001b[0m\u001b[0;34m,\u001b[0m\u001b[0;34m'lastName'\u001b[0m\u001b[0;34m,\u001b[0m\u001b[0;34m'P_ID1'\u001b[0m\u001b[0;34m]\u001b[0m\u001b[0;34m,\u001b[0m\u001b[0meval_metric\u001b[0m\u001b[0;34m=\u001b[0m\u001b[0;34m'Accuracy'\u001b[0m\u001b[0;34m,\u001b[0m\u001b[0mdepth\u001b[0m\u001b[0;34m=\u001b[0m\u001b[0;36m12\u001b[0m\u001b[0;34m,\u001b[0m \u001b[0ml2_leaf_reg\u001b[0m\u001b[0;34m=\u001b[0m\u001b[0;36m1\u001b[0m\u001b[0;34m,\u001b[0m \u001b[0mlearning_rate\u001b[0m\u001b[0;34m=\u001b[0m\u001b[0;36m0.03\u001b[0m\u001b[0;34m)\u001b[0m\u001b[0;34m\u001b[0m\u001b[0;34m\u001b[0m\u001b[0m\n\u001b[1;32m      4\u001b[0m \u001b[0;34m\u001b[0m\u001b[0m\n\u001b[1;32m      5\u001b[0m \u001b[0;34m\u001b[0m\u001b[0m\n",
            "\u001b[0;32m/usr/local/lib/python3.7/dist-packages/mlxtend/feature_selection/__init__.py\u001b[0m in \u001b[0;36m<module>\u001b[0;34m\u001b[0m\n\u001b[1;32m      6\u001b[0m \u001b[0;34m\u001b[0m\u001b[0m\n\u001b[1;32m      7\u001b[0m \u001b[0;32mfrom\u001b[0m \u001b[0;34m.\u001b[0m\u001b[0mcolumn_selector\u001b[0m \u001b[0;32mimport\u001b[0m \u001b[0mColumnSelector\u001b[0m\u001b[0;34m\u001b[0m\u001b[0;34m\u001b[0m\u001b[0m\n\u001b[0;32m----> 8\u001b[0;31m \u001b[0;32mfrom\u001b[0m \u001b[0;34m.\u001b[0m\u001b[0msequential_feature_selector\u001b[0m \u001b[0;32mimport\u001b[0m \u001b[0mSequentialFeatureSelector\u001b[0m\u001b[0;34m\u001b[0m\u001b[0;34m\u001b[0m\u001b[0m\n\u001b[0m\u001b[1;32m      9\u001b[0m \u001b[0;32mfrom\u001b[0m \u001b[0;34m.\u001b[0m\u001b[0mexhaustive_feature_selector\u001b[0m \u001b[0;32mimport\u001b[0m \u001b[0mExhaustiveFeatureSelector\u001b[0m\u001b[0;34m\u001b[0m\u001b[0;34m\u001b[0m\u001b[0m\n\u001b[1;32m     10\u001b[0m \u001b[0;34m\u001b[0m\u001b[0m\n",
            "\u001b[0;32m/usr/local/lib/python3.7/dist-packages/mlxtend/feature_selection/sequential_feature_selector.py\u001b[0m in \u001b[0;36m<module>\u001b[0;34m\u001b[0m\n\u001b[1;32m     21\u001b[0m \u001b[0;32mfrom\u001b[0m \u001b[0;34m.\u001b[0m\u001b[0;34m.\u001b[0m\u001b[0mexternals\u001b[0m\u001b[0;34m.\u001b[0m\u001b[0mname_estimators\u001b[0m \u001b[0;32mimport\u001b[0m \u001b[0m_name_estimators\u001b[0m\u001b[0;34m\u001b[0m\u001b[0;34m\u001b[0m\u001b[0m\n\u001b[1;32m     22\u001b[0m \u001b[0;32mfrom\u001b[0m \u001b[0msklearn\u001b[0m\u001b[0;34m.\u001b[0m\u001b[0mmodel_selection\u001b[0m \u001b[0;32mimport\u001b[0m \u001b[0mcross_val_score\u001b[0m\u001b[0;34m\u001b[0m\u001b[0;34m\u001b[0m\u001b[0m\n\u001b[0;32m---> 23\u001b[0;31m \u001b[0;32mfrom\u001b[0m \u001b[0msklearn\u001b[0m\u001b[0;34m.\u001b[0m\u001b[0mexternals\u001b[0m\u001b[0;34m.\u001b[0m\u001b[0mjoblib\u001b[0m \u001b[0;32mimport\u001b[0m \u001b[0mParallel\u001b[0m\u001b[0;34m,\u001b[0m \u001b[0mdelayed\u001b[0m\u001b[0;34m\u001b[0m\u001b[0;34m\u001b[0m\u001b[0m\n\u001b[0m\u001b[1;32m     24\u001b[0m \u001b[0;34m\u001b[0m\u001b[0m\n\u001b[1;32m     25\u001b[0m \u001b[0;34m\u001b[0m\u001b[0m\n",
            "\u001b[0;31mModuleNotFoundError\u001b[0m: No module named 'sklearn.externals.joblib'",
            "",
            "\u001b[0;31m---------------------------------------------------------------------------\u001b[0;32m\nNOTE: If your import is failing due to a missing package, you can\nmanually install dependencies using either !pip or !apt.\n\nTo view examples of installing some common dependencies, click the\n\"Open Examples\" button below.\n\u001b[0;31m---------------------------------------------------------------------------\u001b[0m\n"
          ],
          "errorDetails": {
            "actions": [
              {
                "action": "open_url",
                "actionText": "Open Examples",
                "url": "/notebooks/snippets/importing_libraries.ipynb"
              }
            ]
          }
        }
      ]
    },
    {
      "cell_type": "code",
      "source": [
        "cat_train"
      ],
      "metadata": {
        "colab": {
          "base_uri": "https://localhost:8080/",
          "height": 424
        },
        "id": "Ixva1NBx8m_C",
        "outputId": "60b00d5e-6a92-42c7-a6db-0caaf127a31f"
      },
      "execution_count": null,
      "outputs": [
        {
          "output_type": "execute_result",
          "data": {
            "text/plain": [
              "      TotalSpent HomePlanet  CryoSleep side    VIP       Age    Destination  \\\n",
              "118    -0.458922       Mars       True    S  False  1.352542    TRAPPIST-1e   \n",
              "3902    0.275059       Mars      False    P  False  1.352542    TRAPPIST-1e   \n",
              "2292   -0.259700      Earth      False    S  False  1.352542    TRAPPIST-1e   \n",
              "3776   -0.458922      Earth      False    P  False -1.276915  PSO J318.5-22   \n",
              "808    -0.458922      Earth       True    S  False  0.476056    TRAPPIST-1e   \n",
              "...          ...        ...        ...  ...    ...       ...            ...   \n",
              "2023   -0.458922       Mars       True    S  False -0.400429  PSO J318.5-22   \n",
              "7571    0.892804     Europa      False    S  False  0.476056    TRAPPIST-1e   \n",
              "4628   -0.458922     Europa      False    P  False  1.352542    TRAPPIST-1e   \n",
              "1330   -0.235726      Earth      False    P  False -1.276915  PSO J318.5-22   \n",
              "74     -0.458922      Earth       True    S  False -1.276915    TRAPPIST-1e   \n",
              "\n",
              "     P_ID2 P_ID1    lastName  \n",
              "118     01  0126        Mish  \n",
              "3902    04  4176         Fla  \n",
              "2292    01  2463  Johnshines  \n",
              "3776    01  4032  Waltonnedy  \n",
              "808     01  0859     Lambles  \n",
              "...    ...   ...         ...  \n",
              "2023    01  2162       Graie  \n",
              "7571    01  8092     Pulgaly  \n",
              "4628    02  4930     Alenter  \n",
              "1330    02  1407      Foxter  \n",
              "74      01  0081   Vinozarks  \n",
              "\n",
              "[7823 rows x 10 columns]"
            ],
            "text/html": [
              "\n",
              "  <div id=\"df-23c54559-bbdb-4f05-8b2f-255a00f95029\">\n",
              "    <div class=\"colab-df-container\">\n",
              "      <div>\n",
              "<style scoped>\n",
              "    .dataframe tbody tr th:only-of-type {\n",
              "        vertical-align: middle;\n",
              "    }\n",
              "\n",
              "    .dataframe tbody tr th {\n",
              "        vertical-align: top;\n",
              "    }\n",
              "\n",
              "    .dataframe thead th {\n",
              "        text-align: right;\n",
              "    }\n",
              "</style>\n",
              "<table border=\"1\" class=\"dataframe\">\n",
              "  <thead>\n",
              "    <tr style=\"text-align: right;\">\n",
              "      <th></th>\n",
              "      <th>TotalSpent</th>\n",
              "      <th>HomePlanet</th>\n",
              "      <th>CryoSleep</th>\n",
              "      <th>side</th>\n",
              "      <th>VIP</th>\n",
              "      <th>Age</th>\n",
              "      <th>Destination</th>\n",
              "      <th>P_ID2</th>\n",
              "      <th>P_ID1</th>\n",
              "      <th>lastName</th>\n",
              "    </tr>\n",
              "  </thead>\n",
              "  <tbody>\n",
              "    <tr>\n",
              "      <th>118</th>\n",
              "      <td>-0.458922</td>\n",
              "      <td>Mars</td>\n",
              "      <td>True</td>\n",
              "      <td>S</td>\n",
              "      <td>False</td>\n",
              "      <td>1.352542</td>\n",
              "      <td>TRAPPIST-1e</td>\n",
              "      <td>01</td>\n",
              "      <td>0126</td>\n",
              "      <td>Mish</td>\n",
              "    </tr>\n",
              "    <tr>\n",
              "      <th>3902</th>\n",
              "      <td>0.275059</td>\n",
              "      <td>Mars</td>\n",
              "      <td>False</td>\n",
              "      <td>P</td>\n",
              "      <td>False</td>\n",
              "      <td>1.352542</td>\n",
              "      <td>TRAPPIST-1e</td>\n",
              "      <td>04</td>\n",
              "      <td>4176</td>\n",
              "      <td>Fla</td>\n",
              "    </tr>\n",
              "    <tr>\n",
              "      <th>2292</th>\n",
              "      <td>-0.259700</td>\n",
              "      <td>Earth</td>\n",
              "      <td>False</td>\n",
              "      <td>S</td>\n",
              "      <td>False</td>\n",
              "      <td>1.352542</td>\n",
              "      <td>TRAPPIST-1e</td>\n",
              "      <td>01</td>\n",
              "      <td>2463</td>\n",
              "      <td>Johnshines</td>\n",
              "    </tr>\n",
              "    <tr>\n",
              "      <th>3776</th>\n",
              "      <td>-0.458922</td>\n",
              "      <td>Earth</td>\n",
              "      <td>False</td>\n",
              "      <td>P</td>\n",
              "      <td>False</td>\n",
              "      <td>-1.276915</td>\n",
              "      <td>PSO J318.5-22</td>\n",
              "      <td>01</td>\n",
              "      <td>4032</td>\n",
              "      <td>Waltonnedy</td>\n",
              "    </tr>\n",
              "    <tr>\n",
              "      <th>808</th>\n",
              "      <td>-0.458922</td>\n",
              "      <td>Earth</td>\n",
              "      <td>True</td>\n",
              "      <td>S</td>\n",
              "      <td>False</td>\n",
              "      <td>0.476056</td>\n",
              "      <td>TRAPPIST-1e</td>\n",
              "      <td>01</td>\n",
              "      <td>0859</td>\n",
              "      <td>Lambles</td>\n",
              "    </tr>\n",
              "    <tr>\n",
              "      <th>...</th>\n",
              "      <td>...</td>\n",
              "      <td>...</td>\n",
              "      <td>...</td>\n",
              "      <td>...</td>\n",
              "      <td>...</td>\n",
              "      <td>...</td>\n",
              "      <td>...</td>\n",
              "      <td>...</td>\n",
              "      <td>...</td>\n",
              "      <td>...</td>\n",
              "    </tr>\n",
              "    <tr>\n",
              "      <th>2023</th>\n",
              "      <td>-0.458922</td>\n",
              "      <td>Mars</td>\n",
              "      <td>True</td>\n",
              "      <td>S</td>\n",
              "      <td>False</td>\n",
              "      <td>-0.400429</td>\n",
              "      <td>PSO J318.5-22</td>\n",
              "      <td>01</td>\n",
              "      <td>2162</td>\n",
              "      <td>Graie</td>\n",
              "    </tr>\n",
              "    <tr>\n",
              "      <th>7571</th>\n",
              "      <td>0.892804</td>\n",
              "      <td>Europa</td>\n",
              "      <td>False</td>\n",
              "      <td>S</td>\n",
              "      <td>False</td>\n",
              "      <td>0.476056</td>\n",
              "      <td>TRAPPIST-1e</td>\n",
              "      <td>01</td>\n",
              "      <td>8092</td>\n",
              "      <td>Pulgaly</td>\n",
              "    </tr>\n",
              "    <tr>\n",
              "      <th>4628</th>\n",
              "      <td>-0.458922</td>\n",
              "      <td>Europa</td>\n",
              "      <td>False</td>\n",
              "      <td>P</td>\n",
              "      <td>False</td>\n",
              "      <td>1.352542</td>\n",
              "      <td>TRAPPIST-1e</td>\n",
              "      <td>02</td>\n",
              "      <td>4930</td>\n",
              "      <td>Alenter</td>\n",
              "    </tr>\n",
              "    <tr>\n",
              "      <th>1330</th>\n",
              "      <td>-0.235726</td>\n",
              "      <td>Earth</td>\n",
              "      <td>False</td>\n",
              "      <td>P</td>\n",
              "      <td>False</td>\n",
              "      <td>-1.276915</td>\n",
              "      <td>PSO J318.5-22</td>\n",
              "      <td>02</td>\n",
              "      <td>1407</td>\n",
              "      <td>Foxter</td>\n",
              "    </tr>\n",
              "    <tr>\n",
              "      <th>74</th>\n",
              "      <td>-0.458922</td>\n",
              "      <td>Earth</td>\n",
              "      <td>True</td>\n",
              "      <td>S</td>\n",
              "      <td>False</td>\n",
              "      <td>-1.276915</td>\n",
              "      <td>TRAPPIST-1e</td>\n",
              "      <td>01</td>\n",
              "      <td>0081</td>\n",
              "      <td>Vinozarks</td>\n",
              "    </tr>\n",
              "  </tbody>\n",
              "</table>\n",
              "<p>7823 rows × 10 columns</p>\n",
              "</div>\n",
              "      <button class=\"colab-df-convert\" onclick=\"convertToInteractive('df-23c54559-bbdb-4f05-8b2f-255a00f95029')\"\n",
              "              title=\"Convert this dataframe to an interactive table.\"\n",
              "              style=\"display:none;\">\n",
              "        \n",
              "  <svg xmlns=\"http://www.w3.org/2000/svg\" height=\"24px\"viewBox=\"0 0 24 24\"\n",
              "       width=\"24px\">\n",
              "    <path d=\"M0 0h24v24H0V0z\" fill=\"none\"/>\n",
              "    <path d=\"M18.56 5.44l.94 2.06.94-2.06 2.06-.94-2.06-.94-.94-2.06-.94 2.06-2.06.94zm-11 1L8.5 8.5l.94-2.06 2.06-.94-2.06-.94L8.5 2.5l-.94 2.06-2.06.94zm10 10l.94 2.06.94-2.06 2.06-.94-2.06-.94-.94-2.06-.94 2.06-2.06.94z\"/><path d=\"M17.41 7.96l-1.37-1.37c-.4-.4-.92-.59-1.43-.59-.52 0-1.04.2-1.43.59L10.3 9.45l-7.72 7.72c-.78.78-.78 2.05 0 2.83L4 21.41c.39.39.9.59 1.41.59.51 0 1.02-.2 1.41-.59l7.78-7.78 2.81-2.81c.8-.78.8-2.07 0-2.86zM5.41 20L4 18.59l7.72-7.72 1.47 1.35L5.41 20z\"/>\n",
              "  </svg>\n",
              "      </button>\n",
              "      \n",
              "  <style>\n",
              "    .colab-df-container {\n",
              "      display:flex;\n",
              "      flex-wrap:wrap;\n",
              "      gap: 12px;\n",
              "    }\n",
              "\n",
              "    .colab-df-convert {\n",
              "      background-color: #E8F0FE;\n",
              "      border: none;\n",
              "      border-radius: 50%;\n",
              "      cursor: pointer;\n",
              "      display: none;\n",
              "      fill: #1967D2;\n",
              "      height: 32px;\n",
              "      padding: 0 0 0 0;\n",
              "      width: 32px;\n",
              "    }\n",
              "\n",
              "    .colab-df-convert:hover {\n",
              "      background-color: #E2EBFA;\n",
              "      box-shadow: 0px 1px 2px rgba(60, 64, 67, 0.3), 0px 1px 3px 1px rgba(60, 64, 67, 0.15);\n",
              "      fill: #174EA6;\n",
              "    }\n",
              "\n",
              "    [theme=dark] .colab-df-convert {\n",
              "      background-color: #3B4455;\n",
              "      fill: #D2E3FC;\n",
              "    }\n",
              "\n",
              "    [theme=dark] .colab-df-convert:hover {\n",
              "      background-color: #434B5C;\n",
              "      box-shadow: 0px 1px 3px 1px rgba(0, 0, 0, 0.15);\n",
              "      filter: drop-shadow(0px 1px 2px rgba(0, 0, 0, 0.3));\n",
              "      fill: #FFFFFF;\n",
              "    }\n",
              "  </style>\n",
              "\n",
              "      <script>\n",
              "        const buttonEl =\n",
              "          document.querySelector('#df-23c54559-bbdb-4f05-8b2f-255a00f95029 button.colab-df-convert');\n",
              "        buttonEl.style.display =\n",
              "          google.colab.kernel.accessAllowed ? 'block' : 'none';\n",
              "\n",
              "        async function convertToInteractive(key) {\n",
              "          const element = document.querySelector('#df-23c54559-bbdb-4f05-8b2f-255a00f95029');\n",
              "          const dataTable =\n",
              "            await google.colab.kernel.invokeFunction('convertToInteractive',\n",
              "                                                     [key], {});\n",
              "          if (!dataTable) return;\n",
              "\n",
              "          const docLinkHtml = 'Like what you see? Visit the ' +\n",
              "            '<a target=\"_blank\" href=https://colab.research.google.com/notebooks/data_table.ipynb>data table notebook</a>'\n",
              "            + ' to learn more about interactive tables.';\n",
              "          element.innerHTML = '';\n",
              "          dataTable['output_type'] = 'display_data';\n",
              "          await google.colab.output.renderOutput(dataTable, element);\n",
              "          const docLink = document.createElement('div');\n",
              "          docLink.innerHTML = docLinkHtml;\n",
              "          element.appendChild(docLink);\n",
              "        }\n",
              "      </script>\n",
              "    </div>\n",
              "  </div>\n",
              "  "
            ]
          },
          "metadata": {},
          "execution_count": 42
        }
      ]
    },
    {
      "cell_type": "code",
      "source": [
        "train_labels"
      ],
      "metadata": {
        "colab": {
          "base_uri": "https://localhost:8080/"
        },
        "id": "vjU0epeu8n_v",
        "outputId": "e9b38b5a-98de-4ab7-8822-9357ed14fd51"
      },
      "execution_count": null,
      "outputs": [
        {
          "output_type": "execute_result",
          "data": {
            "text/plain": [
              "118     1\n",
              "3902    0\n",
              "2292    0\n",
              "3776    1\n",
              "808     1\n",
              "       ..\n",
              "2023    1\n",
              "7571    1\n",
              "4628    1\n",
              "1330    1\n",
              "74      0\n",
              "Name: Transported, Length: 7823, dtype: int64"
            ]
          },
          "metadata": {},
          "execution_count": 44
        }
      ]
    },
    {
      "cell_type": "code",
      "source": [
        "cat_train.to_csv('./drive/MyDrive/spaceTitanic/cat_train.csv')\n",
        "train_labels.to_csv('./drive/MyDrive/spaceTitanic/cat_train_labels.csv')"
      ],
      "metadata": {
        "id": "BQ-zcr5v8tam"
      },
      "execution_count": null,
      "outputs": []
    },
    {
      "cell_type": "code",
      "source": [
        "cat_test.to_csv('./drive/MyDrive/spaceTitanic/cat_test.csv')\n",
        "test_labels.to_csv('./drive/MyDrive/spaceTitanic/cat_test_labels.csv')"
      ],
      "metadata": {
        "id": "O57yJom4_bA_"
      },
      "execution_count": null,
      "outputs": []
    },
    {
      "cell_type": "code",
      "source": [
        "exp_feats=['RoomService', 'FoodCourt', 'ShoppingMall', 'Spa', 'VRDeck']\n",
        "\n",
        "# Plot expenditure features\n",
        "fig=plt.figure(figsize=(10,20))\n",
        "for i, var_name in enumerate(exp_feats):\n",
        "    # Left plot\n",
        "    ax=fig.add_subplot(5,2,2*i+1)\n",
        "    sns.histplot(data=train, x=var_name, axes=ax, bins=30, kde=False, hue='Transported')\n",
        "    ax.set_title(var_name)\n",
        "    \n",
        "    # Right plot (truncated)\n",
        "    ax=fig.add_subplot(5,2,2*i+2)\n",
        "    sns.histplot(data=train, x=var_name, axes=ax, binwidth=2000, kde=False, hue='Transported')\n",
        "    plt.ylim([0,20])\n",
        "    ax.set_title(var_name)\n",
        "fig.tight_layout()  # Improves appearance a bit\n",
        "plt.show()"
      ],
      "metadata": {
        "id": "mQWlYVVCE78q"
      },
      "execution_count": null,
      "outputs": []
    }
  ],
  "metadata": {
    "accelerator": "TPU",
    "colab": {
      "collapsed_sections": [],
      "provenance": [],
      "mount_file_id": "1vse_OqxClNP_wSQoe2tWryEGCAlC0nYN",
      "authorship_tag": "ABX9TyOPUweA1TylKFh4rw/+SeE1",
      "include_colab_link": true
    },
    "kernelspec": {
      "display_name": "Python 3",
      "name": "python3"
    },
    "language_info": {
      "name": "python"
    }
  },
  "nbformat": 4,
  "nbformat_minor": 0
}