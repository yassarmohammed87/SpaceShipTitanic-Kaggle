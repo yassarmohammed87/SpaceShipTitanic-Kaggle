{
  "cells": [
    {
      "cell_type": "markdown",
      "metadata": {
        "id": "view-in-github",
        "colab_type": "text"
      },
      "source": [
        "<a href=\"https://colab.research.google.com/github/yassarmohammed87/SpaceShipTitanic-Kaggle/blob/main/Spaceship_Titanic.ipynb\" target=\"_parent\"><img src=\"https://colab.research.google.com/assets/colab-badge.svg\" alt=\"Open In Colab\"/></a>"
      ]
    },
    {
      "cell_type": "code",
      "execution_count": null,
      "metadata": {
        "id": "z9l6943kzi8R"
      },
      "outputs": [],
      "source": [
        "!pip install -q kaggle\n",
        "!mkdir ~/.kaggle\n",
        "!cp kaggle.json ~/.kaggle\n",
        "!chmod 600 ~/.kaggle/kaggle.json\n"
      ]
    },
    {
      "cell_type": "code",
      "execution_count": null,
      "metadata": {
        "colab": {
          "base_uri": "https://localhost:8080/"
        },
        "id": "xrztIkc019-N",
        "outputId": "147ef4f6-7022-460e-bde1-2295b29a29af"
      },
      "outputs": [
        {
          "name": "stdout",
          "output_type": "stream",
          "text": [
            "Downloading spaceship-titanic.zip to /content\n",
            "\r  0% 0.00/299k [00:00<?, ?B/s]\n",
            "\r100% 299k/299k [00:00<00:00, 74.5MB/s]\n"
          ]
        }
      ],
      "source": [
        "!kaggle competitions download -c spaceship-titanic\n"
      ]
    },
    {
      "cell_type": "code",
      "execution_count": null,
      "metadata": {
        "id": "baZ6fk8GATJx"
      },
      "outputs": [],
      "source": [
        "!mkdir spaceTitanic \n",
        "!cp train.csv ./spaceTitanic/\n",
        "!cp test.csv ./spaceTitanic/\n",
        "!rm -rf test.csv\n",
        "!rm -rf train.csv"
      ]
    },
    {
      "cell_type": "code",
      "execution_count": 1,
      "metadata": {
        "colab": {
          "base_uri": "https://localhost:8080/"
        },
        "id": "hvpLnUgKVhQ7",
        "outputId": "d73acaad-c3a3-4647-8943-2e9a3a7a6416"
      },
      "outputs": [
        {
          "output_type": "stream",
          "name": "stdout",
          "text": [
            "Looking in indexes: https://pypi.org/simple, https://us-python.pkg.dev/colab-wheels/public/simple/\n",
            "Collecting catboost\n",
            "  Downloading catboost-1.1-cp37-none-manylinux1_x86_64.whl (76.8 MB)\n",
            "\u001b[K     |████████████████████████████████| 76.8 MB 1.8 MB/s \n",
            "\u001b[?25hRequirement already satisfied: scipy in /usr/local/lib/python3.7/dist-packages (from catboost) (1.7.3)\n",
            "Requirement already satisfied: pandas>=0.24.0 in /usr/local/lib/python3.7/dist-packages (from catboost) (1.3.5)\n",
            "Requirement already satisfied: numpy>=1.16.0 in /usr/local/lib/python3.7/dist-packages (from catboost) (1.21.6)\n",
            "Requirement already satisfied: graphviz in /usr/local/lib/python3.7/dist-packages (from catboost) (0.10.1)\n",
            "Requirement already satisfied: six in /usr/local/lib/python3.7/dist-packages (from catboost) (1.15.0)\n",
            "Requirement already satisfied: plotly in /usr/local/lib/python3.7/dist-packages (from catboost) (5.5.0)\n",
            "Requirement already satisfied: matplotlib in /usr/local/lib/python3.7/dist-packages (from catboost) (3.2.2)\n",
            "Requirement already satisfied: python-dateutil>=2.7.3 in /usr/local/lib/python3.7/dist-packages (from pandas>=0.24.0->catboost) (2.8.2)\n",
            "Requirement already satisfied: pytz>=2017.3 in /usr/local/lib/python3.7/dist-packages (from pandas>=0.24.0->catboost) (2022.2.1)\n",
            "Requirement already satisfied: pyparsing!=2.0.4,!=2.1.2,!=2.1.6,>=2.0.1 in /usr/local/lib/python3.7/dist-packages (from matplotlib->catboost) (3.0.9)\n",
            "Requirement already satisfied: cycler>=0.10 in /usr/local/lib/python3.7/dist-packages (from matplotlib->catboost) (0.11.0)\n",
            "Requirement already satisfied: kiwisolver>=1.0.1 in /usr/local/lib/python3.7/dist-packages (from matplotlib->catboost) (1.4.4)\n",
            "Requirement already satisfied: typing-extensions in /usr/local/lib/python3.7/dist-packages (from kiwisolver>=1.0.1->matplotlib->catboost) (4.1.1)\n",
            "Requirement already satisfied: tenacity>=6.2.0 in /usr/local/lib/python3.7/dist-packages (from plotly->catboost) (8.0.1)\n",
            "Installing collected packages: catboost\n",
            "Successfully installed catboost-1.1\n"
          ]
        }
      ],
      "source": [
        "!pip install catboost"
      ]
    },
    {
      "cell_type": "code",
      "execution_count": 2,
      "metadata": {
        "id": "bIzM8tGq980_"
      },
      "outputs": [],
      "source": [
        "from google.colab import files\n",
        "import pandas as pd\n",
        "import matplotlib.pyplot as plt\n",
        "import numpy as np\n",
        "import sklearn\n",
        "import seaborn as sns\n",
        "from sklearn.preprocessing import OrdinalEncoder,OneHotEncoder\n",
        "from sklearn.base import BaseEstimator,TransformerMixin\n",
        "from sklearn.pipeline import Pipeline\n",
        "from sklearn.impute import SimpleImputer\n",
        "from sklearn.model_selection import train_test_split\n",
        "from sklearn.ensemble import RandomForestClassifier\n",
        "from sklearn.preprocessing import StandardScaler\n",
        "from sklearn.metrics import accuracy_score\n",
        "from sklearn.svm import SVC\n",
        "from sklearn.ensemble import AdaBoostClassifier\n",
        "from sklearn_pandas import CategoricalImputer\n",
        "import xgboost as xgb\n",
        "from catboost import CatBoostClassifier, Pool\n",
        "\n"
      ]
    },
    {
      "cell_type": "code",
      "execution_count": 3,
      "metadata": {
        "id": "bOdsPejULtGo"
      },
      "outputs": [],
      "source": [
        "df=pd.read_csv('./drive/MyDrive/spaceTitanic/train.csv')\n",
        "# df['Transported']=df['Transported'].astype(np.int64)"
      ]
    },
    {
      "cell_type": "code",
      "execution_count": null,
      "metadata": {
        "colab": {
          "base_uri": "https://localhost:8080/",
          "height": 644
        },
        "id": "fnpSdQRwAc4v",
        "outputId": "106e8a56-3424-4532-a1db-7f2ff87449bd"
      },
      "outputs": [
        {
          "output_type": "execute_result",
          "data": {
            "text/plain": [
              "   PassengerId HomePlanet CryoSleep   Cabin  Destination   Age    VIP  \\\n",
              "0      0001_01     Europa     False   B/0/P  TRAPPIST-1e  39.0  False   \n",
              "1      0002_01      Earth     False   F/0/S  TRAPPIST-1e  24.0  False   \n",
              "2      0003_01     Europa     False   A/0/S  TRAPPIST-1e  58.0   True   \n",
              "3      0003_02     Europa     False   A/0/S  TRAPPIST-1e  33.0  False   \n",
              "4      0004_01      Earth     False   F/1/S  TRAPPIST-1e  16.0  False   \n",
              "..         ...        ...       ...     ...          ...   ...    ...   \n",
              "95     0103_01      Earth     False  F/24/S  TRAPPIST-1e  24.0  False   \n",
              "96     0103_02      Earth      True  G/18/S  55 Cancri e   9.0  False   \n",
              "97     0103_03      Earth      True  G/18/S  TRAPPIST-1e   6.0  False   \n",
              "98     0105_01      Earth       NaN  F/21/P  TRAPPIST-1e  27.0  False   \n",
              "99     0107_01       Mars     False   D/2/S  TRAPPIST-1e  21.0  False   \n",
              "\n",
              "    RoomService  FoodCourt  ShoppingMall     Spa  VRDeck               Name  \\\n",
              "0           0.0        0.0           0.0     0.0     0.0    Maham Ofracculy   \n",
              "1         109.0        9.0          25.0   549.0    44.0       Juanna Vines   \n",
              "2          43.0     3576.0           0.0  6715.0    49.0      Altark Susent   \n",
              "3           0.0     1283.0         371.0  3329.0   193.0       Solam Susent   \n",
              "4         303.0       70.0         151.0   565.0     2.0  Willy Santantines   \n",
              "..          ...        ...           ...     ...     ...                ...   \n",
              "95          0.0        NaN           0.0     0.0    17.0     Arlen Mclainez   \n",
              "96          0.0        0.0           0.0     0.0     0.0    Shaele Mclainez   \n",
              "97          0.0        0.0           0.0     0.0     0.0     Fanne Mclainez   \n",
              "98          0.0        0.0         570.0     2.0   131.0   Carry Cleachrand   \n",
              "99       1743.0        5.0          17.0     0.0     0.0        Coobix Hart   \n",
              "\n",
              "    Transported  \n",
              "0         False  \n",
              "1          True  \n",
              "2         False  \n",
              "3         False  \n",
              "4          True  \n",
              "..          ...  \n",
              "95         True  \n",
              "96         True  \n",
              "97        False  \n",
              "98        False  \n",
              "99        False  \n",
              "\n",
              "[100 rows x 14 columns]"
            ],
            "text/html": [
              "\n",
              "  <div id=\"df-96f08f40-89ba-42e7-9d8a-173285479786\">\n",
              "    <div class=\"colab-df-container\">\n",
              "      <div>\n",
              "<style scoped>\n",
              "    .dataframe tbody tr th:only-of-type {\n",
              "        vertical-align: middle;\n",
              "    }\n",
              "\n",
              "    .dataframe tbody tr th {\n",
              "        vertical-align: top;\n",
              "    }\n",
              "\n",
              "    .dataframe thead th {\n",
              "        text-align: right;\n",
              "    }\n",
              "</style>\n",
              "<table border=\"1\" class=\"dataframe\">\n",
              "  <thead>\n",
              "    <tr style=\"text-align: right;\">\n",
              "      <th></th>\n",
              "      <th>PassengerId</th>\n",
              "      <th>HomePlanet</th>\n",
              "      <th>CryoSleep</th>\n",
              "      <th>Cabin</th>\n",
              "      <th>Destination</th>\n",
              "      <th>Age</th>\n",
              "      <th>VIP</th>\n",
              "      <th>RoomService</th>\n",
              "      <th>FoodCourt</th>\n",
              "      <th>ShoppingMall</th>\n",
              "      <th>Spa</th>\n",
              "      <th>VRDeck</th>\n",
              "      <th>Name</th>\n",
              "      <th>Transported</th>\n",
              "    </tr>\n",
              "  </thead>\n",
              "  <tbody>\n",
              "    <tr>\n",
              "      <th>0</th>\n",
              "      <td>0001_01</td>\n",
              "      <td>Europa</td>\n",
              "      <td>False</td>\n",
              "      <td>B/0/P</td>\n",
              "      <td>TRAPPIST-1e</td>\n",
              "      <td>39.0</td>\n",
              "      <td>False</td>\n",
              "      <td>0.0</td>\n",
              "      <td>0.0</td>\n",
              "      <td>0.0</td>\n",
              "      <td>0.0</td>\n",
              "      <td>0.0</td>\n",
              "      <td>Maham Ofracculy</td>\n",
              "      <td>False</td>\n",
              "    </tr>\n",
              "    <tr>\n",
              "      <th>1</th>\n",
              "      <td>0002_01</td>\n",
              "      <td>Earth</td>\n",
              "      <td>False</td>\n",
              "      <td>F/0/S</td>\n",
              "      <td>TRAPPIST-1e</td>\n",
              "      <td>24.0</td>\n",
              "      <td>False</td>\n",
              "      <td>109.0</td>\n",
              "      <td>9.0</td>\n",
              "      <td>25.0</td>\n",
              "      <td>549.0</td>\n",
              "      <td>44.0</td>\n",
              "      <td>Juanna Vines</td>\n",
              "      <td>True</td>\n",
              "    </tr>\n",
              "    <tr>\n",
              "      <th>2</th>\n",
              "      <td>0003_01</td>\n",
              "      <td>Europa</td>\n",
              "      <td>False</td>\n",
              "      <td>A/0/S</td>\n",
              "      <td>TRAPPIST-1e</td>\n",
              "      <td>58.0</td>\n",
              "      <td>True</td>\n",
              "      <td>43.0</td>\n",
              "      <td>3576.0</td>\n",
              "      <td>0.0</td>\n",
              "      <td>6715.0</td>\n",
              "      <td>49.0</td>\n",
              "      <td>Altark Susent</td>\n",
              "      <td>False</td>\n",
              "    </tr>\n",
              "    <tr>\n",
              "      <th>3</th>\n",
              "      <td>0003_02</td>\n",
              "      <td>Europa</td>\n",
              "      <td>False</td>\n",
              "      <td>A/0/S</td>\n",
              "      <td>TRAPPIST-1e</td>\n",
              "      <td>33.0</td>\n",
              "      <td>False</td>\n",
              "      <td>0.0</td>\n",
              "      <td>1283.0</td>\n",
              "      <td>371.0</td>\n",
              "      <td>3329.0</td>\n",
              "      <td>193.0</td>\n",
              "      <td>Solam Susent</td>\n",
              "      <td>False</td>\n",
              "    </tr>\n",
              "    <tr>\n",
              "      <th>4</th>\n",
              "      <td>0004_01</td>\n",
              "      <td>Earth</td>\n",
              "      <td>False</td>\n",
              "      <td>F/1/S</td>\n",
              "      <td>TRAPPIST-1e</td>\n",
              "      <td>16.0</td>\n",
              "      <td>False</td>\n",
              "      <td>303.0</td>\n",
              "      <td>70.0</td>\n",
              "      <td>151.0</td>\n",
              "      <td>565.0</td>\n",
              "      <td>2.0</td>\n",
              "      <td>Willy Santantines</td>\n",
              "      <td>True</td>\n",
              "    </tr>\n",
              "    <tr>\n",
              "      <th>...</th>\n",
              "      <td>...</td>\n",
              "      <td>...</td>\n",
              "      <td>...</td>\n",
              "      <td>...</td>\n",
              "      <td>...</td>\n",
              "      <td>...</td>\n",
              "      <td>...</td>\n",
              "      <td>...</td>\n",
              "      <td>...</td>\n",
              "      <td>...</td>\n",
              "      <td>...</td>\n",
              "      <td>...</td>\n",
              "      <td>...</td>\n",
              "      <td>...</td>\n",
              "    </tr>\n",
              "    <tr>\n",
              "      <th>95</th>\n",
              "      <td>0103_01</td>\n",
              "      <td>Earth</td>\n",
              "      <td>False</td>\n",
              "      <td>F/24/S</td>\n",
              "      <td>TRAPPIST-1e</td>\n",
              "      <td>24.0</td>\n",
              "      <td>False</td>\n",
              "      <td>0.0</td>\n",
              "      <td>NaN</td>\n",
              "      <td>0.0</td>\n",
              "      <td>0.0</td>\n",
              "      <td>17.0</td>\n",
              "      <td>Arlen Mclainez</td>\n",
              "      <td>True</td>\n",
              "    </tr>\n",
              "    <tr>\n",
              "      <th>96</th>\n",
              "      <td>0103_02</td>\n",
              "      <td>Earth</td>\n",
              "      <td>True</td>\n",
              "      <td>G/18/S</td>\n",
              "      <td>55 Cancri e</td>\n",
              "      <td>9.0</td>\n",
              "      <td>False</td>\n",
              "      <td>0.0</td>\n",
              "      <td>0.0</td>\n",
              "      <td>0.0</td>\n",
              "      <td>0.0</td>\n",
              "      <td>0.0</td>\n",
              "      <td>Shaele Mclainez</td>\n",
              "      <td>True</td>\n",
              "    </tr>\n",
              "    <tr>\n",
              "      <th>97</th>\n",
              "      <td>0103_03</td>\n",
              "      <td>Earth</td>\n",
              "      <td>True</td>\n",
              "      <td>G/18/S</td>\n",
              "      <td>TRAPPIST-1e</td>\n",
              "      <td>6.0</td>\n",
              "      <td>False</td>\n",
              "      <td>0.0</td>\n",
              "      <td>0.0</td>\n",
              "      <td>0.0</td>\n",
              "      <td>0.0</td>\n",
              "      <td>0.0</td>\n",
              "      <td>Fanne Mclainez</td>\n",
              "      <td>False</td>\n",
              "    </tr>\n",
              "    <tr>\n",
              "      <th>98</th>\n",
              "      <td>0105_01</td>\n",
              "      <td>Earth</td>\n",
              "      <td>NaN</td>\n",
              "      <td>F/21/P</td>\n",
              "      <td>TRAPPIST-1e</td>\n",
              "      <td>27.0</td>\n",
              "      <td>False</td>\n",
              "      <td>0.0</td>\n",
              "      <td>0.0</td>\n",
              "      <td>570.0</td>\n",
              "      <td>2.0</td>\n",
              "      <td>131.0</td>\n",
              "      <td>Carry Cleachrand</td>\n",
              "      <td>False</td>\n",
              "    </tr>\n",
              "    <tr>\n",
              "      <th>99</th>\n",
              "      <td>0107_01</td>\n",
              "      <td>Mars</td>\n",
              "      <td>False</td>\n",
              "      <td>D/2/S</td>\n",
              "      <td>TRAPPIST-1e</td>\n",
              "      <td>21.0</td>\n",
              "      <td>False</td>\n",
              "      <td>1743.0</td>\n",
              "      <td>5.0</td>\n",
              "      <td>17.0</td>\n",
              "      <td>0.0</td>\n",
              "      <td>0.0</td>\n",
              "      <td>Coobix Hart</td>\n",
              "      <td>False</td>\n",
              "    </tr>\n",
              "  </tbody>\n",
              "</table>\n",
              "<p>100 rows × 14 columns</p>\n",
              "</div>\n",
              "      <button class=\"colab-df-convert\" onclick=\"convertToInteractive('df-96f08f40-89ba-42e7-9d8a-173285479786')\"\n",
              "              title=\"Convert this dataframe to an interactive table.\"\n",
              "              style=\"display:none;\">\n",
              "        \n",
              "  <svg xmlns=\"http://www.w3.org/2000/svg\" height=\"24px\"viewBox=\"0 0 24 24\"\n",
              "       width=\"24px\">\n",
              "    <path d=\"M0 0h24v24H0V0z\" fill=\"none\"/>\n",
              "    <path d=\"M18.56 5.44l.94 2.06.94-2.06 2.06-.94-2.06-.94-.94-2.06-.94 2.06-2.06.94zm-11 1L8.5 8.5l.94-2.06 2.06-.94-2.06-.94L8.5 2.5l-.94 2.06-2.06.94zm10 10l.94 2.06.94-2.06 2.06-.94-2.06-.94-.94-2.06-.94 2.06-2.06.94z\"/><path d=\"M17.41 7.96l-1.37-1.37c-.4-.4-.92-.59-1.43-.59-.52 0-1.04.2-1.43.59L10.3 9.45l-7.72 7.72c-.78.78-.78 2.05 0 2.83L4 21.41c.39.39.9.59 1.41.59.51 0 1.02-.2 1.41-.59l7.78-7.78 2.81-2.81c.8-.78.8-2.07 0-2.86zM5.41 20L4 18.59l7.72-7.72 1.47 1.35L5.41 20z\"/>\n",
              "  </svg>\n",
              "      </button>\n",
              "      \n",
              "  <style>\n",
              "    .colab-df-container {\n",
              "      display:flex;\n",
              "      flex-wrap:wrap;\n",
              "      gap: 12px;\n",
              "    }\n",
              "\n",
              "    .colab-df-convert {\n",
              "      background-color: #E8F0FE;\n",
              "      border: none;\n",
              "      border-radius: 50%;\n",
              "      cursor: pointer;\n",
              "      display: none;\n",
              "      fill: #1967D2;\n",
              "      height: 32px;\n",
              "      padding: 0 0 0 0;\n",
              "      width: 32px;\n",
              "    }\n",
              "\n",
              "    .colab-df-convert:hover {\n",
              "      background-color: #E2EBFA;\n",
              "      box-shadow: 0px 1px 2px rgba(60, 64, 67, 0.3), 0px 1px 3px 1px rgba(60, 64, 67, 0.15);\n",
              "      fill: #174EA6;\n",
              "    }\n",
              "\n",
              "    [theme=dark] .colab-df-convert {\n",
              "      background-color: #3B4455;\n",
              "      fill: #D2E3FC;\n",
              "    }\n",
              "\n",
              "    [theme=dark] .colab-df-convert:hover {\n",
              "      background-color: #434B5C;\n",
              "      box-shadow: 0px 1px 3px 1px rgba(0, 0, 0, 0.15);\n",
              "      filter: drop-shadow(0px 1px 2px rgba(0, 0, 0, 0.3));\n",
              "      fill: #FFFFFF;\n",
              "    }\n",
              "  </style>\n",
              "\n",
              "      <script>\n",
              "        const buttonEl =\n",
              "          document.querySelector('#df-96f08f40-89ba-42e7-9d8a-173285479786 button.colab-df-convert');\n",
              "        buttonEl.style.display =\n",
              "          google.colab.kernel.accessAllowed ? 'block' : 'none';\n",
              "\n",
              "        async function convertToInteractive(key) {\n",
              "          const element = document.querySelector('#df-96f08f40-89ba-42e7-9d8a-173285479786');\n",
              "          const dataTable =\n",
              "            await google.colab.kernel.invokeFunction('convertToInteractive',\n",
              "                                                     [key], {});\n",
              "          if (!dataTable) return;\n",
              "\n",
              "          const docLinkHtml = 'Like what you see? Visit the ' +\n",
              "            '<a target=\"_blank\" href=https://colab.research.google.com/notebooks/data_table.ipynb>data table notebook</a>'\n",
              "            + ' to learn more about interactive tables.';\n",
              "          element.innerHTML = '';\n",
              "          dataTable['output_type'] = 'display_data';\n",
              "          await google.colab.output.renderOutput(dataTable, element);\n",
              "          const docLink = document.createElement('div');\n",
              "          docLink.innerHTML = docLinkHtml;\n",
              "          element.appendChild(docLink);\n",
              "        }\n",
              "      </script>\n",
              "    </div>\n",
              "  </div>\n",
              "  "
            ]
          },
          "metadata": {},
          "execution_count": 4
        }
      ],
      "source": [
        "df.head(100)"
      ]
    },
    {
      "cell_type": "markdown",
      "metadata": {
        "id": "rG7EiezNf_ni"
      },
      "source": [
        "# Checking Null values"
      ]
    },
    {
      "cell_type": "code",
      "execution_count": null,
      "metadata": {
        "colab": {
          "base_uri": "https://localhost:8080/"
        },
        "id": "m13p53ptroUI",
        "outputId": "90fa775e-3ad8-497d-8c22-11c5977c57ff"
      },
      "outputs": [
        {
          "output_type": "execute_result",
          "data": {
            "text/plain": [
              "PassengerId       0\n",
              "HomePlanet      201\n",
              "CryoSleep       217\n",
              "Cabin           199\n",
              "Destination     182\n",
              "Age             179\n",
              "VIP             203\n",
              "RoomService     181\n",
              "FoodCourt       183\n",
              "ShoppingMall    208\n",
              "Spa             183\n",
              "VRDeck          188\n",
              "Name            200\n",
              "Transported       0\n",
              "dtype: int64"
            ]
          },
          "metadata": {},
          "execution_count": 5
        }
      ],
      "source": [
        "df.isna().sum()"
      ]
    },
    {
      "cell_type": "code",
      "source": [],
      "metadata": {
        "colab": {
          "base_uri": "https://localhost:8080/"
        },
        "id": "0KBuAHRMmp7E",
        "outputId": "5da5a5d4-bf5d-479a-e3c9-9e710d78f65a"
      },
      "execution_count": null,
      "outputs": [
        {
          "output_type": "execute_result",
          "data": {
            "text/plain": [
              "True     101\n",
              "False     99\n",
              "Name: Transported, dtype: int64"
            ]
          },
          "metadata": {},
          "execution_count": 8
        }
      ]
    },
    {
      "cell_type": "code",
      "execution_count": null,
      "metadata": {
        "colab": {
          "base_uri": "https://localhost:8080/",
          "height": 34
        },
        "id": "vEhNKWyPOHZO",
        "outputId": "696c903f-41ad-4487-825c-91ed1cfbf07f"
      },
      "outputs": [
        {
          "data": {
            "text/plain": [
              "<Figure size 432x288 with 0 Axes>"
            ]
          },
          "metadata": {},
          "output_type": "display_data"
        }
      ],
      "source": [
        "def category_comp_plot(field):\n",
        "  col_series=df[field].value_counts().index\n",
        "  \n",
        "  fig, axs = plt.subplots(1, len(col_series), figsize=(12, 5))\n",
        "  for i,category in enumerate(col_series):\n",
        "    plt.subplot(1,len(col_series),i+1)\n",
        "    sns.countplot(data=df.loc[df[field]==category],x='Transported')\n",
        "    plt.title(category)\n",
        "\n",
        "plt.subplots_adjust(left=2,right=3)\n",
        "    \n"
      ]
    },
    {
      "cell_type": "code",
      "execution_count": null,
      "metadata": {
        "colab": {
          "base_uri": "https://localhost:8080/",
          "height": 373
        },
        "id": "FrllzLaJ9UDm",
        "outputId": "1654cf44-355f-4586-f047-7bb72dde14e0"
      },
      "outputs": [
        {
          "name": "stderr",
          "output_type": "stream",
          "text": [
            "/usr/local/lib/python3.7/dist-packages/matplotlib/cbook/__init__.py:1376: VisibleDeprecationWarning: Creating an ndarray from ragged nested sequences (which is a list-or-tuple of lists-or-tuples-or ndarrays with different lengths or shapes) is deprecated. If you meant to do this, you must specify 'dtype=object' when creating the ndarray.\n",
            "  X = np.atleast_1d(X.T if isinstance(X, np.ndarray) else np.asarray(X))\n"
          ]
        },
        {
          "data": {
            "text/plain": [
              "<matplotlib.axes._subplots.AxesSubplot at 0x7fac550100d0>"
            ]
          },
          "execution_count": 7,
          "metadata": {},
          "output_type": "execute_result"
        },
        {
          "data": {
            "image/png": "[encoded data removed]",
            "text/plain": [
              "<Figure size 432x288 with 1 Axes>"
            ]
          },
          "metadata": {},
          "output_type": "display_data"
        }
      ],
      "source": [
        "df.boxplot(column='Age',by='Transported')"
      ]
    },
    {
      "cell_type": "markdown",
      "metadata": {
        "id": "ygPQfKKGvgE_"
      },
      "source": [
        "###**Checking significance of VIP column**"
      ]
    },
    {
      "cell_type": "code",
      "execution_count": null,
      "metadata": {
        "colab": {
          "base_uri": "https://localhost:8080/",
          "height": 350
        },
        "id": "7gxQSF7BIwwP",
        "outputId": "039f8b6b-366a-408d-b3ed-6cd8f450bdde"
      },
      "outputs": [
        {
          "data": {
            "image/png": "[encoded data removed]",
            "text/plain": [
              "<Figure size 864x360 with 2 Axes>"
            ]
          },
          "metadata": {},
          "output_type": "display_data"
        }
      ],
      "source": [
        "category_comp_plot('VIP')\n"
      ]
    },
    {
      "cell_type": "markdown",
      "metadata": {
        "id": "e58RXVGTv1d-"
      },
      "source": [
        "Can conclude that being a vip isnt contributing heavily to the target variable"
      ]
    },
    {
      "cell_type": "code",
      "execution_count": null,
      "metadata": {
        "colab": {
          "base_uri": "https://localhost:8080/",
          "height": 350
        },
        "id": "kbPuRfwDJT1i",
        "outputId": "7e7705bd-a739-43a0-85d6-7ef52cd6bbe7"
      },
      "outputs": [
        {
          "data": {
            "image/png": "[encoded data removed]",
            "text/plain": [
              "<Figure size 864x360 with 3 Axes>"
            ]
          },
          "metadata": {},
          "output_type": "display_data"
        }
      ],
      "source": [
        "category_comp_plot('HomePlanet')"
      ]
    },
    {
      "cell_type": "code",
      "execution_count": null,
      "metadata": {
        "colab": {
          "base_uri": "https://localhost:8080/",
          "height": 350
        },
        "id": "9xA2WvR8Lo0M",
        "outputId": "003ffb58-eea7-4a5d-ee25-593ce3e91e1a"
      },
      "outputs": [
        {
          "data": {
            "image/png": "[encoded data removed]",
            "text/plain": [
              "<Figure size 864x360 with 2 Axes>"
            ]
          },
          "metadata": {},
          "output_type": "display_data"
        }
      ],
      "source": [
        "category_comp_plot('CryoSleep')"
      ]
    },
    {
      "cell_type": "code",
      "execution_count": null,
      "metadata": {
        "colab": {
          "base_uri": "https://localhost:8080/",
          "height": 350
        },
        "id": "Y3aWjySEh_n9",
        "outputId": "5511bc08-6c41-4d5e-abda-709678f44087"
      },
      "outputs": [
        {
          "data": {
            "image/png": "[encoded data removed]",
            "text/plain": [
              "<Figure size 864x360 with 2 Axes>"
            ]
          },
          "metadata": {},
          "output_type": "display_data"
        }
      ],
      "source": [
        "df['Port']=df['Cabin'].str[-1]\n",
        "category_comp_plot('Port')"
      ]
    },
    {
      "cell_type": "code",
      "execution_count": null,
      "metadata": {
        "colab": {
          "base_uri": "https://localhost:8080/",
          "height": 350
        },
        "id": "rfO1gTlPjXZL",
        "outputId": "0efbc1ce-1452-497f-f2be-641ddbb37c2d"
      },
      "outputs": [
        {
          "data": {
            "image/png": "[encoded data removed]",
            "text/plain": [
              "<Figure size 864x360 with 3 Axes>"
            ]
          },
          "metadata": {},
          "output_type": "display_data"
        }
      ],
      "source": [
        "category_comp_plot('Destination')"
      ]
    },
    {
      "cell_type": "markdown",
      "metadata": {
        "id": "dEJ_ZEOSgQIT"
      },
      "source": [
        "# Transformers"
      ]
    },
    {
      "cell_type": "code",
      "execution_count": 171,
      "metadata": {
        "id": "Je7g5Lyxvxz9"
      },
      "outputs": [],
      "source": [
        "class cat_Imputer(BaseEstimator,TransformerMixin):\n",
        "  def __init__(self,categ_cols):\n",
        "    self.categ_cols=categ_cols\n",
        "  def fit(self,X,y=None):\n",
        "    return self\n",
        "  def transform(self,X,y=None):\n",
        "    \n",
        "    \n",
        "    true_transported=X['Transported'].value_counts().loc[True]\n",
        "    false_transported=X['Transported'].value_counts().loc[False]\n",
        "    for i in self.categ_cols:\n",
        "      true_prob=[]\n",
        "      false_prob=[]\n",
        "      tp=X.loc[~X[i].isna()].copy(deep=True)\n",
        "      \n",
        "      for j in tp[i].value_counts().index:\n",
        "        true_prob.append(tp.loc[(X[i]==j) & (tp['Transported']==True)].shape[0]/true_transported)\n",
        "        false_prob.append(tp.loc[(X[i]==j) & (tp['Transported']==False)].shape[0]/false_transported)\n",
        "\n",
        "        # try:\n",
        "        #   true_prob.append(X[~df[i].isna()].groupby('Transported').agg({i:[(j,lambda x:x.str.count().sum()/true_transported)]}).loc[True][(i,j)])\n",
        "        #   false_prob.append(X[~df[i].isna()].groupby('Transported').agg({i:[(j,lambda x:x.str.count().sum()/false_transported)]}).loc[False][(i,j)])\n",
        "        # except:\n",
        "        #   true_prob.append(X[~df[i].isna()].groupby('Transported').agg({i:[(j,lambda x:x.count().sum()/true_transported)]}).loc[True][(i,j)])\n",
        "        #   false_prob.append(X[~df[i].isna()].groupby('Transported').agg({i:[(j,lambda x:x.count().sum()/false_transported)]}).loc[False][(i,j)])\n",
        "      X.loc[(X[i].isna()) & (X['Transported']==True),i]=np.random.choice(X[i].value_counts().index,\n",
        "                                                                                X.loc[(X[i].isna()) & (X['Transported']==True),i].shape,\n",
        "                                                                                p=true_prob/sum(true_prob))\n",
        "      X.loc[(X[i].isna()) & (X['Transported']==False),i]=np.random.choice(X[i].value_counts().index,\n",
        "                                                                                X.loc[(X[i].isna()) & (X['Transported']==False),i].shape,\n",
        "                                                                                p=true_prob/sum(true_prob))\n",
        "    \n",
        "    return X\n",
        "\n",
        "class Int_Imputer(BaseEstimator,TransformerMixin):\n",
        "  def __init__(self,cols):\n",
        "    self.cols=cols\n",
        "  def fit(self,X,y=None):\n",
        "    return self\n",
        "  def transform(self,X,y=None):\n",
        "    imputer=SimpleImputer(strategy=\"median\")\n",
        "    imputer.fit(X[self.cols])\n",
        "    X[self.cols]=imputer.transform(X[self.cols])\n",
        "  \n",
        "    return X\n",
        "  \n",
        "\n",
        "\n",
        "class AttriAdder(BaseEstimator,TransformerMixin):\n",
        "\n",
        "  def __init__(self):\n",
        "    pass\n",
        "  def fit(self,X,y=None):\n",
        "    return self\n",
        "  def transform(self,X,y=None):\n",
        "    X['TotalSpent']=X['RoomService']+X['Spa']+X['VRDeck']\n",
        "    X['P_ID1']=X['PassengerId'].str.split('_').apply(lambda x:x[0])    \n",
        "    X['P_ID2']=X['PassengerId'].str.split('_').apply(lambda x:x[1])\n",
        "    # \n",
        "\n",
        "    return X\n",
        "\n",
        "\n",
        "class OrdEncoding(BaseEstimator,TransformerMixin):\n",
        "\n",
        "  def __init__(self,cols):\n",
        "    self.cols=cols\n",
        "  def fit(self,X,y=None):\n",
        "    return self\n",
        "  def transform(self,X,y=None):\n",
        "    ord=OrdinalEncoder()\n",
        "    for col in self.cols:\n",
        "      X[col]=ord.fit_transform(X[[col]])\n",
        "\n",
        "    return X\n",
        "\n",
        "class OneHot(BaseEstimator,TransformerMixin):\n",
        "\n",
        "  def __init__(self,cols):\n",
        "    self.cols=cols\n",
        "  def fit(self,X,y=None):\n",
        "    return self\n",
        "  def transform(self,X,y=None):\n",
        "    \n",
        "    for col in self.cols:\n",
        "      one=OneHotEncoder(sparse=False)\n",
        "      X[list(one.categories_[0])]=one.fit_transform(X[[col]])\n",
        "      print(list(one.categories_[0]))\n",
        "\n",
        "    return X\n",
        "\n",
        "class TypeChange(BaseEstimator,TransformerMixin):\n",
        "\n",
        "  def __init__(self,cols_dict):\n",
        "    self.cols_dict=cols_dict\n",
        "  def fit(self,X,y=None):\n",
        "    return self\n",
        "  def transform(self,X,y=None):\n",
        "    for col in self.cols_dict:\n",
        "      X[col]=X[col].astype(self.cols_dict[col])\n",
        "    return X\n",
        "\n",
        "class Dropcols(BaseEstimator,TransformerMixin):\n",
        "\n",
        "  def __init__(self,to_drop):\n",
        "    self.to_drop=to_drop\n",
        "  def fit(self,X,y=None):\n",
        "    return self\n",
        "  def transform(self,X,y=None):\n",
        "    X=X.drop(columns=self.to_drop,axis=1)\n",
        "    return X\n",
        "\n",
        "class Keepcols(BaseEstimator,TransformerMixin):\n",
        "\n",
        "  def __init__(self,to_keep):\n",
        "    self.to_keep=to_keep\n",
        "  def fit(self,X,y=None):\n",
        "    return self\n",
        "  def transform(self,X,y=None):\n",
        "    X=X[self.to_keep]\n",
        "    return X\n",
        "\n",
        "class Scaler(BaseEstimator,TransformerMixin):\n",
        "  def __init__(self,cols=None):\n",
        "    self.cols=cols\n",
        "    pass\n",
        "  def fit(self,X,y=None):\n",
        "    return self\n",
        "  def transform(self,X,y=None):\n",
        "    if self.cols==None:\n",
        "      self.cols=X.columns\n",
        "    scaler=StandardScaler()\n",
        "    X[self.cols]=scaler.fit_transform(X[self.cols])\n",
        "    return X\n",
        "\n",
        "class ModeImputer(BaseEstimator,TransformerMixin):\n",
        "  def __init__(self,cols):\n",
        "    self.cols=cols\n",
        "    \n",
        "  def fit(self,X,y=None):\n",
        "    return self\n",
        "  def transform(self,X,y=None):\n",
        "    for i in self.cols:\n",
        "      cat_imputer=CategoricalImputer()\n",
        "      X[i]=cat_imputer.fit_transform(X[i])\n",
        "    return X\n",
        "\n",
        "class Binner(BaseEstimator,TransformerMixin):\n",
        "  def __init__(self,cols,cats=4):\n",
        "    self.cols=cols\n",
        "    self.cats=cats\n",
        "  def fit(self,X,y=None):\n",
        "    return self\n",
        "  def transform(self,X,y=None):\n",
        "    for i in self.cols:\n",
        "      X[i]=pd.qcut(X[i],self.cats,labels=False)\n",
        "    return X\n",
        "\n",
        "class Value_Imputer(BaseEstimator,TransformerMixin):\n",
        "  def __init__(self,col_val):\n",
        "    self.col_val=col_val\n",
        "  def fit(self,X,y=None):\n",
        "    return self\n",
        "  def transform(self,X,y=None):\n",
        "    for i in self.col_val:\n",
        "      X[i]=X[i].fillna(value=self.col_val[i])\n",
        "    return X\n"
      ]
    },
    {
      "cell_type": "markdown",
      "metadata": {
        "id": "K4GoguX7phVl"
      },
      "source": [
        "# Functions for test dataset"
      ]
    },
    {
      "cell_type": "code",
      "execution_count": 252,
      "metadata": {
        "id": "okRDoFsiqLej"
      },
      "outputs": [],
      "source": [
        "def split(dataset,label_name):\n",
        "  dataset=dataset.sample(frac=1,random_state=42)\n",
        "  labels=dataset[label_name]\n",
        "  dataset=dataset.drop(columns=[label_name])\n",
        "  train,test,train_labels,test_labels=train_test_split(dataset,labels,test_size=0.1,random_state=42)\n",
        "  return {'train':train,'train_labels':train_labels,'test':test,'test_labels':test_labels}"
      ]
    },
    {
      "cell_type": "code",
      "source": [
        "df=pd.read_csv('./drive/MyDrive/spaceTitanic/train.csv')\n",
        "train,train_labels,test,test_labels=split(df,'Transported').values()\n",
        "train_labels=train_labels.astype(np.int64)\n",
        "test_labels=test_labels.astype(np.int64)"
      ],
      "metadata": {
        "id": "u5nlAioVFDKG"
      },
      "execution_count": 306,
      "outputs": []
    },
    {
      "cell_type": "markdown",
      "source": [
        "# Adding Side from Cabin"
      ],
      "metadata": {
        "id": "phbPUdaESv5J"
      }
    },
    {
      "cell_type": "code",
      "source": [
        "train['side']=train['Cabin'].str[-1]\n",
        "test['side']=test['Cabin'].str[-1]\n"
      ],
      "metadata": {
        "id": "ikLEDvEHS2AA"
      },
      "execution_count": 307,
      "outputs": []
    },
    {
      "cell_type": "markdown",
      "metadata": {
        "id": "mtPn3WcjgV-h"
      },
      "source": [
        "# Imputing HomePlanet"
      ]
    },
    {
      "cell_type": "code",
      "execution_count": 308,
      "metadata": {
        "id": "aQgbUFnA1uXw"
      },
      "outputs": [],
      "source": [
        "def HomePlanetImpute(df):\n",
        "  df['deck']=df['Cabin'].str[0]\n",
        "  deck_to_cab={'A':'Europa','C':'Europa','B':'Europa','T':'Europa','D':'Mars','E':'Earth','G':'Earth','F':'Earth'}\n",
        "  for i in deck_to_cab:\n",
        "    df.loc[(df['deck']==i) & df['HomePlanet'].isna(),'HomePlanet']=df.loc[(df['deck']==i) & df['HomePlanet'].isna(),'HomePlanet'].fillna(\n",
        "        value=deck_to_cab.get(i,'F'))\n",
        "  return df"
      ]
    },
    {
      "cell_type": "code",
      "source": [
        "train=HomePlanetImpute(train)\n",
        "test=HomePlanetImpute(test)"
      ],
      "metadata": {
        "id": "T7jD_6PmKeAs"
      },
      "execution_count": 309,
      "outputs": []
    },
    {
      "cell_type": "code",
      "execution_count": 163,
      "metadata": {
        "colab": {
          "base_uri": "https://localhost:8080/",
          "height": 504
        },
        "id": "c8uMee8bw6R3",
        "outputId": "c776d797-9dcd-40a8-c8be-0103a11d57c5"
      },
      "outputs": [
        {
          "output_type": "error",
          "ename": "KeyError",
          "evalue": "ignored",
          "traceback": [
            "\u001b[0;31m---------------------------------------------------------------------------\u001b[0m",
            "\u001b[0;31mKeyError\u001b[0m                                  Traceback (most recent call last)",
            "\u001b[0;32m/usr/local/lib/python3.7/dist-packages/pandas/core/indexes/base.py\u001b[0m in \u001b[0;36mget_loc\u001b[0;34m(self, key, method, tolerance)\u001b[0m\n\u001b[1;32m   3360\u001b[0m             \u001b[0;32mtry\u001b[0m\u001b[0;34m:\u001b[0m\u001b[0;34m\u001b[0m\u001b[0;34m\u001b[0m\u001b[0m\n\u001b[0;32m-> 3361\u001b[0;31m                 \u001b[0;32mreturn\u001b[0m \u001b[0mself\u001b[0m\u001b[0;34m.\u001b[0m\u001b[0m_engine\u001b[0m\u001b[0;34m.\u001b[0m\u001b[0mget_loc\u001b[0m\u001b[0;34m(\u001b[0m\u001b[0mcasted_key\u001b[0m\u001b[0;34m)\u001b[0m\u001b[0;34m\u001b[0m\u001b[0;34m\u001b[0m\u001b[0m\n\u001b[0m\u001b[1;32m   3362\u001b[0m             \u001b[0;32mexcept\u001b[0m \u001b[0mKeyError\u001b[0m \u001b[0;32mas\u001b[0m \u001b[0merr\u001b[0m\u001b[0;34m:\u001b[0m\u001b[0;34m\u001b[0m\u001b[0;34m\u001b[0m\u001b[0m\n",
            "\u001b[0;32m/usr/local/lib/python3.7/dist-packages/pandas/_libs/index.pyx\u001b[0m in \u001b[0;36mpandas._libs.index.IndexEngine.get_loc\u001b[0;34m()\u001b[0m\n",
            "\u001b[0;32m/usr/local/lib/python3.7/dist-packages/pandas/_libs/index.pyx\u001b[0m in \u001b[0;36mpandas._libs.index.IndexEngine.get_loc\u001b[0;34m()\u001b[0m\n",
            "\u001b[0;32mpandas/_libs/hashtable_class_helper.pxi\u001b[0m in \u001b[0;36mpandas._libs.hashtable.PyObjectHashTable.get_item\u001b[0;34m()\u001b[0m\n",
            "\u001b[0;32mpandas/_libs/hashtable_class_helper.pxi\u001b[0m in \u001b[0;36mpandas._libs.hashtable.PyObjectHashTable.get_item\u001b[0;34m()\u001b[0m\n",
            "\u001b[0;31mKeyError\u001b[0m: 'side'",
            "\nThe above exception was the direct cause of the following exception:\n",
            "\u001b[0;31mKeyError\u001b[0m                                  Traceback (most recent call last)",
            "\u001b[0;32m<ipython-input-163-c13cee63bb21>\u001b[0m in \u001b[0;36m<module>\u001b[0;34m\u001b[0m\n\u001b[1;32m      8\u001b[0m \u001b[0mdf\u001b[0m\u001b[0;34m=\u001b[0m\u001b[0mbinner\u001b[0m\u001b[0;34m.\u001b[0m\u001b[0mfit_transform\u001b[0m\u001b[0;34m(\u001b[0m\u001b[0mdf\u001b[0m\u001b[0;34m)\u001b[0m\u001b[0;34m\u001b[0m\u001b[0;34m\u001b[0m\u001b[0m\n\u001b[1;32m      9\u001b[0m \u001b[0mmodeImp\u001b[0m\u001b[0;34m=\u001b[0m\u001b[0mModeImputer\u001b[0m\u001b[0;34m(\u001b[0m\u001b[0;34m[\u001b[0m\u001b[0;34m'HomePlanet'\u001b[0m\u001b[0;34m,\u001b[0m\u001b[0;34m'CryoSleep'\u001b[0m\u001b[0;34m,\u001b[0m\u001b[0;34m'side'\u001b[0m\u001b[0;34m,\u001b[0m\u001b[0;34m'Destination'\u001b[0m\u001b[0;34m,\u001b[0m\u001b[0;34m'VIP'\u001b[0m\u001b[0;34m]\u001b[0m\u001b[0;34m)\u001b[0m\u001b[0;34m\u001b[0m\u001b[0;34m\u001b[0m\u001b[0m\n\u001b[0;32m---> 10\u001b[0;31m \u001b[0mdf\u001b[0m\u001b[0;34m=\u001b[0m\u001b[0mmodeImp\u001b[0m\u001b[0;34m.\u001b[0m\u001b[0mfit_transform\u001b[0m\u001b[0;34m(\u001b[0m\u001b[0mdf\u001b[0m\u001b[0;34m)\u001b[0m\u001b[0;34m\u001b[0m\u001b[0;34m\u001b[0m\u001b[0m\n\u001b[0m\u001b[1;32m     11\u001b[0m \u001b[0mtype_change\u001b[0m\u001b[0;34m=\u001b[0m\u001b[0mTypeChange\u001b[0m\u001b[0;34m(\u001b[0m\u001b[0;34m{\u001b[0m\u001b[0;34m'Transported'\u001b[0m\u001b[0;34m:\u001b[0m\u001b[0mnp\u001b[0m\u001b[0;34m.\u001b[0m\u001b[0mint64\u001b[0m\u001b[0;34m}\u001b[0m\u001b[0;34m)\u001b[0m\u001b[0;34m\u001b[0m\u001b[0;34m\u001b[0m\u001b[0m\n\u001b[1;32m     12\u001b[0m \u001b[0mdf\u001b[0m\u001b[0;34m=\u001b[0m\u001b[0mtype_change\u001b[0m\u001b[0;34m.\u001b[0m\u001b[0mfit_transform\u001b[0m\u001b[0;34m(\u001b[0m\u001b[0mdf\u001b[0m\u001b[0;34m)\u001b[0m\u001b[0;34m\u001b[0m\u001b[0;34m\u001b[0m\u001b[0m\n",
            "\u001b[0;32m/usr/local/lib/python3.7/dist-packages/sklearn/base.py\u001b[0m in \u001b[0;36mfit_transform\u001b[0;34m(self, X, y, **fit_params)\u001b[0m\n\u001b[1;32m    850\u001b[0m         \u001b[0;32mif\u001b[0m \u001b[0my\u001b[0m \u001b[0;32mis\u001b[0m \u001b[0;32mNone\u001b[0m\u001b[0;34m:\u001b[0m\u001b[0;34m\u001b[0m\u001b[0;34m\u001b[0m\u001b[0m\n\u001b[1;32m    851\u001b[0m             \u001b[0;31m# fit method of arity 1 (unsupervised transformation)\u001b[0m\u001b[0;34m\u001b[0m\u001b[0;34m\u001b[0m\u001b[0;34m\u001b[0m\u001b[0m\n\u001b[0;32m--> 852\u001b[0;31m             \u001b[0;32mreturn\u001b[0m \u001b[0mself\u001b[0m\u001b[0;34m.\u001b[0m\u001b[0mfit\u001b[0m\u001b[0;34m(\u001b[0m\u001b[0mX\u001b[0m\u001b[0;34m,\u001b[0m \u001b[0;34m**\u001b[0m\u001b[0mfit_params\u001b[0m\u001b[0;34m)\u001b[0m\u001b[0;34m.\u001b[0m\u001b[0mtransform\u001b[0m\u001b[0;34m(\u001b[0m\u001b[0mX\u001b[0m\u001b[0;34m)\u001b[0m\u001b[0;34m\u001b[0m\u001b[0;34m\u001b[0m\u001b[0m\n\u001b[0m\u001b[1;32m    853\u001b[0m         \u001b[0;32melse\u001b[0m\u001b[0;34m:\u001b[0m\u001b[0;34m\u001b[0m\u001b[0;34m\u001b[0m\u001b[0m\n\u001b[1;32m    854\u001b[0m             \u001b[0;31m# fit method of arity 2 (supervised transformation)\u001b[0m\u001b[0;34m\u001b[0m\u001b[0;34m\u001b[0m\u001b[0;34m\u001b[0m\u001b[0m\n",
            "\u001b[0;32m<ipython-input-157-621405f46619>\u001b[0m in \u001b[0;36mtransform\u001b[0;34m(self, X, y)\u001b[0m\n\u001b[1;32m    143\u001b[0m     \u001b[0;32mfor\u001b[0m \u001b[0mi\u001b[0m \u001b[0;32min\u001b[0m \u001b[0mself\u001b[0m\u001b[0;34m.\u001b[0m\u001b[0mcols\u001b[0m\u001b[0;34m:\u001b[0m\u001b[0;34m\u001b[0m\u001b[0;34m\u001b[0m\u001b[0m\n\u001b[1;32m    144\u001b[0m       \u001b[0mcat_imputer\u001b[0m\u001b[0;34m=\u001b[0m\u001b[0mCategoricalImputer\u001b[0m\u001b[0;34m(\u001b[0m\u001b[0;34m)\u001b[0m\u001b[0;34m\u001b[0m\u001b[0;34m\u001b[0m\u001b[0m\n\u001b[0;32m--> 145\u001b[0;31m       \u001b[0mX\u001b[0m\u001b[0;34m[\u001b[0m\u001b[0mi\u001b[0m\u001b[0;34m]\u001b[0m\u001b[0;34m=\u001b[0m\u001b[0mcat_imputer\u001b[0m\u001b[0;34m.\u001b[0m\u001b[0mfit_transform\u001b[0m\u001b[0;34m(\u001b[0m\u001b[0mX\u001b[0m\u001b[0;34m[\u001b[0m\u001b[0mi\u001b[0m\u001b[0;34m]\u001b[0m\u001b[0;34m)\u001b[0m\u001b[0;34m\u001b[0m\u001b[0;34m\u001b[0m\u001b[0m\n\u001b[0m\u001b[1;32m    146\u001b[0m     \u001b[0;32mreturn\u001b[0m \u001b[0mX\u001b[0m\u001b[0;34m\u001b[0m\u001b[0;34m\u001b[0m\u001b[0m\n\u001b[1;32m    147\u001b[0m \u001b[0;34m\u001b[0m\u001b[0m\n",
            "\u001b[0;32m/usr/local/lib/python3.7/dist-packages/pandas/core/frame.py\u001b[0m in \u001b[0;36m__getitem__\u001b[0;34m(self, key)\u001b[0m\n\u001b[1;32m   3456\u001b[0m             \u001b[0;32mif\u001b[0m \u001b[0mself\u001b[0m\u001b[0;34m.\u001b[0m\u001b[0mcolumns\u001b[0m\u001b[0;34m.\u001b[0m\u001b[0mnlevels\u001b[0m \u001b[0;34m>\u001b[0m \u001b[0;36m1\u001b[0m\u001b[0;34m:\u001b[0m\u001b[0;34m\u001b[0m\u001b[0;34m\u001b[0m\u001b[0m\n\u001b[1;32m   3457\u001b[0m                 \u001b[0;32mreturn\u001b[0m \u001b[0mself\u001b[0m\u001b[0;34m.\u001b[0m\u001b[0m_getitem_multilevel\u001b[0m\u001b[0;34m(\u001b[0m\u001b[0mkey\u001b[0m\u001b[0;34m)\u001b[0m\u001b[0;34m\u001b[0m\u001b[0;34m\u001b[0m\u001b[0m\n\u001b[0;32m-> 3458\u001b[0;31m             \u001b[0mindexer\u001b[0m \u001b[0;34m=\u001b[0m \u001b[0mself\u001b[0m\u001b[0;34m.\u001b[0m\u001b[0mcolumns\u001b[0m\u001b[0;34m.\u001b[0m\u001b[0mget_loc\u001b[0m\u001b[0;34m(\u001b[0m\u001b[0mkey\u001b[0m\u001b[0;34m)\u001b[0m\u001b[0;34m\u001b[0m\u001b[0;34m\u001b[0m\u001b[0m\n\u001b[0m\u001b[1;32m   3459\u001b[0m             \u001b[0;32mif\u001b[0m \u001b[0mis_integer\u001b[0m\u001b[0;34m(\u001b[0m\u001b[0mindexer\u001b[0m\u001b[0;34m)\u001b[0m\u001b[0;34m:\u001b[0m\u001b[0;34m\u001b[0m\u001b[0;34m\u001b[0m\u001b[0m\n\u001b[1;32m   3460\u001b[0m                 \u001b[0mindexer\u001b[0m \u001b[0;34m=\u001b[0m \u001b[0;34m[\u001b[0m\u001b[0mindexer\u001b[0m\u001b[0;34m]\u001b[0m\u001b[0;34m\u001b[0m\u001b[0;34m\u001b[0m\u001b[0m\n",
            "\u001b[0;32m/usr/local/lib/python3.7/dist-packages/pandas/core/indexes/base.py\u001b[0m in \u001b[0;36mget_loc\u001b[0;34m(self, key, method, tolerance)\u001b[0m\n\u001b[1;32m   3361\u001b[0m                 \u001b[0;32mreturn\u001b[0m \u001b[0mself\u001b[0m\u001b[0;34m.\u001b[0m\u001b[0m_engine\u001b[0m\u001b[0;34m.\u001b[0m\u001b[0mget_loc\u001b[0m\u001b[0;34m(\u001b[0m\u001b[0mcasted_key\u001b[0m\u001b[0;34m)\u001b[0m\u001b[0;34m\u001b[0m\u001b[0;34m\u001b[0m\u001b[0m\n\u001b[1;32m   3362\u001b[0m             \u001b[0;32mexcept\u001b[0m \u001b[0mKeyError\u001b[0m \u001b[0;32mas\u001b[0m \u001b[0merr\u001b[0m\u001b[0;34m:\u001b[0m\u001b[0;34m\u001b[0m\u001b[0;34m\u001b[0m\u001b[0m\n\u001b[0;32m-> 3363\u001b[0;31m                 \u001b[0;32mraise\u001b[0m \u001b[0mKeyError\u001b[0m\u001b[0;34m(\u001b[0m\u001b[0mkey\u001b[0m\u001b[0;34m)\u001b[0m \u001b[0;32mfrom\u001b[0m \u001b[0merr\u001b[0m\u001b[0;34m\u001b[0m\u001b[0;34m\u001b[0m\u001b[0m\n\u001b[0m\u001b[1;32m   3364\u001b[0m \u001b[0;34m\u001b[0m\u001b[0m\n\u001b[1;32m   3365\u001b[0m         \u001b[0;32mif\u001b[0m \u001b[0mis_scalar\u001b[0m\u001b[0;34m(\u001b[0m\u001b[0mkey\u001b[0m\u001b[0;34m)\u001b[0m \u001b[0;32mand\u001b[0m \u001b[0misna\u001b[0m\u001b[0;34m(\u001b[0m\u001b[0mkey\u001b[0m\u001b[0;34m)\u001b[0m \u001b[0;32mand\u001b[0m \u001b[0;32mnot\u001b[0m \u001b[0mself\u001b[0m\u001b[0;34m.\u001b[0m\u001b[0mhasnans\u001b[0m\u001b[0;34m:\u001b[0m\u001b[0;34m\u001b[0m\u001b[0;34m\u001b[0m\u001b[0m\n",
            "\u001b[0;31mKeyError\u001b[0m: 'side'"
          ]
        }
      ],
      "source": [
        "int_imp=Int_Imputer(['Age','RoomService','FoodCourt','ShoppingMall','Spa','VRDeck'])\n",
        "df=int_imp.fit_transform(df)\n",
        "# val_imp=Value_Imputer({'Name':'Random Random'})\n",
        "# df=val_imp.fit_transform(df)\n",
        "attri_adder=AttriAdder()\n",
        "df=attri_adder.fit_transform(df)\n",
        "binner=Binner(['Age'],4)\n",
        "df=binner.fit_transform(df)\n",
        "modeImp=ModeImputer(['HomePlanet','CryoSleep','side','Destination','VIP'])\n",
        "df=modeImp.fit_transform(df)\n",
        "type_change=TypeChange({'Transported':np.int64})\n",
        "df=type_change.fit_transform(df)\n",
        "one_hot=OneHot(['HomePlanet','side','Destination','P_ID2'])\n",
        "df=one_hot.fit_transform(df)\n",
        "# drp_cls=Dropcols(['Name','Cabin','Destination','HomePlanet','side','PassengerId','RoomService','VRDeck','Spa'])\n",
        "# df=drp_cls.fit_transform(df)\n",
        "# bin=Binner(['Age'],4)\n",
        "# df=bin.fit_transform(df)\n",
        "# keep_cls=Keepcols(['TotalSpent','Earth','Europa','CryoSleep','Transported'])\n",
        "# non_cat_df=keep_cls.fit_transform(df)\n",
        "keep_cls=Keepcols(['RoomService','Spa','VRDeck','HomePlanet','Transported','CryoSleep','side','Destination','P_ID2','VIP','Age'])\n",
        "cat_df=keep_cls.fit_transform(df)\n",
        "scaler=Scaler(['RoomService','Spa','VRDeck','Age'])\n",
        "cat_df=scaler.fit_transform(cat_df)\n",
        "# xg_df=scaler.fit_transform(xg_df)"
      ]
    },
    {
      "cell_type": "code",
      "source": [
        "df['Destination'].mode().values[0]"
      ],
      "metadata": {
        "colab": {
          "base_uri": "https://localhost:8080/",
          "height": 35
        },
        "id": "vKJK_js2Ec9-",
        "outputId": "cb430a5b-1175-48ed-da93-c0e09f904838"
      },
      "execution_count": 22,
      "outputs": [
        {
          "output_type": "execute_result",
          "data": {
            "text/plain": [
              "'TRAPPIST-1e'"
            ],
            "application/vnd.google.colaboratory.intrinsic+json": {
              "type": "string"
            }
          },
          "metadata": {},
          "execution_count": 22
        }
      ]
    },
    {
      "cell_type": "markdown",
      "source": [
        "# Non Cat Pipeline"
      ],
      "metadata": {
        "id": "cShzt2ZS3TPT"
      }
    },
    {
      "cell_type": "code",
      "source": [
        "from sklearn.pipeline import Pipeline\n"
      ],
      "metadata": {
        "id": "iFBqe6KwtEeY"
      },
      "execution_count": 299,
      "outputs": []
    },
    {
      "cell_type": "code",
      "source": [
        "\n",
        "non_Pipe=Pipeline([('val_imp',Value_Imputer({'Age':train['Age'].mean(),'RoomService':train['RoomService'].mean(),\n",
        "                                            'FoodCourt':train['FoodCourt'].mean(),'ShoppingMall':train['ShoppingMall'].mean()\n",
        "                                            ,'Spa':train['Spa'].mean(),'VRDeck':train['VRDeck'].mean(),\n",
        "                                            'HomePlanet':train['HomePlanet'].mode().values[0],\n",
        "                                            'CryoSleep':train['CryoSleep'].mode().values[0],\n",
        "                                            'Destination':train['Destination'].mode().values[0],\n",
        "                                            'VIP':train['VIP'].mode().values[0]})),\n",
        "                    ('attri_adder',AttriAdder()),\n",
        "                    ('val_imp2',Value_Imputer({'side':train['side'].mode().values[0]})),\n",
        "                    ('binner',Binner(['Age'],4)),\n",
        "                    ('typ_change',TypeChange({'CryoSleep':np.int64,'VIP':np.int64})),\n",
        "                    ('one_hot',OneHot(['HomePlanet','side','Destination','P_ID2'])),\n",
        "                    ('keep_cls',Keepcols(['TotalSpent','Earth','Europa','CryoSleep','P','VIP','Age',\n",
        "                                          'TRAPPIST-1e','55 Cancri e','PSO J318.5-22',\n",
        "                                          '01','02','03','04','05','06','07','08'])),\n",
        "                    ('scaler',Scaler(['TotalSpent','CryoSleep','VIP','Age']))\n",
        "                    ],verbose=False)\n",
        "\n"
      ],
      "metadata": {
        "id": "W3bQaseU3Xuz"
      },
      "execution_count": 279,
      "outputs": []
    },
    {
      "cell_type": "code",
      "source": [
        "train=non_Pipe.fit_transform(train)\n",
        "test=non_Pipe.fit_transform(test)"
      ],
      "metadata": {
        "colab": {
          "base_uri": "https://localhost:8080/"
        },
        "id": "5WSOgYD5wcSv",
        "outputId": "30b5a2af-4912-474c-e28a-819002bb371b"
      },
      "execution_count": 280,
      "outputs": [
        {
          "output_type": "stream",
          "name": "stdout",
          "text": [
            "['Earth', 'Europa', 'Mars']\n",
            "['P', 'S']\n",
            "['55 Cancri e', 'PSO J318.5-22', 'TRAPPIST-1e']\n",
            "['01', '02', '03', '04', '05', '06', '07', '08']\n",
            "['Earth', 'Europa', 'Mars']\n",
            "['P', 'S']\n",
            "['55 Cancri e', 'PSO J318.5-22', 'TRAPPIST-1e']\n",
            "['01', '02', '03', '04', '05', '06', '07', '08']\n"
          ]
        },
        {
          "output_type": "stream",
          "name": "stderr",
          "text": [
            "/usr/local/lib/python3.7/dist-packages/pandas/core/frame.py:3678: SettingWithCopyWarning: \n",
            "A value is trying to be set on a copy of a slice from a DataFrame.\n",
            "Try using .loc[row_indexer,col_indexer] = value instead\n",
            "\n",
            "See the caveats in the documentation: https://pandas.pydata.org/pandas-docs/stable/user_guide/indexing.html#returning-a-view-versus-a-copy\n",
            "  self[col] = igetitem(value, i)\n",
            "/usr/local/lib/python3.7/dist-packages/pandas/core/frame.py:3678: SettingWithCopyWarning: \n",
            "A value is trying to be set on a copy of a slice from a DataFrame.\n",
            "Try using .loc[row_indexer,col_indexer] = value instead\n",
            "\n",
            "See the caveats in the documentation: https://pandas.pydata.org/pandas-docs/stable/user_guide/indexing.html#returning-a-view-versus-a-copy\n",
            "  self[col] = igetitem(value, i)\n"
          ]
        }
      ]
    },
    {
      "cell_type": "markdown",
      "source": [
        "# Cat Pipeline"
      ],
      "metadata": {
        "id": "IM1vg5QqrngZ"
      }
    },
    {
      "cell_type": "code",
      "source": [
        "cat_Pipe=Pipeline([('val_imp',Value_Imputer({'Age':train['Age'].mean(),'RoomService':train['RoomService'].mean(),\n",
        "                                            'FoodCourt':train['FoodCourt'].mean(),'ShoppingMall':train['ShoppingMall'].mean()\n",
        "                                            ,'Spa':train['Spa'].mean(),'VRDeck':train['VRDeck'].mean(),\n",
        "                                            'HomePlanet':train['HomePlanet'].mode().values[0],\n",
        "                                            'CryoSleep':train['CryoSleep'].mode().values[0],\n",
        "                                            'Destination':train['Destination'].mode().values[0],\n",
        "                                            'VIP':train['VIP'].mode().values[0],'Name':'Random Random'})),\n",
        "                    ('attri_adder',AttriAdder()),\n",
        "                    ('val_imp2',Value_Imputer({'side':train['side'].mode().values[0]})),\n",
        "                    ('binner',Binner(['Age'],4)),\n",
        "                    ('keep_cls',Keepcols(['TotalSpent','HomePlanet','CryoSleep','side','VIP','Age',\n",
        "                                          'Destination',\n",
        "                                          'P_ID2','Name'])),\n",
        "                    ('scaler',Scaler(['TotalSpent','Age']))\n",
        "                    ],verbose=False)\n"
      ],
      "metadata": {
        "id": "iffiov0VtAwP"
      },
      "execution_count": 310,
      "outputs": []
    },
    {
      "cell_type": "code",
      "source": [
        "cat_train=cat_Pipe.fit_transform(train)\n",
        "cat_test=cat_Pipe.fit_transform(test)\n",
        "cat_train['lastName']=cat_train['Name'].str.split(' ').apply(lambda x:x[1])\n",
        "cat_train.drop(columns=['Name'],inplace=True)\n",
        "cat_test['lastName']=cat_test['Name'].str.split(' ').apply(lambda x:x[1])\n",
        "cat_test.drop(columns=['Name'],inplace=True)\n",
        "\n"
      ],
      "metadata": {
        "colab": {
          "base_uri": "https://localhost:8080/"
        },
        "id": "RdHIGq9XEIE1",
        "outputId": "17dd7716-9b49-404e-eec9-49e4d4b8864d"
      },
      "execution_count": 311,
      "outputs": [
        {
          "output_type": "stream",
          "name": "stderr",
          "text": [
            "/usr/local/lib/python3.7/dist-packages/pandas/core/frame.py:3678: SettingWithCopyWarning: \n",
            "A value is trying to be set on a copy of a slice from a DataFrame.\n",
            "Try using .loc[row_indexer,col_indexer] = value instead\n",
            "\n",
            "See the caveats in the documentation: https://pandas.pydata.org/pandas-docs/stable/user_guide/indexing.html#returning-a-view-versus-a-copy\n",
            "  self[col] = igetitem(value, i)\n",
            "/usr/local/lib/python3.7/dist-packages/pandas/core/frame.py:3678: SettingWithCopyWarning: \n",
            "A value is trying to be set on a copy of a slice from a DataFrame.\n",
            "Try using .loc[row_indexer,col_indexer] = value instead\n",
            "\n",
            "See the caveats in the documentation: https://pandas.pydata.org/pandas-docs/stable/user_guide/indexing.html#returning-a-view-versus-a-copy\n",
            "  self[col] = igetitem(value, i)\n",
            "/usr/local/lib/python3.7/dist-packages/ipykernel_launcher.py:3: SettingWithCopyWarning: \n",
            "A value is trying to be set on a copy of a slice from a DataFrame.\n",
            "Try using .loc[row_indexer,col_indexer] = value instead\n",
            "\n",
            "See the caveats in the documentation: https://pandas.pydata.org/pandas-docs/stable/user_guide/indexing.html#returning-a-view-versus-a-copy\n",
            "  This is separate from the ipykernel package so we can avoid doing imports until\n",
            "/usr/local/lib/python3.7/dist-packages/pandas/core/frame.py:4913: SettingWithCopyWarning: \n",
            "A value is trying to be set on a copy of a slice from a DataFrame\n",
            "\n",
            "See the caveats in the documentation: https://pandas.pydata.org/pandas-docs/stable/user_guide/indexing.html#returning-a-view-versus-a-copy\n",
            "  errors=errors,\n",
            "/usr/local/lib/python3.7/dist-packages/ipykernel_launcher.py:5: SettingWithCopyWarning: \n",
            "A value is trying to be set on a copy of a slice from a DataFrame.\n",
            "Try using .loc[row_indexer,col_indexer] = value instead\n",
            "\n",
            "See the caveats in the documentation: https://pandas.pydata.org/pandas-docs/stable/user_guide/indexing.html#returning-a-view-versus-a-copy\n",
            "  \"\"\"\n"
          ]
        }
      ]
    },
    {
      "cell_type": "code",
      "source": [
        "cat_train['lastName']"
      ],
      "metadata": {
        "colab": {
          "base_uri": "https://localhost:8080/"
        },
        "id": "O8rUlQtL45D0",
        "outputId": "b1af38cd-0ac5-4444-eeaa-4f35065b66cc"
      },
      "execution_count": 305,
      "outputs": [
        {
          "output_type": "execute_result",
          "data": {
            "text/plain": [
              "118           Mish\n",
              "3902           Fla\n",
              "2292    Johnshines\n",
              "3776    Waltonnedy\n",
              "808        Lambles\n",
              "           ...    \n",
              "2023         Graie\n",
              "7571       Pulgaly\n",
              "4628       Alenter\n",
              "1330        Foxter\n",
              "74       Vinozarks\n",
              "Name: lastName, Length: 7823, dtype: object"
            ]
          },
          "metadata": {},
          "execution_count": 305
        }
      ]
    },
    {
      "cell_type": "code",
      "source": [
        "test"
      ],
      "metadata": {
        "colab": {
          "base_uri": "https://localhost:8080/",
          "height": 468
        },
        "id": "HBAmWWzNaOFn",
        "outputId": "1976c168-1176-44a9-f942-fce5a5930ea6"
      },
      "execution_count": 200,
      "outputs": [
        {
          "output_type": "execute_result",
          "data": {
            "text/plain": [
              "      TotalSpent  Earth  Europa  CryoSleep    P      VIP       Age  \\\n",
              "4640       990.0    0.0     0.0  -0.757124  1.0 -0.14535  0.479769   \n",
              "1443       539.0    0.0     0.0  -0.757124  1.0 -0.14535 -0.415937   \n",
              "606        944.0    1.0     0.0  -0.757124  0.0 -0.14535  0.479769   \n",
              "6651         0.0    1.0     0.0   1.320787  0.0 -0.14535  0.479769   \n",
              "6944      1236.0    0.0     0.0  -0.757124  1.0 -0.14535  1.375476   \n",
              "...          ...    ...     ...        ...  ...      ...       ...   \n",
              "5243       210.0    1.0     0.0  -0.757124  0.0 -0.14535 -1.311644   \n",
              "7258       791.0    1.0     0.0  -0.757124  1.0 -0.14535 -0.415937   \n",
              "5863         0.0    0.0     0.0  -0.757124  1.0 -0.14535 -1.311644   \n",
              "3276         0.0    1.0     0.0   1.320787  1.0 -0.14535 -1.311644   \n",
              "1484       657.0    0.0     0.0  -0.757124  1.0 -0.14535 -0.415937   \n",
              "\n",
              "      TRAPPIST-1e  55 Cancri e  PSO J318.5-22   01   02   03   04   05   06  \\\n",
              "4640          1.0          0.0            0.0  1.0  0.0  0.0  0.0  0.0  0.0   \n",
              "1443          1.0          0.0            0.0  1.0  0.0  0.0  0.0  0.0  0.0   \n",
              "606           1.0          0.0            0.0  0.0  1.0  0.0  0.0  0.0  0.0   \n",
              "6651          1.0          0.0            0.0  1.0  0.0  0.0  0.0  0.0  0.0   \n",
              "6944          1.0          0.0            0.0  0.0  1.0  0.0  0.0  0.0  0.0   \n",
              "...           ...          ...            ...  ...  ...  ...  ...  ...  ...   \n",
              "5243          1.0          0.0            0.0  1.0  0.0  0.0  0.0  0.0  0.0   \n",
              "7258          1.0          0.0            0.0  1.0  0.0  0.0  0.0  0.0  0.0   \n",
              "5863          1.0          0.0            0.0  0.0  0.0  1.0  0.0  0.0  0.0   \n",
              "3276          1.0          0.0            0.0  0.0  0.0  1.0  0.0  0.0  0.0   \n",
              "1484          1.0          0.0            0.0  1.0  0.0  0.0  0.0  0.0  0.0   \n",
              "\n",
              "       07   08  \n",
              "4640  0.0  0.0  \n",
              "1443  0.0  0.0  \n",
              "606   0.0  0.0  \n",
              "6651  0.0  0.0  \n",
              "6944  0.0  0.0  \n",
              "...   ...  ...  \n",
              "5243  0.0  0.0  \n",
              "7258  0.0  0.0  \n",
              "5863  0.0  0.0  \n",
              "3276  0.0  0.0  \n",
              "1484  0.0  0.0  \n",
              "\n",
              "[870 rows x 18 columns]"
            ],
            "text/html": [
              "\n",
              "  <div id=\"df-46ec4690-8c75-46a7-a343-d8d63e906f43\">\n",
              "    <div class=\"colab-df-container\">\n",
              "      <div>\n",
              "<style scoped>\n",
              "    .dataframe tbody tr th:only-of-type {\n",
              "        vertical-align: middle;\n",
              "    }\n",
              "\n",
              "    .dataframe tbody tr th {\n",
              "        vertical-align: top;\n",
              "    }\n",
              "\n",
              "    .dataframe thead th {\n",
              "        text-align: right;\n",
              "    }\n",
              "</style>\n",
              "<table border=\"1\" class=\"dataframe\">\n",
              "  <thead>\n",
              "    <tr style=\"text-align: right;\">\n",
              "      <th></th>\n",
              "      <th>TotalSpent</th>\n",
              "      <th>Earth</th>\n",
              "      <th>Europa</th>\n",
              "      <th>CryoSleep</th>\n",
              "      <th>P</th>\n",
              "      <th>VIP</th>\n",
              "      <th>Age</th>\n",
              "      <th>TRAPPIST-1e</th>\n",
              "      <th>55 Cancri e</th>\n",
              "      <th>PSO J318.5-22</th>\n",
              "      <th>01</th>\n",
              "      <th>02</th>\n",
              "      <th>03</th>\n",
              "      <th>04</th>\n",
              "      <th>05</th>\n",
              "      <th>06</th>\n",
              "      <th>07</th>\n",
              "      <th>08</th>\n",
              "    </tr>\n",
              "  </thead>\n",
              "  <tbody>\n",
              "    <tr>\n",
              "      <th>4640</th>\n",
              "      <td>990.0</td>\n",
              "      <td>0.0</td>\n",
              "      <td>0.0</td>\n",
              "      <td>-0.757124</td>\n",
              "      <td>1.0</td>\n",
              "      <td>-0.14535</td>\n",
              "      <td>0.479769</td>\n",
              "      <td>1.0</td>\n",
              "      <td>0.0</td>\n",
              "      <td>0.0</td>\n",
              "      <td>1.0</td>\n",
              "      <td>0.0</td>\n",
              "      <td>0.0</td>\n",
              "      <td>0.0</td>\n",
              "      <td>0.0</td>\n",
              "      <td>0.0</td>\n",
              "      <td>0.0</td>\n",
              "      <td>0.0</td>\n",
              "    </tr>\n",
              "    <tr>\n",
              "      <th>1443</th>\n",
              "      <td>539.0</td>\n",
              "      <td>0.0</td>\n",
              "      <td>0.0</td>\n",
              "      <td>-0.757124</td>\n",
              "      <td>1.0</td>\n",
              "      <td>-0.14535</td>\n",
              "      <td>-0.415937</td>\n",
              "      <td>1.0</td>\n",
              "      <td>0.0</td>\n",
              "      <td>0.0</td>\n",
              "      <td>1.0</td>\n",
              "      <td>0.0</td>\n",
              "      <td>0.0</td>\n",
              "      <td>0.0</td>\n",
              "      <td>0.0</td>\n",
              "      <td>0.0</td>\n",
              "      <td>0.0</td>\n",
              "      <td>0.0</td>\n",
              "    </tr>\n",
              "    <tr>\n",
              "      <th>606</th>\n",
              "      <td>944.0</td>\n",
              "      <td>1.0</td>\n",
              "      <td>0.0</td>\n",
              "      <td>-0.757124</td>\n",
              "      <td>0.0</td>\n",
              "      <td>-0.14535</td>\n",
              "      <td>0.479769</td>\n",
              "      <td>1.0</td>\n",
              "      <td>0.0</td>\n",
              "      <td>0.0</td>\n",
              "      <td>0.0</td>\n",
              "      <td>1.0</td>\n",
              "      <td>0.0</td>\n",
              "      <td>0.0</td>\n",
              "      <td>0.0</td>\n",
              "      <td>0.0</td>\n",
              "      <td>0.0</td>\n",
              "      <td>0.0</td>\n",
              "    </tr>\n",
              "    <tr>\n",
              "      <th>6651</th>\n",
              "      <td>0.0</td>\n",
              "      <td>1.0</td>\n",
              "      <td>0.0</td>\n",
              "      <td>1.320787</td>\n",
              "      <td>0.0</td>\n",
              "      <td>-0.14535</td>\n",
              "      <td>0.479769</td>\n",
              "      <td>1.0</td>\n",
              "      <td>0.0</td>\n",
              "      <td>0.0</td>\n",
              "      <td>1.0</td>\n",
              "      <td>0.0</td>\n",
              "      <td>0.0</td>\n",
              "      <td>0.0</td>\n",
              "      <td>0.0</td>\n",
              "      <td>0.0</td>\n",
              "      <td>0.0</td>\n",
              "      <td>0.0</td>\n",
              "    </tr>\n",
              "    <tr>\n",
              "      <th>6944</th>\n",
              "      <td>1236.0</td>\n",
              "      <td>0.0</td>\n",
              "      <td>0.0</td>\n",
              "      <td>-0.757124</td>\n",
              "      <td>1.0</td>\n",
              "      <td>-0.14535</td>\n",
              "      <td>1.375476</td>\n",
              "      <td>1.0</td>\n",
              "      <td>0.0</td>\n",
              "      <td>0.0</td>\n",
              "      <td>0.0</td>\n",
              "      <td>1.0</td>\n",
              "      <td>0.0</td>\n",
              "      <td>0.0</td>\n",
              "      <td>0.0</td>\n",
              "      <td>0.0</td>\n",
              "      <td>0.0</td>\n",
              "      <td>0.0</td>\n",
              "    </tr>\n",
              "    <tr>\n",
              "      <th>...</th>\n",
              "      <td>...</td>\n",
              "      <td>...</td>\n",
              "      <td>...</td>\n",
              "      <td>...</td>\n",
              "      <td>...</td>\n",
              "      <td>...</td>\n",
              "      <td>...</td>\n",
              "      <td>...</td>\n",
              "      <td>...</td>\n",
              "      <td>...</td>\n",
              "      <td>...</td>\n",
              "      <td>...</td>\n",
              "      <td>...</td>\n",
              "      <td>...</td>\n",
              "      <td>...</td>\n",
              "      <td>...</td>\n",
              "      <td>...</td>\n",
              "      <td>...</td>\n",
              "    </tr>\n",
              "    <tr>\n",
              "      <th>5243</th>\n",
              "      <td>210.0</td>\n",
              "      <td>1.0</td>\n",
              "      <td>0.0</td>\n",
              "      <td>-0.757124</td>\n",
              "      <td>0.0</td>\n",
              "      <td>-0.14535</td>\n",
              "      <td>-1.311644</td>\n",
              "      <td>1.0</td>\n",
              "      <td>0.0</td>\n",
              "      <td>0.0</td>\n",
              "      <td>1.0</td>\n",
              "      <td>0.0</td>\n",
              "      <td>0.0</td>\n",
              "      <td>0.0</td>\n",
              "      <td>0.0</td>\n",
              "      <td>0.0</td>\n",
              "      <td>0.0</td>\n",
              "      <td>0.0</td>\n",
              "    </tr>\n",
              "    <tr>\n",
              "      <th>7258</th>\n",
              "      <td>791.0</td>\n",
              "      <td>1.0</td>\n",
              "      <td>0.0</td>\n",
              "      <td>-0.757124</td>\n",
              "      <td>1.0</td>\n",
              "      <td>-0.14535</td>\n",
              "      <td>-0.415937</td>\n",
              "      <td>1.0</td>\n",
              "      <td>0.0</td>\n",
              "      <td>0.0</td>\n",
              "      <td>1.0</td>\n",
              "      <td>0.0</td>\n",
              "      <td>0.0</td>\n",
              "      <td>0.0</td>\n",
              "      <td>0.0</td>\n",
              "      <td>0.0</td>\n",
              "      <td>0.0</td>\n",
              "      <td>0.0</td>\n",
              "    </tr>\n",
              "    <tr>\n",
              "      <th>5863</th>\n",
              "      <td>0.0</td>\n",
              "      <td>0.0</td>\n",
              "      <td>0.0</td>\n",
              "      <td>-0.757124</td>\n",
              "      <td>1.0</td>\n",
              "      <td>-0.14535</td>\n",
              "      <td>-1.311644</td>\n",
              "      <td>1.0</td>\n",
              "      <td>0.0</td>\n",
              "      <td>0.0</td>\n",
              "      <td>0.0</td>\n",
              "      <td>0.0</td>\n",
              "      <td>1.0</td>\n",
              "      <td>0.0</td>\n",
              "      <td>0.0</td>\n",
              "      <td>0.0</td>\n",
              "      <td>0.0</td>\n",
              "      <td>0.0</td>\n",
              "    </tr>\n",
              "    <tr>\n",
              "      <th>3276</th>\n",
              "      <td>0.0</td>\n",
              "      <td>1.0</td>\n",
              "      <td>0.0</td>\n",
              "      <td>1.320787</td>\n",
              "      <td>1.0</td>\n",
              "      <td>-0.14535</td>\n",
              "      <td>-1.311644</td>\n",
              "      <td>1.0</td>\n",
              "      <td>0.0</td>\n",
              "      <td>0.0</td>\n",
              "      <td>0.0</td>\n",
              "      <td>0.0</td>\n",
              "      <td>1.0</td>\n",
              "      <td>0.0</td>\n",
              "      <td>0.0</td>\n",
              "      <td>0.0</td>\n",
              "      <td>0.0</td>\n",
              "      <td>0.0</td>\n",
              "    </tr>\n",
              "    <tr>\n",
              "      <th>1484</th>\n",
              "      <td>657.0</td>\n",
              "      <td>0.0</td>\n",
              "      <td>0.0</td>\n",
              "      <td>-0.757124</td>\n",
              "      <td>1.0</td>\n",
              "      <td>-0.14535</td>\n",
              "      <td>-0.415937</td>\n",
              "      <td>1.0</td>\n",
              "      <td>0.0</td>\n",
              "      <td>0.0</td>\n",
              "      <td>1.0</td>\n",
              "      <td>0.0</td>\n",
              "      <td>0.0</td>\n",
              "      <td>0.0</td>\n",
              "      <td>0.0</td>\n",
              "      <td>0.0</td>\n",
              "      <td>0.0</td>\n",
              "      <td>0.0</td>\n",
              "    </tr>\n",
              "  </tbody>\n",
              "</table>\n",
              "<p>870 rows × 18 columns</p>\n",
              "</div>\n",
              "      <button class=\"colab-df-convert\" onclick=\"convertToInteractive('df-46ec4690-8c75-46a7-a343-d8d63e906f43')\"\n",
              "              title=\"Convert this dataframe to an interactive table.\"\n",
              "              style=\"display:none;\">\n",
              "        \n",
              "  <svg xmlns=\"http://www.w3.org/2000/svg\" height=\"24px\"viewBox=\"0 0 24 24\"\n",
              "       width=\"24px\">\n",
              "    <path d=\"M0 0h24v24H0V0z\" fill=\"none\"/>\n",
              "    <path d=\"M18.56 5.44l.94 2.06.94-2.06 2.06-.94-2.06-.94-.94-2.06-.94 2.06-2.06.94zm-11 1L8.5 8.5l.94-2.06 2.06-.94-2.06-.94L8.5 2.5l-.94 2.06-2.06.94zm10 10l.94 2.06.94-2.06 2.06-.94-2.06-.94-.94-2.06-.94 2.06-2.06.94z\"/><path d=\"M17.41 7.96l-1.37-1.37c-.4-.4-.92-.59-1.43-.59-.52 0-1.04.2-1.43.59L10.3 9.45l-7.72 7.72c-.78.78-.78 2.05 0 2.83L4 21.41c.39.39.9.59 1.41.59.51 0 1.02-.2 1.41-.59l7.78-7.78 2.81-2.81c.8-.78.8-2.07 0-2.86zM5.41 20L4 18.59l7.72-7.72 1.47 1.35L5.41 20z\"/>\n",
              "  </svg>\n",
              "      </button>\n",
              "      \n",
              "  <style>\n",
              "    .colab-df-container {\n",
              "      display:flex;\n",
              "      flex-wrap:wrap;\n",
              "      gap: 12px;\n",
              "    }\n",
              "\n",
              "    .colab-df-convert {\n",
              "      background-color: #E8F0FE;\n",
              "      border: none;\n",
              "      border-radius: 50%;\n",
              "      cursor: pointer;\n",
              "      display: none;\n",
              "      fill: #1967D2;\n",
              "      height: 32px;\n",
              "      padding: 0 0 0 0;\n",
              "      width: 32px;\n",
              "    }\n",
              "\n",
              "    .colab-df-convert:hover {\n",
              "      background-color: #E2EBFA;\n",
              "      box-shadow: 0px 1px 2px rgba(60, 64, 67, 0.3), 0px 1px 3px 1px rgba(60, 64, 67, 0.15);\n",
              "      fill: #174EA6;\n",
              "    }\n",
              "\n",
              "    [theme=dark] .colab-df-convert {\n",
              "      background-color: #3B4455;\n",
              "      fill: #D2E3FC;\n",
              "    }\n",
              "\n",
              "    [theme=dark] .colab-df-convert:hover {\n",
              "      background-color: #434B5C;\n",
              "      box-shadow: 0px 1px 3px 1px rgba(0, 0, 0, 0.15);\n",
              "      filter: drop-shadow(0px 1px 2px rgba(0, 0, 0, 0.3));\n",
              "      fill: #FFFFFF;\n",
              "    }\n",
              "  </style>\n",
              "\n",
              "      <script>\n",
              "        const buttonEl =\n",
              "          document.querySelector('#df-46ec4690-8c75-46a7-a343-d8d63e906f43 button.colab-df-convert');\n",
              "        buttonEl.style.display =\n",
              "          google.colab.kernel.accessAllowed ? 'block' : 'none';\n",
              "\n",
              "        async function convertToInteractive(key) {\n",
              "          const element = document.querySelector('#df-46ec4690-8c75-46a7-a343-d8d63e906f43');\n",
              "          const dataTable =\n",
              "            await google.colab.kernel.invokeFunction('convertToInteractive',\n",
              "                                                     [key], {});\n",
              "          if (!dataTable) return;\n",
              "\n",
              "          const docLinkHtml = 'Like what you see? Visit the ' +\n",
              "            '<a target=\"_blank\" href=https://colab.research.google.com/notebooks/data_table.ipynb>data table notebook</a>'\n",
              "            + ' to learn more about interactive tables.';\n",
              "          element.innerHTML = '';\n",
              "          dataTable['output_type'] = 'display_data';\n",
              "          await google.colab.output.renderOutput(dataTable, element);\n",
              "          const docLink = document.createElement('div');\n",
              "          docLink.innerHTML = docLinkHtml;\n",
              "          element.appendChild(docLink);\n",
              "        }\n",
              "      </script>\n",
              "    </div>\n",
              "  </div>\n",
              "  "
            ]
          },
          "metadata": {},
          "execution_count": 200
        }
      ]
    },
    {
      "cell_type": "code",
      "execution_count": 205,
      "metadata": {
        "id": "cH6GxZ-i0CmX"
      },
      "outputs": [],
      "source": [
        "from sklearn.model_selection import GridSearchCV\n",
        "from sklearn.model_selection import RandomizedSearchCV\n",
        "from sklearn.tree import DecisionTreeClassifier\n",
        "import joblib\n",
        "from sklearn.model_selection import cross_validate\n",
        "from sklearn.ensemble import VotingClassifier"
      ]
    },
    {
      "cell_type": "markdown",
      "metadata": {
        "id": "rStHyW1PSXAQ"
      },
      "source": [
        "## Function For HyperParamter Tuning"
      ]
    },
    {
      "cell_type": "code",
      "execution_count": null,
      "metadata": {
        "id": "rRIhcOFMPE55"
      },
      "outputs": [],
      "source": [
        "def randomSearcher(model,params,name,train,train_labels):\n",
        "  rs=RandomizedSearchCV(model,param_distributions=params,scoring='accuracy',n_iter=20)\n",
        "  rs.fit(train,train_labels)\n",
        "  joblib.dump(rs.best_estimator_,'./drive/MyDrive/spaceTitanic/models/'+name)\n"
      ]
    },
    {
      "cell_type": "markdown",
      "metadata": {
        "id": "HHU_zgGIRXxx"
      },
      "source": [
        "# Ada Boost HyperParameter Tuning"
      ]
    },
    {
      "cell_type": "code",
      "execution_count": null,
      "metadata": {
        "id": "kbkMd90z4SKP"
      },
      "outputs": [],
      "source": [
        "max_depth=[int(x) for x in np.linspace(10,110,num=11)]\n",
        "ada_params = {\"base_estimator__criterion\" : [\"gini\", \"entropy\"],\n",
        "              \"base_estimator__splitter\" :   [\"best\", \"random\"],\n",
        "              \"base_estimator__max_depth\":max_depth\n",
        "             }\n",
        "dtree=DecisionTreeClassifier(random_state=42)\n",
        "abc=AdaBoostClassifier(dtree)\n",
        "randomSearcher(abc,ada_params,'abc_h_noTotalSpent')\n",
        "abc=joblib.load('./drive/MyDrive/spaceTitanic/models/abc_h_noTotalSpent')\n",
        "\n"
      ]
    },
    {
      "cell_type": "code",
      "execution_count": null,
      "metadata": {
        "id": "p1I8fngD7LMn"
      },
      "outputs": [],
      "source": [
        "abc=joblib.load('./drive/MyDrive/spaceTitanic/models/abcBestMode')"
      ]
    },
    {
      "cell_type": "markdown",
      "metadata": {
        "id": "aEykT2M7VmlB"
      },
      "source": [
        "# SVC HyperParameter Tuning"
      ]
    },
    {
      "cell_type": "code",
      "execution_count": null,
      "metadata": {
        "colab": {
          "base_uri": "https://localhost:8080/"
        },
        "id": "j6b9UnTcVsow",
        "outputId": "5de9c4b3-db3a-4843-db46-dcfb5a40b7dc"
      },
      "outputs": [
        {
          "name": "stderr",
          "output_type": "stream",
          "text": [
            "/usr/local/lib/python3.7/dist-packages/sklearn/model_selection/_search.py:296: UserWarning: The total space of parameters 9 is smaller than n_iter=20. Running 9 iterations. For exhaustive searches, use GridSearchCV.\n",
            "  UserWarning,\n"
          ]
        }
      ],
      "source": [
        "svc_params = {'C': [0.1, 1, 10],'kernel':['linear','poly','rbf']}\n",
        "svc=SVC()\n",
        "randomSearcher(svc,svc_params,'svc_h_classic')\n",
        "svc=joblib.load('./drive/MyDrive/spaceTitanic/models/svc_h_classic')\n"
      ]
    },
    {
      "cell_type": "markdown",
      "metadata": {
        "id": "G0GMXS7CYcxR"
      },
      "source": [
        "# Random Forest HyperParameter Tuning"
      ]
    },
    {
      "cell_type": "code",
      "execution_count": null,
      "metadata": {
        "id": "XMe7448XYa1k"
      },
      "outputs": [],
      "source": [
        "n_estimators=[int(x) for x in np.linspace(start=10,stop=100,num=10)]\n",
        "max_features=['auto','sqrt']\n",
        "max_depth=[int(x) for x in np.linspace(10,110,num=11)]\n",
        "max_depth.append(None)\n",
        "min_samples_split=[2,5,10]\n",
        "min_samples_leaf=[1,2,4]\n",
        "bootstrap=[True,False]\n",
        "rdm_params={'n_estimators':n_estimators,'max_features':max_features,'max_depth':max_depth,'min_samples_split':min_samples_split\n",
        "                           ,'min_samples_leaf':min_samples_leaf,'bootstrap':bootstrap}\n",
        "rf=RandomForestClassifier()\n",
        "randomSearcher(rf,rdm_params,'rf_h_noTotalSpent')\n",
        "rf=joblib.load('./drive/MyDrive/spaceTitanic/models/rf_h_noTotalSpent')\n"
      ]
    },
    {
      "cell_type": "markdown",
      "metadata": {
        "id": "1gcjmFnmqya9"
      },
      "source": [
        "# Support Vector Machine"
      ]
    },
    {
      "cell_type": "code",
      "execution_count": 213,
      "metadata": {
        "id": "AwBSkgc9q5as"
      },
      "outputs": [],
      "source": [
        "svc=SVC(probability=True)\n",
        "# svc.fit(train,train_labels)\n"
      ]
    },
    {
      "cell_type": "markdown",
      "metadata": {
        "id": "gOhaiDt0v3E1"
      },
      "source": [
        "# Voting Classifier"
      ]
    },
    {
      "cell_type": "code",
      "execution_count": 217,
      "metadata": {
        "id": "LgEqoFRCv8YF",
        "colab": {
          "base_uri": "https://localhost:8080/"
        },
        "outputId": "e9dfa842-d790-4804-d45b-860d731857ce"
      },
      "outputs": [
        {
          "output_type": "execute_result",
          "data": {
            "text/plain": [
              "VotingClassifier(estimators=[('xg', XGBClassifier()),\n",
              "                             ('svc', SVC(probability=True))])"
            ]
          },
          "metadata": {},
          "execution_count": 217
        }
      ],
      "source": [
        "vC=VotingClassifier(estimators=[('xg',xg),('svc',svc)],voting='hard')\n",
        "vC.fit(train,train_labels)"
      ]
    },
    {
      "cell_type": "code",
      "source": [
        "accuracy_score(test_labels,vC.predict(test))"
      ],
      "metadata": {
        "colab": {
          "base_uri": "https://localhost:8080/"
        },
        "id": "k2siwBWGj-Mz",
        "outputId": "53f89451-8e7e-4dca-fe51-78324159a2a0"
      },
      "execution_count": 219,
      "outputs": [
        {
          "output_type": "execute_result",
          "data": {
            "text/plain": [
              "0.7735632183908046"
            ]
          },
          "metadata": {},
          "execution_count": 219
        }
      ]
    },
    {
      "cell_type": "markdown",
      "metadata": {
        "id": "U5MNUvda2v2V"
      },
      "source": [
        "## XG BOOST"
      ]
    },
    {
      "cell_type": "code",
      "execution_count": 247,
      "metadata": {
        "colab": {
          "base_uri": "https://localhost:8080/"
        },
        "id": "wO1T29E52vAl",
        "outputId": "7ed38d3b-aada-4de7-d22a-52ed1c7157ea"
      },
      "outputs": [
        {
          "output_type": "execute_result",
          "data": {
            "text/plain": [
              "0.8011494252873563"
            ]
          },
          "metadata": {},
          "execution_count": 247
        }
      ],
      "source": [
        "xg=xgb.XGBClassifier()\n",
        "xg.fit(train,train_labels)\n",
        "accuracy_score(test_labels,xg.predict(test))"
      ]
    },
    {
      "cell_type": "code",
      "source": [
        "accuracy_score(train_labels,xg.predict(train))"
      ],
      "metadata": {
        "colab": {
          "base_uri": "https://localhost:8080/"
        },
        "id": "G8kX8PiGxvn1",
        "outputId": "d3fe5e19-cd65-43f9-e926-eb4389a6cad8"
      },
      "execution_count": 281,
      "outputs": [
        {
          "output_type": "execute_result",
          "data": {
            "text/plain": [
              "0.7948357407644127"
            ]
          },
          "metadata": {},
          "execution_count": 281
        }
      ]
    },
    {
      "cell_type": "code",
      "source": [
        "dtree=DecisionTreeClassifier(random_state=42)\n",
        "abc=AdaBoostClassifier(dtree)\n",
        "abc.fit(train,train_labels)\n",
        "accuracy_score(test_labels,abc.predict(test))"
      ],
      "metadata": {
        "colab": {
          "base_uri": "https://localhost:8080/"
        },
        "id": "rLjH6VADk-cD",
        "outputId": "3c9bb17f-81e5-4142-ed6f-1ff53ea0e5e4"
      },
      "execution_count": 221,
      "outputs": [
        {
          "output_type": "execute_result",
          "data": {
            "text/plain": [
              "0.7620689655172413"
            ]
          },
          "metadata": {},
          "execution_count": 221
        }
      ]
    },
    {
      "cell_type": "markdown",
      "metadata": {
        "id": "7ocbk0cAX7sb"
      },
      "source": [
        "## CatBoost Classifier"
      ]
    },
    {
      "cell_type": "code",
      "execution_count": 312,
      "metadata": {
        "id": "StLOf_yA9YNd"
      },
      "outputs": [],
      "source": [
        "# cat_params = {'learning_rate': [0.01,0.03, 0.1],\n",
        "#         'depth': [4, 6, 10,15,20],\n",
        "#         }\n",
        "cat_model=CatBoostClassifier(cat_features=['HomePlanet','side','P_ID2','CryoSleep','VIP','Destination','lastName'],eval_metric='Accuracy',depth=12, l2_leaf_reg=1, learning_rate=0.03)\n",
        "# randomSearcher(cat_model,cat_params,'cat_all',cat_df,labels)\n",
        "\n",
        "# model_CBC2 = CatBoostClassifier(cat_features=['HomePlanet','side','P_ID2','CryoSleep','VIP','Destination'],eval_metric='Accuracy',depth=12, l2_leaf_reg=1, learning_rate=0.03)\n",
        "# model_CBC2.fit(cat_train,cat_train_labels,eval_set=(cat_test, cat_test_labels),verbose=False,early_stopping_rounds=200,use_best_model=True)"
      ]
    },
    {
      "cell_type": "code",
      "execution_count": 313,
      "metadata": {
        "colab": {
          "base_uri": "https://localhost:8080/"
        },
        "id": "1alhlmlER4J-",
        "outputId": "c8fec802-2542-4cab-8d91-7c96b0420e9e"
      },
      "outputs": [
        {
          "output_type": "execute_result",
          "data": {
            "text/plain": [
              "<catboost.core.CatBoostClassifier at 0x7fe990158710>"
            ]
          },
          "metadata": {},
          "execution_count": 313
        }
      ],
      "source": [
        "cat_model.fit(cat_train,train_labels,eval_set=(cat_test,test_labels),verbose=False,early_stopping_rounds=200,use_best_model=True)"
      ]
    },
    {
      "cell_type": "code",
      "source": [
        "cat_model.best_score_"
      ],
      "metadata": {
        "colab": {
          "base_uri": "https://localhost:8080/"
        },
        "id": "U7Z3UTObxAxN",
        "outputId": "c0b257d1-24a9-4751-cffd-619015cf23ca"
      },
      "execution_count": 266,
      "outputs": [
        {
          "output_type": "execute_result",
          "data": {
            "text/plain": [
              "{'learn': {'Accuracy': 0.8255145085005752, 'Logloss': 0.37279664583472405},\n",
              " 'validation': {'Accuracy': 0.8011494252873563, 'Logloss': 0.4256381292634476}}"
            ]
          },
          "metadata": {},
          "execution_count": 266
        }
      ]
    },
    {
      "cell_type": "code",
      "source": [
        "cat_model.best_score_"
      ],
      "metadata": {
        "colab": {
          "base_uri": "https://localhost:8080/"
        },
        "id": "Rfqi9TZS5WpD",
        "outputId": "77139cfa-6b08-4e3b-ecc3-b3a5f59c6f27"
      },
      "execution_count": 314,
      "outputs": [
        {
          "output_type": "execute_result",
          "data": {
            "text/plain": [
              "{'learn': {'Accuracy': 0.9002940048574716, 'Logloss': 0.2738857747466765},\n",
              " 'validation': {'Accuracy': 0.8022988505747126,\n",
              "  'Logloss': 0.42646634671084555}}"
            ]
          },
          "metadata": {},
          "execution_count": 314
        }
      ]
    },
    {
      "cell_type": "code",
      "source": [
        "(cat_model.predict(cat_test)==xg.predict(test)).sum()"
      ],
      "metadata": {
        "colab": {
          "base_uri": "https://localhost:8080/"
        },
        "id": "k1IHpwMczARe",
        "outputId": "eaf4567e-1562-40a5-fb3b-81fdea64f391"
      },
      "execution_count": 282,
      "outputs": [
        {
          "output_type": "execute_result",
          "data": {
            "text/plain": [
              "854"
            ]
          },
          "metadata": {},
          "execution_count": 282
        }
      ]
    },
    {
      "cell_type": "code",
      "source": [
        "for i,j in zip(cat_model.feature_names_,cat_model.feature_importances_):\n",
        "  print(f'{i}:{j}')"
      ],
      "metadata": {
        "colab": {
          "base_uri": "https://localhost:8080/"
        },
        "id": "gyptYFtnzJAd",
        "outputId": "5e9af64c-829c-44be-c78f-eb2c007f3922"
      },
      "execution_count": 315,
      "outputs": [
        {
          "output_type": "stream",
          "name": "stdout",
          "text": [
            "TotalSpent:21.255240165023526\n",
            "HomePlanet:19.024444893246898\n",
            "CryoSleep:7.3932735190826495\n",
            "side:10.30450415715907\n",
            "VIP:0.25100294377823246\n",
            "Age:9.478076526259134\n",
            "Destination:11.207167630657237\n",
            "P_ID2:11.367097758908832\n",
            "lastName:9.719192405884451\n"
          ]
        }
      ]
    },
    {
      "cell_type": "markdown",
      "metadata": {
        "id": "qfK3i4PWOCik"
      },
      "source": [
        "## Logging Scores"
      ]
    },
    {
      "cell_type": "code",
      "execution_count": 224,
      "metadata": {
        "id": "L0-JCME_kAOI"
      },
      "outputs": [],
      "source": [
        "def score_logger(train,test,train_labels,test_labels,model):\n",
        "  model.fit(train,train_labels)\n",
        "  training_acc=accuracy_score(train_labels,model.predict(train))\n",
        "  test_acc=accuracy_score(test_labels,model.predict(test))\n",
        "  score_log=pd.read_csv('./drive/MyDrive/spaceTitanic/score_log.csv')\n",
        "  emp=','.join(train.columns)\n",
        "  score_log=score_log.append(pd.DataFrame({'Columns':emp,'Training Accuracy':training_acc,'Test Accuracy':test_acc,'Model':model.__class__.__name__},index=range(0,1)),ignore_index=True)\n",
        "  score_log.to_csv('./drive/MyDrive/spaceTitanic/score_log.csv',index=False)\n",
        "  # files.download('./drive/MyDrive/spaceTitanic/score_log.csv')\n",
        "  print(score_log)\n",
        "\n",
        "  \n",
        "  \n"
      ]
    },
    {
      "cell_type": "code",
      "execution_count": 225,
      "metadata": {
        "colab": {
          "base_uri": "https://localhost:8080/"
        },
        "id": "VpvuP1Ygrssp",
        "outputId": "36141d94-1307-49b2-b249-0a6be83dfb9e"
      },
      "outputs": [
        {
          "output_type": "stream",
          "name": "stdout",
          "text": [
            "                                              Columns  Training Accuracy  \\\n",
            "0                          TotalSpent,CryoSleep,Earth           0.800205   \n",
            "1                   TotalSpent,CryoSleep,Earth,Europa           0.809408   \n",
            "2                   TotalSpent,CryoSleep,Earth,Europa           0.809792   \n",
            "3   TotalSpent,CryoSleep,Earth,Europa,P,S,55 Cancri e           0.814266   \n",
            "4                   TotalSpent,CryoSleep,Earth,Europa           0.807619   \n",
            "5                   TotalSpent,CryoSleep,Earth,Europa           0.785504   \n",
            "6                   TotalSpent,CryoSleep,Earth,Europa           0.785249   \n",
            "7                   TotalSpent,CryoSleep,Earth,Europa           0.789978   \n",
            "8                   TotalSpent,CryoSleep,Earth,Europa           0.851719   \n",
            "9                   TotalSpent,CryoSleep,Earth,Europa           0.808386   \n",
            "10                  TotalSpent,CryoSleep,Earth,Europa           0.850697   \n",
            "11                  TotalSpent,CryoSleep,Earth,Europa           0.786655   \n",
            "12                  TotalSpent,CryoSleep,Earth,Europa           0.821041   \n",
            "13                  TotalSpent,CryoSleep,Earth,Europa           0.791896   \n",
            "14                  TotalSpent,CryoSleep,Earth,Europa           0.828966   \n",
            "15                  TotalSpent,CryoSleep,Earth,Europa           0.740509   \n",
            "16                  TotalSpent,CryoSleep,Earth,Europa           0.733990   \n",
            "17                  TotalSpent,CryoSleep,Earth,Europa           0.786655   \n",
            "18                  TotalSpent,CryoSleep,Earth,Europa           0.791896   \n",
            "19              TotalSpent,CryoSleep,Earth,Europa,Age           0.791896   \n",
            "20              TotalSpent,CryoSleep,Earth,Europa,Age           0.860412   \n",
            "21            TotalSpent,CryoSleep,Earth,Europa,Age,P           0.794708   \n",
            "22                TotalSpent,CryoSleep,Earth,Europa,P           0.795858   \n",
            "23                TotalSpent,CryoSleep,Earth,Europa,P           0.844433   \n",
            "24            TotalSpent,CryoSleep,Earth,Europa,P,VIP           0.795858   \n",
            "25            TotalSpent,CryoSleep,Earth,Europa,P,VIP           0.795986   \n",
            "26            TotalSpent,CryoSleep,Earth,Europa,P,VIP           0.795986   \n",
            "27                TotalSpent,CryoSleep,Earth,Europa,P           0.795986   \n",
            "28    TotalSpent,CryoSleep,Earth,Europa,P,55 Cancri e           0.797264   \n",
            "29    CryoSleep,Earth,Europa,P,RoomService,Spa,VRDeck           0.796114   \n",
            "30    CryoSleep,Earth,Europa,P,RoomService,Spa,VRDeck           0.898121   \n",
            "31    CryoSleep,Earth,Europa,P,RoomService,Spa,VRDeck           0.814777   \n",
            "32            TotalSpent,CryoSleep,Earth,Europa,P,Age           0.794964   \n",
            "33                TotalSpent,CryoSleep,Earth,Europa,P           0.801227   \n",
            "34         TotalSpent,Earth,Europa,CryoSleep,01,02,03           0.792790   \n",
            "35            TotalSpent,Earth,Europa,CryoSleep,01,02           0.791768   \n",
            "36                            TotalSpent,Earth,Europa           0.792279   \n",
            "37  TotalSpent,Earth,Europa,CryoSleep,P,VIP,Age,TR...           0.794836   \n",
            "\n",
            "    Test Accuracy                   Model  \n",
            "0        0.751724  RandomForestClassifier  \n",
            "1        0.756322  RandomForestClassifier  \n",
            "2        0.760920  RandomForestClassifier  \n",
            "3        0.748276  RandomForestClassifier  \n",
            "4        0.756322  RandomForestClassifier  \n",
            "5        0.772414                     SVC  \n",
            "6        0.763218                     SVC  \n",
            "7        0.770115      AdaBoostClassifier  \n",
            "8        0.740230      AdaBoostClassifier  \n",
            "9        0.759770  RandomForestClassifier  \n",
            "10       0.737931      AdaBoostClassifier  \n",
            "11       0.760920                     SVC  \n",
            "12       0.750575        VotingClassifier  \n",
            "13       0.766667           XGBClassifier  \n",
            "14       0.700000      AdaBoostClassifier  \n",
            "15       0.737931           XGBClassifier  \n",
            "16       0.727586                     SVC  \n",
            "17       0.763218                     SVC  \n",
            "18       0.766667           XGBClassifier  \n",
            "19       0.766667           XGBClassifier  \n",
            "20       0.736782      AdaBoostClassifier  \n",
            "21       0.763218           XGBClassifier  \n",
            "22       0.770115           XGBClassifier  \n",
            "23       0.729885      AdaBoostClassifier  \n",
            "24       0.770115           XGBClassifier  \n",
            "25       0.770115           XGBClassifier  \n",
            "26       0.770115           XGBClassifier  \n",
            "27       0.770115           XGBClassifier  \n",
            "28       0.766667           XGBClassifier  \n",
            "29       0.762069           XGBClassifier  \n",
            "30       0.729885      AdaBoostClassifier  \n",
            "31       0.765517  RandomForestClassifier  \n",
            "32       0.765517           XGBClassifier  \n",
            "33       0.750575      CatBoostClassifier  \n",
            "34       0.766667           XGBClassifier  \n",
            "35       0.766667           XGBClassifier  \n",
            "36       0.766667           XGBClassifier  \n",
            "37       0.798851           XGBClassifier  \n"
          ]
        }
      ],
      "source": [
        "score_logger(train,test,train_labels,test_labels,xg)"
      ]
    },
    {
      "cell_type": "code",
      "execution_count": null,
      "metadata": {
        "id": "myAddsV9PoAR"
      },
      "outputs": [],
      "source": [
        "score_log=pd.read_csv('./drive/MyDrive/spaceTitanic/score_log.csv')\n"
      ]
    },
    {
      "cell_type": "markdown",
      "metadata": {
        "id": "E4W7LGs3g0v4"
      },
      "source": [
        "#Test Data"
      ]
    },
    {
      "cell_type": "code",
      "execution_count": 316,
      "metadata": {
        "id": "1pbzF175gz9f"
      },
      "outputs": [],
      "source": [
        "testKag=pd.read_csv('./drive/MyDrive/spaceTitanic/test.csv')\n",
        "df=pd.read_csv('./drive/MyDrive/spaceTitanic/train.csv')"
      ]
    },
    {
      "cell_type": "code",
      "source": [
        "testKag['side']=testKag['Cabin'].str[-1]\n",
        "Passenger_ids=testKag['PassengerId']\n",
        "testKag=HomePlanetImpute(testKag)\n",
        "testKag=cat_Pipe.fit_transform(testKag)\n",
        "testKag['lastName']=testKag['Name'].str.split(' ').apply(lambda x:x[1])\n",
        "testKag.drop(columns=['Name'],inplace=True)\n"
      ],
      "metadata": {
        "colab": {
          "base_uri": "https://localhost:8080/"
        },
        "id": "6PPuLpKEnvVi",
        "outputId": "a8d965a2-696f-4e06-a39d-09b529c99dfb"
      },
      "execution_count": 317,
      "outputs": [
        {
          "output_type": "stream",
          "name": "stderr",
          "text": [
            "/usr/local/lib/python3.7/dist-packages/pandas/core/frame.py:3678: SettingWithCopyWarning: \n",
            "A value is trying to be set on a copy of a slice from a DataFrame.\n",
            "Try using .loc[row_indexer,col_indexer] = value instead\n",
            "\n",
            "See the caveats in the documentation: https://pandas.pydata.org/pandas-docs/stable/user_guide/indexing.html#returning-a-view-versus-a-copy\n",
            "  self[col] = igetitem(value, i)\n",
            "/usr/local/lib/python3.7/dist-packages/ipykernel_launcher.py:5: SettingWithCopyWarning: \n",
            "A value is trying to be set on a copy of a slice from a DataFrame.\n",
            "Try using .loc[row_indexer,col_indexer] = value instead\n",
            "\n",
            "See the caveats in the documentation: https://pandas.pydata.org/pandas-docs/stable/user_guide/indexing.html#returning-a-view-versus-a-copy\n",
            "  \"\"\"\n",
            "/usr/local/lib/python3.7/dist-packages/pandas/core/frame.py:4913: SettingWithCopyWarning: \n",
            "A value is trying to be set on a copy of a slice from a DataFrame\n",
            "\n",
            "See the caveats in the documentation: https://pandas.pydata.org/pandas-docs/stable/user_guide/indexing.html#returning-a-view-versus-a-copy\n",
            "  errors=errors,\n"
          ]
        }
      ]
    },
    {
      "cell_type": "code",
      "execution_count": null,
      "metadata": {
        "id": "MsS-cHdttgsT",
        "colab": {
          "base_uri": "https://localhost:8080/"
        },
        "outputId": "0bdba02b-58f6-475d-bffd-513e6b812d92"
      },
      "outputs": [
        {
          "output_type": "stream",
          "name": "stderr",
          "text": [
            "/usr/local/lib/python3.7/dist-packages/pandas/core/frame.py:3678: SettingWithCopyWarning: \n",
            "A value is trying to be set on a copy of a slice from a DataFrame.\n",
            "Try using .loc[row_indexer,col_indexer] = value instead\n",
            "\n",
            "See the caveats in the documentation: https://pandas.pydata.org/pandas-docs/stable/user_guide/indexing.html#returning-a-view-versus-a-copy\n",
            "  self[col] = igetitem(value, i)\n"
          ]
        }
      ],
      "source": [
        "# int_imp=Int_Imputer(['Age','RoomService','FoodCourt','ShoppingMall','Spa','VRDeck'])\n",
        "# testKag=int_imp.fit_transform(testKag)\n",
        "val_imp=Value_Imputer({'RoomService':df['RoomService'].mean(),'Spa':df['Spa'].mean(),'VRDeck':df['VRDeck'].mean(),\n",
        "                       'HomePlanet':df['HomePlanet'].mode().values[0],'Destination':df['Destination'].mode().values[0],\n",
        "                       'CryoSleep':df['CryoSleep'].mode().values[0],'VIP':df['VIP'].mode().values[0],\n",
        "                       })\n",
        "testKag=val_imp.fit_transform(testKag)\n",
        "attri_adder=AttriAdder()\n",
        "testKag=attri_adder.fit_transform(testKag)\n",
        "testKag['side']=testKag['side'].fillna(value=cat_df['side'].mode().values[0])\n",
        "# modeImp=ModeImputer(['HomePlanet','CryoSleep','side','Destination','VIP'])\n",
        "# testKag=modeImp.fit_transform(testKag)\n",
        "# type_change=TypeChange({'CryoSleep':np.int64,'VIP':np.int64})\n",
        "# testKag=type_change.fit_transform(testKag)\n",
        "# one_hot=OneHot(['HomePlanet','side','Destination','P_ID2'])\n",
        "# testKag=one_hot.fit_transform(testKag)\n",
        "# drp_cls=Dropcols(['Name','Cabin','Destination','HomePlanet','side','PassengerId','RoomService','VRDeck','Spa'])\n",
        "# df=drp_cls.fit_transform(df)\n",
        "# bin=Binner(['Age'],4)\n",
        "# testKag=bin.fit_transform(testKag)\n",
        "keep_cls=Keepcols(['TotalSpent','HomePlanet','side','P_ID2','CryoSleep','VIP','Destination'])\n",
        "cat_testKag=keep_cls.fit_transform(testKag)\n",
        "scaler=Scaler(['TotalSpent'])\n",
        "cat_testKag=scaler.fit_transform(cat_testKag)"
      ]
    },
    {
      "cell_type": "code",
      "source": [
        "fully_trained_cat=joblib.load('./drive/MyDrive/spaceTitanic/cat_all')\n",
        "predictions=pd.DataFrame({'PassengerId':testKag['PassengerId'],'Transported':fully_trained_cat.predict(cat_testKag).astype('bool')})\n",
        "predictions.to_csv('./drive/MyDrive/spaceTitanic/full_cat_preds.csv')"
      ],
      "metadata": {
        "id": "iEUk3hA8urE3"
      },
      "execution_count": null,
      "outputs": []
    },
    {
      "cell_type": "code",
      "source": [
        "def answer_dumper(model,file_name,df,ids):\n",
        "  predictions=pd.DataFrame({'PassengerId':ids,'Transported':model.predict(df).astype('bool')})\n",
        "  predictions.to_csv('./drive/MyDrive/spaceTitanic/'+file_name+'.csv')"
      ],
      "metadata": {
        "id": "MAp-th01ooja"
      },
      "execution_count": 236,
      "outputs": []
    },
    {
      "cell_type": "code",
      "source": [
        "\n",
        "answer_dumper(cat_model,'cat_with_lastName',testKag,Passenger_ids)"
      ],
      "metadata": {
        "id": "clwvuTLbpK9n"
      },
      "execution_count": 318,
      "outputs": []
    },
    {
      "cell_type": "code",
      "source": [],
      "metadata": {
        "id": "1X7KcIFppS7W"
      },
      "execution_count": null,
      "outputs": []
    }
  ],
  "metadata": {
    "accelerator": "TPU",
    "colab": {
      "collapsed_sections": [],
      "provenance": [],
      "mount_file_id": "1vse_OqxClNP_wSQoe2tWryEGCAlC0nYN",
      "authorship_tag": "ABX9TyPQNCjolXbsTtTPpPrifGKv",
      "include_colab_link": true
    },
    "kernelspec": {
      "display_name": "Python 3",
      "name": "python3"
    },
    "language_info": {
      "name": "python"
    }
  },
  "nbformat": 4,
  "nbformat_minor": 0
}