{
  "cells": [
    {
      "cell_type": "markdown",
      "metadata": {
        "id": "view-in-github",
        "colab_type": "text"
      },
      "source": [
        "<a href=\"https://colab.research.google.com/github/yassarmohammed87/SpaceShipTitanic-Kaggle/blob/main/Spaceship_Titanic.ipynb\" target=\"_parent\"><img src=\"https://colab.research.google.com/assets/colab-badge.svg\" alt=\"Open In Colab\"/></a>"
      ]
    },
    {
      "cell_type": "code",
      "execution_count": null,
      "metadata": {
        "id": "z9l6943kzi8R"
      },
      "outputs": [],
      "source": [
        "!pip install -q kaggle\n",
        "!mkdir ~/.kaggle\n",
        "!cp kaggle.json ~/.kaggle\n",
        "!chmod 600 ~/.kaggle/kaggle.json\n"
      ]
    },
    {
      "cell_type": "code",
      "execution_count": null,
      "metadata": {
        "colab": {
          "base_uri": "https://localhost:8080/"
        },
        "id": "xrztIkc019-N",
        "outputId": "147ef4f6-7022-460e-bde1-2295b29a29af"
      },
      "outputs": [
        {
          "name": "stdout",
          "output_type": "stream",
          "text": [
            "Downloading spaceship-titanic.zip to /content\n",
            "\r  0% 0.00/299k [00:00<?, ?B/s]\n",
            "\r100% 299k/299k [00:00<00:00, 74.5MB/s]\n"
          ]
        }
      ],
      "source": [
        "!kaggle competitions download -c spaceship-titanic\n"
      ]
    },
    {
      "cell_type": "code",
      "execution_count": null,
      "metadata": {
        "id": "baZ6fk8GATJx"
      },
      "outputs": [],
      "source": [
        "!mkdir spaceTitanic \n",
        "!cp train.csv ./spaceTitanic/\n",
        "!cp test.csv ./spaceTitanic/\n",
        "!rm -rf test.csv\n",
        "!rm -rf train.csv"
      ]
    },
    {
      "cell_type": "code",
      "execution_count": null,
      "metadata": {
        "colab": {
          "base_uri": "https://localhost:8080/"
        },
        "id": "h2NygmYM6LWB",
        "outputId": "489fafb6-ad13-40cb-c5e6-f1ffea8a53e9"
      },
      "outputs": [
        {
          "output_type": "stream",
          "name": "stdout",
          "text": [
            "Looking in indexes: https://pypi.org/simple, https://us-python.pkg.dev/colab-wheels/public/simple/\n",
            "Requirement already satisfied: mlxtend in /usr/local/lib/python3.7/dist-packages (0.14.0)\n",
            "Requirement already satisfied: pandas>=0.17.1 in /usr/local/lib/python3.7/dist-packages (from mlxtend) (1.3.5)\n",
            "Requirement already satisfied: scikit-learn>=0.18 in /usr/local/lib/python3.7/dist-packages (from mlxtend) (1.0.2)\n",
            "Requirement already satisfied: numpy>=1.10.4 in /usr/local/lib/python3.7/dist-packages (from mlxtend) (1.21.6)\n",
            "Requirement already satisfied: matplotlib>=1.5.1 in /usr/local/lib/python3.7/dist-packages (from mlxtend) (3.2.2)\n",
            "Requirement already satisfied: scipy>=0.17 in /usr/local/lib/python3.7/dist-packages (from mlxtend) (1.7.3)\n",
            "Requirement already satisfied: setuptools in /usr/local/lib/python3.7/dist-packages (from mlxtend) (57.4.0)\n",
            "Requirement already satisfied: kiwisolver>=1.0.1 in /usr/local/lib/python3.7/dist-packages (from matplotlib>=1.5.1->mlxtend) (1.4.4)\n",
            "Requirement already satisfied: pyparsing!=2.0.4,!=2.1.2,!=2.1.6,>=2.0.1 in /usr/local/lib/python3.7/dist-packages (from matplotlib>=1.5.1->mlxtend) (3.0.9)\n",
            "Requirement already satisfied: python-dateutil>=2.1 in /usr/local/lib/python3.7/dist-packages (from matplotlib>=1.5.1->mlxtend) (2.8.2)\n",
            "Requirement already satisfied: cycler>=0.10 in /usr/local/lib/python3.7/dist-packages (from matplotlib>=1.5.1->mlxtend) (0.11.0)\n",
            "Requirement already satisfied: typing-extensions in /usr/local/lib/python3.7/dist-packages (from kiwisolver>=1.0.1->matplotlib>=1.5.1->mlxtend) (4.1.1)\n",
            "Requirement already satisfied: pytz>=2017.3 in /usr/local/lib/python3.7/dist-packages (from pandas>=0.17.1->mlxtend) (2022.5)\n",
            "Requirement already satisfied: six>=1.5 in /usr/local/lib/python3.7/dist-packages (from python-dateutil>=2.1->matplotlib>=1.5.1->mlxtend) (1.15.0)\n",
            "Requirement already satisfied: joblib>=0.11 in /usr/local/lib/python3.7/dist-packages (from scikit-learn>=0.18->mlxtend) (1.2.0)\n",
            "Requirement already satisfied: threadpoolctl>=2.0.0 in /usr/local/lib/python3.7/dist-packages (from scikit-learn>=0.18->mlxtend) (3.1.0)\n"
          ]
        }
      ],
      "source": [
        "!pip install mlxtend"
      ]
    },
    {
      "cell_type": "code",
      "execution_count": 1,
      "metadata": {
        "colab": {
          "base_uri": "https://localhost:8080/"
        },
        "id": "hvpLnUgKVhQ7",
        "outputId": "6204197b-af72-43d3-a866-99a26cac4785"
      },
      "outputs": [
        {
          "output_type": "stream",
          "name": "stdout",
          "text": [
            "Looking in indexes: https://pypi.org/simple, https://us-python.pkg.dev/colab-wheels/public/simple/\n",
            "Collecting catboost\n",
            "  Downloading catboost-1.1-cp37-none-manylinux1_x86_64.whl (76.8 MB)\n",
            "\u001b[K     |████████████████████████████████| 76.8 MB 1.3 MB/s \n",
            "\u001b[?25hRequirement already satisfied: pandas>=0.24.0 in /usr/local/lib/python3.7/dist-packages (from catboost) (1.3.5)\n",
            "Requirement already satisfied: six in /usr/local/lib/python3.7/dist-packages (from catboost) (1.15.0)\n",
            "Requirement already satisfied: matplotlib in /usr/local/lib/python3.7/dist-packages (from catboost) (3.2.2)\n",
            "Requirement already satisfied: numpy>=1.16.0 in /usr/local/lib/python3.7/dist-packages (from catboost) (1.21.6)\n",
            "Requirement already satisfied: scipy in /usr/local/lib/python3.7/dist-packages (from catboost) (1.7.3)\n",
            "Requirement already satisfied: graphviz in /usr/local/lib/python3.7/dist-packages (from catboost) (0.10.1)\n",
            "Requirement already satisfied: plotly in /usr/local/lib/python3.7/dist-packages (from catboost) (5.5.0)\n",
            "Requirement already satisfied: python-dateutil>=2.7.3 in /usr/local/lib/python3.7/dist-packages (from pandas>=0.24.0->catboost) (2.8.2)\n",
            "Requirement already satisfied: pytz>=2017.3 in /usr/local/lib/python3.7/dist-packages (from pandas>=0.24.0->catboost) (2022.5)\n",
            "Requirement already satisfied: cycler>=0.10 in /usr/local/lib/python3.7/dist-packages (from matplotlib->catboost) (0.11.0)\n",
            "Requirement already satisfied: pyparsing!=2.0.4,!=2.1.2,!=2.1.6,>=2.0.1 in /usr/local/lib/python3.7/dist-packages (from matplotlib->catboost) (3.0.9)\n",
            "Requirement already satisfied: kiwisolver>=1.0.1 in /usr/local/lib/python3.7/dist-packages (from matplotlib->catboost) (1.4.4)\n",
            "Requirement already satisfied: typing-extensions in /usr/local/lib/python3.7/dist-packages (from kiwisolver>=1.0.1->matplotlib->catboost) (4.1.1)\n",
            "Requirement already satisfied: tenacity>=6.2.0 in /usr/local/lib/python3.7/dist-packages (from plotly->catboost) (8.1.0)\n",
            "Installing collected packages: catboost\n",
            "Successfully installed catboost-1.1\n"
          ]
        }
      ],
      "source": [
        "!pip install catboost"
      ]
    },
    {
      "cell_type": "code",
      "execution_count": 2,
      "metadata": {
        "colab": {
          "base_uri": "https://localhost:8080/"
        },
        "id": "2hkW-MnPa5Ad",
        "outputId": "d7c184c4-d2d1-4a85-c1a1-604b018b6a75"
      },
      "outputs": [
        {
          "output_type": "stream",
          "name": "stdout",
          "text": [
            "Looking in indexes: https://pypi.org/simple, https://us-python.pkg.dev/colab-wheels/public/simple/\n",
            "Collecting BorutaShap\n",
            "  Downloading BorutaShap-1.0.16-py3-none-any.whl (13 kB)\n",
            "Requirement already satisfied: numpy in /usr/local/lib/python3.7/dist-packages (from BorutaShap) (1.21.6)\n",
            "Requirement already satisfied: seaborn in /usr/local/lib/python3.7/dist-packages (from BorutaShap) (0.11.2)\n",
            "Requirement already satisfied: scikit-learn in /usr/local/lib/python3.7/dist-packages (from BorutaShap) (1.0.2)\n",
            "Requirement already satisfied: matplotlib in /usr/local/lib/python3.7/dist-packages (from BorutaShap) (3.2.2)\n",
            "Requirement already satisfied: statsmodels in /usr/local/lib/python3.7/dist-packages (from BorutaShap) (0.12.2)\n",
            "Requirement already satisfied: pandas in /usr/local/lib/python3.7/dist-packages (from BorutaShap) (1.3.5)\n",
            "Requirement already satisfied: scipy in /usr/local/lib/python3.7/dist-packages (from BorutaShap) (1.7.3)\n",
            "Collecting shap>=0.34.0\n",
            "  Downloading shap-0.41.0-cp37-cp37m-manylinux_2_12_x86_64.manylinux2010_x86_64.whl (569 kB)\n",
            "\u001b[K     |████████████████████████████████| 569 kB 5.3 MB/s \n",
            "\u001b[?25hRequirement already satisfied: tqdm in /usr/local/lib/python3.7/dist-packages (from BorutaShap) (4.64.1)\n",
            "Requirement already satisfied: numba in /usr/local/lib/python3.7/dist-packages (from shap>=0.34.0->BorutaShap) (0.56.3)\n",
            "Collecting slicer==0.0.7\n",
            "  Downloading slicer-0.0.7-py3-none-any.whl (14 kB)\n",
            "Requirement already satisfied: cloudpickle in /usr/local/lib/python3.7/dist-packages (from shap>=0.34.0->BorutaShap) (1.5.0)\n",
            "Requirement already satisfied: packaging>20.9 in /usr/local/lib/python3.7/dist-packages (from shap>=0.34.0->BorutaShap) (21.3)\n",
            "Requirement already satisfied: pyparsing!=3.0.5,>=2.0.2 in /usr/local/lib/python3.7/dist-packages (from packaging>20.9->shap>=0.34.0->BorutaShap) (3.0.9)\n",
            "Requirement already satisfied: cycler>=0.10 in /usr/local/lib/python3.7/dist-packages (from matplotlib->BorutaShap) (0.11.0)\n",
            "Requirement already satisfied: kiwisolver>=1.0.1 in /usr/local/lib/python3.7/dist-packages (from matplotlib->BorutaShap) (1.4.4)\n",
            "Requirement already satisfied: python-dateutil>=2.1 in /usr/local/lib/python3.7/dist-packages (from matplotlib->BorutaShap) (2.8.2)\n",
            "Requirement already satisfied: typing-extensions in /usr/local/lib/python3.7/dist-packages (from kiwisolver>=1.0.1->matplotlib->BorutaShap) (4.1.1)\n",
            "Requirement already satisfied: six>=1.5 in /usr/local/lib/python3.7/dist-packages (from python-dateutil>=2.1->matplotlib->BorutaShap) (1.15.0)\n",
            "Requirement already satisfied: llvmlite<0.40,>=0.39.0dev0 in /usr/local/lib/python3.7/dist-packages (from numba->shap>=0.34.0->BorutaShap) (0.39.1)\n",
            "Requirement already satisfied: setuptools in /usr/local/lib/python3.7/dist-packages (from numba->shap>=0.34.0->BorutaShap) (57.4.0)\n",
            "Requirement already satisfied: importlib-metadata in /usr/local/lib/python3.7/dist-packages (from numba->shap>=0.34.0->BorutaShap) (4.13.0)\n",
            "Requirement already satisfied: zipp>=0.5 in /usr/local/lib/python3.7/dist-packages (from importlib-metadata->numba->shap>=0.34.0->BorutaShap) (3.9.0)\n",
            "Requirement already satisfied: pytz>=2017.3 in /usr/local/lib/python3.7/dist-packages (from pandas->BorutaShap) (2022.5)\n",
            "Requirement already satisfied: joblib>=0.11 in /usr/local/lib/python3.7/dist-packages (from scikit-learn->BorutaShap) (1.2.0)\n",
            "Requirement already satisfied: threadpoolctl>=2.0.0 in /usr/local/lib/python3.7/dist-packages (from scikit-learn->BorutaShap) (3.1.0)\n",
            "Requirement already satisfied: patsy>=0.5 in /usr/local/lib/python3.7/dist-packages (from statsmodels->BorutaShap) (0.5.3)\n",
            "Installing collected packages: slicer, shap, BorutaShap\n",
            "Successfully installed BorutaShap-1.0.16 shap-0.41.0 slicer-0.0.7\n"
          ]
        }
      ],
      "source": [
        "!pip install BorutaShap"
      ]
    },
    {
      "cell_type": "code",
      "execution_count": 3,
      "metadata": {
        "colab": {
          "base_uri": "https://localhost:8080/"
        },
        "id": "Y80uL-ANny1i",
        "outputId": "fee4f94f-8134-4691-f9ef-342be8c0b3d2"
      },
      "outputs": [
        {
          "output_type": "stream",
          "name": "stdout",
          "text": [
            "Looking in indexes: https://pypi.org/simple, https://us-python.pkg.dev/colab-wheels/public/simple/\n",
            "Collecting category_encoders\n",
            "  Downloading category_encoders-2.5.1.post0-py2.py3-none-any.whl (72 kB)\n",
            "\u001b[K     |████████████████████████████████| 72 kB 659 kB/s \n",
            "\u001b[?25hRequirement already satisfied: scikit-learn>=0.20.0 in /usr/local/lib/python3.7/dist-packages (from category_encoders) (1.0.2)\n",
            "Requirement already satisfied: statsmodels>=0.9.0 in /usr/local/lib/python3.7/dist-packages (from category_encoders) (0.12.2)\n",
            "Requirement already satisfied: pandas>=1.0.5 in /usr/local/lib/python3.7/dist-packages (from category_encoders) (1.3.5)\n",
            "Requirement already satisfied: scipy>=1.0.0 in /usr/local/lib/python3.7/dist-packages (from category_encoders) (1.7.3)\n",
            "Requirement already satisfied: patsy>=0.5.1 in /usr/local/lib/python3.7/dist-packages (from category_encoders) (0.5.3)\n",
            "Requirement already satisfied: numpy>=1.14.0 in /usr/local/lib/python3.7/dist-packages (from category_encoders) (1.21.6)\n",
            "Requirement already satisfied: pytz>=2017.3 in /usr/local/lib/python3.7/dist-packages (from pandas>=1.0.5->category_encoders) (2022.5)\n",
            "Requirement already satisfied: python-dateutil>=2.7.3 in /usr/local/lib/python3.7/dist-packages (from pandas>=1.0.5->category_encoders) (2.8.2)\n",
            "Requirement already satisfied: six in /usr/local/lib/python3.7/dist-packages (from patsy>=0.5.1->category_encoders) (1.15.0)\n",
            "Requirement already satisfied: joblib>=0.11 in /usr/local/lib/python3.7/dist-packages (from scikit-learn>=0.20.0->category_encoders) (1.2.0)\n",
            "Requirement already satisfied: threadpoolctl>=2.0.0 in /usr/local/lib/python3.7/dist-packages (from scikit-learn>=0.20.0->category_encoders) (3.1.0)\n",
            "Installing collected packages: category-encoders\n",
            "Successfully installed category-encoders-2.5.1.post0\n"
          ]
        }
      ],
      "source": [
        "!pip install category_encoders\n"
      ]
    },
    {
      "cell_type": "markdown",
      "source": [
        "# Imports"
      ],
      "metadata": {
        "id": "mCUZ0eZF6rKJ"
      }
    },
    {
      "cell_type": "code",
      "execution_count": 4,
      "metadata": {
        "id": "bIzM8tGq980_"
      },
      "outputs": [],
      "source": [
        "from google.colab import files\n",
        "import pandas as pd\n",
        "import matplotlib.pyplot as plt\n",
        "import numpy as np\n",
        "import sklearn\n",
        "import seaborn as sns\n",
        "from sklearn.preprocessing import OrdinalEncoder,OneHotEncoder\n",
        "from sklearn.base import BaseEstimator,TransformerMixin\n",
        "from sklearn.pipeline import Pipeline\n",
        "from sklearn.impute import SimpleImputer\n",
        "from sklearn.model_selection import train_test_split\n",
        "from sklearn.ensemble import RandomForestClassifier\n",
        "from sklearn.preprocessing import StandardScaler\n",
        "from sklearn.metrics import accuracy_score\n",
        "from sklearn.svm import SVC\n",
        "from sklearn.ensemble import AdaBoostClassifier\n",
        "from sklearn_pandas import CategoricalImputer\n",
        "import xgboost as xgb\n",
        "from catboost import CatBoostClassifier, Pool\n",
        "from sklearn.feature_selection import RFECV\n",
        "import category_encoders as ce\n",
        "from BorutaShap import BorutaShap\n",
        "import joblib\n",
        "\n"
      ]
    },
    {
      "cell_type": "code",
      "execution_count": 5,
      "metadata": {
        "id": "bOdsPejULtGo",
        "colab": {
          "base_uri": "https://localhost:8080/",
          "height": 1000
        },
        "outputId": "7075004c-76a7-4ea8-f0a2-d04b86bca87c"
      },
      "outputs": [
        {
          "output_type": "execute_result",
          "data": {
            "text/plain": [
              "   PassengerId HomePlanet CryoSleep  Cabin    Destination   Age    VIP  \\\n",
              "0      0001_01     Europa     False  B/0/P    TRAPPIST-1e  39.0  False   \n",
              "1      0002_01      Earth     False  F/0/S    TRAPPIST-1e  24.0  False   \n",
              "2      0003_01     Europa     False  A/0/S    TRAPPIST-1e  58.0   True   \n",
              "3      0003_02     Europa     False  A/0/S    TRAPPIST-1e  33.0  False   \n",
              "4      0004_01      Earth     False  F/1/S    TRAPPIST-1e  16.0  False   \n",
              "5      0005_01      Earth     False  F/0/P  PSO J318.5-22  44.0  False   \n",
              "6      0006_01      Earth     False  F/2/S    TRAPPIST-1e  26.0  False   \n",
              "7      0006_02      Earth      True  G/0/S    TRAPPIST-1e  28.0  False   \n",
              "8      0007_01      Earth     False  F/3/S    TRAPPIST-1e  35.0  False   \n",
              "9      0008_01     Europa      True  B/1/P    55 Cancri e  14.0  False   \n",
              "10     0008_02     Europa      True  B/1/P    TRAPPIST-1e  34.0  False   \n",
              "11     0008_03     Europa     False  B/1/P    55 Cancri e  45.0  False   \n",
              "12     0009_01       Mars     False  F/1/P    TRAPPIST-1e  32.0  False   \n",
              "13     0010_01      Earth     False  G/1/S    TRAPPIST-1e  48.0  False   \n",
              "14     0011_01      Earth     False  F/2/P    TRAPPIST-1e  28.0  False   \n",
              "15     0012_01      Earth     False    NaN    TRAPPIST-1e  31.0  False   \n",
              "16     0014_01       Mars     False  F/3/P    55 Cancri e  27.0  False   \n",
              "17     0015_01      Earth     False  F/4/P    55 Cancri e  24.0  False   \n",
              "18     0016_01       Mars      True  F/5/P    TRAPPIST-1e  45.0  False   \n",
              "19     0017_01      Earth     False  G/0/P    TRAPPIST-1e   0.0  False   \n",
              "\n",
              "    RoomService  FoodCourt  ShoppingMall     Spa  VRDeck                Name  \\\n",
              "0           0.0        0.0           0.0     0.0     0.0     Maham Ofracculy   \n",
              "1         109.0        9.0          25.0   549.0    44.0        Juanna Vines   \n",
              "2          43.0     3576.0           0.0  6715.0    49.0       Altark Susent   \n",
              "3           0.0     1283.0         371.0  3329.0   193.0        Solam Susent   \n",
              "4         303.0       70.0         151.0   565.0     2.0   Willy Santantines   \n",
              "5           0.0      483.0           0.0   291.0     0.0   Sandie Hinetthews   \n",
              "6          42.0     1539.0           3.0     0.0     0.0  Billex Jacostaffey   \n",
              "7           0.0        0.0           0.0     0.0     NaN  Candra Jacostaffey   \n",
              "8           0.0      785.0          17.0   216.0     0.0       Andona Beston   \n",
              "9           0.0        0.0           0.0     0.0     0.0      Erraiam Flatic   \n",
              "10          0.0        0.0           NaN     0.0     0.0      Altardr Flatic   \n",
              "11         39.0     7295.0         589.0   110.0   124.0       Wezena Flatic   \n",
              "12         73.0        0.0        1123.0     0.0   113.0        Berers Barne   \n",
              "13        719.0        1.0          65.0     0.0    24.0      Reney Baketton   \n",
              "14          8.0      974.0          12.0     2.0     7.0     Elle Bertsontry   \n",
              "15         32.0        0.0         876.0     0.0     0.0       Justie Pooles   \n",
              "16       1286.0      122.0           NaN     0.0     0.0         Flats Eccle   \n",
              "17          0.0        1.0           0.0     0.0   637.0     Carry Hughriend   \n",
              "18          0.0        0.0           0.0     0.0     0.0          Alus Upead   \n",
              "19          0.0        0.0           0.0     0.0     0.0       Lyde Brighttt   \n",
              "\n",
              "    Transported  \n",
              "0         False  \n",
              "1          True  \n",
              "2         False  \n",
              "3         False  \n",
              "4          True  \n",
              "5          True  \n",
              "6          True  \n",
              "7          True  \n",
              "8          True  \n",
              "9          True  \n",
              "10         True  \n",
              "11         True  \n",
              "12         True  \n",
              "13        False  \n",
              "14         True  \n",
              "15        False  \n",
              "16        False  \n",
              "17        False  \n",
              "18         True  \n",
              "19         True  "
            ],
            "text/html": [
              "\n",
              "  <div id=\"df-bbafea3c-8f68-49ee-84e8-c2c47ad38cb0\">\n",
              "    <div class=\"colab-df-container\">\n",
              "      <div>\n",
              "<style scoped>\n",
              "    .dataframe tbody tr th:only-of-type {\n",
              "        vertical-align: middle;\n",
              "    }\n",
              "\n",
              "    .dataframe tbody tr th {\n",
              "        vertical-align: top;\n",
              "    }\n",
              "\n",
              "    .dataframe thead th {\n",
              "        text-align: right;\n",
              "    }\n",
              "</style>\n",
              "<table border=\"1\" class=\"dataframe\">\n",
              "  <thead>\n",
              "    <tr style=\"text-align: right;\">\n",
              "      <th></th>\n",
              "      <th>PassengerId</th>\n",
              "      <th>HomePlanet</th>\n",
              "      <th>CryoSleep</th>\n",
              "      <th>Cabin</th>\n",
              "      <th>Destination</th>\n",
              "      <th>Age</th>\n",
              "      <th>VIP</th>\n",
              "      <th>RoomService</th>\n",
              "      <th>FoodCourt</th>\n",
              "      <th>ShoppingMall</th>\n",
              "      <th>Spa</th>\n",
              "      <th>VRDeck</th>\n",
              "      <th>Name</th>\n",
              "      <th>Transported</th>\n",
              "    </tr>\n",
              "  </thead>\n",
              "  <tbody>\n",
              "    <tr>\n",
              "      <th>0</th>\n",
              "      <td>0001_01</td>\n",
              "      <td>Europa</td>\n",
              "      <td>False</td>\n",
              "      <td>B/0/P</td>\n",
              "      <td>TRAPPIST-1e</td>\n",
              "      <td>39.0</td>\n",
              "      <td>False</td>\n",
              "      <td>0.0</td>\n",
              "      <td>0.0</td>\n",
              "      <td>0.0</td>\n",
              "      <td>0.0</td>\n",
              "      <td>0.0</td>\n",
              "      <td>Maham Ofracculy</td>\n",
              "      <td>False</td>\n",
              "    </tr>\n",
              "    <tr>\n",
              "      <th>1</th>\n",
              "      <td>0002_01</td>\n",
              "      <td>Earth</td>\n",
              "      <td>False</td>\n",
              "      <td>F/0/S</td>\n",
              "      <td>TRAPPIST-1e</td>\n",
              "      <td>24.0</td>\n",
              "      <td>False</td>\n",
              "      <td>109.0</td>\n",
              "      <td>9.0</td>\n",
              "      <td>25.0</td>\n",
              "      <td>549.0</td>\n",
              "      <td>44.0</td>\n",
              "      <td>Juanna Vines</td>\n",
              "      <td>True</td>\n",
              "    </tr>\n",
              "    <tr>\n",
              "      <th>2</th>\n",
              "      <td>0003_01</td>\n",
              "      <td>Europa</td>\n",
              "      <td>False</td>\n",
              "      <td>A/0/S</td>\n",
              "      <td>TRAPPIST-1e</td>\n",
              "      <td>58.0</td>\n",
              "      <td>True</td>\n",
              "      <td>43.0</td>\n",
              "      <td>3576.0</td>\n",
              "      <td>0.0</td>\n",
              "      <td>6715.0</td>\n",
              "      <td>49.0</td>\n",
              "      <td>Altark Susent</td>\n",
              "      <td>False</td>\n",
              "    </tr>\n",
              "    <tr>\n",
              "      <th>3</th>\n",
              "      <td>0003_02</td>\n",
              "      <td>Europa</td>\n",
              "      <td>False</td>\n",
              "      <td>A/0/S</td>\n",
              "      <td>TRAPPIST-1e</td>\n",
              "      <td>33.0</td>\n",
              "      <td>False</td>\n",
              "      <td>0.0</td>\n",
              "      <td>1283.0</td>\n",
              "      <td>371.0</td>\n",
              "      <td>3329.0</td>\n",
              "      <td>193.0</td>\n",
              "      <td>Solam Susent</td>\n",
              "      <td>False</td>\n",
              "    </tr>\n",
              "    <tr>\n",
              "      <th>4</th>\n",
              "      <td>0004_01</td>\n",
              "      <td>Earth</td>\n",
              "      <td>False</td>\n",
              "      <td>F/1/S</td>\n",
              "      <td>TRAPPIST-1e</td>\n",
              "      <td>16.0</td>\n",
              "      <td>False</td>\n",
              "      <td>303.0</td>\n",
              "      <td>70.0</td>\n",
              "      <td>151.0</td>\n",
              "      <td>565.0</td>\n",
              "      <td>2.0</td>\n",
              "      <td>Willy Santantines</td>\n",
              "      <td>True</td>\n",
              "    </tr>\n",
              "    <tr>\n",
              "      <th>5</th>\n",
              "      <td>0005_01</td>\n",
              "      <td>Earth</td>\n",
              "      <td>False</td>\n",
              "      <td>F/0/P</td>\n",
              "      <td>PSO J318.5-22</td>\n",
              "      <td>44.0</td>\n",
              "      <td>False</td>\n",
              "      <td>0.0</td>\n",
              "      <td>483.0</td>\n",
              "      <td>0.0</td>\n",
              "      <td>291.0</td>\n",
              "      <td>0.0</td>\n",
              "      <td>Sandie Hinetthews</td>\n",
              "      <td>True</td>\n",
              "    </tr>\n",
              "    <tr>\n",
              "      <th>6</th>\n",
              "      <td>0006_01</td>\n",
              "      <td>Earth</td>\n",
              "      <td>False</td>\n",
              "      <td>F/2/S</td>\n",
              "      <td>TRAPPIST-1e</td>\n",
              "      <td>26.0</td>\n",
              "      <td>False</td>\n",
              "      <td>42.0</td>\n",
              "      <td>1539.0</td>\n",
              "      <td>3.0</td>\n",
              "      <td>0.0</td>\n",
              "      <td>0.0</td>\n",
              "      <td>Billex Jacostaffey</td>\n",
              "      <td>True</td>\n",
              "    </tr>\n",
              "    <tr>\n",
              "      <th>7</th>\n",
              "      <td>0006_02</td>\n",
              "      <td>Earth</td>\n",
              "      <td>True</td>\n",
              "      <td>G/0/S</td>\n",
              "      <td>TRAPPIST-1e</td>\n",
              "      <td>28.0</td>\n",
              "      <td>False</td>\n",
              "      <td>0.0</td>\n",
              "      <td>0.0</td>\n",
              "      <td>0.0</td>\n",
              "      <td>0.0</td>\n",
              "      <td>NaN</td>\n",
              "      <td>Candra Jacostaffey</td>\n",
              "      <td>True</td>\n",
              "    </tr>\n",
              "    <tr>\n",
              "      <th>8</th>\n",
              "      <td>0007_01</td>\n",
              "      <td>Earth</td>\n",
              "      <td>False</td>\n",
              "      <td>F/3/S</td>\n",
              "      <td>TRAPPIST-1e</td>\n",
              "      <td>35.0</td>\n",
              "      <td>False</td>\n",
              "      <td>0.0</td>\n",
              "      <td>785.0</td>\n",
              "      <td>17.0</td>\n",
              "      <td>216.0</td>\n",
              "      <td>0.0</td>\n",
              "      <td>Andona Beston</td>\n",
              "      <td>True</td>\n",
              "    </tr>\n",
              "    <tr>\n",
              "      <th>9</th>\n",
              "      <td>0008_01</td>\n",
              "      <td>Europa</td>\n",
              "      <td>True</td>\n",
              "      <td>B/1/P</td>\n",
              "      <td>55 Cancri e</td>\n",
              "      <td>14.0</td>\n",
              "      <td>False</td>\n",
              "      <td>0.0</td>\n",
              "      <td>0.0</td>\n",
              "      <td>0.0</td>\n",
              "      <td>0.0</td>\n",
              "      <td>0.0</td>\n",
              "      <td>Erraiam Flatic</td>\n",
              "      <td>True</td>\n",
              "    </tr>\n",
              "    <tr>\n",
              "      <th>10</th>\n",
              "      <td>0008_02</td>\n",
              "      <td>Europa</td>\n",
              "      <td>True</td>\n",
              "      <td>B/1/P</td>\n",
              "      <td>TRAPPIST-1e</td>\n",
              "      <td>34.0</td>\n",
              "      <td>False</td>\n",
              "      <td>0.0</td>\n",
              "      <td>0.0</td>\n",
              "      <td>NaN</td>\n",
              "      <td>0.0</td>\n",
              "      <td>0.0</td>\n",
              "      <td>Altardr Flatic</td>\n",
              "      <td>True</td>\n",
              "    </tr>\n",
              "    <tr>\n",
              "      <th>11</th>\n",
              "      <td>0008_03</td>\n",
              "      <td>Europa</td>\n",
              "      <td>False</td>\n",
              "      <td>B/1/P</td>\n",
              "      <td>55 Cancri e</td>\n",
              "      <td>45.0</td>\n",
              "      <td>False</td>\n",
              "      <td>39.0</td>\n",
              "      <td>7295.0</td>\n",
              "      <td>589.0</td>\n",
              "      <td>110.0</td>\n",
              "      <td>124.0</td>\n",
              "      <td>Wezena Flatic</td>\n",
              "      <td>True</td>\n",
              "    </tr>\n",
              "    <tr>\n",
              "      <th>12</th>\n",
              "      <td>0009_01</td>\n",
              "      <td>Mars</td>\n",
              "      <td>False</td>\n",
              "      <td>F/1/P</td>\n",
              "      <td>TRAPPIST-1e</td>\n",
              "      <td>32.0</td>\n",
              "      <td>False</td>\n",
              "      <td>73.0</td>\n",
              "      <td>0.0</td>\n",
              "      <td>1123.0</td>\n",
              "      <td>0.0</td>\n",
              "      <td>113.0</td>\n",
              "      <td>Berers Barne</td>\n",
              "      <td>True</td>\n",
              "    </tr>\n",
              "    <tr>\n",
              "      <th>13</th>\n",
              "      <td>0010_01</td>\n",
              "      <td>Earth</td>\n",
              "      <td>False</td>\n",
              "      <td>G/1/S</td>\n",
              "      <td>TRAPPIST-1e</td>\n",
              "      <td>48.0</td>\n",
              "      <td>False</td>\n",
              "      <td>719.0</td>\n",
              "      <td>1.0</td>\n",
              "      <td>65.0</td>\n",
              "      <td>0.0</td>\n",
              "      <td>24.0</td>\n",
              "      <td>Reney Baketton</td>\n",
              "      <td>False</td>\n",
              "    </tr>\n",
              "    <tr>\n",
              "      <th>14</th>\n",
              "      <td>0011_01</td>\n",
              "      <td>Earth</td>\n",
              "      <td>False</td>\n",
              "      <td>F/2/P</td>\n",
              "      <td>TRAPPIST-1e</td>\n",
              "      <td>28.0</td>\n",
              "      <td>False</td>\n",
              "      <td>8.0</td>\n",
              "      <td>974.0</td>\n",
              "      <td>12.0</td>\n",
              "      <td>2.0</td>\n",
              "      <td>7.0</td>\n",
              "      <td>Elle Bertsontry</td>\n",
              "      <td>True</td>\n",
              "    </tr>\n",
              "    <tr>\n",
              "      <th>15</th>\n",
              "      <td>0012_01</td>\n",
              "      <td>Earth</td>\n",
              "      <td>False</td>\n",
              "      <td>NaN</td>\n",
              "      <td>TRAPPIST-1e</td>\n",
              "      <td>31.0</td>\n",
              "      <td>False</td>\n",
              "      <td>32.0</td>\n",
              "      <td>0.0</td>\n",
              "      <td>876.0</td>\n",
              "      <td>0.0</td>\n",
              "      <td>0.0</td>\n",
              "      <td>Justie Pooles</td>\n",
              "      <td>False</td>\n",
              "    </tr>\n",
              "    <tr>\n",
              "      <th>16</th>\n",
              "      <td>0014_01</td>\n",
              "      <td>Mars</td>\n",
              "      <td>False</td>\n",
              "      <td>F/3/P</td>\n",
              "      <td>55 Cancri e</td>\n",
              "      <td>27.0</td>\n",
              "      <td>False</td>\n",
              "      <td>1286.0</td>\n",
              "      <td>122.0</td>\n",
              "      <td>NaN</td>\n",
              "      <td>0.0</td>\n",
              "      <td>0.0</td>\n",
              "      <td>Flats Eccle</td>\n",
              "      <td>False</td>\n",
              "    </tr>\n",
              "    <tr>\n",
              "      <th>17</th>\n",
              "      <td>0015_01</td>\n",
              "      <td>Earth</td>\n",
              "      <td>False</td>\n",
              "      <td>F/4/P</td>\n",
              "      <td>55 Cancri e</td>\n",
              "      <td>24.0</td>\n",
              "      <td>False</td>\n",
              "      <td>0.0</td>\n",
              "      <td>1.0</td>\n",
              "      <td>0.0</td>\n",
              "      <td>0.0</td>\n",
              "      <td>637.0</td>\n",
              "      <td>Carry Hughriend</td>\n",
              "      <td>False</td>\n",
              "    </tr>\n",
              "    <tr>\n",
              "      <th>18</th>\n",
              "      <td>0016_01</td>\n",
              "      <td>Mars</td>\n",
              "      <td>True</td>\n",
              "      <td>F/5/P</td>\n",
              "      <td>TRAPPIST-1e</td>\n",
              "      <td>45.0</td>\n",
              "      <td>False</td>\n",
              "      <td>0.0</td>\n",
              "      <td>0.0</td>\n",
              "      <td>0.0</td>\n",
              "      <td>0.0</td>\n",
              "      <td>0.0</td>\n",
              "      <td>Alus Upead</td>\n",
              "      <td>True</td>\n",
              "    </tr>\n",
              "    <tr>\n",
              "      <th>19</th>\n",
              "      <td>0017_01</td>\n",
              "      <td>Earth</td>\n",
              "      <td>False</td>\n",
              "      <td>G/0/P</td>\n",
              "      <td>TRAPPIST-1e</td>\n",
              "      <td>0.0</td>\n",
              "      <td>False</td>\n",
              "      <td>0.0</td>\n",
              "      <td>0.0</td>\n",
              "      <td>0.0</td>\n",
              "      <td>0.0</td>\n",
              "      <td>0.0</td>\n",
              "      <td>Lyde Brighttt</td>\n",
              "      <td>True</td>\n",
              "    </tr>\n",
              "  </tbody>\n",
              "</table>\n",
              "</div>\n",
              "      <button class=\"colab-df-convert\" onclick=\"convertToInteractive('df-bbafea3c-8f68-49ee-84e8-c2c47ad38cb0')\"\n",
              "              title=\"Convert this dataframe to an interactive table.\"\n",
              "              style=\"display:none;\">\n",
              "        \n",
              "  <svg xmlns=\"http://www.w3.org/2000/svg\" height=\"24px\"viewBox=\"0 0 24 24\"\n",
              "       width=\"24px\">\n",
              "    <path d=\"M0 0h24v24H0V0z\" fill=\"none\"/>\n",
              "    <path d=\"M18.56 5.44l.94 2.06.94-2.06 2.06-.94-2.06-.94-.94-2.06-.94 2.06-2.06.94zm-11 1L8.5 8.5l.94-2.06 2.06-.94-2.06-.94L8.5 2.5l-.94 2.06-2.06.94zm10 10l.94 2.06.94-2.06 2.06-.94-2.06-.94-.94-2.06-.94 2.06-2.06.94z\"/><path d=\"M17.41 7.96l-1.37-1.37c-.4-.4-.92-.59-1.43-.59-.52 0-1.04.2-1.43.59L10.3 9.45l-7.72 7.72c-.78.78-.78 2.05 0 2.83L4 21.41c.39.39.9.59 1.41.59.51 0 1.02-.2 1.41-.59l7.78-7.78 2.81-2.81c.8-.78.8-2.07 0-2.86zM5.41 20L4 18.59l7.72-7.72 1.47 1.35L5.41 20z\"/>\n",
              "  </svg>\n",
              "      </button>\n",
              "      \n",
              "  <style>\n",
              "    .colab-df-container {\n",
              "      display:flex;\n",
              "      flex-wrap:wrap;\n",
              "      gap: 12px;\n",
              "    }\n",
              "\n",
              "    .colab-df-convert {\n",
              "      background-color: #E8F0FE;\n",
              "      border: none;\n",
              "      border-radius: 50%;\n",
              "      cursor: pointer;\n",
              "      display: none;\n",
              "      fill: #1967D2;\n",
              "      height: 32px;\n",
              "      padding: 0 0 0 0;\n",
              "      width: 32px;\n",
              "    }\n",
              "\n",
              "    .colab-df-convert:hover {\n",
              "      background-color: #E2EBFA;\n",
              "      box-shadow: 0px 1px 2px rgba(60, 64, 67, 0.3), 0px 1px 3px 1px rgba(60, 64, 67, 0.15);\n",
              "      fill: #174EA6;\n",
              "    }\n",
              "\n",
              "    [theme=dark] .colab-df-convert {\n",
              "      background-color: #3B4455;\n",
              "      fill: #D2E3FC;\n",
              "    }\n",
              "\n",
              "    [theme=dark] .colab-df-convert:hover {\n",
              "      background-color: #434B5C;\n",
              "      box-shadow: 0px 1px 3px 1px rgba(0, 0, 0, 0.15);\n",
              "      filter: drop-shadow(0px 1px 2px rgba(0, 0, 0, 0.3));\n",
              "      fill: #FFFFFF;\n",
              "    }\n",
              "  </style>\n",
              "\n",
              "      <script>\n",
              "        const buttonEl =\n",
              "          document.querySelector('#df-bbafea3c-8f68-49ee-84e8-c2c47ad38cb0 button.colab-df-convert');\n",
              "        buttonEl.style.display =\n",
              "          google.colab.kernel.accessAllowed ? 'block' : 'none';\n",
              "\n",
              "        async function convertToInteractive(key) {\n",
              "          const element = document.querySelector('#df-bbafea3c-8f68-49ee-84e8-c2c47ad38cb0');\n",
              "          const dataTable =\n",
              "            await google.colab.kernel.invokeFunction('convertToInteractive',\n",
              "                                                     [key], {});\n",
              "          if (!dataTable) return;\n",
              "\n",
              "          const docLinkHtml = 'Like what you see? Visit the ' +\n",
              "            '<a target=\"_blank\" href=https://colab.research.google.com/notebooks/data_table.ipynb>data table notebook</a>'\n",
              "            + ' to learn more about interactive tables.';\n",
              "          element.innerHTML = '';\n",
              "          dataTable['output_type'] = 'display_data';\n",
              "          await google.colab.output.renderOutput(dataTable, element);\n",
              "          const docLink = document.createElement('div');\n",
              "          docLink.innerHTML = docLinkHtml;\n",
              "          element.appendChild(docLink);\n",
              "        }\n",
              "      </script>\n",
              "    </div>\n",
              "  </div>\n",
              "  "
            ]
          },
          "metadata": {},
          "execution_count": 5
        }
      ],
      "source": [
        "df=pd.read_csv('./drive/MyDrive/spaceTitanic/train.csv')\n",
        "df.head(20)"
      ]
    },
    {
      "cell_type": "code",
      "source": [
        "df.loc[(df['CryoSleep'].isna()) & (df['Age']<=10)]"
      ],
      "metadata": {
        "colab": {
          "base_uri": "https://localhost:8080/",
          "height": 1000
        },
        "id": "FATR_OhDMGkh",
        "outputId": "4d8184f7-a6df-4ba6-fc8f-2d9d67ea5e74"
      },
      "execution_count": null,
      "outputs": [
        {
          "output_type": "execute_result",
          "data": {
            "text/plain": [
              "     PassengerId HomePlanet CryoSleep     Cabin  Destination  Age    VIP  \\\n",
              "92       0099_02      Earth       NaN    G/12/P  TRAPPIST-1e  2.0  False   \n",
              "682      0712_02       Mars       NaN   F/150/P  TRAPPIST-1e  2.0  False   \n",
              "1531     1624_03      Earth       NaN   G/250/S  TRAPPIST-1e  4.0  False   \n",
              "2134     2291_01      Earth       NaN   G/365/S  55 Cancri e  6.0  False   \n",
              "2419     2595_02       Mars       NaN   F/533/P  TRAPPIST-1e  4.0  False   \n",
              "2639     2822_02      Earth       NaN   G/450/S  TRAPPIST-1e  5.0    NaN   \n",
              "3232     3476_01      Earth       NaN   G/571/P  55 Cancri e  4.0  False   \n",
              "4461     4741_03       Mars       NaN   F/961/P  TRAPPIST-1e  6.0  False   \n",
              "4768     5090_01      Earth       NaN   G/821/P  TRAPPIST-1e  0.0  False   \n",
              "4880     5205_03      Earth       NaN   G/845/S  TRAPPIST-1e  3.0  False   \n",
              "5697     6035_02      Earth       NaN   G/976/P  TRAPPIST-1e  3.0    NaN   \n",
              "5702     6039_01      Earth       NaN   G/983/S  TRAPPIST-1e  2.0  False   \n",
              "5799     6139_01     Europa       NaN   C/230/S  TRAPPIST-1e  0.0  False   \n",
              "5948     6309_02      Earth       NaN  G/1023/S  TRAPPIST-1e  7.0  False   \n",
              "6057     6405_02      Earth       NaN       NaN          NaN  2.0  False   \n",
              "6428     6787_02      Earth       NaN  F/1411/P  TRAPPIST-1e  0.0  False   \n",
              "7357     7872_01      Earth       NaN  G/1267/P  TRAPPIST-1e  1.0  False   \n",
              "7491     8015_01     Europa       NaN   B/315/S  TRAPPIST-1e  2.0  False   \n",
              "7839     8366_05      Earth       NaN  G/1364/P  TRAPPIST-1e  1.0  False   \n",
              "8651     9227_05      Earth       NaN  G/1498/P  TRAPPIST-1e  8.0  False   \n",
              "\n",
              "      RoomService  FoodCourt  ShoppingMall  Spa  VRDeck                Name  \\\n",
              "92            0.0        0.0           0.0  0.0     0.0    Thewis Connelson   \n",
              "682           0.0        0.0           0.0  0.0     0.0         Crans Apeau   \n",
              "1531          0.0        0.0           0.0  0.0     NaN       Eristy Barbes   \n",
              "2134          0.0        0.0           0.0  NaN     0.0      Patoya Pittler   \n",
              "2419          0.0        0.0           0.0  0.0     0.0           Ban Cakie   \n",
              "2639          0.0        0.0           0.0  0.0     NaN     Salley Harverez   \n",
              "3232          0.0        NaN           0.0  0.0     0.0    Gabrie Joycerton   \n",
              "4461          0.0        0.0           0.0  0.0     0.0           Oslos Bau   \n",
              "4768          0.0        0.0           0.0  0.0     0.0                 NaN   \n",
              "4880          0.0        0.0           0.0  0.0     0.0      Dorene Roachez   \n",
              "5697          0.0        0.0           0.0  0.0     0.0   Ginald Morsentley   \n",
              "5702          0.0        0.0           0.0  0.0     0.0                 NaN   \n",
              "5799          0.0        0.0           NaN  0.0     0.0  Azhasim Bewarsecal   \n",
              "5948          0.0        0.0           0.0  0.0     0.0     Marky Rodricker   \n",
              "6057          0.0        0.0           0.0  0.0     0.0    Feline Toddleton   \n",
              "6428          0.0        0.0           0.0  0.0     0.0      Helean Booneid   \n",
              "7357          0.0        0.0           0.0  0.0     0.0    Elancy Wardendez   \n",
              "7491          0.0        0.0           0.0  0.0     NaN     Kitauon Pulgaly   \n",
              "7839          0.0        0.0           0.0  0.0     0.0     Dorah Burnewman   \n",
              "8651          0.0        0.0           0.0  0.0     0.0     Hard Hinglendez   \n",
              "\n",
              "      Transported  \n",
              "92           True  \n",
              "682          True  \n",
              "1531         True  \n",
              "2134        False  \n",
              "2419         True  \n",
              "2639        False  \n",
              "3232         True  \n",
              "4461         True  \n",
              "4768        False  \n",
              "4880         True  \n",
              "5697        False  \n",
              "5702         True  \n",
              "5799         True  \n",
              "5948         True  \n",
              "6057         True  \n",
              "6428        False  \n",
              "7357        False  \n",
              "7491         True  \n",
              "7839        False  \n",
              "8651        False  "
            ],
            "text/html": [
              "\n",
              "  <div id=\"df-04fc0e49-3fd3-4407-bc42-fe5c2a96aafd\">\n",
              "    <div class=\"colab-df-container\">\n",
              "      <div>\n",
              "<style scoped>\n",
              "    .dataframe tbody tr th:only-of-type {\n",
              "        vertical-align: middle;\n",
              "    }\n",
              "\n",
              "    .dataframe tbody tr th {\n",
              "        vertical-align: top;\n",
              "    }\n",
              "\n",
              "    .dataframe thead th {\n",
              "        text-align: right;\n",
              "    }\n",
              "</style>\n",
              "<table border=\"1\" class=\"dataframe\">\n",
              "  <thead>\n",
              "    <tr style=\"text-align: right;\">\n",
              "      <th></th>\n",
              "      <th>PassengerId</th>\n",
              "      <th>HomePlanet</th>\n",
              "      <th>CryoSleep</th>\n",
              "      <th>Cabin</th>\n",
              "      <th>Destination</th>\n",
              "      <th>Age</th>\n",
              "      <th>VIP</th>\n",
              "      <th>RoomService</th>\n",
              "      <th>FoodCourt</th>\n",
              "      <th>ShoppingMall</th>\n",
              "      <th>Spa</th>\n",
              "      <th>VRDeck</th>\n",
              "      <th>Name</th>\n",
              "      <th>Transported</th>\n",
              "    </tr>\n",
              "  </thead>\n",
              "  <tbody>\n",
              "    <tr>\n",
              "      <th>92</th>\n",
              "      <td>0099_02</td>\n",
              "      <td>Earth</td>\n",
              "      <td>NaN</td>\n",
              "      <td>G/12/P</td>\n",
              "      <td>TRAPPIST-1e</td>\n",
              "      <td>2.0</td>\n",
              "      <td>False</td>\n",
              "      <td>0.0</td>\n",
              "      <td>0.0</td>\n",
              "      <td>0.0</td>\n",
              "      <td>0.0</td>\n",
              "      <td>0.0</td>\n",
              "      <td>Thewis Connelson</td>\n",
              "      <td>True</td>\n",
              "    </tr>\n",
              "    <tr>\n",
              "      <th>682</th>\n",
              "      <td>0712_02</td>\n",
              "      <td>Mars</td>\n",
              "      <td>NaN</td>\n",
              "      <td>F/150/P</td>\n",
              "      <td>TRAPPIST-1e</td>\n",
              "      <td>2.0</td>\n",
              "      <td>False</td>\n",
              "      <td>0.0</td>\n",
              "      <td>0.0</td>\n",
              "      <td>0.0</td>\n",
              "      <td>0.0</td>\n",
              "      <td>0.0</td>\n",
              "      <td>Crans Apeau</td>\n",
              "      <td>True</td>\n",
              "    </tr>\n",
              "    <tr>\n",
              "      <th>1531</th>\n",
              "      <td>1624_03</td>\n",
              "      <td>Earth</td>\n",
              "      <td>NaN</td>\n",
              "      <td>G/250/S</td>\n",
              "      <td>TRAPPIST-1e</td>\n",
              "      <td>4.0</td>\n",
              "      <td>False</td>\n",
              "      <td>0.0</td>\n",
              "      <td>0.0</td>\n",
              "      <td>0.0</td>\n",
              "      <td>0.0</td>\n",
              "      <td>NaN</td>\n",
              "      <td>Eristy Barbes</td>\n",
              "      <td>True</td>\n",
              "    </tr>\n",
              "    <tr>\n",
              "      <th>2134</th>\n",
              "      <td>2291_01</td>\n",
              "      <td>Earth</td>\n",
              "      <td>NaN</td>\n",
              "      <td>G/365/S</td>\n",
              "      <td>55 Cancri e</td>\n",
              "      <td>6.0</td>\n",
              "      <td>False</td>\n",
              "      <td>0.0</td>\n",
              "      <td>0.0</td>\n",
              "      <td>0.0</td>\n",
              "      <td>NaN</td>\n",
              "      <td>0.0</td>\n",
              "      <td>Patoya Pittler</td>\n",
              "      <td>False</td>\n",
              "    </tr>\n",
              "    <tr>\n",
              "      <th>2419</th>\n",
              "      <td>2595_02</td>\n",
              "      <td>Mars</td>\n",
              "      <td>NaN</td>\n",
              "      <td>F/533/P</td>\n",
              "      <td>TRAPPIST-1e</td>\n",
              "      <td>4.0</td>\n",
              "      <td>False</td>\n",
              "      <td>0.0</td>\n",
              "      <td>0.0</td>\n",
              "      <td>0.0</td>\n",
              "      <td>0.0</td>\n",
              "      <td>0.0</td>\n",
              "      <td>Ban Cakie</td>\n",
              "      <td>True</td>\n",
              "    </tr>\n",
              "    <tr>\n",
              "      <th>2639</th>\n",
              "      <td>2822_02</td>\n",
              "      <td>Earth</td>\n",
              "      <td>NaN</td>\n",
              "      <td>G/450/S</td>\n",
              "      <td>TRAPPIST-1e</td>\n",
              "      <td>5.0</td>\n",
              "      <td>NaN</td>\n",
              "      <td>0.0</td>\n",
              "      <td>0.0</td>\n",
              "      <td>0.0</td>\n",
              "      <td>0.0</td>\n",
              "      <td>NaN</td>\n",
              "      <td>Salley Harverez</td>\n",
              "      <td>False</td>\n",
              "    </tr>\n",
              "    <tr>\n",
              "      <th>3232</th>\n",
              "      <td>3476_01</td>\n",
              "      <td>Earth</td>\n",
              "      <td>NaN</td>\n",
              "      <td>G/571/P</td>\n",
              "      <td>55 Cancri e</td>\n",
              "      <td>4.0</td>\n",
              "      <td>False</td>\n",
              "      <td>0.0</td>\n",
              "      <td>NaN</td>\n",
              "      <td>0.0</td>\n",
              "      <td>0.0</td>\n",
              "      <td>0.0</td>\n",
              "      <td>Gabrie Joycerton</td>\n",
              "      <td>True</td>\n",
              "    </tr>\n",
              "    <tr>\n",
              "      <th>4461</th>\n",
              "      <td>4741_03</td>\n",
              "      <td>Mars</td>\n",
              "      <td>NaN</td>\n",
              "      <td>F/961/P</td>\n",
              "      <td>TRAPPIST-1e</td>\n",
              "      <td>6.0</td>\n",
              "      <td>False</td>\n",
              "      <td>0.0</td>\n",
              "      <td>0.0</td>\n",
              "      <td>0.0</td>\n",
              "      <td>0.0</td>\n",
              "      <td>0.0</td>\n",
              "      <td>Oslos Bau</td>\n",
              "      <td>True</td>\n",
              "    </tr>\n",
              "    <tr>\n",
              "      <th>4768</th>\n",
              "      <td>5090_01</td>\n",
              "      <td>Earth</td>\n",
              "      <td>NaN</td>\n",
              "      <td>G/821/P</td>\n",
              "      <td>TRAPPIST-1e</td>\n",
              "      <td>0.0</td>\n",
              "      <td>False</td>\n",
              "      <td>0.0</td>\n",
              "      <td>0.0</td>\n",
              "      <td>0.0</td>\n",
              "      <td>0.0</td>\n",
              "      <td>0.0</td>\n",
              "      <td>NaN</td>\n",
              "      <td>False</td>\n",
              "    </tr>\n",
              "    <tr>\n",
              "      <th>4880</th>\n",
              "      <td>5205_03</td>\n",
              "      <td>Earth</td>\n",
              "      <td>NaN</td>\n",
              "      <td>G/845/S</td>\n",
              "      <td>TRAPPIST-1e</td>\n",
              "      <td>3.0</td>\n",
              "      <td>False</td>\n",
              "      <td>0.0</td>\n",
              "      <td>0.0</td>\n",
              "      <td>0.0</td>\n",
              "      <td>0.0</td>\n",
              "      <td>0.0</td>\n",
              "      <td>Dorene Roachez</td>\n",
              "      <td>True</td>\n",
              "    </tr>\n",
              "    <tr>\n",
              "      <th>5697</th>\n",
              "      <td>6035_02</td>\n",
              "      <td>Earth</td>\n",
              "      <td>NaN</td>\n",
              "      <td>G/976/P</td>\n",
              "      <td>TRAPPIST-1e</td>\n",
              "      <td>3.0</td>\n",
              "      <td>NaN</td>\n",
              "      <td>0.0</td>\n",
              "      <td>0.0</td>\n",
              "      <td>0.0</td>\n",
              "      <td>0.0</td>\n",
              "      <td>0.0</td>\n",
              "      <td>Ginald Morsentley</td>\n",
              "      <td>False</td>\n",
              "    </tr>\n",
              "    <tr>\n",
              "      <th>5702</th>\n",
              "      <td>6039_01</td>\n",
              "      <td>Earth</td>\n",
              "      <td>NaN</td>\n",
              "      <td>G/983/S</td>\n",
              "      <td>TRAPPIST-1e</td>\n",
              "      <td>2.0</td>\n",
              "      <td>False</td>\n",
              "      <td>0.0</td>\n",
              "      <td>0.0</td>\n",
              "      <td>0.0</td>\n",
              "      <td>0.0</td>\n",
              "      <td>0.0</td>\n",
              "      <td>NaN</td>\n",
              "      <td>True</td>\n",
              "    </tr>\n",
              "    <tr>\n",
              "      <th>5799</th>\n",
              "      <td>6139_01</td>\n",
              "      <td>Europa</td>\n",
              "      <td>NaN</td>\n",
              "      <td>C/230/S</td>\n",
              "      <td>TRAPPIST-1e</td>\n",
              "      <td>0.0</td>\n",
              "      <td>False</td>\n",
              "      <td>0.0</td>\n",
              "      <td>0.0</td>\n",
              "      <td>NaN</td>\n",
              "      <td>0.0</td>\n",
              "      <td>0.0</td>\n",
              "      <td>Azhasim Bewarsecal</td>\n",
              "      <td>True</td>\n",
              "    </tr>\n",
              "    <tr>\n",
              "      <th>5948</th>\n",
              "      <td>6309_02</td>\n",
              "      <td>Earth</td>\n",
              "      <td>NaN</td>\n",
              "      <td>G/1023/S</td>\n",
              "      <td>TRAPPIST-1e</td>\n",
              "      <td>7.0</td>\n",
              "      <td>False</td>\n",
              "      <td>0.0</td>\n",
              "      <td>0.0</td>\n",
              "      <td>0.0</td>\n",
              "      <td>0.0</td>\n",
              "      <td>0.0</td>\n",
              "      <td>Marky Rodricker</td>\n",
              "      <td>True</td>\n",
              "    </tr>\n",
              "    <tr>\n",
              "      <th>6057</th>\n",
              "      <td>6405_02</td>\n",
              "      <td>Earth</td>\n",
              "      <td>NaN</td>\n",
              "      <td>NaN</td>\n",
              "      <td>NaN</td>\n",
              "      <td>2.0</td>\n",
              "      <td>False</td>\n",
              "      <td>0.0</td>\n",
              "      <td>0.0</td>\n",
              "      <td>0.0</td>\n",
              "      <td>0.0</td>\n",
              "      <td>0.0</td>\n",
              "      <td>Feline Toddleton</td>\n",
              "      <td>True</td>\n",
              "    </tr>\n",
              "    <tr>\n",
              "      <th>6428</th>\n",
              "      <td>6787_02</td>\n",
              "      <td>Earth</td>\n",
              "      <td>NaN</td>\n",
              "      <td>F/1411/P</td>\n",
              "      <td>TRAPPIST-1e</td>\n",
              "      <td>0.0</td>\n",
              "      <td>False</td>\n",
              "      <td>0.0</td>\n",
              "      <td>0.0</td>\n",
              "      <td>0.0</td>\n",
              "      <td>0.0</td>\n",
              "      <td>0.0</td>\n",
              "      <td>Helean Booneid</td>\n",
              "      <td>False</td>\n",
              "    </tr>\n",
              "    <tr>\n",
              "      <th>7357</th>\n",
              "      <td>7872_01</td>\n",
              "      <td>Earth</td>\n",
              "      <td>NaN</td>\n",
              "      <td>G/1267/P</td>\n",
              "      <td>TRAPPIST-1e</td>\n",
              "      <td>1.0</td>\n",
              "      <td>False</td>\n",
              "      <td>0.0</td>\n",
              "      <td>0.0</td>\n",
              "      <td>0.0</td>\n",
              "      <td>0.0</td>\n",
              "      <td>0.0</td>\n",
              "      <td>Elancy Wardendez</td>\n",
              "      <td>False</td>\n",
              "    </tr>\n",
              "    <tr>\n",
              "      <th>7491</th>\n",
              "      <td>8015_01</td>\n",
              "      <td>Europa</td>\n",
              "      <td>NaN</td>\n",
              "      <td>B/315/S</td>\n",
              "      <td>TRAPPIST-1e</td>\n",
              "      <td>2.0</td>\n",
              "      <td>False</td>\n",
              "      <td>0.0</td>\n",
              "      <td>0.0</td>\n",
              "      <td>0.0</td>\n",
              "      <td>0.0</td>\n",
              "      <td>NaN</td>\n",
              "      <td>Kitauon Pulgaly</td>\n",
              "      <td>True</td>\n",
              "    </tr>\n",
              "    <tr>\n",
              "      <th>7839</th>\n",
              "      <td>8366_05</td>\n",
              "      <td>Earth</td>\n",
              "      <td>NaN</td>\n",
              "      <td>G/1364/P</td>\n",
              "      <td>TRAPPIST-1e</td>\n",
              "      <td>1.0</td>\n",
              "      <td>False</td>\n",
              "      <td>0.0</td>\n",
              "      <td>0.0</td>\n",
              "      <td>0.0</td>\n",
              "      <td>0.0</td>\n",
              "      <td>0.0</td>\n",
              "      <td>Dorah Burnewman</td>\n",
              "      <td>False</td>\n",
              "    </tr>\n",
              "    <tr>\n",
              "      <th>8651</th>\n",
              "      <td>9227_05</td>\n",
              "      <td>Earth</td>\n",
              "      <td>NaN</td>\n",
              "      <td>G/1498/P</td>\n",
              "      <td>TRAPPIST-1e</td>\n",
              "      <td>8.0</td>\n",
              "      <td>False</td>\n",
              "      <td>0.0</td>\n",
              "      <td>0.0</td>\n",
              "      <td>0.0</td>\n",
              "      <td>0.0</td>\n",
              "      <td>0.0</td>\n",
              "      <td>Hard Hinglendez</td>\n",
              "      <td>False</td>\n",
              "    </tr>\n",
              "  </tbody>\n",
              "</table>\n",
              "</div>\n",
              "      <button class=\"colab-df-convert\" onclick=\"convertToInteractive('df-04fc0e49-3fd3-4407-bc42-fe5c2a96aafd')\"\n",
              "              title=\"Convert this dataframe to an interactive table.\"\n",
              "              style=\"display:none;\">\n",
              "        \n",
              "  <svg xmlns=\"http://www.w3.org/2000/svg\" height=\"24px\"viewBox=\"0 0 24 24\"\n",
              "       width=\"24px\">\n",
              "    <path d=\"M0 0h24v24H0V0z\" fill=\"none\"/>\n",
              "    <path d=\"M18.56 5.44l.94 2.06.94-2.06 2.06-.94-2.06-.94-.94-2.06-.94 2.06-2.06.94zm-11 1L8.5 8.5l.94-2.06 2.06-.94-2.06-.94L8.5 2.5l-.94 2.06-2.06.94zm10 10l.94 2.06.94-2.06 2.06-.94-2.06-.94-.94-2.06-.94 2.06-2.06.94z\"/><path d=\"M17.41 7.96l-1.37-1.37c-.4-.4-.92-.59-1.43-.59-.52 0-1.04.2-1.43.59L10.3 9.45l-7.72 7.72c-.78.78-.78 2.05 0 2.83L4 21.41c.39.39.9.59 1.41.59.51 0 1.02-.2 1.41-.59l7.78-7.78 2.81-2.81c.8-.78.8-2.07 0-2.86zM5.41 20L4 18.59l7.72-7.72 1.47 1.35L5.41 20z\"/>\n",
              "  </svg>\n",
              "      </button>\n",
              "      \n",
              "  <style>\n",
              "    .colab-df-container {\n",
              "      display:flex;\n",
              "      flex-wrap:wrap;\n",
              "      gap: 12px;\n",
              "    }\n",
              "\n",
              "    .colab-df-convert {\n",
              "      background-color: #E8F0FE;\n",
              "      border: none;\n",
              "      border-radius: 50%;\n",
              "      cursor: pointer;\n",
              "      display: none;\n",
              "      fill: #1967D2;\n",
              "      height: 32px;\n",
              "      padding: 0 0 0 0;\n",
              "      width: 32px;\n",
              "    }\n",
              "\n",
              "    .colab-df-convert:hover {\n",
              "      background-color: #E2EBFA;\n",
              "      box-shadow: 0px 1px 2px rgba(60, 64, 67, 0.3), 0px 1px 3px 1px rgba(60, 64, 67, 0.15);\n",
              "      fill: #174EA6;\n",
              "    }\n",
              "\n",
              "    [theme=dark] .colab-df-convert {\n",
              "      background-color: #3B4455;\n",
              "      fill: #D2E3FC;\n",
              "    }\n",
              "\n",
              "    [theme=dark] .colab-df-convert:hover {\n",
              "      background-color: #434B5C;\n",
              "      box-shadow: 0px 1px 3px 1px rgba(0, 0, 0, 0.15);\n",
              "      filter: drop-shadow(0px 1px 2px rgba(0, 0, 0, 0.3));\n",
              "      fill: #FFFFFF;\n",
              "    }\n",
              "  </style>\n",
              "\n",
              "      <script>\n",
              "        const buttonEl =\n",
              "          document.querySelector('#df-04fc0e49-3fd3-4407-bc42-fe5c2a96aafd button.colab-df-convert');\n",
              "        buttonEl.style.display =\n",
              "          google.colab.kernel.accessAllowed ? 'block' : 'none';\n",
              "\n",
              "        async function convertToInteractive(key) {\n",
              "          const element = document.querySelector('#df-04fc0e49-3fd3-4407-bc42-fe5c2a96aafd');\n",
              "          const dataTable =\n",
              "            await google.colab.kernel.invokeFunction('convertToInteractive',\n",
              "                                                     [key], {});\n",
              "          if (!dataTable) return;\n",
              "\n",
              "          const docLinkHtml = 'Like what you see? Visit the ' +\n",
              "            '<a target=\"_blank\" href=https://colab.research.google.com/notebooks/data_table.ipynb>data table notebook</a>'\n",
              "            + ' to learn more about interactive tables.';\n",
              "          element.innerHTML = '';\n",
              "          dataTable['output_type'] = 'display_data';\n",
              "          await google.colab.output.renderOutput(dataTable, element);\n",
              "          const docLink = document.createElement('div');\n",
              "          docLink.innerHTML = docLinkHtml;\n",
              "          element.appendChild(docLink);\n",
              "        }\n",
              "      </script>\n",
              "    </div>\n",
              "  </div>\n",
              "  "
            ]
          },
          "metadata": {},
          "execution_count": 133
        }
      ]
    },
    {
      "cell_type": "markdown",
      "source": [
        "## Function to compare 2 categorical columns "
      ],
      "metadata": {
        "id": "H0Pio36O60uq"
      }
    },
    {
      "cell_type": "code",
      "source": [
        "def category_comp_plot(df,by,forCol):\n",
        "  col_series=df[by].value_counts().index\n",
        "  \n",
        "  fig, axs = plt.subplots(1, len(col_series), figsize=(12, 5))\n",
        "  plt.subplots_adjust(right=1.5)\n",
        "  for i,category in enumerate(col_series):\n",
        "    plt.subplot(1,len(col_series),i+1)\n",
        "    sns.countplot(data=df.loc[df[by]==category],x=forCol)\n",
        "    plt.title(category)"
      ],
      "metadata": {
        "id": "a_vrA-qJB6I-"
      },
      "execution_count": 6,
      "outputs": []
    },
    {
      "cell_type": "markdown",
      "source": [
        "## Function to compare continous features with categorical features"
      ],
      "metadata": {
        "id": "5ePsrPVv7Bo5"
      }
    },
    {
      "cell_type": "code",
      "source": [
        "def numeric_comp_plot(df,by,forCol,binwidth,xlim=None,ylim=None):\n",
        "  my_df=df.copy()\n",
        "  my_df[by].fillna(my_df[by].median(),inplace=True)\n",
        "  my_df[by]=my_df[by].astype('int')\n",
        "  sns.histplot(data=my_df,x=by,hue=forCol,binwidth=binwidth)\n",
        "  plt.xlim(xlim)\n",
        "  plt.ylim(ylim)"
      ],
      "metadata": {
        "id": "ClLFAJV8CCR3"
      },
      "execution_count": 7,
      "outputs": []
    },
    {
      "cell_type": "markdown",
      "metadata": {
        "id": "ygPQfKKGvgE_"
      },
      "source": [
        "#Checking significance of VIP column"
      ]
    },
    {
      "cell_type": "code",
      "execution_count": null,
      "metadata": {
        "colab": {
          "base_uri": "https://localhost:8080/",
          "height": 350
        },
        "id": "7gxQSF7BIwwP",
        "outputId": "a4a3dd31-edb3-433c-8fa3-10bc136e469e"
      },
      "outputs": [
        {
          "output_type": "display_data",
          "data": {
            "text/plain": [
              "<Figure size 864x360 with 2 Axes>"
            ],
            "image/png": "[encoded data removed]"
          },
          "metadata": {
            "needs_background": "light"
          }
        }
      ],
      "source": [
        "category_comp_plot(df,'VIP','Transported')\n"
      ]
    },
    {
      "cell_type": "code",
      "source": [],
      "metadata": {
        "id": "vkWXokSPK4vx"
      },
      "execution_count": null,
      "outputs": []
    },
    {
      "cell_type": "markdown",
      "source": [
        "Doesn't look like being a VIP contributes heavily to whether a person is transported or not"
      ],
      "metadata": {
        "id": "hezCTnIB7wva"
      }
    },
    {
      "cell_type": "markdown",
      "source": [
        "#Checking significance of HomePlanet\n",
        "\n"
      ],
      "metadata": {
        "id": "wr4R0_p778Qq"
      }
    },
    {
      "cell_type": "code",
      "execution_count": null,
      "metadata": {
        "colab": {
          "base_uri": "https://localhost:8080/",
          "height": 350
        },
        "id": "kbPuRfwDJT1i",
        "outputId": "5969da17-02be-4a64-db89-d828754abf1b"
      },
      "outputs": [
        {
          "output_type": "display_data",
          "data": {
            "text/plain": [
              "<Figure size 864x360 with 3 Axes>"
            ],
            "image/png": "[encoded data removed]"
          },
          "metadata": {
            "needs_background": "light"
          }
        }
      ],
      "source": [
        "category_comp_plot(df,'HomePlanet','Transported')"
      ]
    },
    {
      "cell_type": "markdown",
      "source": [
        "#Checking significance of CryoSleep\n"
      ],
      "metadata": {
        "id": "74moWmOe9F1p"
      }
    },
    {
      "cell_type": "code",
      "execution_count": null,
      "metadata": {
        "colab": {
          "base_uri": "https://localhost:8080/",
          "height": 350
        },
        "id": "9xA2WvR8Lo0M",
        "outputId": "181cc4f6-25ff-4fdb-a01b-8b6c573bc3a1"
      },
      "outputs": [
        {
          "output_type": "display_data",
          "data": {
            "text/plain": [
              "<Figure size 864x360 with 2 Axes>"
            ],
            "image/png": "[encoded data removed]"
          },
          "metadata": {
            "needs_background": "light"
          }
        }
      ],
      "source": [
        "category_comp_plot(df,'CryoSleep','Transported')"
      ]
    },
    {
      "cell_type": "markdown",
      "source": [
        "#Splitting and checking significance of different parts of Cabin\n"
      ],
      "metadata": {
        "id": "CdAPjoIw-MVq"
      }
    },
    {
      "cell_type": "markdown",
      "source": [
        "##Deck"
      ],
      "metadata": {
        "id": "qpZRtYv0-hcL"
      }
    },
    {
      "cell_type": "code",
      "source": [
        "df['deck']=df['Cabin'].str.split('/',expand=True)[0]\n",
        "category_comp_plot(df,'deck','Transported')"
      ],
      "metadata": {
        "colab": {
          "base_uri": "https://localhost:8080/",
          "height": 326
        },
        "id": "0ltqjht-9Y0q",
        "outputId": "cd968cb3-2784-43f5-a434-cd7f304a6ee9"
      },
      "execution_count": null,
      "outputs": [
        {
          "output_type": "display_data",
          "data": {
            "text/plain": [
              "<Figure size 864x360 with 8 Axes>"
            ],
            "image/png": "[encoded data removed]"
          },
          "metadata": {
            "needs_background": "light"
          }
        }
      ]
    },
    {
      "cell_type": "markdown",
      "source": [
        "## Cabin Number"
      ],
      "metadata": {
        "id": "yd7n5-ba-jKr"
      }
    },
    {
      "cell_type": "code",
      "source": [
        "df['Cabin_Num']=df['Cabin'].str.split('/',expand=True)[1]\n",
        "numeric_comp_plot(df,'Cabin_Num',forCol='Transported',binwidth=100,xlim=[0,2000])"
      ],
      "metadata": {
        "colab": {
          "base_uri": "https://localhost:8080/",
          "height": 280
        },
        "id": "b-CW2jeO9gF7",
        "outputId": "b6f71036-b813-409c-99c2-2bb49c92c6d9"
      },
      "execution_count": null,
      "outputs": [
        {
          "output_type": "display_data",
          "data": {
            "text/plain": [
              "<Figure size 432x288 with 1 Axes>"
            ],
            "image/png": "[encoded data removed]"
          },
          "metadata": {
            "needs_background": "light"
          }
        }
      ]
    },
    {
      "cell_type": "markdown",
      "source": [
        "## Port"
      ],
      "metadata": {
        "id": "SDN5x_HW-myD"
      }
    },
    {
      "cell_type": "code",
      "execution_count": null,
      "metadata": {
        "colab": {
          "base_uri": "https://localhost:8080/",
          "height": 326
        },
        "id": "Y3aWjySEh_n9",
        "outputId": "8ee88354-2abf-453e-bf5c-abaa7689ec0b"
      },
      "outputs": [
        {
          "output_type": "display_data",
          "data": {
            "text/plain": [
              "<Figure size 864x360 with 2 Axes>"
            ],
            "image/png": "[encoded data removed]"
          },
          "metadata": {
            "needs_background": "light"
          }
        }
      ],
      "source": [
        "df['Port']=df['Cabin'].str[-1]\n",
        "category_comp_plot(df,'Port','Transported')"
      ]
    },
    {
      "cell_type": "markdown",
      "source": [
        "##Checking significance of Destination"
      ],
      "metadata": {
        "id": "nG9aQ5OZ-tNK"
      }
    },
    {
      "cell_type": "code",
      "execution_count": null,
      "metadata": {
        "colab": {
          "base_uri": "https://localhost:8080/",
          "height": 350
        },
        "id": "rfO1gTlPjXZL",
        "outputId": "0271ec68-65d0-4352-d3f4-2fea0d27cc07"
      },
      "outputs": [
        {
          "output_type": "display_data",
          "data": {
            "text/plain": [
              "<Figure size 864x360 with 3 Axes>"
            ],
            "image/png": "[encoded data removed]"
          },
          "metadata": {
            "needs_background": "light"
          }
        }
      ],
      "source": [
        "category_comp_plot(df,'Destination','Transported')"
      ]
    },
    {
      "cell_type": "markdown",
      "source": [
        "## Check Significance of RoomService"
      ],
      "metadata": {
        "id": "14I29Cdq-2fS"
      }
    },
    {
      "cell_type": "code",
      "execution_count": null,
      "metadata": {
        "colab": {
          "base_uri": "https://localhost:8080/",
          "height": 283
        },
        "id": "mu3tqZ6JrEgp",
        "outputId": "eb0c7f9c-ab71-4c63-f387-8ce2c732f521"
      },
      "outputs": [
        {
          "output_type": "display_data",
          "data": {
            "text/plain": [
              "<Figure size 432x288 with 1 Axes>"
            ],
            "image/png": "[encoded data removed]"
          },
          "metadata": {
            "needs_background": "light"
          }
        }
      ],
      "source": [
        "numeric_comp_plot(df,'RoomService',forCol='Transported',binwidth=1000,xlim=[0,10000],ylim=[0,4000])"
      ]
    },
    {
      "cell_type": "markdown",
      "source": [
        "### Insights:\n",
        "\n",
        "1)Looks like people who spent more on RoomService have a higher chance of evading transport"
      ],
      "metadata": {
        "id": "PYSl3dFc_EjM"
      }
    },
    {
      "cell_type": "markdown",
      "source": [
        "# Checking significance of ShoppingMall"
      ],
      "metadata": {
        "id": "SrFCtPBp_aF7"
      }
    },
    {
      "cell_type": "code",
      "execution_count": null,
      "metadata": {
        "colab": {
          "base_uri": "https://localhost:8080/",
          "height": 283
        },
        "id": "lrM4y08grg7R",
        "outputId": "637bd978-c66e-4342-de71-3ec976d30ce4"
      },
      "outputs": [
        {
          "output_type": "display_data",
          "data": {
            "text/plain": [
              "<Figure size 432x288 with 1 Axes>"
            ],
            "image/png": "[encoded data removed]"
          },
          "metadata": {
            "needs_background": "light"
          }
        }
      ],
      "source": [
        "numeric_comp_plot(df,'ShoppingMall',forCol='Transported',binwidth=2000,xlim=[0,10000],ylim=[0,200])"
      ]
    },
    {
      "cell_type": "code",
      "source": [
        "numeric_comp_plot(df,'ShoppingMall',forCol='Transported',binwidth=2000,xlim=[0,2000],ylim=[0,5000])"
      ],
      "metadata": {
        "colab": {
          "base_uri": "https://localhost:8080/",
          "height": 283
        },
        "id": "oedKc1GFALWM",
        "outputId": "3c9a12de-463f-4f66-b6db-9a8a41ead5b5"
      },
      "execution_count": null,
      "outputs": [
        {
          "output_type": "display_data",
          "data": {
            "text/plain": [
              "<Figure size 432x288 with 1 Axes>"
            ],
            "image/png": "[encoded data removed]"
          },
          "metadata": {
            "needs_background": "light"
          }
        }
      ]
    },
    {
      "cell_type": "markdown",
      "source": [
        "### Insights \n",
        "\n",
        "1)Looks like people who spent more on/in ShoppingMall have a higher chance of being transported"
      ],
      "metadata": {
        "id": "k-wQf2a-AR97"
      }
    },
    {
      "cell_type": "markdown",
      "source": [
        "# Checking significance of Spa"
      ],
      "metadata": {
        "id": "uBzFzmwgA-1T"
      }
    },
    {
      "cell_type": "code",
      "execution_count": null,
      "metadata": {
        "colab": {
          "base_uri": "https://localhost:8080/",
          "height": 283
        },
        "id": "9B98DvaYrpZB",
        "outputId": "55225c2d-a1d9-432a-cd23-37d6d003d200"
      },
      "outputs": [
        {
          "output_type": "display_data",
          "data": {
            "text/plain": [
              "<Figure size 432x288 with 1 Axes>"
            ],
            "image/png": "[encoded data removed]"
          },
          "metadata": {
            "needs_background": "light"
          }
        }
      ],
      "source": [
        "numeric_comp_plot(df,'Spa',forCol='Transported',binwidth=2000,xlim=[0,25000],ylim=[0,4000])"
      ]
    },
    {
      "cell_type": "markdown",
      "source": [
        "### Insights:\n",
        "1)Looks like people who spent more on/in Spa have a higher chance of evading transport"
      ],
      "metadata": {
        "id": "xJ4stA_cBFx6"
      }
    },
    {
      "cell_type": "markdown",
      "source": [
        "# Checking significance of VRDeck"
      ],
      "metadata": {
        "id": "7tq5u5NaBar0"
      }
    },
    {
      "cell_type": "code",
      "execution_count": null,
      "metadata": {
        "colab": {
          "base_uri": "https://localhost:8080/",
          "height": 283
        },
        "id": "7EsawAtyrxKp",
        "outputId": "0197390b-d684-4301-97ec-d64cef4b38ce"
      },
      "outputs": [
        {
          "output_type": "display_data",
          "data": {
            "text/plain": [
              "<Figure size 432x288 with 1 Axes>"
            ],
            "image/png": "[encoded data removed]"
          },
          "metadata": {
            "needs_background": "light"
          }
        }
      ],
      "source": [
        "numeric_comp_plot(df,'VRDeck',forCol='Transported',binwidth=2000,xlim=[0,25000],ylim=[0,25])"
      ]
    },
    {
      "cell_type": "markdown",
      "source": [
        "### Insights:\n",
        "1)Looks like people who spent more on/in VRDeck have a higher chance of evading transport"
      ],
      "metadata": {
        "id": "ZPIP4aVQCTHE"
      }
    },
    {
      "cell_type": "markdown",
      "source": [
        "# Checking significance of FoodCourt"
      ],
      "metadata": {
        "id": "dta7187HCXuk"
      }
    },
    {
      "cell_type": "code",
      "execution_count": null,
      "metadata": {
        "colab": {
          "base_uri": "https://localhost:8080/",
          "height": 283
        },
        "id": "brqYqkitsBRZ",
        "outputId": "1b72fcc3-b7e2-49cd-db57-40edb93867c9"
      },
      "outputs": [
        {
          "output_type": "display_data",
          "data": {
            "text/plain": [
              "<Figure size 432x288 with 1 Axes>"
            ],
            "image/png": "[encoded data removed]"
          },
          "metadata": {
            "needs_background": "light"
          }
        }
      ],
      "source": [
        "numeric_comp_plot(df,'FoodCourt',forCol='Transported',binwidth=2000,ylim=[0,25])"
      ]
    },
    {
      "cell_type": "markdown",
      "source": [
        "### Insights:\n",
        "1)Looks like people who spent more on/in FoodCourt have a higher chance of being transported"
      ],
      "metadata": {
        "id": "028LZflrCkDs"
      }
    },
    {
      "cell_type": "markdown",
      "source": [
        "## Checking amount of money spent by different age groups "
      ],
      "metadata": {
        "id": "50f1a2pTGhGM"
      }
    },
    {
      "cell_type": "code",
      "execution_count": null,
      "metadata": {
        "colab": {
          "base_uri": "https://localhost:8080/",
          "height": 283
        },
        "id": "rGArTV-aLyA_",
        "outputId": "fb359d78-3414-4779-e5c2-ccba83f11957"
      },
      "outputs": [
        {
          "output_type": "display_data",
          "data": {
            "text/plain": [
              "<Figure size 432x288 with 1 Axes>"
            ],
            "image/png": "[encoded data removed]"
          },
          "metadata": {
            "needs_background": "light"
          }
        }
      ],
      "source": [
        "spentNadf=df.dropna(subset=['RoomService','FoodCourt','ShoppingMall','Spa','VRDeck','VIP'])\n",
        "spentNadf['TotalSpent']=spentNadf['RoomService']+spentNadf['FoodCourt']+spentNadf['ShoppingMall']+spentNadf['Spa']+spentNadf['VRDeck']\n",
        "spentNadf['spent?']=spentNadf['TotalSpent'].apply(lambda x: 1 if x>0 else 0)\n",
        "numeric_comp_plot(spentNadf,'Age','spent?',binwidth=5,xlim=[0,100],ylim=[0,1000])"
      ]
    },
    {
      "cell_type": "code",
      "source": [
        "numeric_comp_plot(spentNadf,'Age','CryoSleep',binwidth=5,xlim=[0,100],ylim=[0,1000])"
      ],
      "metadata": {
        "colab": {
          "base_uri": "https://localhost:8080/",
          "height": 283
        },
        "id": "3xQtRC67KzUC",
        "outputId": "2cba0e04-75dd-4f8d-dd40-bb1223aac9e3"
      },
      "execution_count": null,
      "outputs": [
        {
          "output_type": "display_data",
          "data": {
            "text/plain": [
              "<Figure size 432x288 with 1 Axes>"
            ],
            "image/png": "[encoded data removed]"
          },
          "metadata": {
            "needs_background": "light"
          }
        }
      ]
    },
    {
      "cell_type": "markdown",
      "source": [
        "People in the age group between 1-20 spent little to no money.\n",
        "Might come in handy while imputing age\n",
        "\n",
        "\n"
      ],
      "metadata": {
        "id": "JInakXaBGu3l"
      }
    },
    {
      "cell_type": "markdown",
      "source": [
        "# Checking significance of PassengerId by splitting it into parts"
      ],
      "metadata": {
        "id": "yHnx2mkCC4es"
      }
    },
    {
      "cell_type": "markdown",
      "source": [
        "## GroupSize"
      ],
      "metadata": {
        "id": "QTsQpc1oDC0E"
      }
    },
    {
      "cell_type": "code",
      "execution_count": null,
      "metadata": {
        "colab": {
          "base_uri": "https://localhost:8080/",
          "height": 283
        },
        "id": "Rf5DBzYUr-us",
        "outputId": "2cd455f7-c899-440f-ed7d-b84ccbb9d368"
      },
      "outputs": [
        {
          "output_type": "display_data",
          "data": {
            "text/plain": [
              "<Figure size 432x288 with 1 Axes>"
            ],
            "image/png": "[encoded data removed]"
          },
          "metadata": {
            "needs_background": "light"
          }
        }
      ],
      "source": [
        "df[['P_ID1','P_ID2']]=df['PassengerId'].str.split('_',expand=True)[[0,1]]\n",
        "df['groupSize']=df.groupby(['P_ID1'])['P_ID1'].transform('count')\n",
        "numeric_comp_plot(df,'groupSize',forCol='Transported',binwidth=1,ylim=[0,5000])"
      ]
    },
    {
      "cell_type": "markdown",
      "source": [
        "## P_ID1"
      ],
      "metadata": {
        "id": "2Vb6eG6BDWpF"
      }
    },
    {
      "cell_type": "code",
      "execution_count": null,
      "metadata": {
        "colab": {
          "base_uri": "https://localhost:8080/",
          "height": 280
        },
        "id": "VYHqFSQBqbi5",
        "outputId": "2507de36-82a4-46da-8542-3aa02ca88442"
      },
      "outputs": [
        {
          "output_type": "display_data",
          "data": {
            "text/plain": [
              "<Figure size 432x288 with 1 Axes>"
            ],
            "image/png": "[encoded data removed]"
          },
          "metadata": {
            "needs_background": "light"
          }
        }
      ],
      "source": [
        "df[['P_ID1','P_ID2']]=df['PassengerId'].str.split('_',expand=True)[[0,1]]\n",
        "df['P_ID1']=df['P_ID1'].astype('int')\n",
        "numeric_comp_plot(df,'P_ID1',forCol='Transported',binwidth=100,xlim=[0,10000],ylim=[0,75])"
      ]
    },
    {
      "cell_type": "markdown",
      "source": [
        "### IDs are usually considered useless for predictions,but from the plot it is clear that having a P_ID1 between ~3000 to ~7000 might end up in bad news 😯"
      ],
      "metadata": {
        "id": "lpkaNLkTDc-E"
      }
    },
    {
      "cell_type": "markdown",
      "source": [
        "## P_ID2"
      ],
      "metadata": {
        "id": "27FYortIErUN"
      }
    },
    {
      "cell_type": "code",
      "execution_count": null,
      "metadata": {
        "colab": {
          "base_uri": "https://localhost:8080/",
          "height": 326
        },
        "id": "tIkol0QaB8b3",
        "outputId": "ed35ebeb-d708-4a46-97ee-7be21a9e971d"
      },
      "outputs": [
        {
          "output_type": "display_data",
          "data": {
            "text/plain": [
              "<Figure size 864x360 with 8 Axes>"
            ],
            "image/png": "[encoded data removed]"
          },
          "metadata": {
            "needs_background": "light"
          }
        }
      ],
      "source": [
        "df[['P_ID1','P_ID2']]=df['PassengerId'].str.split('_',expand=True)[[0,1]]\n",
        "category_comp_plot(df,'P_ID2','Transported')"
      ]
    },
    {
      "cell_type": "markdown",
      "source": [
        "# Checking significance of Age"
      ],
      "metadata": {
        "id": "UFmbFEi-EyU8"
      }
    },
    {
      "cell_type": "code",
      "execution_count": null,
      "metadata": {
        "colab": {
          "base_uri": "https://localhost:8080/",
          "height": 283
        },
        "id": "bo2p07RBHMt9",
        "outputId": "82027337-48cb-4838-9b66-6237d778ee60"
      },
      "outputs": [
        {
          "output_type": "display_data",
          "data": {
            "text/plain": [
              "<Figure size 432x288 with 1 Axes>"
            ],
            "image/png": "[encoded data removed]"
          },
          "metadata": {
            "needs_background": "light"
          }
        }
      ],
      "source": [
        "numeric_comp_plot(df,'Age','Transported',binwidth=6,xlim=[0,100],ylim=[0,1000])"
      ]
    },
    {
      "cell_type": "code",
      "source": [
        "numeric_comp_plot(df,'Age','VIP',binwidth=5,xlim=[0,100],ylim=[0,1000])"
      ],
      "metadata": {
        "colab": {
          "base_uri": "https://localhost:8080/",
          "height": 283
        },
        "id": "5n0NhOdQLBT4",
        "outputId": "3e55d7f5-c353-4576-eeb7-0577aa3c7b65"
      },
      "execution_count": null,
      "outputs": [
        {
          "output_type": "display_data",
          "data": {
            "text/plain": [
              "<Figure size 432x288 with 1 Axes>"
            ],
            "image/png": "[encoded data removed]"
          },
          "metadata": {
            "needs_background": "light"
          }
        }
      ]
    },
    {
      "cell_type": "markdown",
      "source": [
        "### Toddlers and Teenager have a high chance of being transported "
      ],
      "metadata": {
        "id": "Jq_xTI_3E3We"
      }
    },
    {
      "cell_type": "markdown",
      "source": [
        "### Using names to generate Features"
      ],
      "metadata": {
        "id": "sWhsf9axFG4U"
      }
    },
    {
      "cell_type": "code",
      "source": [
        "df['lastName']=df['Name'].dropna().str.split(' ').apply(lambda x:x[1])\n",
        "#Using Last name to to assign people to their respective families and getting the family count.\n",
        "df['family_size']=df.groupby(['lastName'])['lastName'].transform('count')\n",
        "#Checking whether there's a vip in the family\n",
        "df['vipInFamily']=df.groupby(['lastName'])['VIP'].transform(lambda x: True if x.sum()>0 else False)"
      ],
      "metadata": {
        "id": "LTQMLPhnV1ks"
      },
      "execution_count": null,
      "outputs": []
    },
    {
      "cell_type": "code",
      "source": [
        "category_comp_plot(df,'vipInFamily','Transported')"
      ],
      "metadata": {
        "colab": {
          "base_uri": "https://localhost:8080/",
          "height": 350
        },
        "id": "AzKMa3D6cJjt",
        "outputId": "0f29293e-9bb5-417a-f2de-c5c80e0ec493"
      },
      "execution_count": null,
      "outputs": [
        {
          "output_type": "display_data",
          "data": {
            "text/plain": [
              "<Figure size 864x360 with 2 Axes>"
            ],
            "image/png": "[encoded data removed]"
          },
          "metadata": {
            "needs_background": "light"
          }
        }
      ]
    },
    {
      "cell_type": "markdown",
      "source": [
        "# Checking Significance of family size"
      ],
      "metadata": {
        "id": "i8lpLYyyFq6u"
      }
    },
    {
      "cell_type": "code",
      "source": [
        "numeric_comp_plot(df,'family_size','Transported',binwidth=2,xlim=[0,20],ylim=[0,1300])"
      ],
      "metadata": {
        "colab": {
          "base_uri": "https://localhost:8080/",
          "height": 280
        },
        "id": "Z3OA2cC_Z00O",
        "outputId": "0284e391-f531-4eaf-9ca4-16f80611394e"
      },
      "execution_count": null,
      "outputs": [
        {
          "output_type": "display_data",
          "data": {
            "text/plain": [
              "<Figure size 432x288 with 1 Axes>"
            ],
            "image/png": "[encoded data removed]"
          },
          "metadata": {
            "needs_background": "light"
          }
        }
      ]
    },
    {
      "cell_type": "code",
      "source": [
        "df['withFamily']=df['family_size'].apply(lambda x:1 if x>1 else 0)\n"
      ],
      "metadata": {
        "id": "ENErd3gLy453"
      },
      "execution_count": null,
      "outputs": []
    },
    {
      "cell_type": "markdown",
      "source": [
        "### Insights\n",
        "\n",
        "\n",
        "1.   Looks like huge families have high chance of evading transport\n",
        "\n"
      ],
      "metadata": {
        "id": "lMbeAFedFycM"
      }
    },
    {
      "cell_type": "markdown",
      "source": [
        "# Generating heatmaps to find corrleation between features"
      ],
      "metadata": {
        "id": "lBdz1iXHHMCW"
      }
    },
    {
      "cell_type": "markdown",
      "source": [
        "## Comparing HomePlanet and Deck "
      ],
      "metadata": {
        "id": "FJ7_zzzXHZMc"
      }
    },
    {
      "cell_type": "code",
      "source": [
        "PlanetDeckPivot=pd.pivot_table(df,index='HomePlanet',columns='deck',values='PassengerId',aggfunc=len)\n",
        "sns.heatmap(PlanetDeckPivot, cmap=\"crest\")\n",
        "plt.show()"
      ],
      "metadata": {
        "colab": {
          "base_uri": "https://localhost:8080/",
          "height": 279
        },
        "id": "IYxer3U6YSPG",
        "outputId": "a9c573e1-8b81-45d8-edc2-98e48cfbd85f"
      },
      "execution_count": null,
      "outputs": [
        {
          "output_type": "display_data",
          "data": {
            "text/plain": [
              "<Figure size 432x288 with 2 Axes>"
            ],
            "image/png": "[encoded data removed]"
          },
          "metadata": {
            "needs_background": "light"
          }
        }
      ]
    },
    {
      "cell_type": "code",
      "source": [
        "df.loc[df['VIP']==True]"
      ],
      "metadata": {
        "colab": {
          "base_uri": "https://localhost:8080/",
          "height": 488
        },
        "id": "2-2pEZHKDhgM",
        "outputId": "8211fc34-342c-4b37-ca38-4e0d2692be8c"
      },
      "execution_count": null,
      "outputs": [
        {
          "output_type": "execute_result",
          "data": {
            "text/plain": [
              "     PassengerId HomePlanet CryoSleep    Cabin  Destination   Age   VIP  \\\n",
              "2        0003_01     Europa     False    A/0/S  TRAPPIST-1e  58.0  True   \n",
              "108      0112_01     Europa     False    B/1/S  55 Cancri e  48.0  True   \n",
              "120      0128_01       Mars     False    D/3/S  TRAPPIST-1e  61.0  True   \n",
              "214      0224_01       Mars     False   F/42/S  TRAPPIST-1e  32.0  True   \n",
              "291      0321_01        NaN     False   F/61/S  TRAPPIST-1e  59.0  True   \n",
              "...          ...        ...       ...      ...          ...   ...   ...   \n",
              "8579     9158_01     Europa      True  B/298/P  55 Cancri e  30.0  True   \n",
              "8614     9194_02     Europa     False  E/603/S  TRAPPIST-1e  32.0  True   \n",
              "8621     9197_02     Europa     False  C/308/P          NaN  41.0  True   \n",
              "8652     9230_01     Europa     False  C/342/S  TRAPPIST-1e  36.0  True   \n",
              "8688     9276_01     Europa     False   A/98/P  55 Cancri e  41.0  True   \n",
              "\n",
              "      RoomService  FoodCourt  ShoppingMall  ...  Transported  deck Cabin_Num  \\\n",
              "2            43.0     3576.0           0.0  ...        False     A         0   \n",
              "108           0.0     2537.0          87.0  ...         True     B         1   \n",
              "120        2353.0      334.0           9.0  ...        False     D         3   \n",
              "214         181.0        0.0           5.0  ...        False     F        42   \n",
              "291        1018.0        0.0         209.0  ...        False     F        61   \n",
              "...           ...        ...           ...  ...          ...   ...       ...   \n",
              "8579          0.0        0.0           0.0  ...         True     B       298   \n",
              "8614       1003.0      909.0           0.0  ...        False     E       603   \n",
              "8621          0.0     7964.0           0.0  ...        False     C       308   \n",
              "8652          0.0     5600.0         715.0  ...         True     C       342   \n",
              "8688          0.0     6819.0           0.0  ...        False     A        98   \n",
              "\n",
              "      Port P_ID1 P_ID2 groupSize   lastName family_size  vipInFamily  \n",
              "2        S  0003    01         2     Susent         6.0         True  \n",
              "108      S  0112    01         1    Cowtale         2.0         True  \n",
              "120      S  0128    01         2       Fles         2.0         True  \n",
              "214      S  0224    01         1      Queen         1.0         True  \n",
              "291      S  0321    01         1      Bache         5.0         True  \n",
              "...    ...   ...   ...       ...        ...         ...          ...  \n",
              "8579     P  9158    01         1   Maglible         1.0         True  \n",
              "8614     S  9194    02         2     Subwor         2.0         True  \n",
              "8621     P  9197    02         4     Platch         9.0         True  \n",
              "8652     S  9230    01         1        NaN         NaN          NaN  \n",
              "8688     P  9276    01         1  Noxnuther         3.0         True  \n",
              "\n",
              "[199 rows x 23 columns]"
            ],
            "text/html": [
              "\n",
              "  <div id=\"df-2ec36ac7-4438-4a05-8f5c-2ec3aaaf6f10\">\n",
              "    <div class=\"colab-df-container\">\n",
              "      <div>\n",
              "<style scoped>\n",
              "    .dataframe tbody tr th:only-of-type {\n",
              "        vertical-align: middle;\n",
              "    }\n",
              "\n",
              "    .dataframe tbody tr th {\n",
              "        vertical-align: top;\n",
              "    }\n",
              "\n",
              "    .dataframe thead th {\n",
              "        text-align: right;\n",
              "    }\n",
              "</style>\n",
              "<table border=\"1\" class=\"dataframe\">\n",
              "  <thead>\n",
              "    <tr style=\"text-align: right;\">\n",
              "      <th></th>\n",
              "      <th>PassengerId</th>\n",
              "      <th>HomePlanet</th>\n",
              "      <th>CryoSleep</th>\n",
              "      <th>Cabin</th>\n",
              "      <th>Destination</th>\n",
              "      <th>Age</th>\n",
              "      <th>VIP</th>\n",
              "      <th>RoomService</th>\n",
              "      <th>FoodCourt</th>\n",
              "      <th>ShoppingMall</th>\n",
              "      <th>...</th>\n",
              "      <th>Transported</th>\n",
              "      <th>deck</th>\n",
              "      <th>Cabin_Num</th>\n",
              "      <th>Port</th>\n",
              "      <th>P_ID1</th>\n",
              "      <th>P_ID2</th>\n",
              "      <th>groupSize</th>\n",
              "      <th>lastName</th>\n",
              "      <th>family_size</th>\n",
              "      <th>vipInFamily</th>\n",
              "    </tr>\n",
              "  </thead>\n",
              "  <tbody>\n",
              "    <tr>\n",
              "      <th>2</th>\n",
              "      <td>0003_01</td>\n",
              "      <td>Europa</td>\n",
              "      <td>False</td>\n",
              "      <td>A/0/S</td>\n",
              "      <td>TRAPPIST-1e</td>\n",
              "      <td>58.0</td>\n",
              "      <td>True</td>\n",
              "      <td>43.0</td>\n",
              "      <td>3576.0</td>\n",
              "      <td>0.0</td>\n",
              "      <td>...</td>\n",
              "      <td>False</td>\n",
              "      <td>A</td>\n",
              "      <td>0</td>\n",
              "      <td>S</td>\n",
              "      <td>0003</td>\n",
              "      <td>01</td>\n",
              "      <td>2</td>\n",
              "      <td>Susent</td>\n",
              "      <td>6.0</td>\n",
              "      <td>True</td>\n",
              "    </tr>\n",
              "    <tr>\n",
              "      <th>108</th>\n",
              "      <td>0112_01</td>\n",
              "      <td>Europa</td>\n",
              "      <td>False</td>\n",
              "      <td>B/1/S</td>\n",
              "      <td>55 Cancri e</td>\n",
              "      <td>48.0</td>\n",
              "      <td>True</td>\n",
              "      <td>0.0</td>\n",
              "      <td>2537.0</td>\n",
              "      <td>87.0</td>\n",
              "      <td>...</td>\n",
              "      <td>True</td>\n",
              "      <td>B</td>\n",
              "      <td>1</td>\n",
              "      <td>S</td>\n",
              "      <td>0112</td>\n",
              "      <td>01</td>\n",
              "      <td>1</td>\n",
              "      <td>Cowtale</td>\n",
              "      <td>2.0</td>\n",
              "      <td>True</td>\n",
              "    </tr>\n",
              "    <tr>\n",
              "      <th>120</th>\n",
              "      <td>0128_01</td>\n",
              "      <td>Mars</td>\n",
              "      <td>False</td>\n",
              "      <td>D/3/S</td>\n",
              "      <td>TRAPPIST-1e</td>\n",
              "      <td>61.0</td>\n",
              "      <td>True</td>\n",
              "      <td>2353.0</td>\n",
              "      <td>334.0</td>\n",
              "      <td>9.0</td>\n",
              "      <td>...</td>\n",
              "      <td>False</td>\n",
              "      <td>D</td>\n",
              "      <td>3</td>\n",
              "      <td>S</td>\n",
              "      <td>0128</td>\n",
              "      <td>01</td>\n",
              "      <td>2</td>\n",
              "      <td>Fles</td>\n",
              "      <td>2.0</td>\n",
              "      <td>True</td>\n",
              "    </tr>\n",
              "    <tr>\n",
              "      <th>214</th>\n",
              "      <td>0224_01</td>\n",
              "      <td>Mars</td>\n",
              "      <td>False</td>\n",
              "      <td>F/42/S</td>\n",
              "      <td>TRAPPIST-1e</td>\n",
              "      <td>32.0</td>\n",
              "      <td>True</td>\n",
              "      <td>181.0</td>\n",
              "      <td>0.0</td>\n",
              "      <td>5.0</td>\n",
              "      <td>...</td>\n",
              "      <td>False</td>\n",
              "      <td>F</td>\n",
              "      <td>42</td>\n",
              "      <td>S</td>\n",
              "      <td>0224</td>\n",
              "      <td>01</td>\n",
              "      <td>1</td>\n",
              "      <td>Queen</td>\n",
              "      <td>1.0</td>\n",
              "      <td>True</td>\n",
              "    </tr>\n",
              "    <tr>\n",
              "      <th>291</th>\n",
              "      <td>0321_01</td>\n",
              "      <td>NaN</td>\n",
              "      <td>False</td>\n",
              "      <td>F/61/S</td>\n",
              "      <td>TRAPPIST-1e</td>\n",
              "      <td>59.0</td>\n",
              "      <td>True</td>\n",
              "      <td>1018.0</td>\n",
              "      <td>0.0</td>\n",
              "      <td>209.0</td>\n",
              "      <td>...</td>\n",
              "      <td>False</td>\n",
              "      <td>F</td>\n",
              "      <td>61</td>\n",
              "      <td>S</td>\n",
              "      <td>0321</td>\n",
              "      <td>01</td>\n",
              "      <td>1</td>\n",
              "      <td>Bache</td>\n",
              "      <td>5.0</td>\n",
              "      <td>True</td>\n",
              "    </tr>\n",
              "    <tr>\n",
              "      <th>...</th>\n",
              "      <td>...</td>\n",
              "      <td>...</td>\n",
              "      <td>...</td>\n",
              "      <td>...</td>\n",
              "      <td>...</td>\n",
              "      <td>...</td>\n",
              "      <td>...</td>\n",
              "      <td>...</td>\n",
              "      <td>...</td>\n",
              "      <td>...</td>\n",
              "      <td>...</td>\n",
              "      <td>...</td>\n",
              "      <td>...</td>\n",
              "      <td>...</td>\n",
              "      <td>...</td>\n",
              "      <td>...</td>\n",
              "      <td>...</td>\n",
              "      <td>...</td>\n",
              "      <td>...</td>\n",
              "      <td>...</td>\n",
              "      <td>...</td>\n",
              "    </tr>\n",
              "    <tr>\n",
              "      <th>8579</th>\n",
              "      <td>9158_01</td>\n",
              "      <td>Europa</td>\n",
              "      <td>True</td>\n",
              "      <td>B/298/P</td>\n",
              "      <td>55 Cancri e</td>\n",
              "      <td>30.0</td>\n",
              "      <td>True</td>\n",
              "      <td>0.0</td>\n",
              "      <td>0.0</td>\n",
              "      <td>0.0</td>\n",
              "      <td>...</td>\n",
              "      <td>True</td>\n",
              "      <td>B</td>\n",
              "      <td>298</td>\n",
              "      <td>P</td>\n",
              "      <td>9158</td>\n",
              "      <td>01</td>\n",
              "      <td>1</td>\n",
              "      <td>Maglible</td>\n",
              "      <td>1.0</td>\n",
              "      <td>True</td>\n",
              "    </tr>\n",
              "    <tr>\n",
              "      <th>8614</th>\n",
              "      <td>9194_02</td>\n",
              "      <td>Europa</td>\n",
              "      <td>False</td>\n",
              "      <td>E/603/S</td>\n",
              "      <td>TRAPPIST-1e</td>\n",
              "      <td>32.0</td>\n",
              "      <td>True</td>\n",
              "      <td>1003.0</td>\n",
              "      <td>909.0</td>\n",
              "      <td>0.0</td>\n",
              "      <td>...</td>\n",
              "      <td>False</td>\n",
              "      <td>E</td>\n",
              "      <td>603</td>\n",
              "      <td>S</td>\n",
              "      <td>9194</td>\n",
              "      <td>02</td>\n",
              "      <td>2</td>\n",
              "      <td>Subwor</td>\n",
              "      <td>2.0</td>\n",
              "      <td>True</td>\n",
              "    </tr>\n",
              "    <tr>\n",
              "      <th>8621</th>\n",
              "      <td>9197_02</td>\n",
              "      <td>Europa</td>\n",
              "      <td>False</td>\n",
              "      <td>C/308/P</td>\n",
              "      <td>NaN</td>\n",
              "      <td>41.0</td>\n",
              "      <td>True</td>\n",
              "      <td>0.0</td>\n",
              "      <td>7964.0</td>\n",
              "      <td>0.0</td>\n",
              "      <td>...</td>\n",
              "      <td>False</td>\n",
              "      <td>C</td>\n",
              "      <td>308</td>\n",
              "      <td>P</td>\n",
              "      <td>9197</td>\n",
              "      <td>02</td>\n",
              "      <td>4</td>\n",
              "      <td>Platch</td>\n",
              "      <td>9.0</td>\n",
              "      <td>True</td>\n",
              "    </tr>\n",
              "    <tr>\n",
              "      <th>8652</th>\n",
              "      <td>9230_01</td>\n",
              "      <td>Europa</td>\n",
              "      <td>False</td>\n",
              "      <td>C/342/S</td>\n",
              "      <td>TRAPPIST-1e</td>\n",
              "      <td>36.0</td>\n",
              "      <td>True</td>\n",
              "      <td>0.0</td>\n",
              "      <td>5600.0</td>\n",
              "      <td>715.0</td>\n",
              "      <td>...</td>\n",
              "      <td>True</td>\n",
              "      <td>C</td>\n",
              "      <td>342</td>\n",
              "      <td>S</td>\n",
              "      <td>9230</td>\n",
              "      <td>01</td>\n",
              "      <td>1</td>\n",
              "      <td>NaN</td>\n",
              "      <td>NaN</td>\n",
              "      <td>NaN</td>\n",
              "    </tr>\n",
              "    <tr>\n",
              "      <th>8688</th>\n",
              "      <td>9276_01</td>\n",
              "      <td>Europa</td>\n",
              "      <td>False</td>\n",
              "      <td>A/98/P</td>\n",
              "      <td>55 Cancri e</td>\n",
              "      <td>41.0</td>\n",
              "      <td>True</td>\n",
              "      <td>0.0</td>\n",
              "      <td>6819.0</td>\n",
              "      <td>0.0</td>\n",
              "      <td>...</td>\n",
              "      <td>False</td>\n",
              "      <td>A</td>\n",
              "      <td>98</td>\n",
              "      <td>P</td>\n",
              "      <td>9276</td>\n",
              "      <td>01</td>\n",
              "      <td>1</td>\n",
              "      <td>Noxnuther</td>\n",
              "      <td>3.0</td>\n",
              "      <td>True</td>\n",
              "    </tr>\n",
              "  </tbody>\n",
              "</table>\n",
              "<p>199 rows × 23 columns</p>\n",
              "</div>\n",
              "      <button class=\"colab-df-convert\" onclick=\"convertToInteractive('df-2ec36ac7-4438-4a05-8f5c-2ec3aaaf6f10')\"\n",
              "              title=\"Convert this dataframe to an interactive table.\"\n",
              "              style=\"display:none;\">\n",
              "        \n",
              "  <svg xmlns=\"http://www.w3.org/2000/svg\" height=\"24px\"viewBox=\"0 0 24 24\"\n",
              "       width=\"24px\">\n",
              "    <path d=\"M0 0h24v24H0V0z\" fill=\"none\"/>\n",
              "    <path d=\"M18.56 5.44l.94 2.06.94-2.06 2.06-.94-2.06-.94-.94-2.06-.94 2.06-2.06.94zm-11 1L8.5 8.5l.94-2.06 2.06-.94-2.06-.94L8.5 2.5l-.94 2.06-2.06.94zm10 10l.94 2.06.94-2.06 2.06-.94-2.06-.94-.94-2.06-.94 2.06-2.06.94z\"/><path d=\"M17.41 7.96l-1.37-1.37c-.4-.4-.92-.59-1.43-.59-.52 0-1.04.2-1.43.59L10.3 9.45l-7.72 7.72c-.78.78-.78 2.05 0 2.83L4 21.41c.39.39.9.59 1.41.59.51 0 1.02-.2 1.41-.59l7.78-7.78 2.81-2.81c.8-.78.8-2.07 0-2.86zM5.41 20L4 18.59l7.72-7.72 1.47 1.35L5.41 20z\"/>\n",
              "  </svg>\n",
              "      </button>\n",
              "      \n",
              "  <style>\n",
              "    .colab-df-container {\n",
              "      display:flex;\n",
              "      flex-wrap:wrap;\n",
              "      gap: 12px;\n",
              "    }\n",
              "\n",
              "    .colab-df-convert {\n",
              "      background-color: #E8F0FE;\n",
              "      border: none;\n",
              "      border-radius: 50%;\n",
              "      cursor: pointer;\n",
              "      display: none;\n",
              "      fill: #1967D2;\n",
              "      height: 32px;\n",
              "      padding: 0 0 0 0;\n",
              "      width: 32px;\n",
              "    }\n",
              "\n",
              "    .colab-df-convert:hover {\n",
              "      background-color: #E2EBFA;\n",
              "      box-shadow: 0px 1px 2px rgba(60, 64, 67, 0.3), 0px 1px 3px 1px rgba(60, 64, 67, 0.15);\n",
              "      fill: #174EA6;\n",
              "    }\n",
              "\n",
              "    [theme=dark] .colab-df-convert {\n",
              "      background-color: #3B4455;\n",
              "      fill: #D2E3FC;\n",
              "    }\n",
              "\n",
              "    [theme=dark] .colab-df-convert:hover {\n",
              "      background-color: #434B5C;\n",
              "      box-shadow: 0px 1px 3px 1px rgba(0, 0, 0, 0.15);\n",
              "      filter: drop-shadow(0px 1px 2px rgba(0, 0, 0, 0.3));\n",
              "      fill: #FFFFFF;\n",
              "    }\n",
              "  </style>\n",
              "\n",
              "      <script>\n",
              "        const buttonEl =\n",
              "          document.querySelector('#df-2ec36ac7-4438-4a05-8f5c-2ec3aaaf6f10 button.colab-df-convert');\n",
              "        buttonEl.style.display =\n",
              "          google.colab.kernel.accessAllowed ? 'block' : 'none';\n",
              "\n",
              "        async function convertToInteractive(key) {\n",
              "          const element = document.querySelector('#df-2ec36ac7-4438-4a05-8f5c-2ec3aaaf6f10');\n",
              "          const dataTable =\n",
              "            await google.colab.kernel.invokeFunction('convertToInteractive',\n",
              "                                                     [key], {});\n",
              "          if (!dataTable) return;\n",
              "\n",
              "          const docLinkHtml = 'Like what you see? Visit the ' +\n",
              "            '<a target=\"_blank\" href=https://colab.research.google.com/notebooks/data_table.ipynb>data table notebook</a>'\n",
              "            + ' to learn more about interactive tables.';\n",
              "          element.innerHTML = '';\n",
              "          dataTable['output_type'] = 'display_data';\n",
              "          await google.colab.output.renderOutput(dataTable, element);\n",
              "          const docLink = document.createElement('div');\n",
              "          docLink.innerHTML = docLinkHtml;\n",
              "          element.appendChild(docLink);\n",
              "        }\n",
              "      </script>\n",
              "    </div>\n",
              "  </div>\n",
              "  "
            ]
          },
          "metadata": {},
          "execution_count": 107
        }
      ]
    },
    {
      "cell_type": "code",
      "source": [
        "PlanetDeckPivot=pd.pivot_table(df,index='CryoSleep',columns='VIP',values='PassengerId',aggfunc=len)\n",
        "sns.heatmap(PlanetDeckPivot, cmap=\"crest\")\n",
        "plt.show()"
      ],
      "metadata": {
        "colab": {
          "base_uri": "https://localhost:8080/",
          "height": 279
        },
        "id": "W8TxHdPHDCmI",
        "outputId": "40ffc14d-fe6a-45cd-eec5-391743c5ff7d"
      },
      "execution_count": null,
      "outputs": [
        {
          "output_type": "display_data",
          "data": {
            "text/plain": [
              "<Figure size 432x288 with 2 Axes>"
            ],
            "image/png": "[encoded data removed]"
          },
          "metadata": {
            "needs_background": "light"
          }
        }
      ]
    },
    {
      "cell_type": "markdown",
      "source": [
        "## Insights:\n",
        "\n",
        "1.   People in deck G are from Earth  \n",
        "2.   People from deck A,B,C,T are from Europa.\n",
        "\n",
        "Will be used for imputations \n",
        "\n",
        "\n"
      ],
      "metadata": {
        "id": "9Vc6qEETHgGl"
      }
    },
    {
      "cell_type": "markdown",
      "source": [
        "## Comparing HomePlanet and Deck "
      ],
      "metadata": {
        "id": "9y1mT9hvILb-"
      }
    },
    {
      "cell_type": "code",
      "source": [
        "PidPlanetPivot=pd.pivot_table(df,index='P_ID1',columns='HomePlanet',values='PassengerId',aggfunc=len).head(30)\n",
        "sns.heatmap(PidPlanetPivot, cmap=\"crest\")\n",
        "plt.show()"
      ],
      "metadata": {
        "colab": {
          "base_uri": "https://localhost:8080/",
          "height": 283
        },
        "id": "z_bIxD1DwLtD",
        "outputId": "dcc00649-fedf-4f1a-ce84-bb60e45d0dc4"
      },
      "execution_count": null,
      "outputs": [
        {
          "output_type": "display_data",
          "data": {
            "text/plain": [
              "<Figure size 432x288 with 2 Axes>"
            ],
            "image/png": "[encoded data removed]"
          },
          "metadata": {
            "needs_background": "light"
          }
        }
      ]
    },
    {
      "cell_type": "code",
      "source": [
        "PidPort=pd.pivot_table(df,index='P_ID1',columns='Port',values='PassengerId',aggfunc=len).head(30)\n",
        "sns.heatmap(PidPort, cmap=\"crest\")\n",
        "plt.show()"
      ],
      "metadata": {
        "colab": {
          "base_uri": "https://localhost:8080/",
          "height": 283
        },
        "id": "BdmigGdzCb7V",
        "outputId": "621de556-6303-42dc-e7f3-7a4f2823c2b4"
      },
      "execution_count": null,
      "outputs": [
        {
          "output_type": "display_data",
          "data": {
            "text/plain": [
              "<Figure size 432x288 with 2 Axes>"
            ],
            "image/png": "[encoded data removed]"
          },
          "metadata": {
            "needs_background": "light"
          }
        }
      ]
    },
    {
      "cell_type": "markdown",
      "source": [
        "## Insights:\n",
        "\n",
        "1.   People having the same P_ID1 are from the same HomePlanet\n",
        "\n",
        "\n",
        "Will be used for imputations "
      ],
      "metadata": {
        "id": "3v772sDeIQX-"
      }
    },
    {
      "cell_type": "markdown",
      "source": [
        "# Checking Null Values"
      ],
      "metadata": {
        "id": "MFhQJFhDDLjm"
      }
    },
    {
      "cell_type": "code",
      "source": [
        "df.isna().sum()"
      ],
      "metadata": {
        "colab": {
          "base_uri": "https://localhost:8080/"
        },
        "id": "zmuXNdpHDIx9",
        "outputId": "b7a2cc08-8bea-4793-b1fc-f5c165b374c6"
      },
      "execution_count": null,
      "outputs": [
        {
          "output_type": "execute_result",
          "data": {
            "text/plain": [
              "PassengerId       0\n",
              "HomePlanet      201\n",
              "CryoSleep       217\n",
              "Cabin           199\n",
              "Destination     182\n",
              "Age             179\n",
              "VIP             203\n",
              "RoomService     181\n",
              "FoodCourt       183\n",
              "ShoppingMall    208\n",
              "Spa             183\n",
              "VRDeck          188\n",
              "Name            200\n",
              "Transported       0\n",
              "dtype: int64"
            ]
          },
          "metadata": {},
          "execution_count": 6
        }
      ]
    },
    {
      "cell_type": "markdown",
      "metadata": {
        "id": "dEJ_ZEOSgQIT"
      },
      "source": [
        "# Estimators"
      ]
    },
    {
      "cell_type": "markdown",
      "source": [
        "## Some transformers made for the task at hand"
      ],
      "metadata": {
        "id": "QKSwzgL5Ijzw"
      }
    },
    {
      "cell_type": "code",
      "execution_count": 8,
      "metadata": {
        "id": "Je7g5Lyxvxz9"
      },
      "outputs": [],
      "source": [
        "#Imputer to fill in median values\n",
        "class Int_Imputer(BaseEstimator,TransformerMixin):\n",
        "  def __init__(self,cols):\n",
        "    self.cols=cols\n",
        "  def fit(self,X,y=None):\n",
        "    return self\n",
        "  def transform(self,X,y=None):\n",
        "    imputer=SimpleImputer(strategy=\"median\")\n",
        "    imputer.fit(X[self.cols])\n",
        "    X[self.cols]=imputer.transform(X[self.cols])\n",
        "  \n",
        "    return X\n",
        "  \n",
        "\n",
        "#Transformer to add some new features\n",
        "class AttriAdder(BaseEstimator,TransformerMixin):\n",
        "\n",
        "  def __init__(self):\n",
        "    pass\n",
        "  def fit(self,X,y=None):\n",
        "    return self\n",
        "  def transform(self,X,y=None):\n",
        "    #EscapeSpent is the sum of those features which on spending highly on will result in high chance of escaping transport\n",
        "    X['EscapeSpent']=X['RoomService']+X['Spa']+X['VRDeck']\n",
        "    #DeathSpent is the sum of those features which on spending highly on will result in high chance of transport\n",
        "    X['DeathSpent']=X['FoodCourt']+X['ShoppingMall']\n",
        "    X['TotalSpent']=X['RoomService']+X['FoodCourt']+X['ShoppingMall']+X['Spa']+X['VRDeck']\n",
        "    X['AgeBelow20']=X['Age'].apply(lambda x:1 if x<20 else 0)\n",
        "    X['spent?']=(X['EscapeSpent']+X['DeathSpent']).apply(lambda x:1 if x>0 else 0)\n",
        "    X['withFamily']=X['family_size'].apply(lambda x:1 if x>1 else 0)\n",
        "\n",
        "    return X\n",
        "\n",
        "#Transformer to convert categorical features to ordinal values\n",
        "class OrdEncoding(BaseEstimator,TransformerMixin):\n",
        "\n",
        "  def __init__(self,cols):\n",
        "    self.cols=cols\n",
        "  def fit(self,X,y=None):\n",
        "    return self\n",
        "  def transform(self,X,y=None):\n",
        "    ord=OrdinalEncoder()\n",
        "    for col in self.cols:\n",
        "      X[col]=ord.fit_transform(X[[col]])\n",
        "\n",
        "    return X\n",
        "\n",
        "#Transformer to convert categorical features to one hot values\n",
        "class OneHot(BaseEstimator,TransformerMixin):\n",
        "\n",
        "  def __init__(self,cols):\n",
        "    self.cols=cols\n",
        "  def fit(self,X,y=None):\n",
        "    return self\n",
        "  def transform(self,X,y=None):\n",
        "    \n",
        "    for col in self.cols:\n",
        "      one=OneHotEncoder(sparse=False)\n",
        "      X[list(one.categories_[0])]=one.fit_transform(X[[col]])\n",
        "      print(list(one.categories_[0]))\n",
        "\n",
        "    return X\n",
        "\n",
        "#Transformer to change type of features\n",
        "class TypeChange(BaseEstimator,TransformerMixin):\n",
        "\n",
        "  def __init__(self,cols_dict):\n",
        "    self.cols_dict=cols_dict\n",
        "  def fit(self,X,y=None):\n",
        "    return self\n",
        "  def transform(self,X,y=None):\n",
        "    for col in self.cols_dict:\n",
        "      X[col]=X[col].astype(self.cols_dict[col])\n",
        "    return X\n",
        "\n",
        "#Transformer to drop specified columns from the dataframe\n",
        "class dropCols(BaseEstimator,TransformerMixin):\n",
        "\n",
        "  def __init__(self,to_drop):\n",
        "    self.to_drop=to_drop\n",
        "  def fit(self,X,y=None):\n",
        "    return self\n",
        "  def transform(self,X,y=None):\n",
        "    X=X.drop(columns=self.to_drop,axis=1)\n",
        "    return X\n",
        "\n",
        "#Transformer to keep only the mentioned features\n",
        "class Keepcols(BaseEstimator,TransformerMixin):\n",
        "\n",
        "  def __init__(self,to_keep):\n",
        "    self.to_keep=to_keep\n",
        "  def fit(self,X,y=None):\n",
        "    return self\n",
        "  def transform(self,X,y=None):\n",
        "    X=X[self.to_keep]\n",
        "    return X\n",
        "\n",
        "#Transformer to scale features\n",
        "class Scaler(BaseEstimator,TransformerMixin):\n",
        "  def __init__(self,cols=None):\n",
        "    self.cols=cols\n",
        "    pass\n",
        "  def fit(self,X,y=None):\n",
        "    return self\n",
        "  def transform(self,X,y=None):\n",
        "    if self.cols==None:\n",
        "      self.cols=X.columns\n",
        "    scaler=StandardScaler()\n",
        "    X[self.cols]=scaler.fit_transform(X[self.cols])\n",
        "    return X\n",
        "\n",
        "#Imputer which will fill missing values with the mode of that feature\n",
        "class ModeImputer(BaseEstimator,TransformerMixin):\n",
        "  def __init__(self,cols):\n",
        "    self.cols=cols\n",
        "    \n",
        "  def fit(self,X,y=None):\n",
        "    return self\n",
        "  def transform(self,X,y=None):\n",
        "    for i in self.cols:\n",
        "      cat_imputer=CategoricalImputer()\n",
        "      X[i]=cat_imputer.fit_transform(X[i])\n",
        "    return X\n",
        "\n",
        "#Transformer to bin the specified feature.\n",
        "class Binner(BaseEstimator,TransformerMixin):\n",
        "  def __init__(self,cols,labels=False,cats=4):\n",
        "    self.cols=cols\n",
        "    self.cats=cats\n",
        "    self.labels=labels\n",
        "  def fit(self,X,y=None):\n",
        "    return self\n",
        "  def transform(self,X,y=None):\n",
        "    for i in self.cols:\n",
        "      X[i]=pd.qcut(X[i],self.cats,labels=self.labels)\n",
        "    return X\n",
        "\n",
        "#Imputer which will impute the feature with the specified value\n",
        "class Value_Imputer(BaseEstimator,TransformerMixin):\n",
        "  def __init__(self,col_val):\n",
        "    self.col_val=col_val\n",
        "  def fit(self,X,y=None):\n",
        "    return self\n",
        "  def transform(self,X,y=None):\n",
        "    for i in self.col_val:\n",
        "      X[i]=X[i].fillna(value=self.col_val[i])\n",
        "    return X\n"
      ]
    },
    {
      "cell_type": "markdown",
      "source": [
        "# Defining the training dataframe"
      ],
      "metadata": {
        "id": "JHOQGZdILB8Q"
      }
    },
    {
      "cell_type": "code",
      "execution_count": 48,
      "metadata": {
        "id": "u5nlAioVFDKG"
      },
      "outputs": [],
      "source": [
        "df=pd.read_csv('./drive/MyDrive/spaceTitanic/train.csv')\n",
        "testKag=pd.read_csv('./drive/MyDrive/spaceTitanic/test.csv')\n",
        "df[['P_ID1','P_ID2']]=df['PassengerId'].str.split('_',expand=True)[[0,1]]\n",
        "df[['deck','num','side']]=df['Cabin'].str.split('/',expand=True)[[0,1,2]]\n",
        "df['groupSize']=df.groupby(['P_ID1'])['P_ID1'].transform('count')\n",
        "df['lastName']=df['Name'].str.split(' ',expand=True)[1]\n",
        "testKag['lastName']=testKag['Name'].str.split(' ',expand=True)[1]\n",
        "# df['family_size']=df.groupby(['lastName'])['P_ID1'].transform('count')\n"
      ]
    },
    {
      "cell_type": "code",
      "source": [
        "all_last_names=pd.concat([df['lastName'],testKag['lastName']]).reset_index()\n",
        "df=pd.merge(df,all_last_names.groupby(['lastName'])['index'].agg('count').reset_index().rename(columns={'index':'family_size'}),how='left',on='lastName',suffixes=['_train','_all'])"
      ],
      "metadata": {
        "id": "rcOdfDh37XN7"
      },
      "execution_count": 49,
      "outputs": []
    },
    {
      "cell_type": "code",
      "source": [
        "numeric_comp_plot(df,'family_size','Transported',binwidth=1,xlim=[0,20],ylim=[0,1300])"
      ],
      "metadata": {
        "colab": {
          "base_uri": "https://localhost:8080/",
          "height": 280
        },
        "id": "nRszjwgh8ZDy",
        "outputId": "ae315592-e61e-4a0e-fe3b-21e801f9ef4a"
      },
      "execution_count": null,
      "outputs": [
        {
          "output_type": "display_data",
          "data": {
            "text/plain": [
              "<Figure size 432x288 with 1 Axes>"
            ],
            "image/png": "[encoded data removed]"
          },
          "metadata": {
            "needs_background": "light"
          }
        }
      ]
    },
    {
      "cell_type": "markdown",
      "source": [
        "## Dictionary in the form {'p_id1':Mode of homePlanet for that pid1}  "
      ],
      "metadata": {
        "id": "g1OVN7OcLO63"
      }
    },
    {
      "cell_type": "code",
      "source": [
        "noNaPlanetdf=df.copy()\n",
        "noNaPlanetdf=noNaPlanetdf.dropna(subset=['HomePlanet'])\n",
        "id_to_planet=noNaPlanetdf.groupby(by='P_ID1')['HomePlanet'].agg(pd.Series.mode).to_dict()"
      ],
      "metadata": {
        "id": "ZgxBlDacK7w_"
      },
      "execution_count": 50,
      "outputs": []
    },
    {
      "cell_type": "markdown",
      "source": [
        "## Dictionary in the form {'lastName':Mode of destination for that lastName}"
      ],
      "metadata": {
        "id": "syiwldDkLog3"
      }
    },
    {
      "cell_type": "code",
      "source": [
        "noNaDstLnamedf=df.copy()\n",
        "noNaDstLnamedf=noNaDstLnamedf.dropna(subset=['Destination','lastName'])\n",
        "lname_to_Destination=noNaDstLnamedf.groupby(by='lastName')['Destination'].agg(lambda x:pd.Series.mode(x).tolist()[-1]).to_dict()"
      ],
      "metadata": {
        "id": "TjGzb9O4K_Eh"
      },
      "execution_count": 51,
      "outputs": []
    },
    {
      "cell_type": "markdown",
      "source": [
        "### Imputing HomePlanet\n",
        "Steps:\n",
        "\n",
        "\n",
        "1.   Filling in null values based on the deck that the passenger is in. \n",
        "2.   Filling in null values based on the p_id1 of that passenger.\n",
        "\n"
      ],
      "metadata": {
        "id": "mNdpxqfNME2_"
      }
    },
    {
      "cell_type": "code",
      "source": [
        "def HomePlanetImpute(df):\n",
        "  deck_to_cab={'A':'Europa','C':'Europa','B':'Europa','T':'Europa','G':'Earth'}\n",
        "  for i in deck_to_cab:\n",
        "    df.loc[(df['deck']==i) & df['HomePlanet'].isna(),'HomePlanet']=df.loc[(df['deck']==i) & df['HomePlanet'].isna(),'HomePlanet'].fillna(\n",
        "        value=deck_to_cab.get(i))\n",
        "  for i in df.loc[df['HomePlanet'].isnull()].index:\n",
        "    df.loc[i,'HomePlanet']=id_to_planet.get(df.loc[i,'P_ID1'],'Earth')\n",
        "  return df"
      ],
      "metadata": {
        "id": "fEu1NxgWL5IQ"
      },
      "execution_count": 52,
      "outputs": []
    },
    {
      "cell_type": "markdown",
      "source": [
        "### Imputing CryoSleep\n",
        "\n",
        "Passengers who are in cryosleep dont spend any money\n",
        "\n",
        "Steps:\n",
        "1.   Filling in True where total money spent is 0\n",
        "\n",
        "\n"
      ],
      "metadata": {
        "id": "JF5eE7wGNWCS"
      }
    },
    {
      "cell_type": "code",
      "source": [
        "def CryoSleepImpute(df):\n",
        "  df.loc[(df['CryoSleep'].isna()) & (df['Age']<=15),'CryoSleep']=True\n",
        "  df['tot']=df['RoomService']+df['Spa']+df['VRDeck']+df['FoodCourt']+df['ShoppingMall']\n",
        "  df.loc[(df['CryoSleep'].isna()) & (df['tot']==0),'CryoSleep']=True\n",
        "  df['CryoSleep']=df['CryoSleep'].fillna(value=False)\n",
        "  return df\n"
      ],
      "metadata": {
        "id": "EI6-FXklL7Ww"
      },
      "execution_count": 53,
      "outputs": []
    },
    {
      "cell_type": "markdown",
      "source": [
        "### Imputing ammenities features\n",
        "\n",
        "Passengers who are in cryosleep dont spend any money.\n",
        "Passengers below the age of 18 don't spend any money.\n",
        "\n",
        "Steps:\n",
        "1.   Filling in 0's where CryoSleep is True\n",
        "2.   Filling in 0's where age below 18\n",
        "\n",
        "\n"
      ],
      "metadata": {
        "id": "ZEyMTsqrN7fY"
      }
    },
    {
      "cell_type": "code",
      "source": [
        "def SpentImpute(df):\n",
        "  for i in ['RoomService','Spa','VRDeck','FoodCourt','ShoppingMall']:\n",
        "    df.loc[(df[i].isna()) & (df['CryoSleep']==True),i]=0\n",
        "    df.loc[(df[i].isna()) & (df['Age']<18),i]=0\n",
        "  return df\n"
      ],
      "metadata": {
        "id": "J25tJhT1L-E3"
      },
      "execution_count": 54,
      "outputs": []
    },
    {
      "cell_type": "markdown",
      "source": [
        "### Imputing Destination\n",
        "Steps:\n",
        "\n",
        "\n",
        "1.   Filling in null values based on the last name of passenger. \n",
        "\n",
        "\n",
        "\n"
      ],
      "metadata": {
        "id": "BaC55GS3Oyi4"
      }
    },
    {
      "cell_type": "code",
      "source": [
        "def DestinationImpute(df):\n",
        "  for i in df.loc[df['Destination'].isnull()].index:\n",
        "    df.loc[i,'Destination']=lname_to_Destination.get(df.loc[i,'lastName'],'TRAPPIST-1e')\n",
        "  return df"
      ],
      "metadata": {
        "id": "f7R3JdXdL_33"
      },
      "execution_count": 55,
      "outputs": []
    },
    {
      "cell_type": "markdown",
      "source": [
        "### Imputing Cabin"
      ],
      "metadata": {
        "id": "tz2pRa38Dmoc"
      }
    },
    {
      "cell_type": "code",
      "source": [
        "group_to_port=df.loc[~df['side'].isna()].groupby(by='P_ID1')['side'].agg(lambda x:pd.Series.mode(x)).to_dict()\n",
        "def CabinImpute(df):\n",
        "  for i in df.loc[df['side'].isnull()].index:\n",
        "    df.loc[i,'side']=group_to_port.get(df.loc[i,'P_ID1'],'S')\n",
        "  return df"
      ],
      "metadata": {
        "id": "jSK09SmzDq9c"
      },
      "execution_count": 56,
      "outputs": []
    },
    {
      "cell_type": "code",
      "execution_count": 57,
      "metadata": {
        "id": "N_f_e1dJJdOj"
      },
      "outputs": [],
      "source": [
        "df=HomePlanetImpute(df)\n",
        "df=CryoSleepImpute(df)\n",
        "df=SpentImpute(df)\n",
        "df=DestinationImpute(df)\n",
        "df=CabinImpute(df)"
      ]
    },
    {
      "cell_type": "code",
      "source": [
        "df['side'].value_counts()"
      ],
      "metadata": {
        "colab": {
          "base_uri": "https://localhost:8080/"
        },
        "id": "dKJaopYTIE8v",
        "outputId": "d90e7da8-b847-4a8e-d535-997d853d4253"
      },
      "execution_count": null,
      "outputs": [
        {
          "output_type": "execute_result",
          "data": {
            "text/plain": [
              "S    4442\n",
              "P    4251\n",
              "Name: side, dtype: int64"
            ]
          },
          "metadata": {},
          "execution_count": 154
        }
      ]
    },
    {
      "cell_type": "markdown",
      "source": [
        "# Shuffling and separating the labels"
      ],
      "metadata": {
        "id": "AlT2NM_wPFbR"
      }
    },
    {
      "cell_type": "code",
      "execution_count": 58,
      "metadata": {
        "id": "Z-1tlGrLJcMJ"
      },
      "outputs": [],
      "source": [
        "df=df.sample(frac=1,random_state=42)\n",
        "labels=df['Transported'].astype(int)\n",
        "df=df.drop(columns=['Transported'])"
      ]
    },
    {
      "cell_type": "code",
      "execution_count": null,
      "metadata": {
        "colab": {
          "base_uri": "https://localhost:8080/",
          "height": 644
        },
        "id": "HyaB5kpzsouw",
        "outputId": "96198633-c66b-401e-9e19-4ab9a279f77b"
      },
      "outputs": [
        {
          "output_type": "execute_result",
          "data": {
            "text/plain": [
              "     PassengerId HomePlanet  CryoSleep     Cabin    Destination   Age    VIP  \\\n",
              "304      0337_02       Mars      False    F/63/S    TRAPPIST-1e  19.0  False   \n",
              "2697     2891_01      Earth      False   G/460/S    TRAPPIST-1e  18.0  False   \n",
              "8424     8998_01      Earth       True  G/1449/S    TRAPPIST-1e  41.0  False   \n",
              "1672     1771_01      Earth      False   G/291/P    TRAPPIST-1e  35.0  False   \n",
              "8458     9034_02     Europa       True   D/288/P    TRAPPIST-1e  43.0  False   \n",
              "...          ...        ...        ...       ...            ...   ...    ...   \n",
              "5734     6076_01      Earth      False   G/988/S    TRAPPIST-1e  18.0  False   \n",
              "5191     5537_01       Mars      False  F/1063/S    TRAPPIST-1e  50.0    NaN   \n",
              "5390     5756_06      Earth      False  F/1194/P  PSO J318.5-22  22.0  False   \n",
              "860      0925_01       Mars      False   F/191/P    TRAPPIST-1e  34.0  False   \n",
              "7270     7775_01     Europa      False   C/253/P    55 Cancri e  28.0  False   \n",
              "\n",
              "      RoomService  FoodCourt  ShoppingMall  ...                Name  P_ID1  \\\n",
              "304         417.0      349.0         634.0  ...         Weros Perle   0337   \n",
              "2697          4.0      904.0           0.0  ...  Gleney Ortinericey   2891   \n",
              "8424          0.0        0.0           0.0  ...      Gerry Englence   8998   \n",
              "1672          0.0      338.0         436.0  ...      Antone Cardner   1771   \n",
              "8458          0.0        0.0           0.0  ...     Errairk Crakete   9034   \n",
              "...           ...        ...           ...  ...                 ...    ...   \n",
              "5734         14.0        2.0         144.0  ...        Therry Cames   6076   \n",
              "5191        690.0        0.0          30.0  ...         Herms Bancy   5537   \n",
              "5390        158.0        0.0         476.0  ...    Karena Briggston   5756   \n",
              "860         379.0        0.0        1626.0  ...          Skix Kraie   0925   \n",
              "7270          7.0      489.0           0.0  ...  Alraium Disivering   7775   \n",
              "\n",
              "     P_ID2 deck   num side groupSize     lastName  family_size     tot  \n",
              "304     02    F    63    S         3        Perle          4.0  2460.0  \n",
              "2697    01    G   460    S         1  Ortinericey          1.0   909.0  \n",
              "8424    01    G  1449    S         2     Englence          6.0     0.0  \n",
              "1672    01    G   291    P         1      Cardner         10.0     NaN  \n",
              "8458    02    D   288    P         5      Crakete          6.0     0.0  \n",
              "...    ...  ...   ...  ...       ...          ...          ...     ...  \n",
              "5734    01    G   988    S         1        Cames          3.0   770.0  \n",
              "5191    01    F  1063    S         1        Bancy          4.0  1910.0  \n",
              "5390    06    F  1194    P         8    Briggston         13.0   660.0  \n",
              "860     01    F   191    P         3        Kraie          5.0  2005.0  \n",
              "7270    01    C   253    P         1   Disivering          7.0  6527.0  \n",
              "\n",
              "[8693 rows x 22 columns]"
            ],
            "text/html": [
              "\n",
              "  <div id=\"df-3456e8fc-6715-4ae4-b8e8-dca447ba745d\">\n",
              "    <div class=\"colab-df-container\">\n",
              "      <div>\n",
              "<style scoped>\n",
              "    .dataframe tbody tr th:only-of-type {\n",
              "        vertical-align: middle;\n",
              "    }\n",
              "\n",
              "    .dataframe tbody tr th {\n",
              "        vertical-align: top;\n",
              "    }\n",
              "\n",
              "    .dataframe thead th {\n",
              "        text-align: right;\n",
              "    }\n",
              "</style>\n",
              "<table border=\"1\" class=\"dataframe\">\n",
              "  <thead>\n",
              "    <tr style=\"text-align: right;\">\n",
              "      <th></th>\n",
              "      <th>PassengerId</th>\n",
              "      <th>HomePlanet</th>\n",
              "      <th>CryoSleep</th>\n",
              "      <th>Cabin</th>\n",
              "      <th>Destination</th>\n",
              "      <th>Age</th>\n",
              "      <th>VIP</th>\n",
              "      <th>RoomService</th>\n",
              "      <th>FoodCourt</th>\n",
              "      <th>ShoppingMall</th>\n",
              "      <th>...</th>\n",
              "      <th>Name</th>\n",
              "      <th>P_ID1</th>\n",
              "      <th>P_ID2</th>\n",
              "      <th>deck</th>\n",
              "      <th>num</th>\n",
              "      <th>side</th>\n",
              "      <th>groupSize</th>\n",
              "      <th>lastName</th>\n",
              "      <th>family_size</th>\n",
              "      <th>tot</th>\n",
              "    </tr>\n",
              "  </thead>\n",
              "  <tbody>\n",
              "    <tr>\n",
              "      <th>304</th>\n",
              "      <td>0337_02</td>\n",
              "      <td>Mars</td>\n",
              "      <td>False</td>\n",
              "      <td>F/63/S</td>\n",
              "      <td>TRAPPIST-1e</td>\n",
              "      <td>19.0</td>\n",
              "      <td>False</td>\n",
              "      <td>417.0</td>\n",
              "      <td>349.0</td>\n",
              "      <td>634.0</td>\n",
              "      <td>...</td>\n",
              "      <td>Weros Perle</td>\n",
              "      <td>0337</td>\n",
              "      <td>02</td>\n",
              "      <td>F</td>\n",
              "      <td>63</td>\n",
              "      <td>S</td>\n",
              "      <td>3</td>\n",
              "      <td>Perle</td>\n",
              "      <td>4.0</td>\n",
              "      <td>2460.0</td>\n",
              "    </tr>\n",
              "    <tr>\n",
              "      <th>2697</th>\n",
              "      <td>2891_01</td>\n",
              "      <td>Earth</td>\n",
              "      <td>False</td>\n",
              "      <td>G/460/S</td>\n",
              "      <td>TRAPPIST-1e</td>\n",
              "      <td>18.0</td>\n",
              "      <td>False</td>\n",
              "      <td>4.0</td>\n",
              "      <td>904.0</td>\n",
              "      <td>0.0</td>\n",
              "      <td>...</td>\n",
              "      <td>Gleney Ortinericey</td>\n",
              "      <td>2891</td>\n",
              "      <td>01</td>\n",
              "      <td>G</td>\n",
              "      <td>460</td>\n",
              "      <td>S</td>\n",
              "      <td>1</td>\n",
              "      <td>Ortinericey</td>\n",
              "      <td>1.0</td>\n",
              "      <td>909.0</td>\n",
              "    </tr>\n",
              "    <tr>\n",
              "      <th>8424</th>\n",
              "      <td>8998_01</td>\n",
              "      <td>Earth</td>\n",
              "      <td>True</td>\n",
              "      <td>G/1449/S</td>\n",
              "      <td>TRAPPIST-1e</td>\n",
              "      <td>41.0</td>\n",
              "      <td>False</td>\n",
              "      <td>0.0</td>\n",
              "      <td>0.0</td>\n",
              "      <td>0.0</td>\n",
              "      <td>...</td>\n",
              "      <td>Gerry Englence</td>\n",
              "      <td>8998</td>\n",
              "      <td>01</td>\n",
              "      <td>G</td>\n",
              "      <td>1449</td>\n",
              "      <td>S</td>\n",
              "      <td>2</td>\n",
              "      <td>Englence</td>\n",
              "      <td>6.0</td>\n",
              "      <td>0.0</td>\n",
              "    </tr>\n",
              "    <tr>\n",
              "      <th>1672</th>\n",
              "      <td>1771_01</td>\n",
              "      <td>Earth</td>\n",
              "      <td>False</td>\n",
              "      <td>G/291/P</td>\n",
              "      <td>TRAPPIST-1e</td>\n",
              "      <td>35.0</td>\n",
              "      <td>False</td>\n",
              "      <td>0.0</td>\n",
              "      <td>338.0</td>\n",
              "      <td>436.0</td>\n",
              "      <td>...</td>\n",
              "      <td>Antone Cardner</td>\n",
              "      <td>1771</td>\n",
              "      <td>01</td>\n",
              "      <td>G</td>\n",
              "      <td>291</td>\n",
              "      <td>P</td>\n",
              "      <td>1</td>\n",
              "      <td>Cardner</td>\n",
              "      <td>10.0</td>\n",
              "      <td>NaN</td>\n",
              "    </tr>\n",
              "    <tr>\n",
              "      <th>8458</th>\n",
              "      <td>9034_02</td>\n",
              "      <td>Europa</td>\n",
              "      <td>True</td>\n",
              "      <td>D/288/P</td>\n",
              "      <td>TRAPPIST-1e</td>\n",
              "      <td>43.0</td>\n",
              "      <td>False</td>\n",
              "      <td>0.0</td>\n",
              "      <td>0.0</td>\n",
              "      <td>0.0</td>\n",
              "      <td>...</td>\n",
              "      <td>Errairk Crakete</td>\n",
              "      <td>9034</td>\n",
              "      <td>02</td>\n",
              "      <td>D</td>\n",
              "      <td>288</td>\n",
              "      <td>P</td>\n",
              "      <td>5</td>\n",
              "      <td>Crakete</td>\n",
              "      <td>6.0</td>\n",
              "      <td>0.0</td>\n",
              "    </tr>\n",
              "    <tr>\n",
              "      <th>...</th>\n",
              "      <td>...</td>\n",
              "      <td>...</td>\n",
              "      <td>...</td>\n",
              "      <td>...</td>\n",
              "      <td>...</td>\n",
              "      <td>...</td>\n",
              "      <td>...</td>\n",
              "      <td>...</td>\n",
              "      <td>...</td>\n",
              "      <td>...</td>\n",
              "      <td>...</td>\n",
              "      <td>...</td>\n",
              "      <td>...</td>\n",
              "      <td>...</td>\n",
              "      <td>...</td>\n",
              "      <td>...</td>\n",
              "      <td>...</td>\n",
              "      <td>...</td>\n",
              "      <td>...</td>\n",
              "      <td>...</td>\n",
              "      <td>...</td>\n",
              "    </tr>\n",
              "    <tr>\n",
              "      <th>5734</th>\n",
              "      <td>6076_01</td>\n",
              "      <td>Earth</td>\n",
              "      <td>False</td>\n",
              "      <td>G/988/S</td>\n",
              "      <td>TRAPPIST-1e</td>\n",
              "      <td>18.0</td>\n",
              "      <td>False</td>\n",
              "      <td>14.0</td>\n",
              "      <td>2.0</td>\n",
              "      <td>144.0</td>\n",
              "      <td>...</td>\n",
              "      <td>Therry Cames</td>\n",
              "      <td>6076</td>\n",
              "      <td>01</td>\n",
              "      <td>G</td>\n",
              "      <td>988</td>\n",
              "      <td>S</td>\n",
              "      <td>1</td>\n",
              "      <td>Cames</td>\n",
              "      <td>3.0</td>\n",
              "      <td>770.0</td>\n",
              "    </tr>\n",
              "    <tr>\n",
              "      <th>5191</th>\n",
              "      <td>5537_01</td>\n",
              "      <td>Mars</td>\n",
              "      <td>False</td>\n",
              "      <td>F/1063/S</td>\n",
              "      <td>TRAPPIST-1e</td>\n",
              "      <td>50.0</td>\n",
              "      <td>NaN</td>\n",
              "      <td>690.0</td>\n",
              "      <td>0.0</td>\n",
              "      <td>30.0</td>\n",
              "      <td>...</td>\n",
              "      <td>Herms Bancy</td>\n",
              "      <td>5537</td>\n",
              "      <td>01</td>\n",
              "      <td>F</td>\n",
              "      <td>1063</td>\n",
              "      <td>S</td>\n",
              "      <td>1</td>\n",
              "      <td>Bancy</td>\n",
              "      <td>4.0</td>\n",
              "      <td>1910.0</td>\n",
              "    </tr>\n",
              "    <tr>\n",
              "      <th>5390</th>\n",
              "      <td>5756_06</td>\n",
              "      <td>Earth</td>\n",
              "      <td>False</td>\n",
              "      <td>F/1194/P</td>\n",
              "      <td>PSO J318.5-22</td>\n",
              "      <td>22.0</td>\n",
              "      <td>False</td>\n",
              "      <td>158.0</td>\n",
              "      <td>0.0</td>\n",
              "      <td>476.0</td>\n",
              "      <td>...</td>\n",
              "      <td>Karena Briggston</td>\n",
              "      <td>5756</td>\n",
              "      <td>06</td>\n",
              "      <td>F</td>\n",
              "      <td>1194</td>\n",
              "      <td>P</td>\n",
              "      <td>8</td>\n",
              "      <td>Briggston</td>\n",
              "      <td>13.0</td>\n",
              "      <td>660.0</td>\n",
              "    </tr>\n",
              "    <tr>\n",
              "      <th>860</th>\n",
              "      <td>0925_01</td>\n",
              "      <td>Mars</td>\n",
              "      <td>False</td>\n",
              "      <td>F/191/P</td>\n",
              "      <td>TRAPPIST-1e</td>\n",
              "      <td>34.0</td>\n",
              "      <td>False</td>\n",
              "      <td>379.0</td>\n",
              "      <td>0.0</td>\n",
              "      <td>1626.0</td>\n",
              "      <td>...</td>\n",
              "      <td>Skix Kraie</td>\n",
              "      <td>0925</td>\n",
              "      <td>01</td>\n",
              "      <td>F</td>\n",
              "      <td>191</td>\n",
              "      <td>P</td>\n",
              "      <td>3</td>\n",
              "      <td>Kraie</td>\n",
              "      <td>5.0</td>\n",
              "      <td>2005.0</td>\n",
              "    </tr>\n",
              "    <tr>\n",
              "      <th>7270</th>\n",
              "      <td>7775_01</td>\n",
              "      <td>Europa</td>\n",
              "      <td>False</td>\n",
              "      <td>C/253/P</td>\n",
              "      <td>55 Cancri e</td>\n",
              "      <td>28.0</td>\n",
              "      <td>False</td>\n",
              "      <td>7.0</td>\n",
              "      <td>489.0</td>\n",
              "      <td>0.0</td>\n",
              "      <td>...</td>\n",
              "      <td>Alraium Disivering</td>\n",
              "      <td>7775</td>\n",
              "      <td>01</td>\n",
              "      <td>C</td>\n",
              "      <td>253</td>\n",
              "      <td>P</td>\n",
              "      <td>1</td>\n",
              "      <td>Disivering</td>\n",
              "      <td>7.0</td>\n",
              "      <td>6527.0</td>\n",
              "    </tr>\n",
              "  </tbody>\n",
              "</table>\n",
              "<p>8693 rows × 22 columns</p>\n",
              "</div>\n",
              "      <button class=\"colab-df-convert\" onclick=\"convertToInteractive('df-3456e8fc-6715-4ae4-b8e8-dca447ba745d')\"\n",
              "              title=\"Convert this dataframe to an interactive table.\"\n",
              "              style=\"display:none;\">\n",
              "        \n",
              "  <svg xmlns=\"http://www.w3.org/2000/svg\" height=\"24px\"viewBox=\"0 0 24 24\"\n",
              "       width=\"24px\">\n",
              "    <path d=\"M0 0h24v24H0V0z\" fill=\"none\"/>\n",
              "    <path d=\"M18.56 5.44l.94 2.06.94-2.06 2.06-.94-2.06-.94-.94-2.06-.94 2.06-2.06.94zm-11 1L8.5 8.5l.94-2.06 2.06-.94-2.06-.94L8.5 2.5l-.94 2.06-2.06.94zm10 10l.94 2.06.94-2.06 2.06-.94-2.06-.94-.94-2.06-.94 2.06-2.06.94z\"/><path d=\"M17.41 7.96l-1.37-1.37c-.4-.4-.92-.59-1.43-.59-.52 0-1.04.2-1.43.59L10.3 9.45l-7.72 7.72c-.78.78-.78 2.05 0 2.83L4 21.41c.39.39.9.59 1.41.59.51 0 1.02-.2 1.41-.59l7.78-7.78 2.81-2.81c.8-.78.8-2.07 0-2.86zM5.41 20L4 18.59l7.72-7.72 1.47 1.35L5.41 20z\"/>\n",
              "  </svg>\n",
              "      </button>\n",
              "      \n",
              "  <style>\n",
              "    .colab-df-container {\n",
              "      display:flex;\n",
              "      flex-wrap:wrap;\n",
              "      gap: 12px;\n",
              "    }\n",
              "\n",
              "    .colab-df-convert {\n",
              "      background-color: #E8F0FE;\n",
              "      border: none;\n",
              "      border-radius: 50%;\n",
              "      cursor: pointer;\n",
              "      display: none;\n",
              "      fill: #1967D2;\n",
              "      height: 32px;\n",
              "      padding: 0 0 0 0;\n",
              "      width: 32px;\n",
              "    }\n",
              "\n",
              "    .colab-df-convert:hover {\n",
              "      background-color: #E2EBFA;\n",
              "      box-shadow: 0px 1px 2px rgba(60, 64, 67, 0.3), 0px 1px 3px 1px rgba(60, 64, 67, 0.15);\n",
              "      fill: #174EA6;\n",
              "    }\n",
              "\n",
              "    [theme=dark] .colab-df-convert {\n",
              "      background-color: #3B4455;\n",
              "      fill: #D2E3FC;\n",
              "    }\n",
              "\n",
              "    [theme=dark] .colab-df-convert:hover {\n",
              "      background-color: #434B5C;\n",
              "      box-shadow: 0px 1px 3px 1px rgba(0, 0, 0, 0.15);\n",
              "      filter: drop-shadow(0px 1px 2px rgba(0, 0, 0, 0.3));\n",
              "      fill: #FFFFFF;\n",
              "    }\n",
              "  </style>\n",
              "\n",
              "      <script>\n",
              "        const buttonEl =\n",
              "          document.querySelector('#df-3456e8fc-6715-4ae4-b8e8-dca447ba745d button.colab-df-convert');\n",
              "        buttonEl.style.display =\n",
              "          google.colab.kernel.accessAllowed ? 'block' : 'none';\n",
              "\n",
              "        async function convertToInteractive(key) {\n",
              "          const element = document.querySelector('#df-3456e8fc-6715-4ae4-b8e8-dca447ba745d');\n",
              "          const dataTable =\n",
              "            await google.colab.kernel.invokeFunction('convertToInteractive',\n",
              "                                                     [key], {});\n",
              "          if (!dataTable) return;\n",
              "\n",
              "          const docLinkHtml = 'Like what you see? Visit the ' +\n",
              "            '<a target=\"_blank\" href=https://colab.research.google.com/notebooks/data_table.ipynb>data table notebook</a>'\n",
              "            + ' to learn more about interactive tables.';\n",
              "          element.innerHTML = '';\n",
              "          dataTable['output_type'] = 'display_data';\n",
              "          await google.colab.output.renderOutput(dataTable, element);\n",
              "          const docLink = document.createElement('div');\n",
              "          docLink.innerHTML = docLinkHtml;\n",
              "          element.appendChild(docLink);\n",
              "        }\n",
              "      </script>\n",
              "    </div>\n",
              "  </div>\n",
              "  "
            ]
          },
          "metadata": {},
          "execution_count": 76
        }
      ],
      "source": [
        "df"
      ]
    },
    {
      "cell_type": "markdown",
      "metadata": {
        "id": "IM1vg5QqrngZ"
      },
      "source": [
        "# Defining the pipeline"
      ]
    },
    {
      "cell_type": "code",
      "execution_count": 59,
      "metadata": {
        "id": "iffiov0VtAwP"
      },
      "outputs": [],
      "source": [
        "cat_Pipe=Pipeline([('val_imp',Value_Imputer({'Age':df['Age'].median(),'RoomService':df['RoomService'].median(),\n",
        "                                            'FoodCourt':df['FoodCourt'].median(),'ShoppingMall':df['ShoppingMall'].median()\n",
        "                                            ,'Spa':df['Spa'].median(),'VRDeck':df['VRDeck'].median(),\n",
        "                                            'HomePlanet':df['HomePlanet'].mode().values[0],\n",
        "                                            'CryoSleep':df['CryoSleep'].mode().values[0],\n",
        "                                            'Destination':df['Destination'].mode().values[0],\n",
        "                                            'VIP':df['VIP'].mode().values[0],'side':df['side'].mode().values[0],\n",
        "                                             'deck':df['deck'].mode().values[0],'num':df['num'].median(),'family_size':1.0})),\n",
        "                   ('typ_change',TypeChange({'P_ID1':np.int64,'num':np.int64,'CryoSleep':np.int64,'VIP':np.int64})),\n",
        "                    ('attri_adder',AttriAdder()),\n",
        "                    ('binner',Binner(cols=['Age'],cats=6,labels=['toddler','kids','early_adults','late_adults','senior_citizen','super_old'])),\n",
        "                    ('keep_cls',Keepcols(['EscapeSpent','DeathSpent','HomePlanet','CryoSleep','side','VIP','Age',\n",
        "                                          'Destination',\n",
        "                                          'P_ID2','deck','groupSize','num','P_ID1','family_size','AgeBelow20','spent?','withFamily'])),\n",
        "                    ],verbose=False)\n"
      ]
    },
    {
      "cell_type": "code",
      "execution_count": 60,
      "metadata": {
        "id": "-4XF3AEctCtv"
      },
      "outputs": [],
      "source": [
        "cat_df=cat_Pipe.fit_transform(df)\n"
      ]
    },
    {
      "cell_type": "code",
      "source": [
        "cat_df.isna().sum()"
      ],
      "metadata": {
        "colab": {
          "base_uri": "https://localhost:8080/"
        },
        "id": "Kq8Jo2cfIasN",
        "outputId": "e2af0636-11ce-4211-b448-3bced7c1996f"
      },
      "execution_count": 21,
      "outputs": [
        {
          "output_type": "execute_result",
          "data": {
            "text/plain": [
              "EscapeSpent    0\n",
              "DeathSpent     0\n",
              "HomePlanet     0\n",
              "CryoSleep      0\n",
              "side           0\n",
              "VIP            0\n",
              "Age            0\n",
              "Destination    0\n",
              "P_ID2          0\n",
              "deck           0\n",
              "groupSize      0\n",
              "num            0\n",
              "P_ID1          0\n",
              "family_size    0\n",
              "AgeBelow20     0\n",
              "spent?         0\n",
              "withFamily     0\n",
              "dtype: int64"
            ]
          },
          "metadata": {},
          "execution_count": 21
        }
      ]
    },
    {
      "cell_type": "markdown",
      "source": [
        "### Encoding the categorical labels using the encoder implemented by the CatBoostClassier "
      ],
      "metadata": {
        "id": "ujWaGB1VQoUp"
      }
    },
    {
      "cell_type": "code",
      "execution_count": 61,
      "metadata": {
        "id": "oNF-EjfIvI8G"
      },
      "outputs": [],
      "source": [
        "catEncoder=ce.cat_boost.CatBoostEncoder(cols=['HomePlanet','side','Destination','deck','P_ID2','Age'])\n",
        "encoded_cat_df=catEncoder.fit_transform(cat_df,labels)"
      ]
    },
    {
      "cell_type": "markdown",
      "source": [
        "### Splitting into training and test sets"
      ],
      "metadata": {
        "id": "_iKwIvBdQ3_x"
      }
    },
    {
      "cell_type": "code",
      "execution_count": 62,
      "metadata": {
        "id": "8lCO8GcNrtQI"
      },
      "outputs": [],
      "source": [
        "cat_train,cat_test,train_labels,test_labels=train_test_split(cat_df,labels,test_size=0.1,random_state=42)\n",
        "encoded_cat_train,encoded_cat_test,train_labels,test_labels=train_test_split(encoded_cat_df,labels,test_size=0.1,random_state=42)\n",
        "\n"
      ]
    },
    {
      "cell_type": "code",
      "source": [
        "cat_train.isna().sum()"
      ],
      "metadata": {
        "colab": {
          "base_uri": "https://localhost:8080/"
        },
        "id": "8MVSiFkHIqvm",
        "outputId": "ec349023-41ae-4780-cebe-8e162eb46381"
      },
      "execution_count": null,
      "outputs": [
        {
          "output_type": "execute_result",
          "data": {
            "text/plain": [
              "EscapeSpent    0\n",
              "DeathSpent     0\n",
              "HomePlanet     0\n",
              "CryoSleep      0\n",
              "side           0\n",
              "VIP            0\n",
              "Age            0\n",
              "Destination    0\n",
              "P_ID2          0\n",
              "deck           0\n",
              "groupSize      0\n",
              "num            0\n",
              "P_ID1          0\n",
              "family_size    0\n",
              "AgeBelow20     0\n",
              "spent?         0\n",
              "withFamily     0\n",
              "dtype: int64"
            ]
          },
          "metadata": {},
          "execution_count": 99
        }
      ]
    },
    {
      "cell_type": "markdown",
      "metadata": {
        "id": "U_iEM3OPcVJU"
      },
      "source": [
        "# Feature Selection Using Boruta"
      ]
    },
    {
      "cell_type": "code",
      "execution_count": 63,
      "metadata": {
        "colab": {
          "base_uri": "https://localhost:8080/",
          "height": 121,
          "referenced_widgets": [
            "e72a1fefee3842a5bfb376b757b02ae1",
            "38e1b98edc8147c9baf2b1a1b8fec3b7",
            "868403d1e4a74d028ebfdccbe4698461",
            "04e2b1375e6545c49a7f095103b441b4",
            "130259f343e14b2d80182fb424d782d5",
            "1f2ef69ce2794da7a64f1830c561f423",
            "069e91d4423c44e29f0ca963495b8f82",
            "b9670af8bf5e436ba0f56293d4618d4f",
            "3abc4148497a449cac67aefa4c5e66b1",
            "6f834fdfd12c4f4585f78d982f8cb1f0",
            "65dae9d3c2c14d8fa6b9e87b0a95f8fe"
          ]
        },
        "id": "AOIG0hRScSPc",
        "outputId": "59be2f00-571b-41ca-abab-430ca0cab5ca"
      },
      "outputs": [
        {
          "output_type": "display_data",
          "data": {
            "text/plain": [
              "  0%|          | 0/100 [00:00<?, ?it/s]"
            ],
            "application/vnd.jupyter.widget-view+json": {
              "version_major": 2,
              "version_minor": 0,
              "model_id": "e72a1fefee3842a5bfb376b757b02ae1"
            }
          },
          "metadata": {}
        },
        {
          "output_type": "stream",
          "name": "stdout",
          "text": [
            "11 attributes confirmed important: ['num', 'side', 'Destination', 'deck', 'HomePlanet', 'EscapeSpent', 'spent?', 'DeathSpent', 'P_ID1', 'family_size', 'CryoSleep']\n",
            "6 attributes confirmed unimportant: ['groupSize', 'Age', 'P_ID2', 'AgeBelow20', 'VIP', 'withFamily']\n",
            "0 tentative attributes remains: []\n"
          ]
        }
      ],
      "source": [
        "cat_boruta_model=CatBoostClassifier(verbose=False,eval_metric='Accuracy')\n",
        "Feature_Selector = BorutaShap(model=cat_boruta_model,\n",
        "                              importance_measure='shap',\n",
        "                              classification=True)\n",
        "Feature_Selector.fit(X=encoded_cat_train, y=train_labels, n_trials=100, sample=False,\n",
        "            \t     train_or_test = 'test', normalize=True,\n",
        "\t\t     verbose=True)"
      ]
    },
    {
      "cell_type": "markdown",
      "source": [
        "## Even though family_size is rendered unimportant by the boruta shap algorithm, it lead to increase in accuracy when taken into consideration."
      ],
      "metadata": {
        "id": "gAQaoTkoR1JR"
      }
    },
    {
      "cell_type": "code",
      "execution_count": 83,
      "metadata": {
        "id": "9qVx_VDBYMzK"
      },
      "outputs": [],
      "source": [
        "# cat_train_filtered=encoded_cat_train[Feature_Selector.Subset().columns]\n",
        "cat_train_filtered=cat_train[['num', 'side', 'Destination', 'deck', 'HomePlanet', 'EscapeSpent', 'spent?', 'DeathSpent', 'P_ID1', 'CryoSleep', 'family_size']]\n",
        "cat_df_filtered=cat_df[cat_train_filtered.columns]\n",
        "cat_test_filtered=cat_test[cat_train_filtered.columns]"
      ]
    },
    {
      "cell_type": "code",
      "source": [
        "cat_train_filtered.isna().sum()"
      ],
      "metadata": {
        "colab": {
          "base_uri": "https://localhost:8080/"
        },
        "id": "nc84cs8yr4Lk",
        "outputId": "979d09ac-7a39-4f02-93da-33fdb0a86746"
      },
      "execution_count": null,
      "outputs": [
        {
          "output_type": "execute_result",
          "data": {
            "text/plain": [
              "Destination    0\n",
              "deck           0\n",
              "P_ID1          0\n",
              "spent?         0\n",
              "EscapeSpent    0\n",
              "CryoSleep      0\n",
              "num            0\n",
              "DeathSpent     0\n",
              "HomePlanet     0\n",
              "side           0\n",
              "family_size    0\n",
              "dtype: int64"
            ]
          },
          "metadata": {},
          "execution_count": 121
        }
      ]
    },
    {
      "cell_type": "markdown",
      "source": [
        "# Model Training"
      ],
      "metadata": {
        "id": "ndtSpzwaVUYE"
      }
    },
    {
      "cell_type": "markdown",
      "source": [
        "### Model Used:CatboostClassifier   "
      ],
      "metadata": {
        "id": "NBYPzStuVYOa"
      }
    },
    {
      "cell_type": "code",
      "execution_count": 84,
      "metadata": {
        "colab": {
          "base_uri": "https://localhost:8080/"
        },
        "id": "OwyZ_5j6WYaa",
        "outputId": "a2017f4d-9e8f-44c4-8b73-2397487d7930"
      },
      "outputs": [
        {
          "output_type": "execute_result",
          "data": {
            "text/plain": [
              "<catboost.core.CatBoostClassifier at 0x7f4e3f5c19d0>"
            ]
          },
          "metadata": {},
          "execution_count": 84
        }
      ],
      "source": [
        "cat_filtered_model=CatBoostClassifier(cat_features=['HomePlanet','Destination','side','deck'],verbose=False,eval_metric='Accuracy')\n",
        "cat_filtered_model.fit(cat_train_filtered,train_labels,eval_set=(cat_test_filtered, test_labels),verbose=False,early_stopping_rounds=200,use_best_model=True)"
      ]
    },
    {
      "cell_type": "code",
      "source": [
        "cat_filtered_model.best_score_"
      ],
      "metadata": {
        "colab": {
          "base_uri": "https://localhost:8080/"
        },
        "id": "xgYISTa_VKSx",
        "outputId": "8424707c-c750-45cb-a6c1-4969c0496cc9"
      },
      "execution_count": null,
      "outputs": [
        {
          "output_type": "execute_result",
          "data": {
            "text/plain": [
              "{'learn': {'Accuracy': 0.8956921896970471, 'Logloss': 0.2600178094190429},\n",
              " 'validation': {'Accuracy': 0.8413793103448276, 'Logloss': 0.3593195228501856}}"
            ]
          },
          "metadata": {},
          "execution_count": 23
        }
      ]
    },
    {
      "cell_type": "code",
      "source": [
        "cat_filtered_model.best_score_"
      ],
      "metadata": {
        "colab": {
          "base_uri": "https://localhost:8080/"
        },
        "id": "Z5sHWfXll-qm",
        "outputId": "221d8a5b-f554-4baa-c566-d54958521e98"
      },
      "execution_count": 73,
      "outputs": [
        {
          "output_type": "execute_result",
          "data": {
            "text/plain": [
              "{'learn': {'Accuracy': 0.8797136648344624, 'Logloss': 0.2809911262919144},\n",
              " 'validation': {'Accuracy': 0.8333333333333334,\n",
              "  'Logloss': 0.36104132469874545}}"
            ]
          },
          "metadata": {},
          "execution_count": 73
        }
      ]
    },
    {
      "cell_type": "code",
      "source": [
        "cat_filtered_model.best_score_"
      ],
      "metadata": {
        "colab": {
          "base_uri": "https://localhost:8080/"
        },
        "id": "xq7ipLBwe9Lr",
        "outputId": "194accf6-e0ef-43cf-850a-a4b26dca69c7"
      },
      "execution_count": 70,
      "outputs": [
        {
          "output_type": "execute_result",
          "data": {
            "text/plain": [
              "{'learn': {'Accuracy': 0.8564489326345391, 'Logloss': 0.31904529578053314},\n",
              " 'validation': {'Accuracy': 0.832183908045977, 'Logloss': 0.36313076606146705}}"
            ]
          },
          "metadata": {},
          "execution_count": 70
        }
      ]
    },
    {
      "cell_type": "code",
      "source": [
        "cat_filtered_model.best_score_"
      ],
      "metadata": {
        "colab": {
          "base_uri": "https://localhost:8080/"
        },
        "id": "q3CovQ_-IBNe",
        "outputId": "cf17d344-308c-4df8-d9a3-f230e1c9a154"
      },
      "execution_count": 85,
      "outputs": [
        {
          "output_type": "execute_result",
          "data": {
            "text/plain": [
              "{'learn': {'Accuracy': 0.8564489326345391, 'Logloss': 0.31904529578053314},\n",
              " 'validation': {'Accuracy': 0.832183908045977, 'Logloss': 0.36313076606146705}}"
            ]
          },
          "metadata": {},
          "execution_count": 85
        }
      ]
    },
    {
      "cell_type": "code",
      "source": [
        "accuracy_score(test_labels,cat_filtered_model.predict(cat_test_filtered))"
      ],
      "metadata": {
        "colab": {
          "base_uri": "https://localhost:8080/"
        },
        "id": "XCpSrJb1Ava2",
        "outputId": "da0879d3-5d95-4873-8ba3-e00a617104c2"
      },
      "execution_count": 86,
      "outputs": [
        {
          "output_type": "execute_result",
          "data": {
            "text/plain": [
              "0.832183908045977"
            ]
          },
          "metadata": {},
          "execution_count": 86
        }
      ]
    },
    {
      "cell_type": "markdown",
      "source": [
        "Observation:The model seems to be overfitting abit."
      ],
      "metadata": {
        "id": "7M6PNbPaWJh0"
      }
    },
    {
      "cell_type": "markdown",
      "metadata": {
        "id": "7ocbk0cAX7sb"
      },
      "source": [
        "# Hyperparameter Tuning"
      ]
    },
    {
      "cell_type": "code",
      "execution_count": 41,
      "metadata": {
        "id": "cWmnrvYLd-H8"
      },
      "outputs": [],
      "source": [
        "grid = {'learning_rate': [0.01,0.03, 0.1],\n",
        "        'depth': [4, 6, 10,15],\n",
        "        'l2_leaf_reg': [0.1,1, 3, 5, 7, 9]}"
      ]
    },
    {
      "cell_type": "code",
      "source": [
        "cat_model=CatBoostClassifier(cat_features=['HomePlanet','Destination','side','deck'],verbose=False,eval_metric='Accuracy')\n",
        "randomized_search_result = cat_model.randomized_search(grid,X=cat_train_filtered,\n",
        "                                                    y=train_labels,\n",
        "                                                    verbose=False,\n",
        "                                                    refit=True)"
      ],
      "metadata": {
        "colab": {
          "base_uri": "https://localhost:8080/"
        },
        "id": "fn8qyZJcrLw1",
        "outputId": "0a6b3bbc-9767-458f-e017-ee2da27418d8"
      },
      "execution_count": 87,
      "outputs": [
        {
          "output_type": "stream",
          "name": "stdout",
          "text": [
            "\n",
            "bestTest = 0.8255591054\n",
            "bestIteration = 64\n",
            "\n",
            "\n",
            "bestTest = 0.8261980831\n",
            "bestIteration = 320\n",
            "\n",
            "\n",
            "bestTest = 0.8293929712\n",
            "bestIteration = 605\n",
            "\n",
            "\n",
            "bestTest = 0.8268370607\n",
            "bestIteration = 321\n",
            "\n",
            "\n",
            "bestTest = 0.8274760383\n",
            "bestIteration = 664\n",
            "\n",
            "\n",
            "bestTest = 0.828115016\n",
            "bestIteration = 799\n",
            "\n",
            "\n",
            "bestTest = 0.8274760383\n",
            "bestIteration = 205\n",
            "\n",
            "\n",
            "bestTest = 0.821086262\n",
            "bestIteration = 286\n",
            "\n",
            "\n",
            "bestTest = 0.8185303514\n",
            "bestIteration = 48\n",
            "\n",
            "\n",
            "bestTest = 0.8204472843\n",
            "bestIteration = 291\n",
            "\n",
            "Training on fold [0/3]\n",
            "\n",
            "bestTest = 0.8009969325\n",
            "bestIteration = 503\n",
            "\n",
            "Training on fold [1/3]\n",
            "\n",
            "bestTest = 0.8063650307\n",
            "bestIteration = 994\n",
            "\n",
            "Training on fold [2/3]\n",
            "\n",
            "bestTest = 0.8220176448\n",
            "bestIteration = 504\n",
            "\n"
          ]
        }
      ]
    },
    {
      "cell_type": "code",
      "source": [
        "randomized_search_result['params']"
      ],
      "metadata": {
        "colab": {
          "base_uri": "https://localhost:8080/"
        },
        "id": "MNguCpbt8ymc",
        "outputId": "2546c065-4d53-46f7-fc65-8b7ba6e5acd7"
      },
      "execution_count": null,
      "outputs": [
        {
          "output_type": "execute_result",
          "data": {
            "text/plain": [
              "{'depth': 4, 'l2_leaf_reg': 1, 'learning_rate': 0.1}"
            ]
          },
          "metadata": {},
          "execution_count": 121
        }
      ]
    },
    {
      "cell_type": "code",
      "source": [
        "accuracy_score(test_labels,cat_model.predict(cat_test_filtered))"
      ],
      "metadata": {
        "colab": {
          "base_uri": "https://localhost:8080/"
        },
        "id": "SzS4MvbXQuaY",
        "outputId": "b55cbeaf-5b9c-451b-aca1-8c6f81c6f488"
      },
      "execution_count": null,
      "outputs": [
        {
          "output_type": "execute_result",
          "data": {
            "text/plain": [
              "0.832183908045977"
            ]
          },
          "metadata": {},
          "execution_count": 199
        }
      ]
    },
    {
      "cell_type": "code",
      "source": [
        "accuracy_score(test_labels,cat_model.predict(cat_test_filtered))"
      ],
      "metadata": {
        "colab": {
          "base_uri": "https://localhost:8080/"
        },
        "id": "kxI8w_U35nQa",
        "outputId": "c7eb5b66-7084-44ac-8875-9c2ab1620991"
      },
      "execution_count": 46,
      "outputs": [
        {
          "output_type": "execute_result",
          "data": {
            "text/plain": [
              "0.8229885057471265"
            ]
          },
          "metadata": {},
          "execution_count": 46
        }
      ]
    },
    {
      "cell_type": "code",
      "source": [
        "accuracy_score(test_labels,cat_model.predict(cat_test_filtered))"
      ],
      "metadata": {
        "colab": {
          "base_uri": "https://localhost:8080/"
        },
        "id": "s79X39FlhXdv",
        "outputId": "8100321e-9d3c-4e31-bdf7-231baa205498"
      },
      "execution_count": 89,
      "outputs": [
        {
          "output_type": "execute_result",
          "data": {
            "text/plain": [
              "0.8172413793103448"
            ]
          },
          "metadata": {},
          "execution_count": 89
        }
      ]
    },
    {
      "cell_type": "code",
      "source": [
        "accuracy_score(train_labels,cat_model.predict(cat_train_filtered))"
      ],
      "metadata": {
        "colab": {
          "base_uri": "https://localhost:8080/"
        },
        "id": "_sTYdXsE07Ho",
        "outputId": "0a6b97e2-4840-475b-b64c-0d938263f9dc"
      },
      "execution_count": 88,
      "outputs": [
        {
          "output_type": "execute_result",
          "data": {
            "text/plain": [
              "0.8354851080148281"
            ]
          },
          "metadata": {},
          "execution_count": 88
        }
      ]
    },
    {
      "cell_type": "code",
      "source": [
        "accuracy_score(train_labels,cat_model.predict(cat_train_filtered))"
      ],
      "metadata": {
        "colab": {
          "base_uri": "https://localhost:8080/"
        },
        "id": "GvIuyfb7ha03",
        "outputId": "9f9554ea-4b48-4472-b30a-9d4260aece79"
      },
      "execution_count": null,
      "outputs": [
        {
          "output_type": "execute_result",
          "data": {
            "text/plain": [
              "0.8839319953981848"
            ]
          },
          "metadata": {},
          "execution_count": 215
        }
      ]
    },
    {
      "cell_type": "markdown",
      "metadata": {
        "id": "E4W7LGs3g0v4"
      },
      "source": [
        "#Test Data"
      ]
    },
    {
      "cell_type": "code",
      "execution_count": 90,
      "metadata": {
        "id": "Cbc-bl6G_MiY"
      },
      "outputs": [],
      "source": [
        "df=pd.read_csv('./drive/MyDrive/spaceTitanic/train.csv')\n",
        "testKag=pd.read_csv('./drive/MyDrive/spaceTitanic/test.csv')"
      ]
    },
    {
      "cell_type": "code",
      "source": [
        "PassengerIds=testKag['PassengerId']\n",
        "testKag[['P_ID1','P_ID2']]=testKag['PassengerId'].str.split('_',expand=True)[[0,1]]\n",
        "testKag[['deck','num','side']]=testKag['Cabin'].str.split('/',expand=True)[[0,1,2]]\n",
        "testKag['groupSize']=testKag.groupby(['P_ID1'])['P_ID1'].transform('count')\n",
        "testKag['lastName']=testKag['Name'].str.split(' ',expand=True)[1]\n",
        "df['lastName']=df['Name'].str.split(' ',expand=True)[1]\n",
        "all_last_names=pd.concat([df['lastName'],testKag['lastName']]).reset_index()\n",
        "testKag=pd.merge(testKag,all_last_names.groupby(['lastName'])['index'].agg('count').reset_index().rename(columns={'index':'family_size'}),how='left',on='lastName')\n",
        "# testKag['family_size']=testKag.groupby(['lastName'])['lastName'].transform('count')\n"
      ],
      "metadata": {
        "id": "DL-y7vnqcJ5R"
      },
      "execution_count": 91,
      "outputs": []
    },
    {
      "cell_type": "code",
      "source": [
        "testKag"
      ],
      "metadata": {
        "colab": {
          "base_uri": "https://localhost:8080/",
          "height": 661
        },
        "id": "9NtEienUS_M7",
        "outputId": "65ad5e80-c152-4ea9-cf94-62057f294356"
      },
      "execution_count": null,
      "outputs": [
        {
          "output_type": "execute_result",
          "data": {
            "text/plain": [
              "     PassengerId HomePlanet CryoSleep     Cabin    Destination   Age    VIP  \\\n",
              "0        0013_01      Earth      True     G/3/S    TRAPPIST-1e  27.0  False   \n",
              "1        0018_01      Earth     False     F/4/S    TRAPPIST-1e  19.0  False   \n",
              "2        0019_01     Europa      True     C/0/S    55 Cancri e  31.0  False   \n",
              "3        0021_01     Europa     False     C/1/S    TRAPPIST-1e  38.0  False   \n",
              "4        0023_01      Earth     False     F/5/S    TRAPPIST-1e  20.0  False   \n",
              "...          ...        ...       ...       ...            ...   ...    ...   \n",
              "4272     9266_02      Earth      True  G/1496/S    TRAPPIST-1e  34.0  False   \n",
              "4273     9269_01      Earth     False       NaN    TRAPPIST-1e  42.0  False   \n",
              "4274     9271_01       Mars      True   D/296/P    55 Cancri e   NaN  False   \n",
              "4275     9273_01     Europa     False   D/297/P            NaN   NaN  False   \n",
              "4276     9277_01      Earth      True  G/1498/S  PSO J318.5-22  43.0  False   \n",
              "\n",
              "      RoomService  FoodCourt  ShoppingMall  ...  VRDeck              Name  \\\n",
              "0             0.0        0.0           0.0  ...     0.0   Nelly Carsoning   \n",
              "1             0.0        9.0           0.0  ...     0.0    Lerome Peckers   \n",
              "2             0.0        0.0           0.0  ...     0.0   Sabih Unhearfus   \n",
              "3             0.0     6652.0           0.0  ...   585.0  Meratz Caltilter   \n",
              "4            10.0        0.0         635.0  ...     0.0   Brence Harperez   \n",
              "...           ...        ...           ...  ...     ...               ...   \n",
              "4272          0.0        0.0           0.0  ...     0.0       Jeron Peter   \n",
              "4273          0.0      847.0          17.0  ...   144.0     Matty Scheron   \n",
              "4274          0.0        0.0           0.0  ...     0.0       Jayrin Pore   \n",
              "4275          0.0     2680.0           0.0  ...   523.0    Kitakan Conale   \n",
              "4276          0.0        0.0           0.0  ...     0.0  Lilace Leonzaley   \n",
              "\n",
              "     P_ID1 P_ID2 deck   num side groupSize   lastName family_size  \n",
              "0     0013    01    G     3    S         1  Carsoning         8.0  \n",
              "1     0018    01    F     4    S         1    Peckers         4.0  \n",
              "2     0019    01    C     0    S         1  Unhearfus         6.0  \n",
              "3     0021    01    C     1    S         1  Caltilter         2.0  \n",
              "4     0023    01    F     5    S         1   Harperez         5.0  \n",
              "...    ...   ...  ...   ...  ...       ...        ...         ...  \n",
              "4272  9266    02    G  1496    S         2      Peter        10.0  \n",
              "4273  9269    01  NaN   NaN  NaN         1    Scheron         6.0  \n",
              "4274  9271    01    D   296    P         1       Pore         4.0  \n",
              "4275  9273    01    D   297    P         1     Conale         7.0  \n",
              "4276  9277    01    G  1498    S         1  Leonzaley         9.0  \n",
              "\n",
              "[4277 rows x 21 columns]"
            ],
            "text/html": [
              "\n",
              "  <div id=\"df-5df0734b-d284-4f70-b945-75b2c968f6e3\">\n",
              "    <div class=\"colab-df-container\">\n",
              "      <div>\n",
              "<style scoped>\n",
              "    .dataframe tbody tr th:only-of-type {\n",
              "        vertical-align: middle;\n",
              "    }\n",
              "\n",
              "    .dataframe tbody tr th {\n",
              "        vertical-align: top;\n",
              "    }\n",
              "\n",
              "    .dataframe thead th {\n",
              "        text-align: right;\n",
              "    }\n",
              "</style>\n",
              "<table border=\"1\" class=\"dataframe\">\n",
              "  <thead>\n",
              "    <tr style=\"text-align: right;\">\n",
              "      <th></th>\n",
              "      <th>PassengerId</th>\n",
              "      <th>HomePlanet</th>\n",
              "      <th>CryoSleep</th>\n",
              "      <th>Cabin</th>\n",
              "      <th>Destination</th>\n",
              "      <th>Age</th>\n",
              "      <th>VIP</th>\n",
              "      <th>RoomService</th>\n",
              "      <th>FoodCourt</th>\n",
              "      <th>ShoppingMall</th>\n",
              "      <th>...</th>\n",
              "      <th>VRDeck</th>\n",
              "      <th>Name</th>\n",
              "      <th>P_ID1</th>\n",
              "      <th>P_ID2</th>\n",
              "      <th>deck</th>\n",
              "      <th>num</th>\n",
              "      <th>side</th>\n",
              "      <th>groupSize</th>\n",
              "      <th>lastName</th>\n",
              "      <th>family_size</th>\n",
              "    </tr>\n",
              "  </thead>\n",
              "  <tbody>\n",
              "    <tr>\n",
              "      <th>0</th>\n",
              "      <td>0013_01</td>\n",
              "      <td>Earth</td>\n",
              "      <td>True</td>\n",
              "      <td>G/3/S</td>\n",
              "      <td>TRAPPIST-1e</td>\n",
              "      <td>27.0</td>\n",
              "      <td>False</td>\n",
              "      <td>0.0</td>\n",
              "      <td>0.0</td>\n",
              "      <td>0.0</td>\n",
              "      <td>...</td>\n",
              "      <td>0.0</td>\n",
              "      <td>Nelly Carsoning</td>\n",
              "      <td>0013</td>\n",
              "      <td>01</td>\n",
              "      <td>G</td>\n",
              "      <td>3</td>\n",
              "      <td>S</td>\n",
              "      <td>1</td>\n",
              "      <td>Carsoning</td>\n",
              "      <td>8.0</td>\n",
              "    </tr>\n",
              "    <tr>\n",
              "      <th>1</th>\n",
              "      <td>0018_01</td>\n",
              "      <td>Earth</td>\n",
              "      <td>False</td>\n",
              "      <td>F/4/S</td>\n",
              "      <td>TRAPPIST-1e</td>\n",
              "      <td>19.0</td>\n",
              "      <td>False</td>\n",
              "      <td>0.0</td>\n",
              "      <td>9.0</td>\n",
              "      <td>0.0</td>\n",
              "      <td>...</td>\n",
              "      <td>0.0</td>\n",
              "      <td>Lerome Peckers</td>\n",
              "      <td>0018</td>\n",
              "      <td>01</td>\n",
              "      <td>F</td>\n",
              "      <td>4</td>\n",
              "      <td>S</td>\n",
              "      <td>1</td>\n",
              "      <td>Peckers</td>\n",
              "      <td>4.0</td>\n",
              "    </tr>\n",
              "    <tr>\n",
              "      <th>2</th>\n",
              "      <td>0019_01</td>\n",
              "      <td>Europa</td>\n",
              "      <td>True</td>\n",
              "      <td>C/0/S</td>\n",
              "      <td>55 Cancri e</td>\n",
              "      <td>31.0</td>\n",
              "      <td>False</td>\n",
              "      <td>0.0</td>\n",
              "      <td>0.0</td>\n",
              "      <td>0.0</td>\n",
              "      <td>...</td>\n",
              "      <td>0.0</td>\n",
              "      <td>Sabih Unhearfus</td>\n",
              "      <td>0019</td>\n",
              "      <td>01</td>\n",
              "      <td>C</td>\n",
              "      <td>0</td>\n",
              "      <td>S</td>\n",
              "      <td>1</td>\n",
              "      <td>Unhearfus</td>\n",
              "      <td>6.0</td>\n",
              "    </tr>\n",
              "    <tr>\n",
              "      <th>3</th>\n",
              "      <td>0021_01</td>\n",
              "      <td>Europa</td>\n",
              "      <td>False</td>\n",
              "      <td>C/1/S</td>\n",
              "      <td>TRAPPIST-1e</td>\n",
              "      <td>38.0</td>\n",
              "      <td>False</td>\n",
              "      <td>0.0</td>\n",
              "      <td>6652.0</td>\n",
              "      <td>0.0</td>\n",
              "      <td>...</td>\n",
              "      <td>585.0</td>\n",
              "      <td>Meratz Caltilter</td>\n",
              "      <td>0021</td>\n",
              "      <td>01</td>\n",
              "      <td>C</td>\n",
              "      <td>1</td>\n",
              "      <td>S</td>\n",
              "      <td>1</td>\n",
              "      <td>Caltilter</td>\n",
              "      <td>2.0</td>\n",
              "    </tr>\n",
              "    <tr>\n",
              "      <th>4</th>\n",
              "      <td>0023_01</td>\n",
              "      <td>Earth</td>\n",
              "      <td>False</td>\n",
              "      <td>F/5/S</td>\n",
              "      <td>TRAPPIST-1e</td>\n",
              "      <td>20.0</td>\n",
              "      <td>False</td>\n",
              "      <td>10.0</td>\n",
              "      <td>0.0</td>\n",
              "      <td>635.0</td>\n",
              "      <td>...</td>\n",
              "      <td>0.0</td>\n",
              "      <td>Brence Harperez</td>\n",
              "      <td>0023</td>\n",
              "      <td>01</td>\n",
              "      <td>F</td>\n",
              "      <td>5</td>\n",
              "      <td>S</td>\n",
              "      <td>1</td>\n",
              "      <td>Harperez</td>\n",
              "      <td>5.0</td>\n",
              "    </tr>\n",
              "    <tr>\n",
              "      <th>...</th>\n",
              "      <td>...</td>\n",
              "      <td>...</td>\n",
              "      <td>...</td>\n",
              "      <td>...</td>\n",
              "      <td>...</td>\n",
              "      <td>...</td>\n",
              "      <td>...</td>\n",
              "      <td>...</td>\n",
              "      <td>...</td>\n",
              "      <td>...</td>\n",
              "      <td>...</td>\n",
              "      <td>...</td>\n",
              "      <td>...</td>\n",
              "      <td>...</td>\n",
              "      <td>...</td>\n",
              "      <td>...</td>\n",
              "      <td>...</td>\n",
              "      <td>...</td>\n",
              "      <td>...</td>\n",
              "      <td>...</td>\n",
              "      <td>...</td>\n",
              "    </tr>\n",
              "    <tr>\n",
              "      <th>4272</th>\n",
              "      <td>9266_02</td>\n",
              "      <td>Earth</td>\n",
              "      <td>True</td>\n",
              "      <td>G/1496/S</td>\n",
              "      <td>TRAPPIST-1e</td>\n",
              "      <td>34.0</td>\n",
              "      <td>False</td>\n",
              "      <td>0.0</td>\n",
              "      <td>0.0</td>\n",
              "      <td>0.0</td>\n",
              "      <td>...</td>\n",
              "      <td>0.0</td>\n",
              "      <td>Jeron Peter</td>\n",
              "      <td>9266</td>\n",
              "      <td>02</td>\n",
              "      <td>G</td>\n",
              "      <td>1496</td>\n",
              "      <td>S</td>\n",
              "      <td>2</td>\n",
              "      <td>Peter</td>\n",
              "      <td>10.0</td>\n",
              "    </tr>\n",
              "    <tr>\n",
              "      <th>4273</th>\n",
              "      <td>9269_01</td>\n",
              "      <td>Earth</td>\n",
              "      <td>False</td>\n",
              "      <td>NaN</td>\n",
              "      <td>TRAPPIST-1e</td>\n",
              "      <td>42.0</td>\n",
              "      <td>False</td>\n",
              "      <td>0.0</td>\n",
              "      <td>847.0</td>\n",
              "      <td>17.0</td>\n",
              "      <td>...</td>\n",
              "      <td>144.0</td>\n",
              "      <td>Matty Scheron</td>\n",
              "      <td>9269</td>\n",
              "      <td>01</td>\n",
              "      <td>NaN</td>\n",
              "      <td>NaN</td>\n",
              "      <td>NaN</td>\n",
              "      <td>1</td>\n",
              "      <td>Scheron</td>\n",
              "      <td>6.0</td>\n",
              "    </tr>\n",
              "    <tr>\n",
              "      <th>4274</th>\n",
              "      <td>9271_01</td>\n",
              "      <td>Mars</td>\n",
              "      <td>True</td>\n",
              "      <td>D/296/P</td>\n",
              "      <td>55 Cancri e</td>\n",
              "      <td>NaN</td>\n",
              "      <td>False</td>\n",
              "      <td>0.0</td>\n",
              "      <td>0.0</td>\n",
              "      <td>0.0</td>\n",
              "      <td>...</td>\n",
              "      <td>0.0</td>\n",
              "      <td>Jayrin Pore</td>\n",
              "      <td>9271</td>\n",
              "      <td>01</td>\n",
              "      <td>D</td>\n",
              "      <td>296</td>\n",
              "      <td>P</td>\n",
              "      <td>1</td>\n",
              "      <td>Pore</td>\n",
              "      <td>4.0</td>\n",
              "    </tr>\n",
              "    <tr>\n",
              "      <th>4275</th>\n",
              "      <td>9273_01</td>\n",
              "      <td>Europa</td>\n",
              "      <td>False</td>\n",
              "      <td>D/297/P</td>\n",
              "      <td>NaN</td>\n",
              "      <td>NaN</td>\n",
              "      <td>False</td>\n",
              "      <td>0.0</td>\n",
              "      <td>2680.0</td>\n",
              "      <td>0.0</td>\n",
              "      <td>...</td>\n",
              "      <td>523.0</td>\n",
              "      <td>Kitakan Conale</td>\n",
              "      <td>9273</td>\n",
              "      <td>01</td>\n",
              "      <td>D</td>\n",
              "      <td>297</td>\n",
              "      <td>P</td>\n",
              "      <td>1</td>\n",
              "      <td>Conale</td>\n",
              "      <td>7.0</td>\n",
              "    </tr>\n",
              "    <tr>\n",
              "      <th>4276</th>\n",
              "      <td>9277_01</td>\n",
              "      <td>Earth</td>\n",
              "      <td>True</td>\n",
              "      <td>G/1498/S</td>\n",
              "      <td>PSO J318.5-22</td>\n",
              "      <td>43.0</td>\n",
              "      <td>False</td>\n",
              "      <td>0.0</td>\n",
              "      <td>0.0</td>\n",
              "      <td>0.0</td>\n",
              "      <td>...</td>\n",
              "      <td>0.0</td>\n",
              "      <td>Lilace Leonzaley</td>\n",
              "      <td>9277</td>\n",
              "      <td>01</td>\n",
              "      <td>G</td>\n",
              "      <td>1498</td>\n",
              "      <td>S</td>\n",
              "      <td>1</td>\n",
              "      <td>Leonzaley</td>\n",
              "      <td>9.0</td>\n",
              "    </tr>\n",
              "  </tbody>\n",
              "</table>\n",
              "<p>4277 rows × 21 columns</p>\n",
              "</div>\n",
              "      <button class=\"colab-df-convert\" onclick=\"convertToInteractive('df-5df0734b-d284-4f70-b945-75b2c968f6e3')\"\n",
              "              title=\"Convert this dataframe to an interactive table.\"\n",
              "              style=\"display:none;\">\n",
              "        \n",
              "  <svg xmlns=\"http://www.w3.org/2000/svg\" height=\"24px\"viewBox=\"0 0 24 24\"\n",
              "       width=\"24px\">\n",
              "    <path d=\"M0 0h24v24H0V0z\" fill=\"none\"/>\n",
              "    <path d=\"M18.56 5.44l.94 2.06.94-2.06 2.06-.94-2.06-.94-.94-2.06-.94 2.06-2.06.94zm-11 1L8.5 8.5l.94-2.06 2.06-.94-2.06-.94L8.5 2.5l-.94 2.06-2.06.94zm10 10l.94 2.06.94-2.06 2.06-.94-2.06-.94-.94-2.06-.94 2.06-2.06.94z\"/><path d=\"M17.41 7.96l-1.37-1.37c-.4-.4-.92-.59-1.43-.59-.52 0-1.04.2-1.43.59L10.3 9.45l-7.72 7.72c-.78.78-.78 2.05 0 2.83L4 21.41c.39.39.9.59 1.41.59.51 0 1.02-.2 1.41-.59l7.78-7.78 2.81-2.81c.8-.78.8-2.07 0-2.86zM5.41 20L4 18.59l7.72-7.72 1.47 1.35L5.41 20z\"/>\n",
              "  </svg>\n",
              "      </button>\n",
              "      \n",
              "  <style>\n",
              "    .colab-df-container {\n",
              "      display:flex;\n",
              "      flex-wrap:wrap;\n",
              "      gap: 12px;\n",
              "    }\n",
              "\n",
              "    .colab-df-convert {\n",
              "      background-color: #E8F0FE;\n",
              "      border: none;\n",
              "      border-radius: 50%;\n",
              "      cursor: pointer;\n",
              "      display: none;\n",
              "      fill: #1967D2;\n",
              "      height: 32px;\n",
              "      padding: 0 0 0 0;\n",
              "      width: 32px;\n",
              "    }\n",
              "\n",
              "    .colab-df-convert:hover {\n",
              "      background-color: #E2EBFA;\n",
              "      box-shadow: 0px 1px 2px rgba(60, 64, 67, 0.3), 0px 1px 3px 1px rgba(60, 64, 67, 0.15);\n",
              "      fill: #174EA6;\n",
              "    }\n",
              "\n",
              "    [theme=dark] .colab-df-convert {\n",
              "      background-color: #3B4455;\n",
              "      fill: #D2E3FC;\n",
              "    }\n",
              "\n",
              "    [theme=dark] .colab-df-convert:hover {\n",
              "      background-color: #434B5C;\n",
              "      box-shadow: 0px 1px 3px 1px rgba(0, 0, 0, 0.15);\n",
              "      filter: drop-shadow(0px 1px 2px rgba(0, 0, 0, 0.3));\n",
              "      fill: #FFFFFF;\n",
              "    }\n",
              "  </style>\n",
              "\n",
              "      <script>\n",
              "        const buttonEl =\n",
              "          document.querySelector('#df-5df0734b-d284-4f70-b945-75b2c968f6e3 button.colab-df-convert');\n",
              "        buttonEl.style.display =\n",
              "          google.colab.kernel.accessAllowed ? 'block' : 'none';\n",
              "\n",
              "        async function convertToInteractive(key) {\n",
              "          const element = document.querySelector('#df-5df0734b-d284-4f70-b945-75b2c968f6e3');\n",
              "          const dataTable =\n",
              "            await google.colab.kernel.invokeFunction('convertToInteractive',\n",
              "                                                     [key], {});\n",
              "          if (!dataTable) return;\n",
              "\n",
              "          const docLinkHtml = 'Like what you see? Visit the ' +\n",
              "            '<a target=\"_blank\" href=https://colab.research.google.com/notebooks/data_table.ipynb>data table notebook</a>'\n",
              "            + ' to learn more about interactive tables.';\n",
              "          element.innerHTML = '';\n",
              "          dataTable['output_type'] = 'display_data';\n",
              "          await google.colab.output.renderOutput(dataTable, element);\n",
              "          const docLink = document.createElement('div');\n",
              "          docLink.innerHTML = docLinkHtml;\n",
              "          element.appendChild(docLink);\n",
              "        }\n",
              "      </script>\n",
              "    </div>\n",
              "  </div>\n",
              "  "
            ]
          },
          "metadata": {},
          "execution_count": 93
        }
      ]
    },
    {
      "cell_type": "code",
      "source": [
        "testKag=HomePlanetImpute(testKag)\n",
        "testKag=CryoSleepImpute(testKag)\n",
        "testKag=SpentImpute(testKag)\n",
        "testKag=DestinationImpute(testKag)\n",
        "testKag=CabinImpute(testKag)"
      ],
      "metadata": {
        "id": "g4Di2E06R6C6"
      },
      "execution_count": 92,
      "outputs": []
    },
    {
      "cell_type": "code",
      "source": [
        "testKag.isna().sum()"
      ],
      "metadata": {
        "colab": {
          "base_uri": "https://localhost:8080/"
        },
        "id": "QHKGCHRBjAj2",
        "outputId": "38bbd705-4496-4682-df52-e4e16327d07f"
      },
      "execution_count": null,
      "outputs": [
        {
          "output_type": "execute_result",
          "data": {
            "text/plain": [
              "EscapeSpent    0\n",
              "DeathSpent     0\n",
              "HomePlanet     0\n",
              "CryoSleep      0\n",
              "side           0\n",
              "VIP            0\n",
              "Age            0\n",
              "Destination    0\n",
              "P_ID2          0\n",
              "deck           0\n",
              "groupSize      0\n",
              "num            0\n",
              "P_ID1          0\n",
              "family_size    0\n",
              "spent?         0\n",
              "dtype: int64"
            ]
          },
          "metadata": {},
          "execution_count": 99
        }
      ]
    },
    {
      "cell_type": "markdown",
      "metadata": {
        "id": "8Z37isv0-69B"
      },
      "source": [
        "# Cat transform"
      ]
    },
    {
      "cell_type": "code",
      "execution_count": 93,
      "metadata": {
        "id": "dtsJa41gZqZH"
      },
      "outputs": [],
      "source": [
        "testKag=cat_Pipe.fit_transform(testKag)\n",
        "# testKag['spent?']=(testKag['EscapeSpent']+testKag['DeathSpent']).apply(lambda x:1 if x>0 else 0)\n",
        "encodedTestKag=catEncoder.transform(testKag)\n",
        "test_kag_filtered=testKag[cat_train_filtered.columns]\n"
      ]
    },
    {
      "cell_type": "code",
      "execution_count": 94,
      "metadata": {
        "colab": {
          "base_uri": "https://localhost:8080/",
          "height": 424
        },
        "id": "o45XDkafPEVt",
        "outputId": "5bc1ee45-e372-466c-ad40-ad2bb498041d"
      },
      "outputs": [
        {
          "output_type": "execute_result",
          "data": {
            "text/plain": [
              "       num side    Destination deck HomePlanet  EscapeSpent  spent?  \\\n",
              "0        3    S    TRAPPIST-1e    G      Earth          0.0       0   \n",
              "1        4    S    TRAPPIST-1e    F      Earth       2823.0       1   \n",
              "2        0    S    55 Cancri e    C     Europa          0.0       0   \n",
              "3        1    S    TRAPPIST-1e    C     Europa        766.0       1   \n",
              "4        5    S    TRAPPIST-1e    F      Earth         10.0       1   \n",
              "...    ...  ...            ...  ...        ...          ...     ...   \n",
              "4272  1496    S    TRAPPIST-1e    G      Earth          0.0       0   \n",
              "4273   427    S    TRAPPIST-1e    F      Earth        154.0       1   \n",
              "4274   296    P    55 Cancri e    D       Mars          0.0       0   \n",
              "4275   297    P    TRAPPIST-1e    D     Europa        523.0       1   \n",
              "4276  1498    S  PSO J318.5-22    G      Earth          0.0       0   \n",
              "\n",
              "      DeathSpent  P_ID1  CryoSleep  family_size  \n",
              "0            0.0     13          1          8.0  \n",
              "1            9.0     18          0          4.0  \n",
              "2            0.0     19          1          6.0  \n",
              "3         6652.0     21          0          2.0  \n",
              "4          635.0     23          0          5.0  \n",
              "...          ...    ...        ...          ...  \n",
              "4272         0.0   9266          1         10.0  \n",
              "4273       864.0   9269          0          6.0  \n",
              "4274         0.0   9271          1          4.0  \n",
              "4275      2680.0   9273          0          7.0  \n",
              "4276         0.0   9277          1          9.0  \n",
              "\n",
              "[4277 rows x 11 columns]"
            ],
            "text/html": [
              "\n",
              "  <div id=\"df-e67fdc57-aca3-44e6-81d2-f0e4397a4858\">\n",
              "    <div class=\"colab-df-container\">\n",
              "      <div>\n",
              "<style scoped>\n",
              "    .dataframe tbody tr th:only-of-type {\n",
              "        vertical-align: middle;\n",
              "    }\n",
              "\n",
              "    .dataframe tbody tr th {\n",
              "        vertical-align: top;\n",
              "    }\n",
              "\n",
              "    .dataframe thead th {\n",
              "        text-align: right;\n",
              "    }\n",
              "</style>\n",
              "<table border=\"1\" class=\"dataframe\">\n",
              "  <thead>\n",
              "    <tr style=\"text-align: right;\">\n",
              "      <th></th>\n",
              "      <th>num</th>\n",
              "      <th>side</th>\n",
              "      <th>Destination</th>\n",
              "      <th>deck</th>\n",
              "      <th>HomePlanet</th>\n",
              "      <th>EscapeSpent</th>\n",
              "      <th>spent?</th>\n",
              "      <th>DeathSpent</th>\n",
              "      <th>P_ID1</th>\n",
              "      <th>CryoSleep</th>\n",
              "      <th>family_size</th>\n",
              "    </tr>\n",
              "  </thead>\n",
              "  <tbody>\n",
              "    <tr>\n",
              "      <th>0</th>\n",
              "      <td>3</td>\n",
              "      <td>S</td>\n",
              "      <td>TRAPPIST-1e</td>\n",
              "      <td>G</td>\n",
              "      <td>Earth</td>\n",
              "      <td>0.0</td>\n",
              "      <td>0</td>\n",
              "      <td>0.0</td>\n",
              "      <td>13</td>\n",
              "      <td>1</td>\n",
              "      <td>8.0</td>\n",
              "    </tr>\n",
              "    <tr>\n",
              "      <th>1</th>\n",
              "      <td>4</td>\n",
              "      <td>S</td>\n",
              "      <td>TRAPPIST-1e</td>\n",
              "      <td>F</td>\n",
              "      <td>Earth</td>\n",
              "      <td>2823.0</td>\n",
              "      <td>1</td>\n",
              "      <td>9.0</td>\n",
              "      <td>18</td>\n",
              "      <td>0</td>\n",
              "      <td>4.0</td>\n",
              "    </tr>\n",
              "    <tr>\n",
              "      <th>2</th>\n",
              "      <td>0</td>\n",
              "      <td>S</td>\n",
              "      <td>55 Cancri e</td>\n",
              "      <td>C</td>\n",
              "      <td>Europa</td>\n",
              "      <td>0.0</td>\n",
              "      <td>0</td>\n",
              "      <td>0.0</td>\n",
              "      <td>19</td>\n",
              "      <td>1</td>\n",
              "      <td>6.0</td>\n",
              "    </tr>\n",
              "    <tr>\n",
              "      <th>3</th>\n",
              "      <td>1</td>\n",
              "      <td>S</td>\n",
              "      <td>TRAPPIST-1e</td>\n",
              "      <td>C</td>\n",
              "      <td>Europa</td>\n",
              "      <td>766.0</td>\n",
              "      <td>1</td>\n",
              "      <td>6652.0</td>\n",
              "      <td>21</td>\n",
              "      <td>0</td>\n",
              "      <td>2.0</td>\n",
              "    </tr>\n",
              "    <tr>\n",
              "      <th>4</th>\n",
              "      <td>5</td>\n",
              "      <td>S</td>\n",
              "      <td>TRAPPIST-1e</td>\n",
              "      <td>F</td>\n",
              "      <td>Earth</td>\n",
              "      <td>10.0</td>\n",
              "      <td>1</td>\n",
              "      <td>635.0</td>\n",
              "      <td>23</td>\n",
              "      <td>0</td>\n",
              "      <td>5.0</td>\n",
              "    </tr>\n",
              "    <tr>\n",
              "      <th>...</th>\n",
              "      <td>...</td>\n",
              "      <td>...</td>\n",
              "      <td>...</td>\n",
              "      <td>...</td>\n",
              "      <td>...</td>\n",
              "      <td>...</td>\n",
              "      <td>...</td>\n",
              "      <td>...</td>\n",
              "      <td>...</td>\n",
              "      <td>...</td>\n",
              "      <td>...</td>\n",
              "    </tr>\n",
              "    <tr>\n",
              "      <th>4272</th>\n",
              "      <td>1496</td>\n",
              "      <td>S</td>\n",
              "      <td>TRAPPIST-1e</td>\n",
              "      <td>G</td>\n",
              "      <td>Earth</td>\n",
              "      <td>0.0</td>\n",
              "      <td>0</td>\n",
              "      <td>0.0</td>\n",
              "      <td>9266</td>\n",
              "      <td>1</td>\n",
              "      <td>10.0</td>\n",
              "    </tr>\n",
              "    <tr>\n",
              "      <th>4273</th>\n",
              "      <td>427</td>\n",
              "      <td>S</td>\n",
              "      <td>TRAPPIST-1e</td>\n",
              "      <td>F</td>\n",
              "      <td>Earth</td>\n",
              "      <td>154.0</td>\n",
              "      <td>1</td>\n",
              "      <td>864.0</td>\n",
              "      <td>9269</td>\n",
              "      <td>0</td>\n",
              "      <td>6.0</td>\n",
              "    </tr>\n",
              "    <tr>\n",
              "      <th>4274</th>\n",
              "      <td>296</td>\n",
              "      <td>P</td>\n",
              "      <td>55 Cancri e</td>\n",
              "      <td>D</td>\n",
              "      <td>Mars</td>\n",
              "      <td>0.0</td>\n",
              "      <td>0</td>\n",
              "      <td>0.0</td>\n",
              "      <td>9271</td>\n",
              "      <td>1</td>\n",
              "      <td>4.0</td>\n",
              "    </tr>\n",
              "    <tr>\n",
              "      <th>4275</th>\n",
              "      <td>297</td>\n",
              "      <td>P</td>\n",
              "      <td>TRAPPIST-1e</td>\n",
              "      <td>D</td>\n",
              "      <td>Europa</td>\n",
              "      <td>523.0</td>\n",
              "      <td>1</td>\n",
              "      <td>2680.0</td>\n",
              "      <td>9273</td>\n",
              "      <td>0</td>\n",
              "      <td>7.0</td>\n",
              "    </tr>\n",
              "    <tr>\n",
              "      <th>4276</th>\n",
              "      <td>1498</td>\n",
              "      <td>S</td>\n",
              "      <td>PSO J318.5-22</td>\n",
              "      <td>G</td>\n",
              "      <td>Earth</td>\n",
              "      <td>0.0</td>\n",
              "      <td>0</td>\n",
              "      <td>0.0</td>\n",
              "      <td>9277</td>\n",
              "      <td>1</td>\n",
              "      <td>9.0</td>\n",
              "    </tr>\n",
              "  </tbody>\n",
              "</table>\n",
              "<p>4277 rows × 11 columns</p>\n",
              "</div>\n",
              "      <button class=\"colab-df-convert\" onclick=\"convertToInteractive('df-e67fdc57-aca3-44e6-81d2-f0e4397a4858')\"\n",
              "              title=\"Convert this dataframe to an interactive table.\"\n",
              "              style=\"display:none;\">\n",
              "        \n",
              "  <svg xmlns=\"http://www.w3.org/2000/svg\" height=\"24px\"viewBox=\"0 0 24 24\"\n",
              "       width=\"24px\">\n",
              "    <path d=\"M0 0h24v24H0V0z\" fill=\"none\"/>\n",
              "    <path d=\"M18.56 5.44l.94 2.06.94-2.06 2.06-.94-2.06-.94-.94-2.06-.94 2.06-2.06.94zm-11 1L8.5 8.5l.94-2.06 2.06-.94-2.06-.94L8.5 2.5l-.94 2.06-2.06.94zm10 10l.94 2.06.94-2.06 2.06-.94-2.06-.94-.94-2.06-.94 2.06-2.06.94z\"/><path d=\"M17.41 7.96l-1.37-1.37c-.4-.4-.92-.59-1.43-.59-.52 0-1.04.2-1.43.59L10.3 9.45l-7.72 7.72c-.78.78-.78 2.05 0 2.83L4 21.41c.39.39.9.59 1.41.59.51 0 1.02-.2 1.41-.59l7.78-7.78 2.81-2.81c.8-.78.8-2.07 0-2.86zM5.41 20L4 18.59l7.72-7.72 1.47 1.35L5.41 20z\"/>\n",
              "  </svg>\n",
              "      </button>\n",
              "      \n",
              "  <style>\n",
              "    .colab-df-container {\n",
              "      display:flex;\n",
              "      flex-wrap:wrap;\n",
              "      gap: 12px;\n",
              "    }\n",
              "\n",
              "    .colab-df-convert {\n",
              "      background-color: #E8F0FE;\n",
              "      border: none;\n",
              "      border-radius: 50%;\n",
              "      cursor: pointer;\n",
              "      display: none;\n",
              "      fill: #1967D2;\n",
              "      height: 32px;\n",
              "      padding: 0 0 0 0;\n",
              "      width: 32px;\n",
              "    }\n",
              "\n",
              "    .colab-df-convert:hover {\n",
              "      background-color: #E2EBFA;\n",
              "      box-shadow: 0px 1px 2px rgba(60, 64, 67, 0.3), 0px 1px 3px 1px rgba(60, 64, 67, 0.15);\n",
              "      fill: #174EA6;\n",
              "    }\n",
              "\n",
              "    [theme=dark] .colab-df-convert {\n",
              "      background-color: #3B4455;\n",
              "      fill: #D2E3FC;\n",
              "    }\n",
              "\n",
              "    [theme=dark] .colab-df-convert:hover {\n",
              "      background-color: #434B5C;\n",
              "      box-shadow: 0px 1px 3px 1px rgba(0, 0, 0, 0.15);\n",
              "      filter: drop-shadow(0px 1px 2px rgba(0, 0, 0, 0.3));\n",
              "      fill: #FFFFFF;\n",
              "    }\n",
              "  </style>\n",
              "\n",
              "      <script>\n",
              "        const buttonEl =\n",
              "          document.querySelector('#df-e67fdc57-aca3-44e6-81d2-f0e4397a4858 button.colab-df-convert');\n",
              "        buttonEl.style.display =\n",
              "          google.colab.kernel.accessAllowed ? 'block' : 'none';\n",
              "\n",
              "        async function convertToInteractive(key) {\n",
              "          const element = document.querySelector('#df-e67fdc57-aca3-44e6-81d2-f0e4397a4858');\n",
              "          const dataTable =\n",
              "            await google.colab.kernel.invokeFunction('convertToInteractive',\n",
              "                                                     [key], {});\n",
              "          if (!dataTable) return;\n",
              "\n",
              "          const docLinkHtml = 'Like what you see? Visit the ' +\n",
              "            '<a target=\"_blank\" href=https://colab.research.google.com/notebooks/data_table.ipynb>data table notebook</a>'\n",
              "            + ' to learn more about interactive tables.';\n",
              "          element.innerHTML = '';\n",
              "          dataTable['output_type'] = 'display_data';\n",
              "          await google.colab.output.renderOutput(dataTable, element);\n",
              "          const docLink = document.createElement('div');\n",
              "          docLink.innerHTML = docLinkHtml;\n",
              "          element.appendChild(docLink);\n",
              "        }\n",
              "      </script>\n",
              "    </div>\n",
              "  </div>\n",
              "  "
            ]
          },
          "metadata": {},
          "execution_count": 94
        }
      ],
      "source": [
        "test_kag_filtered"
      ]
    },
    {
      "cell_type": "code",
      "source": [
        "test_kag_filtered['Destination'].value_counts()"
      ],
      "metadata": {
        "colab": {
          "base_uri": "https://localhost:8080/"
        },
        "id": "1PkhHHCVTmf6",
        "outputId": "b7efb906-ed2a-4ebd-d2c4-09dedf3618ba"
      },
      "execution_count": null,
      "outputs": [
        {
          "output_type": "execute_result",
          "data": {
            "text/plain": [
              "TRAPPIST-1e      3034\n",
              "55 Cancri e       854\n",
              "PSO J318.5-22     389\n",
              "Name: Destination, dtype: int64"
            ]
          },
          "metadata": {},
          "execution_count": 112
        }
      ]
    },
    {
      "cell_type": "code",
      "execution_count": 95,
      "metadata": {
        "id": "MAp-th01ooja"
      },
      "outputs": [],
      "source": [
        "def answer_dumper(model,file_name,df,ids):\n",
        "  predictions=pd.DataFrame({'PassengerId':ids,'Transported':model.predict(df).astype('bool').reshape(-1,)})\n",
        "  predictions.to_csv('./drive/MyDrive/spaceTitanic/'+file_name+'.csv')"
      ]
    },
    {
      "cell_type": "code",
      "source": [
        "cat_model.predict(test_kag_filtered)"
      ],
      "metadata": {
        "colab": {
          "base_uri": "https://localhost:8080/"
        },
        "id": "AoKO0zoDUENr",
        "outputId": "c14b24d2-0dbc-4ce8-f82b-8860843b9cce"
      },
      "execution_count": 96,
      "outputs": [
        {
          "output_type": "execute_result",
          "data": {
            "text/plain": [
              "array([1, 0, 1, ..., 1, 1, 1])"
            ]
          },
          "metadata": {},
          "execution_count": 96
        }
      ]
    },
    {
      "cell_type": "code",
      "execution_count": 97,
      "metadata": {
        "id": "vbQZ73En8vks"
      },
      "outputs": [],
      "source": [
        "answer_dumper(cat_model,'cat_randomized_cabinimpute',test_kag_filtered,PassengerIds)"
      ]
    },
    {
      "cell_type": "code",
      "source": [],
      "metadata": {
        "id": "mrs7G8pVsJJy"
      },
      "execution_count": null,
      "outputs": []
    }
  ],
  "metadata": {
    "accelerator": "TPU",
    "colab": {
      "collapsed_sections": [],
      "provenance": [],
      "mount_file_id": "1vse_OqxClNP_wSQoe2tWryEGCAlC0nYN",
      "authorship_tag": "ABX9TyMpyoUzv+CV1CsrewstFjDv",
      "include_colab_link": true
    },
    "kernelspec": {
      "display_name": "Python 3",
      "name": "python3"
    },
    "language_info": {
      "name": "python"
    },
    "widgets": {
      "application/vnd.jupyter.widget-state+json": {
        "e72a1fefee3842a5bfb376b757b02ae1": {
          "model_module": "@jupyter-widgets/controls",
          "model_name": "HBoxModel",
          "model_module_version": "1.5.0",
          "state": {
            "_dom_classes": [],
            "_model_module": "@jupyter-widgets/controls",
            "_model_module_version": "1.5.0",
            "_model_name": "HBoxModel",
            "_view_count": null,
            "_view_module": "@jupyter-widgets/controls",
            "_view_module_version": "1.5.0",
            "_view_name": "HBoxView",
            "box_style": "",
            "children": [
              "IPY_MODEL_38e1b98edc8147c9baf2b1a1b8fec3b7",
              "IPY_MODEL_868403d1e4a74d028ebfdccbe4698461",
              "IPY_MODEL_04e2b1375e6545c49a7f095103b441b4"
            ],
            "layout": "IPY_MODEL_130259f343e14b2d80182fb424d782d5"
          }
        },
        "38e1b98edc8147c9baf2b1a1b8fec3b7": {
          "model_module": "@jupyter-widgets/controls",
          "model_name": "HTMLModel",
          "model_module_version": "1.5.0",
          "state": {
            "_dom_classes": [],
            "_model_module": "@jupyter-widgets/controls",
            "_model_module_version": "1.5.0",
            "_model_name": "HTMLModel",
            "_view_count": null,
            "_view_module": "@jupyter-widgets/controls",
            "_view_module_version": "1.5.0",
            "_view_name": "HTMLView",
            "description": "",
            "description_tooltip": null,
            "layout": "IPY_MODEL_1f2ef69ce2794da7a64f1830c561f423",
            "placeholder": "​",
            "style": "IPY_MODEL_069e91d4423c44e29f0ca963495b8f82",
            "value": "100%"
          }
        },
        "868403d1e4a74d028ebfdccbe4698461": {
          "model_module": "@jupyter-widgets/controls",
          "model_name": "FloatProgressModel",
          "model_module_version": "1.5.0",
          "state": {
            "_dom_classes": [],
            "_model_module": "@jupyter-widgets/controls",
            "_model_module_version": "1.5.0",
            "_model_name": "FloatProgressModel",
            "_view_count": null,
            "_view_module": "@jupyter-widgets/controls",
            "_view_module_version": "1.5.0",
            "_view_name": "ProgressView",
            "bar_style": "success",
            "description": "",
            "description_tooltip": null,
            "layout": "IPY_MODEL_b9670af8bf5e436ba0f56293d4618d4f",
            "max": 100,
            "min": 0,
            "orientation": "horizontal",
            "style": "IPY_MODEL_3abc4148497a449cac67aefa4c5e66b1",
            "value": 100
          }
        },
        "04e2b1375e6545c49a7f095103b441b4": {
          "model_module": "@jupyter-widgets/controls",
          "model_name": "HTMLModel",
          "model_module_version": "1.5.0",
          "state": {
            "_dom_classes": [],
            "_model_module": "@jupyter-widgets/controls",
            "_model_module_version": "1.5.0",
            "_model_name": "HTMLModel",
            "_view_count": null,
            "_view_module": "@jupyter-widgets/controls",
            "_view_module_version": "1.5.0",
            "_view_name": "HTMLView",
            "description": "",
            "description_tooltip": null,
            "layout": "IPY_MODEL_6f834fdfd12c4f4585f78d982f8cb1f0",
            "placeholder": "​",
            "style": "IPY_MODEL_65dae9d3c2c14d8fa6b9e87b0a95f8fe",
            "value": " 100/100 [18:21&lt;00:00, 10.60s/it]"
          }
        },
        "130259f343e14b2d80182fb424d782d5": {
          "model_module": "@jupyter-widgets/base",
          "model_name": "LayoutModel",
          "model_module_version": "1.2.0",
          "state": {
            "_model_module": "@jupyter-widgets/base",
            "_model_module_version": "1.2.0",
            "_model_name": "LayoutModel",
            "_view_count": null,
            "_view_module": "@jupyter-widgets/base",
            "_view_module_version": "1.2.0",
            "_view_name": "LayoutView",
            "align_content": null,
            "align_items": null,
            "align_self": null,
            "border": null,
            "bottom": null,
            "display": null,
            "flex": null,
            "flex_flow": null,
            "grid_area": null,
            "grid_auto_columns": null,
            "grid_auto_flow": null,
            "grid_auto_rows": null,
            "grid_column": null,
            "grid_gap": null,
            "grid_row": null,
            "grid_template_areas": null,
            "grid_template_columns": null,
            "grid_template_rows": null,
            "height": null,
            "justify_content": null,
            "justify_items": null,
            "left": null,
            "margin": null,
            "max_height": null,
            "max_width": null,
            "min_height": null,
            "min_width": null,
            "object_fit": null,
            "object_position": null,
            "order": null,
            "overflow": null,
            "overflow_x": null,
            "overflow_y": null,
            "padding": null,
            "right": null,
            "top": null,
            "visibility": null,
            "width": null
          }
        },
        "1f2ef69ce2794da7a64f1830c561f423": {
          "model_module": "@jupyter-widgets/base",
          "model_name": "LayoutModel",
          "model_module_version": "1.2.0",
          "state": {
            "_model_module": "@jupyter-widgets/base",
            "_model_module_version": "1.2.0",
            "_model_name": "LayoutModel",
            "_view_count": null,
            "_view_module": "@jupyter-widgets/base",
            "_view_module_version": "1.2.0",
            "_view_name": "LayoutView",
            "align_content": null,
            "align_items": null,
            "align_self": null,
            "border": null,
            "bottom": null,
            "display": null,
            "flex": null,
            "flex_flow": null,
            "grid_area": null,
            "grid_auto_columns": null,
            "grid_auto_flow": null,
            "grid_auto_rows": null,
            "grid_column": null,
            "grid_gap": null,
            "grid_row": null,
            "grid_template_areas": null,
            "grid_template_columns": null,
            "grid_template_rows": null,
            "height": null,
            "justify_content": null,
            "justify_items": null,
            "left": null,
            "margin": null,
            "max_height": null,
            "max_width": null,
            "min_height": null,
            "min_width": null,
            "object_fit": null,
            "object_position": null,
            "order": null,
            "overflow": null,
            "overflow_x": null,
            "overflow_y": null,
            "padding": null,
            "right": null,
            "top": null,
            "visibility": null,
            "width": null
          }
        },
        "069e91d4423c44e29f0ca963495b8f82": {
          "model_module": "@jupyter-widgets/controls",
          "model_name": "DescriptionStyleModel",
          "model_module_version": "1.5.0",
          "state": {
            "_model_module": "@jupyter-widgets/controls",
            "_model_module_version": "1.5.0",
            "_model_name": "DescriptionStyleModel",
            "_view_count": null,
            "_view_module": "@jupyter-widgets/base",
            "_view_module_version": "1.2.0",
            "_view_name": "StyleView",
            "description_width": ""
          }
        },
        "b9670af8bf5e436ba0f56293d4618d4f": {
          "model_module": "@jupyter-widgets/base",
          "model_name": "LayoutModel",
          "model_module_version": "1.2.0",
          "state": {
            "_model_module": "@jupyter-widgets/base",
            "_model_module_version": "1.2.0",
            "_model_name": "LayoutModel",
            "_view_count": null,
            "_view_module": "@jupyter-widgets/base",
            "_view_module_version": "1.2.0",
            "_view_name": "LayoutView",
            "align_content": null,
            "align_items": null,
            "align_self": null,
            "border": null,
            "bottom": null,
            "display": null,
            "flex": null,
            "flex_flow": null,
            "grid_area": null,
            "grid_auto_columns": null,
            "grid_auto_flow": null,
            "grid_auto_rows": null,
            "grid_column": null,
            "grid_gap": null,
            "grid_row": null,
            "grid_template_areas": null,
            "grid_template_columns": null,
            "grid_template_rows": null,
            "height": null,
            "justify_content": null,
            "justify_items": null,
            "left": null,
            "margin": null,
            "max_height": null,
            "max_width": null,
            "min_height": null,
            "min_width": null,
            "object_fit": null,
            "object_position": null,
            "order": null,
            "overflow": null,
            "overflow_x": null,
            "overflow_y": null,
            "padding": null,
            "right": null,
            "top": null,
            "visibility": null,
            "width": null
          }
        },
        "3abc4148497a449cac67aefa4c5e66b1": {
          "model_module": "@jupyter-widgets/controls",
          "model_name": "ProgressStyleModel",
          "model_module_version": "1.5.0",
          "state": {
            "_model_module": "@jupyter-widgets/controls",
            "_model_module_version": "1.5.0",
            "_model_name": "ProgressStyleModel",
            "_view_count": null,
            "_view_module": "@jupyter-widgets/base",
            "_view_module_version": "1.2.0",
            "_view_name": "StyleView",
            "bar_color": null,
            "description_width": ""
          }
        },
        "6f834fdfd12c4f4585f78d982f8cb1f0": {
          "model_module": "@jupyter-widgets/base",
          "model_name": "LayoutModel",
          "model_module_version": "1.2.0",
          "state": {
            "_model_module": "@jupyter-widgets/base",
            "_model_module_version": "1.2.0",
            "_model_name": "LayoutModel",
            "_view_count": null,
            "_view_module": "@jupyter-widgets/base",
            "_view_module_version": "1.2.0",
            "_view_name": "LayoutView",
            "align_content": null,
            "align_items": null,
            "align_self": null,
            "border": null,
            "bottom": null,
            "display": null,
            "flex": null,
            "flex_flow": null,
            "grid_area": null,
            "grid_auto_columns": null,
            "grid_auto_flow": null,
            "grid_auto_rows": null,
            "grid_column": null,
            "grid_gap": null,
            "grid_row": null,
            "grid_template_areas": null,
            "grid_template_columns": null,
            "grid_template_rows": null,
            "height": null,
            "justify_content": null,
            "justify_items": null,
            "left": null,
            "margin": null,
            "max_height": null,
            "max_width": null,
            "min_height": null,
            "min_width": null,
            "object_fit": null,
            "object_position": null,
            "order": null,
            "overflow": null,
            "overflow_x": null,
            "overflow_y": null,
            "padding": null,
            "right": null,
            "top": null,
            "visibility": null,
            "width": null
          }
        },
        "65dae9d3c2c14d8fa6b9e87b0a95f8fe": {
          "model_module": "@jupyter-widgets/controls",
          "model_name": "DescriptionStyleModel",
          "model_module_version": "1.5.0",
          "state": {
            "_model_module": "@jupyter-widgets/controls",
            "_model_module_version": "1.5.0",
            "_model_name": "DescriptionStyleModel",
            "_view_count": null,
            "_view_module": "@jupyter-widgets/base",
            "_view_module_version": "1.2.0",
            "_view_name": "StyleView",
            "description_width": ""
          }
        }
      }
    }
  },
  "nbformat": 4,
  "nbformat_minor": 0
}